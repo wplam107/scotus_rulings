{
 "cells": [
  {
   "cell_type": "code",
   "execution_count": 91,
   "metadata": {
    "ExecuteTime": {
     "end_time": "2020-07-03T16:51:31.271718Z",
     "start_time": "2020-07-03T16:51:31.267651Z"
    }
   },
   "outputs": [],
   "source": [
    "# Webscraping\n",
    "import requests\n",
    "import re\n",
    "from bs4 import BeautifulSoup\n",
    "\n",
    "# Analysis\n",
    "import numpy as np\n",
    "import pandas as pd"
   ]
  },
  {
   "cell_type": "code",
   "execution_count": 3,
   "metadata": {
    "ExecuteTime": {
     "end_time": "2020-07-03T15:00:47.889184Z",
     "start_time": "2020-07-03T15:00:47.879399Z"
    }
   },
   "outputs": [],
   "source": [
    "url = 'https://en.wikipedia.org/wiki/1999_term_opinions_of_the_Supreme_Court_of_the_United_States'"
   ]
  },
  {
   "cell_type": "code",
   "execution_count": 4,
   "metadata": {
    "ExecuteTime": {
     "end_time": "2020-07-03T15:00:48.740573Z",
     "start_time": "2020-07-03T15:00:48.591051Z"
    }
   },
   "outputs": [],
   "source": [
    "website_url = requests.get(url).text"
   ]
  },
  {
   "cell_type": "code",
   "execution_count": 5,
   "metadata": {
    "ExecuteTime": {
     "end_time": "2020-07-03T15:01:20.499844Z",
     "start_time": "2020-07-03T15:01:20.334822Z"
    }
   },
   "outputs": [],
   "source": [
    "soup = BeautifulSoup(website_url, 'lxml')"
   ]
  },
  {
   "cell_type": "code",
   "execution_count": 9,
   "metadata": {
    "ExecuteTime": {
     "end_time": "2020-07-03T15:05:43.940223Z",
     "start_time": "2020-07-03T15:05:43.928537Z"
    }
   },
   "outputs": [],
   "source": [
    "table = soup.find('table', {'class': 'wikitable sortable'})"
   ]
  },
  {
   "cell_type": "code",
   "execution_count": 25,
   "metadata": {
    "ExecuteTime": {
     "end_time": "2020-07-03T15:24:48.861211Z",
     "start_time": "2020-07-03T15:24:48.854176Z"
    }
   },
   "outputs": [],
   "source": [
    "case_links = table.find_all('a')\n",
    "cases = [ case.get('title') for case in case_links ]"
   ]
  },
  {
   "cell_type": "code",
   "execution_count": 41,
   "metadata": {
    "ExecuteTime": {
     "end_time": "2020-07-03T15:40:11.483108Z",
     "start_time": "2020-07-03T15:40:11.477345Z"
    }
   },
   "outputs": [],
   "source": [
    "headers = table.find_all('th')"
   ]
  },
  {
   "cell_type": "code",
   "execution_count": 45,
   "metadata": {
    "ExecuteTime": {
     "end_time": "2020-07-03T15:44:01.083705Z",
     "start_time": "2020-07-03T15:44:01.078922Z"
    }
   },
   "outputs": [
    {
     "name": "stdout",
     "output_type": "stream",
     "text": [
      "['Rehnquist', 'Stevens', \"O'Connor\", 'Scalia', 'Kennedy', 'Souter', 'Thomas', 'Ginsburg', 'Breyer']\n"
     ]
    }
   ],
   "source": [
    "justices = [ header.text.strip() for header in headers ][4:13]\n",
    "print(justices)"
   ]
  },
  {
   "cell_type": "code",
   "execution_count": 132,
   "metadata": {
    "ExecuteTime": {
     "end_time": "2020-07-03T18:07:29.449344Z",
     "start_time": "2020-07-03T18:07:29.425706Z"
    }
   },
   "outputs": [],
   "source": [
    "first_row = table.find('tr')\n",
    "rows = first_row.next_siblings\n",
    "\n",
    "j1 = []\n",
    "j2 = []\n",
    "j3 = []\n",
    "j4 = []\n",
    "j5 = []\n",
    "j6 = []\n",
    "j7 = []\n",
    "j8 = []\n",
    "j9 = []\n",
    "j_votes = []\n",
    "cases = []\n",
    "\n",
    "for i, row in enumerate(rows):\n",
    "    if i % 2 == 0:\n",
    "        votes = []\n",
    "        data = row.find_all('td')\n",
    "        for m, datum in enumerate(data):\n",
    "            if m == 1:\n",
    "                cases.append(datum.text.strip())\n",
    "            elif m in [0, 2, 3]:\n",
    "                continue\n",
    "            else:\n",
    "                if re.match(r'padding', datum['style']):\n",
    "                    vote = datum['data-sort-value']\n",
    "                    if re.match(r'^(.*)?(?=<)', datum['data-sort-value']):\n",
    "                        vote = re.match(r'^(.*)?(?=<)', datum['data-sort-value'])[0]\n",
    "                    votes.append(vote)\n",
    "        if votes != []:\n",
    "            j_votes.append(votes)"
   ]
  },
  {
   "cell_type": "code",
   "execution_count": 134,
   "metadata": {
    "ExecuteTime": {
     "end_time": "2020-07-03T18:07:37.654078Z",
     "start_time": "2020-07-03T18:07:37.649262Z"
    }
   },
   "outputs": [
    {
     "data": {
      "text/plain": [
       "85"
      ]
     },
     "execution_count": 134,
     "metadata": {},
     "output_type": "execute_result"
    }
   ],
   "source": [
    "len(j_votes)"
   ]
  },
  {
   "cell_type": "code",
   "execution_count": 52,
   "metadata": {
    "ExecuteTime": {
     "end_time": "2020-07-03T16:09:48.097437Z",
     "start_time": "2020-07-03T16:09:48.093825Z"
    }
   },
   "outputs": [],
   "source": [
    "case_rows = [ row for row in rows ]"
   ]
  },
  {
   "cell_type": "code",
   "execution_count": 53,
   "metadata": {
    "ExecuteTime": {
     "end_time": "2020-07-03T16:09:51.280869Z",
     "start_time": "2020-07-03T16:09:51.276247Z"
    }
   },
   "outputs": [
    {
     "data": {
      "text/plain": [
       "[]"
      ]
     },
     "execution_count": 53,
     "metadata": {},
     "output_type": "execute_result"
    }
   ],
   "source": [
    "case_rows"
   ]
  },
  {
   "cell_type": "code",
   "execution_count": null,
   "metadata": {},
   "outputs": [],
   "source": []
  }
 ],
 "metadata": {
  "kernelspec": {
   "display_name": "scotus",
   "language": "python",
   "name": "scotus"
  },
  "language_info": {
   "codemirror_mode": {
    "name": "ipython",
    "version": 3
   },
   "file_extension": ".py",
   "mimetype": "text/x-python",
   "name": "python",
   "nbconvert_exporter": "python",
   "pygments_lexer": "ipython3",
   "version": "3.7.4"
  },
  "toc": {
   "base_numbering": 1,
   "nav_menu": {},
   "number_sections": true,
   "sideBar": true,
   "skip_h1_title": false,
   "title_cell": "Table of Contents",
   "title_sidebar": "Contents",
   "toc_cell": false,
   "toc_position": {},
   "toc_section_display": true,
   "toc_window_display": false
  }
 },
 "nbformat": 4,
 "nbformat_minor": 2
}
