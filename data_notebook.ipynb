{
 "cells": [
  {
   "cell_type": "markdown",
   "metadata": {},
   "source": [
    "# Data Functions for EDA and App\n",
    "Notebook walking through functions with example"
   ]
  },
  {
   "cell_type": "code",
   "execution_count": 41,
   "metadata": {
    "ExecuteTime": {
     "end_time": "2020-07-22T17:49:22.324587Z",
     "start_time": "2020-07-22T17:49:22.320129Z"
    }
   },
   "outputs": [],
   "source": [
    "# Standard imports\n",
    "import numpy as np\n",
    "import pandas as pd\n",
    "import pickle\n",
    "\n",
    "# sklearn imports\n",
    "from sklearn.metrics.pairwise import cosine_similarity\n",
    "from sklearn.decomposition import PCA\n",
    "from sklearn.preprocessing import MinMaxScaler\n",
    "\n",
    "# Plotting imports\n",
    "import plotly.graph_objects as go\n",
    "import plotly.express as px"
   ]
  },
  {
   "cell_type": "code",
   "execution_count": 2,
   "metadata": {
    "ExecuteTime": {
     "end_time": "2020-07-22T15:48:01.954367Z",
     "start_time": "2020-07-22T15:48:01.944252Z"
    }
   },
   "outputs": [],
   "source": [
    "# Binary\n",
    "with open('./app/data/adj_df.p', 'rb') as f:\n",
    "    df1 = pickle.load(f)\n",
    "\n",
    "# Multiclass\n",
    "with open('./app/data/mul_df.p', 'rb') as f:\n",
    "    df2 = pickle.load(f)"
   ]
  },
  {
   "cell_type": "markdown",
   "metadata": {},
   "source": [
    "## Functions for persistent variables\n",
    "Below are functions to create a list of the different courts between 1999 and 2019."
   ]
  },
  {
   "cell_type": "code",
   "execution_count": 3,
   "metadata": {
    "ExecuteTime": {
     "end_time": "2020-07-22T15:48:01.966685Z",
     "start_time": "2020-07-22T15:48:01.957245Z"
    }
   },
   "outputs": [],
   "source": [
    "# Helper function to get sorted list of justices\n",
    "def justice_terms(df):\n",
    "    justices = list(df.index)\n",
    "    justices_by_cases = []\n",
    "    for justice in justices:\n",
    "        first_case = min(df.loc[justice].dropna().index)\n",
    "        last_case = max(df.loc[justice].dropna().index)\n",
    "        case_range = (first_case, last_case)\n",
    "        justices_by_cases.append((justice, case_range))\n",
    "    justices_by_cases.sort(key=lambda x: (x[1][0], x[1][1]))\n",
    "    return [ justice[0] for justice in justices_by_cases ]\n",
    "\n",
    "def get_courts(df):\n",
    "    '''\n",
    "    Returns list of different court compositions\n",
    "    '''\n",
    "    courts = []\n",
    "    justices = justice_terms(df)\n",
    "    i = 0\n",
    "    j = 9\n",
    "    while j <= len(df.index):\n",
    "        court = justices[i:j]\n",
    "        courts.append(court)\n",
    "        i += 1\n",
    "        j += 1\n",
    "    return courts"
   ]
  },
  {
   "cell_type": "code",
   "execution_count": 4,
   "metadata": {
    "ExecuteTime": {
     "end_time": "2020-07-22T15:48:01.997681Z",
     "start_time": "2020-07-22T15:48:01.969710Z"
    },
    "scrolled": true
   },
   "outputs": [
    {
     "name": "stdout",
     "output_type": "stream",
     "text": [
      "['Rehnquist', \"O'Connor\", 'Souter', 'Stevens', 'Scalia', 'Kennedy', 'Breyer', 'Ginsburg', 'Thomas']\n",
      "[\"O'Connor\", 'Souter', 'Stevens', 'Scalia', 'Kennedy', 'Breyer', 'Ginsburg', 'Thomas', 'Roberts']\n",
      "['Souter', 'Stevens', 'Scalia', 'Kennedy', 'Breyer', 'Ginsburg', 'Thomas', 'Roberts', 'Alito']\n",
      "['Stevens', 'Scalia', 'Kennedy', 'Breyer', 'Ginsburg', 'Thomas', 'Roberts', 'Alito', 'Sotomayor']\n",
      "['Scalia', 'Kennedy', 'Breyer', 'Ginsburg', 'Thomas', 'Roberts', 'Alito', 'Sotomayor', 'Kagan']\n",
      "['Kennedy', 'Breyer', 'Ginsburg', 'Thomas', 'Roberts', 'Alito', 'Sotomayor', 'Kagan', 'Gorsuch']\n",
      "['Breyer', 'Ginsburg', 'Thomas', 'Roberts', 'Alito', 'Sotomayor', 'Kagan', 'Gorsuch', 'Kavanaugh']\n"
     ]
    }
   ],
   "source": [
    "# All courts between 1999 and 2019\n",
    "all_courts = get_courts(df2)\n",
    "for court in all_courts:\n",
    "    print(court)"
   ]
  },
  {
   "cell_type": "markdown",
   "metadata": {},
   "source": [
    "## Functions to get data for individual justice or court"
   ]
  },
  {
   "cell_type": "code",
   "execution_count": 5,
   "metadata": {
    "ExecuteTime": {
     "end_time": "2020-07-22T15:48:02.006413Z",
     "start_time": "2020-07-22T15:48:02.000172Z"
    }
   },
   "outputs": [],
   "source": [
    "def select_justice(justice):\n",
    "    '''\n",
    "    Returns list of courts a justice has participated in, assumes global variable all_courts\n",
    "    '''\n",
    "    return [ court for court in all_courts if justice in court ]\n",
    "\n",
    "def get_opinions(df, court):\n",
    "    '''\n",
    "    Returns numpy array of a particular court's opinions dropping columns with NaN values\n",
    "    '''\n",
    "    return np.array(df.loc[court].dropna(axis=1))\n",
    "\n",
    "def get_justice_all(df, courts):\n",
    "    '''\n",
    "    Returns list of numpy arrays of court opinions from a list of courts\n",
    "    '''\n",
    "    return [ get_opinions(df, court) for court in courts ]"
   ]
  },
  {
   "cell_type": "code",
   "execution_count": 6,
   "metadata": {
    "ExecuteTime": {
     "end_time": "2020-07-22T15:48:02.022145Z",
     "start_time": "2020-07-22T15:48:02.009249Z"
    }
   },
   "outputs": [],
   "source": [
    "# Get list of courts Justice Souter has participated in\n",
    "souter = select_justice('Souter')\n",
    "\n",
    "# Get opinions from those courts\n",
    "souter_courts = get_justice_all(df2, souter)"
   ]
  },
  {
   "cell_type": "code",
   "execution_count": 7,
   "metadata": {
    "ExecuteTime": {
     "end_time": "2020-07-22T15:48:02.038694Z",
     "start_time": "2020-07-22T15:48:02.024329Z"
    }
   },
   "outputs": [
    {
     "data": {
      "text/plain": [
       "array([[1., 1., 1., ..., 4., 1., 1.],\n",
       "       [1., 1., 1., ..., 1., 1., 1.],\n",
       "       [1., 1., 1., ..., 1., 1., 4.],\n",
       "       ...,\n",
       "       [1., 1., 1., ..., 1., 1., 1.],\n",
       "       [1., 1., 1., ..., 1., 1., 4.],\n",
       "       [1., 1., 1., ..., 4., 1., 1.]])"
      ]
     },
     "execution_count": 7,
     "metadata": {},
     "output_type": "execute_result"
    }
   ],
   "source": [
    "# Numpy array of opinions\n",
    "souter_courts[0]"
   ]
  },
  {
   "cell_type": "code",
   "execution_count": 8,
   "metadata": {
    "ExecuteTime": {
     "end_time": "2020-07-22T15:48:02.083291Z",
     "start_time": "2020-07-22T15:48:02.044779Z"
    }
   },
   "outputs": [
    {
     "data": {
      "text/html": [
       "<div>\n",
       "<style scoped>\n",
       "    .dataframe tbody tr th:only-of-type {\n",
       "        vertical-align: middle;\n",
       "    }\n",
       "\n",
       "    .dataframe tbody tr th {\n",
       "        vertical-align: top;\n",
       "    }\n",
       "\n",
       "    .dataframe thead th {\n",
       "        text-align: right;\n",
       "    }\n",
       "</style>\n",
       "<table border=\"1\" class=\"dataframe\">\n",
       "  <thead>\n",
       "    <tr style=\"text-align: right;\">\n",
       "      <th></th>\n",
       "      <th>0</th>\n",
       "      <th>1</th>\n",
       "      <th>2</th>\n",
       "      <th>3</th>\n",
       "      <th>4</th>\n",
       "      <th>5</th>\n",
       "      <th>6</th>\n",
       "      <th>7</th>\n",
       "      <th>8</th>\n",
       "      <th>9</th>\n",
       "      <th>...</th>\n",
       "      <th>455</th>\n",
       "      <th>456</th>\n",
       "      <th>457</th>\n",
       "      <th>458</th>\n",
       "      <th>459</th>\n",
       "      <th>460</th>\n",
       "      <th>461</th>\n",
       "      <th>462</th>\n",
       "      <th>463</th>\n",
       "      <th>464</th>\n",
       "    </tr>\n",
       "  </thead>\n",
       "  <tbody>\n",
       "    <tr>\n",
       "      <td>Rehnquist</td>\n",
       "      <td>1.0</td>\n",
       "      <td>1.0</td>\n",
       "      <td>1.0</td>\n",
       "      <td>1.0</td>\n",
       "      <td>1.0</td>\n",
       "      <td>1.0</td>\n",
       "      <td>1.0</td>\n",
       "      <td>1.0</td>\n",
       "      <td>1.0</td>\n",
       "      <td>1.0</td>\n",
       "      <td>...</td>\n",
       "      <td>1.0</td>\n",
       "      <td>1.0</td>\n",
       "      <td>4.0</td>\n",
       "      <td>1.0</td>\n",
       "      <td>1.0</td>\n",
       "      <td>1.0</td>\n",
       "      <td>1.0</td>\n",
       "      <td>4.0</td>\n",
       "      <td>1.0</td>\n",
       "      <td>1.0</td>\n",
       "    </tr>\n",
       "    <tr>\n",
       "      <td>O'Connor</td>\n",
       "      <td>1.0</td>\n",
       "      <td>1.0</td>\n",
       "      <td>1.0</td>\n",
       "      <td>1.0</td>\n",
       "      <td>1.0</td>\n",
       "      <td>1.0</td>\n",
       "      <td>1.0</td>\n",
       "      <td>1.0</td>\n",
       "      <td>1.0</td>\n",
       "      <td>1.0</td>\n",
       "      <td>...</td>\n",
       "      <td>4.0</td>\n",
       "      <td>1.0</td>\n",
       "      <td>1.0</td>\n",
       "      <td>1.0</td>\n",
       "      <td>4.0</td>\n",
       "      <td>1.0</td>\n",
       "      <td>1.0</td>\n",
       "      <td>1.0</td>\n",
       "      <td>1.0</td>\n",
       "      <td>1.0</td>\n",
       "    </tr>\n",
       "    <tr>\n",
       "      <td>Souter</td>\n",
       "      <td>1.0</td>\n",
       "      <td>1.0</td>\n",
       "      <td>1.0</td>\n",
       "      <td>1.0</td>\n",
       "      <td>1.0</td>\n",
       "      <td>1.0</td>\n",
       "      <td>1.0</td>\n",
       "      <td>1.0</td>\n",
       "      <td>1.0</td>\n",
       "      <td>1.0</td>\n",
       "      <td>...</td>\n",
       "      <td>1.0</td>\n",
       "      <td>1.0</td>\n",
       "      <td>1.0</td>\n",
       "      <td>4.0</td>\n",
       "      <td>4.0</td>\n",
       "      <td>1.0</td>\n",
       "      <td>4.0</td>\n",
       "      <td>1.0</td>\n",
       "      <td>1.0</td>\n",
       "      <td>4.0</td>\n",
       "    </tr>\n",
       "    <tr>\n",
       "      <td>Stevens</td>\n",
       "      <td>4.0</td>\n",
       "      <td>4.0</td>\n",
       "      <td>4.0</td>\n",
       "      <td>4.0</td>\n",
       "      <td>4.0</td>\n",
       "      <td>1.0</td>\n",
       "      <td>4.0</td>\n",
       "      <td>1.0</td>\n",
       "      <td>1.0</td>\n",
       "      <td>4.0</td>\n",
       "      <td>...</td>\n",
       "      <td>4.0</td>\n",
       "      <td>1.0</td>\n",
       "      <td>1.0</td>\n",
       "      <td>4.0</td>\n",
       "      <td>4.0</td>\n",
       "      <td>4.0</td>\n",
       "      <td>4.0</td>\n",
       "      <td>1.0</td>\n",
       "      <td>1.0</td>\n",
       "      <td>1.0</td>\n",
       "    </tr>\n",
       "    <tr>\n",
       "      <td>Scalia</td>\n",
       "      <td>1.0</td>\n",
       "      <td>1.0</td>\n",
       "      <td>1.0</td>\n",
       "      <td>1.0</td>\n",
       "      <td>1.0</td>\n",
       "      <td>1.0</td>\n",
       "      <td>1.0</td>\n",
       "      <td>1.0</td>\n",
       "      <td>1.0</td>\n",
       "      <td>1.0</td>\n",
       "      <td>...</td>\n",
       "      <td>1.0</td>\n",
       "      <td>1.0</td>\n",
       "      <td>4.0</td>\n",
       "      <td>1.0</td>\n",
       "      <td>1.0</td>\n",
       "      <td>1.0</td>\n",
       "      <td>1.0</td>\n",
       "      <td>4.0</td>\n",
       "      <td>1.0</td>\n",
       "      <td>4.0</td>\n",
       "    </tr>\n",
       "    <tr>\n",
       "      <td>Kennedy</td>\n",
       "      <td>1.0</td>\n",
       "      <td>1.0</td>\n",
       "      <td>1.0</td>\n",
       "      <td>1.0</td>\n",
       "      <td>1.0</td>\n",
       "      <td>1.0</td>\n",
       "      <td>1.0</td>\n",
       "      <td>1.0</td>\n",
       "      <td>1.0</td>\n",
       "      <td>4.0</td>\n",
       "      <td>...</td>\n",
       "      <td>1.0</td>\n",
       "      <td>1.0</td>\n",
       "      <td>1.0</td>\n",
       "      <td>1.0</td>\n",
       "      <td>1.0</td>\n",
       "      <td>1.0</td>\n",
       "      <td>1.0</td>\n",
       "      <td>4.0</td>\n",
       "      <td>1.0</td>\n",
       "      <td>1.0</td>\n",
       "    </tr>\n",
       "    <tr>\n",
       "      <td>Breyer</td>\n",
       "      <td>1.0</td>\n",
       "      <td>1.0</td>\n",
       "      <td>1.0</td>\n",
       "      <td>1.0</td>\n",
       "      <td>1.0</td>\n",
       "      <td>1.0</td>\n",
       "      <td>1.0</td>\n",
       "      <td>1.0</td>\n",
       "      <td>1.0</td>\n",
       "      <td>1.0</td>\n",
       "      <td>...</td>\n",
       "      <td>4.0</td>\n",
       "      <td>1.0</td>\n",
       "      <td>1.0</td>\n",
       "      <td>1.0</td>\n",
       "      <td>2.0</td>\n",
       "      <td>1.0</td>\n",
       "      <td>4.0</td>\n",
       "      <td>1.0</td>\n",
       "      <td>1.0</td>\n",
       "      <td>1.0</td>\n",
       "    </tr>\n",
       "    <tr>\n",
       "      <td>Ginsburg</td>\n",
       "      <td>1.0</td>\n",
       "      <td>1.0</td>\n",
       "      <td>1.0</td>\n",
       "      <td>1.0</td>\n",
       "      <td>1.0</td>\n",
       "      <td>1.0</td>\n",
       "      <td>1.0</td>\n",
       "      <td>1.0</td>\n",
       "      <td>1.0</td>\n",
       "      <td>1.0</td>\n",
       "      <td>...</td>\n",
       "      <td>4.0</td>\n",
       "      <td>1.0</td>\n",
       "      <td>1.0</td>\n",
       "      <td>1.0</td>\n",
       "      <td>4.0</td>\n",
       "      <td>4.0</td>\n",
       "      <td>4.0</td>\n",
       "      <td>1.0</td>\n",
       "      <td>1.0</td>\n",
       "      <td>4.0</td>\n",
       "    </tr>\n",
       "    <tr>\n",
       "      <td>Thomas</td>\n",
       "      <td>1.0</td>\n",
       "      <td>1.0</td>\n",
       "      <td>1.0</td>\n",
       "      <td>1.0</td>\n",
       "      <td>1.0</td>\n",
       "      <td>1.0</td>\n",
       "      <td>1.0</td>\n",
       "      <td>1.0</td>\n",
       "      <td>1.0</td>\n",
       "      <td>1.0</td>\n",
       "      <td>...</td>\n",
       "      <td>1.0</td>\n",
       "      <td>1.0</td>\n",
       "      <td>4.0</td>\n",
       "      <td>1.0</td>\n",
       "      <td>1.0</td>\n",
       "      <td>1.0</td>\n",
       "      <td>1.0</td>\n",
       "      <td>4.0</td>\n",
       "      <td>1.0</td>\n",
       "      <td>1.0</td>\n",
       "    </tr>\n",
       "  </tbody>\n",
       "</table>\n",
       "<p>9 rows × 465 columns</p>\n",
       "</div>"
      ],
      "text/plain": [
       "           0    1    2    3    4    5    6    7    8    9    ...  455  456  \\\n",
       "Rehnquist  1.0  1.0  1.0  1.0  1.0  1.0  1.0  1.0  1.0  1.0  ...  1.0  1.0   \n",
       "O'Connor   1.0  1.0  1.0  1.0  1.0  1.0  1.0  1.0  1.0  1.0  ...  4.0  1.0   \n",
       "Souter     1.0  1.0  1.0  1.0  1.0  1.0  1.0  1.0  1.0  1.0  ...  1.0  1.0   \n",
       "Stevens    4.0  4.0  4.0  4.0  4.0  1.0  4.0  1.0  1.0  4.0  ...  4.0  1.0   \n",
       "Scalia     1.0  1.0  1.0  1.0  1.0  1.0  1.0  1.0  1.0  1.0  ...  1.0  1.0   \n",
       "Kennedy    1.0  1.0  1.0  1.0  1.0  1.0  1.0  1.0  1.0  4.0  ...  1.0  1.0   \n",
       "Breyer     1.0  1.0  1.0  1.0  1.0  1.0  1.0  1.0  1.0  1.0  ...  4.0  1.0   \n",
       "Ginsburg   1.0  1.0  1.0  1.0  1.0  1.0  1.0  1.0  1.0  1.0  ...  4.0  1.0   \n",
       "Thomas     1.0  1.0  1.0  1.0  1.0  1.0  1.0  1.0  1.0  1.0  ...  1.0  1.0   \n",
       "\n",
       "           457  458  459  460  461  462  463  464  \n",
       "Rehnquist  4.0  1.0  1.0  1.0  1.0  4.0  1.0  1.0  \n",
       "O'Connor   1.0  1.0  4.0  1.0  1.0  1.0  1.0  1.0  \n",
       "Souter     1.0  4.0  4.0  1.0  4.0  1.0  1.0  4.0  \n",
       "Stevens    1.0  4.0  4.0  4.0  4.0  1.0  1.0  1.0  \n",
       "Scalia     4.0  1.0  1.0  1.0  1.0  4.0  1.0  4.0  \n",
       "Kennedy    1.0  1.0  1.0  1.0  1.0  4.0  1.0  1.0  \n",
       "Breyer     1.0  1.0  2.0  1.0  4.0  1.0  1.0  1.0  \n",
       "Ginsburg   1.0  1.0  4.0  4.0  4.0  1.0  1.0  4.0  \n",
       "Thomas     4.0  1.0  1.0  1.0  1.0  4.0  1.0  1.0  \n",
       "\n",
       "[9 rows x 465 columns]"
      ]
     },
     "execution_count": 8,
     "metadata": {},
     "output_type": "execute_result"
    }
   ],
   "source": [
    "# Pandas DataFrame of opinions\n",
    "pd.DataFrame(souter_courts[0], index=souter[0])"
   ]
  },
  {
   "cell_type": "markdown",
   "metadata": {},
   "source": [
    "## Function to get similarities between justices"
   ]
  },
  {
   "cell_type": "code",
   "execution_count": 9,
   "metadata": {
    "ExecuteTime": {
     "end_time": "2020-07-22T15:48:02.095358Z",
     "start_time": "2020-07-22T15:48:02.086950Z"
    }
   },
   "outputs": [],
   "source": [
    "def get_sim(court_op):\n",
    "    '''\n",
    "    Returns numpy cosine similarity matrix from an array of opinions\n",
    "    '''\n",
    "    sim_mat = np.zeros((9,9))\n",
    "    for i in range(9):\n",
    "        for j in range(9):\n",
    "            j_a = court_op[i]\n",
    "            j_a = j_a.reshape(1, len(j_a))\n",
    "            j_b = court_op[j]\n",
    "            j_b = j_b.reshape(1, len(j_b))\n",
    "            sim_mat[i][j] = np.round(cosine_similarity(j_a, j_b), 4)\n",
    "    return sim_mat"
   ]
  },
  {
   "cell_type": "code",
   "execution_count": 10,
   "metadata": {
    "ExecuteTime": {
     "end_time": "2020-07-22T15:48:02.177569Z",
     "start_time": "2020-07-22T15:48:02.100138Z"
    }
   },
   "outputs": [
    {
     "data": {
      "text/html": [
       "<div>\n",
       "<style scoped>\n",
       "    .dataframe tbody tr th:only-of-type {\n",
       "        vertical-align: middle;\n",
       "    }\n",
       "\n",
       "    .dataframe tbody tr th {\n",
       "        vertical-align: top;\n",
       "    }\n",
       "\n",
       "    .dataframe thead th {\n",
       "        text-align: right;\n",
       "    }\n",
       "</style>\n",
       "<table border=\"1\" class=\"dataframe\">\n",
       "  <thead>\n",
       "    <tr style=\"text-align: right;\">\n",
       "      <th></th>\n",
       "      <th>Rehnquist</th>\n",
       "      <th>O'Connor</th>\n",
       "      <th>Souter</th>\n",
       "      <th>Stevens</th>\n",
       "      <th>Scalia</th>\n",
       "      <th>Kennedy</th>\n",
       "      <th>Breyer</th>\n",
       "      <th>Ginsburg</th>\n",
       "      <th>Thomas</th>\n",
       "    </tr>\n",
       "  </thead>\n",
       "  <tbody>\n",
       "    <tr>\n",
       "      <td>Rehnquist</td>\n",
       "      <td>1.0000</td>\n",
       "      <td>0.7867</td>\n",
       "      <td>0.5844</td>\n",
       "      <td>0.5945</td>\n",
       "      <td>0.8308</td>\n",
       "      <td>0.8422</td>\n",
       "      <td>0.6330</td>\n",
       "      <td>0.5998</td>\n",
       "      <td>0.8467</td>\n",
       "    </tr>\n",
       "    <tr>\n",
       "      <td>O'Connor</td>\n",
       "      <td>0.7867</td>\n",
       "      <td>1.0000</td>\n",
       "      <td>0.6845</td>\n",
       "      <td>0.6905</td>\n",
       "      <td>0.7252</td>\n",
       "      <td>0.7246</td>\n",
       "      <td>0.7298</td>\n",
       "      <td>0.6838</td>\n",
       "      <td>0.7139</td>\n",
       "    </tr>\n",
       "    <tr>\n",
       "      <td>Souter</td>\n",
       "      <td>0.5844</td>\n",
       "      <td>0.6845</td>\n",
       "      <td>1.0000</td>\n",
       "      <td>0.8749</td>\n",
       "      <td>0.6014</td>\n",
       "      <td>0.6320</td>\n",
       "      <td>0.8603</td>\n",
       "      <td>0.9157</td>\n",
       "      <td>0.6019</td>\n",
       "    </tr>\n",
       "    <tr>\n",
       "      <td>Stevens</td>\n",
       "      <td>0.5945</td>\n",
       "      <td>0.6905</td>\n",
       "      <td>0.8749</td>\n",
       "      <td>1.0000</td>\n",
       "      <td>0.5917</td>\n",
       "      <td>0.6607</td>\n",
       "      <td>0.8394</td>\n",
       "      <td>0.8768</td>\n",
       "      <td>0.6064</td>\n",
       "    </tr>\n",
       "    <tr>\n",
       "      <td>Scalia</td>\n",
       "      <td>0.8308</td>\n",
       "      <td>0.7252</td>\n",
       "      <td>0.6014</td>\n",
       "      <td>0.5917</td>\n",
       "      <td>1.0000</td>\n",
       "      <td>0.8037</td>\n",
       "      <td>0.6013</td>\n",
       "      <td>0.6015</td>\n",
       "      <td>0.9289</td>\n",
       "    </tr>\n",
       "    <tr>\n",
       "      <td>Kennedy</td>\n",
       "      <td>0.8422</td>\n",
       "      <td>0.7246</td>\n",
       "      <td>0.6320</td>\n",
       "      <td>0.6607</td>\n",
       "      <td>0.8037</td>\n",
       "      <td>1.0000</td>\n",
       "      <td>0.6438</td>\n",
       "      <td>0.6300</td>\n",
       "      <td>0.8071</td>\n",
       "    </tr>\n",
       "    <tr>\n",
       "      <td>Breyer</td>\n",
       "      <td>0.6330</td>\n",
       "      <td>0.7298</td>\n",
       "      <td>0.8603</td>\n",
       "      <td>0.8394</td>\n",
       "      <td>0.6013</td>\n",
       "      <td>0.6438</td>\n",
       "      <td>1.0000</td>\n",
       "      <td>0.8945</td>\n",
       "      <td>0.5767</td>\n",
       "    </tr>\n",
       "    <tr>\n",
       "      <td>Ginsburg</td>\n",
       "      <td>0.5998</td>\n",
       "      <td>0.6838</td>\n",
       "      <td>0.9157</td>\n",
       "      <td>0.8768</td>\n",
       "      <td>0.6015</td>\n",
       "      <td>0.6300</td>\n",
       "      <td>0.8945</td>\n",
       "      <td>1.0000</td>\n",
       "      <td>0.5961</td>\n",
       "    </tr>\n",
       "    <tr>\n",
       "      <td>Thomas</td>\n",
       "      <td>0.8467</td>\n",
       "      <td>0.7139</td>\n",
       "      <td>0.6019</td>\n",
       "      <td>0.6064</td>\n",
       "      <td>0.9289</td>\n",
       "      <td>0.8071</td>\n",
       "      <td>0.5767</td>\n",
       "      <td>0.5961</td>\n",
       "      <td>1.0000</td>\n",
       "    </tr>\n",
       "  </tbody>\n",
       "</table>\n",
       "</div>"
      ],
      "text/plain": [
       "           Rehnquist  O'Connor  Souter  Stevens  Scalia  Kennedy  Breyer  \\\n",
       "Rehnquist     1.0000    0.7867  0.5844   0.5945  0.8308   0.8422  0.6330   \n",
       "O'Connor      0.7867    1.0000  0.6845   0.6905  0.7252   0.7246  0.7298   \n",
       "Souter        0.5844    0.6845  1.0000   0.8749  0.6014   0.6320  0.8603   \n",
       "Stevens       0.5945    0.6905  0.8749   1.0000  0.5917   0.6607  0.8394   \n",
       "Scalia        0.8308    0.7252  0.6014   0.5917  1.0000   0.8037  0.6013   \n",
       "Kennedy       0.8422    0.7246  0.6320   0.6607  0.8037   1.0000  0.6438   \n",
       "Breyer        0.6330    0.7298  0.8603   0.8394  0.6013   0.6438  1.0000   \n",
       "Ginsburg      0.5998    0.6838  0.9157   0.8768  0.6015   0.6300  0.8945   \n",
       "Thomas        0.8467    0.7139  0.6019   0.6064  0.9289   0.8071  0.5767   \n",
       "\n",
       "           Ginsburg  Thomas  \n",
       "Rehnquist    0.5998  0.8467  \n",
       "O'Connor     0.6838  0.7139  \n",
       "Souter       0.9157  0.6019  \n",
       "Stevens      0.8768  0.6064  \n",
       "Scalia       0.6015  0.9289  \n",
       "Kennedy      0.6300  0.8071  \n",
       "Breyer       0.8945  0.5767  \n",
       "Ginsburg     1.0000  0.5961  \n",
       "Thomas       0.5961  1.0000  "
      ]
     },
     "execution_count": 10,
     "metadata": {},
     "output_type": "execute_result"
    }
   ],
   "source": [
    "# Similarity matrix as a DataFrame\n",
    "first_court = pd.DataFrame(get_sim(souter_courts[0]), index=souter[0], columns=souter[0])\n",
    "first_court"
   ]
  },
  {
   "cell_type": "markdown",
   "metadata": {},
   "source": [
    "## Functions for PCA and plotting PCA"
   ]
  },
  {
   "cell_type": "code",
   "execution_count": 103,
   "metadata": {
    "ExecuteTime": {
     "end_time": "2020-07-22T18:50:55.321788Z",
     "start_time": "2020-07-22T18:50:55.310336Z"
    }
   },
   "outputs": [],
   "source": [
    "def get_pca(court_op, court):\n",
    "    '''\n",
    "    2-component representation of justices within a particular court (using PCA), returns DataFrame\n",
    "    '''\n",
    "    pca = PCA(n_components=2)\n",
    "    comp = pd.DataFrame(pca.fit_transform(court_op), index=court, columns=['pc1', 'pc2'])\n",
    "\n",
    "    # Maintain consistent axes based on Ginsburg/Thomas\n",
    "    if comp.loc['Ginsburg']['pc1'] >=0:\n",
    "        comp['pc1'] = -comp['pc1']\n",
    "    if comp.loc['Thomas']['pc2'] >= 0:\n",
    "        comp['pc2'] = -comp['pc2']\n",
    "    \n",
    "    # Scale for consistency\n",
    "    scaler = MinMaxScaler()\n",
    "    comp = scaler.fit_transform(comp)\n",
    "    comp = pd.DataFrame(comp)\n",
    "    \n",
    "    comp.reset_index(inplace=True)\n",
    "    comp.columns = ['justice', 'pc1', 'pc2']\n",
    "    comp['justice'] = court\n",
    "    return comp\n",
    "\n",
    "def all_pca_df(df, courts):\n",
    "    '''\n",
    "    Returns a merged 2-component DataFrame\n",
    "    '''\n",
    "    pca_dfs = []\n",
    "    for n in range(len(courts)):\n",
    "        court_op = get_opinions(df2, courts[n])\n",
    "        df = get_pca(court_op, courts[n])\n",
    "        df['court'] = n\n",
    "        pca_dfs.append(df)\n",
    "\n",
    "    pca_dfs = pd.concat(pca_dfs).reset_index(drop=True)\n",
    "    return pca_dfs"
   ]
  },
  {
   "cell_type": "code",
   "execution_count": 109,
   "metadata": {
    "ExecuteTime": {
     "end_time": "2020-07-22T18:52:35.151706Z",
     "start_time": "2020-07-22T18:52:35.084408Z"
    }
   },
   "outputs": [],
   "source": [
    "pcas = all_pca_df(df2, all_courts)"
   ]
  },
  {
   "cell_type": "code",
   "execution_count": 121,
   "metadata": {
    "ExecuteTime": {
     "end_time": "2020-07-22T19:09:56.213552Z",
     "start_time": "2020-07-22T19:09:56.205847Z"
    }
   },
   "outputs": [],
   "source": [
    "def animated_2comp(df):\n",
    "    fig = px.scatter(df, x='pc1', y='pc2',\n",
    "                     animation_frame='court',\n",
    "                     animation_group='justice',\n",
    "                     text='justice',\n",
    "                     title='Justices Along 2 Components (PCA)',\n",
    "                     labels={'pc1': 'PC1', 'pc2': 'PC2'},\n",
    "                     width=700,\n",
    "                     height=700,\n",
    "                    )\n",
    "    fig.update_traces(textposition='top center')\n",
    "    fig.layout.updatemenus[0].buttons[0].args[1][\"transition\"][\"duration\"] = 2000\n",
    "    fig.layout.updatemenus[0].buttons[0].args[1][\"frame\"][\"duration\"] = 3000\n",
    "    return fig"
   ]
  },
  {
   "cell_type": "code",
   "execution_count": 122,
   "metadata": {
    "ExecuteTime": {
     "end_time": "2020-07-22T19:09:56.753287Z",
     "start_time": "2020-07-22T19:09:56.654220Z"
    }
   },
   "outputs": [
    {
     "data": {
      "application/vnd.plotly.v1+json": {
       "config": {
        "plotlyServerURL": "https://plot.ly"
       },
       "data": [
        {
         "hovertemplate": "court=0<br>PC1=%{x}<br>PC2=%{y}<br>justice=%{text}<extra></extra>",
         "ids": [
          "Rehnquist",
          "O'Connor",
          "Souter",
          "Stevens",
          "Scalia",
          "Kennedy",
          "Breyer",
          "Ginsburg",
          "Thomas"
         ],
         "legendgroup": "",
         "marker": {
          "color": "#636efa",
          "symbol": "circle"
         },
         "mode": "markers+text",
         "name": "",
         "orientation": "v",
         "showlegend": false,
         "text": [
          "Rehnquist",
          "O'Connor",
          "Souter",
          "Stevens",
          "Scalia",
          "Kennedy",
          "Breyer",
          "Ginsburg",
          "Thomas"
         ],
         "textposition": "top center",
         "type": "scatter",
         "x": [
          0.9066245491982414,
          0.6179224336250586,
          0.07482273314549737,
          0,
          0.9986210554874646,
          0.7917134283923876,
          0.1146042560434426,
          0.034439658817531804,
          1
         ],
         "xaxis": "x",
         "y": [
          0.7406947694217905,
          1,
          0.31047092661799636,
          0.11999444301144996,
          0.021612240232525615,
          0.6438578135490457,
          0.6694816789288267,
          0.32475787540437334,
          0
         ],
         "yaxis": "y"
        }
       ],
       "frames": [
        {
         "data": [
          {
           "hovertemplate": "court=0<br>PC1=%{x}<br>PC2=%{y}<br>justice=%{text}<extra></extra>",
           "ids": [
            "Rehnquist",
            "O'Connor",
            "Souter",
            "Stevens",
            "Scalia",
            "Kennedy",
            "Breyer",
            "Ginsburg",
            "Thomas"
           ],
           "legendgroup": "",
           "marker": {
            "color": "#636efa",
            "symbol": "circle"
           },
           "mode": "markers+text",
           "name": "",
           "orientation": "v",
           "showlegend": false,
           "text": [
            "Rehnquist",
            "O'Connor",
            "Souter",
            "Stevens",
            "Scalia",
            "Kennedy",
            "Breyer",
            "Ginsburg",
            "Thomas"
           ],
           "type": "scatter",
           "x": [
            0.9066245491982414,
            0.6179224336250586,
            0.07482273314549737,
            0,
            0.9986210554874646,
            0.7917134283923876,
            0.1146042560434426,
            0.034439658817531804,
            1
           ],
           "xaxis": "x",
           "y": [
            0.7406947694217905,
            1,
            0.31047092661799636,
            0.11999444301144996,
            0.021612240232525615,
            0.6438578135490457,
            0.6694816789288267,
            0.32475787540437334,
            0
           ],
           "yaxis": "y"
          }
         ],
         "name": "0"
        },
        {
         "data": [
          {
           "hovertemplate": "court=1<br>PC1=%{x}<br>PC2=%{y}<br>justice=%{text}<extra></extra>",
           "ids": [
            "O'Connor",
            "Souter",
            "Stevens",
            "Scalia",
            "Kennedy",
            "Breyer",
            "Ginsburg",
            "Thomas",
            "Roberts"
           ],
           "legendgroup": "",
           "marker": {
            "color": "#636efa",
            "symbol": "circle"
           },
           "mode": "markers+text",
           "name": "",
           "orientation": "v",
           "showlegend": false,
           "text": [
            "O'Connor",
            "Souter",
            "Stevens",
            "Scalia",
            "Kennedy",
            "Breyer",
            "Ginsburg",
            "Thomas",
            "Roberts"
           ],
           "type": "scatter",
           "x": [
            0.3630555928721626,
            0.06063654178870648,
            0.017190255892203687,
            0.9772091429596692,
            0.5626756285840355,
            0.060636541788706644,
            0,
            1,
            0.9772091429596692
           ],
           "xaxis": "x",
           "y": [
            0.10805906130726656,
            0,
            0.38687593951640786,
            0.13083221988270755,
            1,
            0,
            0.3558120603656727,
            0.14265863772819543,
            0.13083221988270755
           ],
           "yaxis": "y"
          }
         ],
         "name": "1"
        },
        {
         "data": [
          {
           "hovertemplate": "court=2<br>PC1=%{x}<br>PC2=%{y}<br>justice=%{text}<extra></extra>",
           "ids": [
            "Souter",
            "Stevens",
            "Scalia",
            "Kennedy",
            "Breyer",
            "Ginsburg",
            "Thomas",
            "Roberts",
            "Alito"
           ],
           "legendgroup": "",
           "marker": {
            "color": "#636efa",
            "symbol": "circle"
           },
           "mode": "markers+text",
           "name": "",
           "orientation": "v",
           "showlegend": false,
           "text": [
            "Souter",
            "Stevens",
            "Scalia",
            "Kennedy",
            "Breyer",
            "Ginsburg",
            "Thomas",
            "Roberts",
            "Alito"
           ],
           "type": "scatter",
           "x": [
            0.0979949859975775,
            0,
            0.9724871015777683,
            0.6997108107701846,
            0.15318609676028244,
            0.06785178775643269,
            1,
            0.9201830789352115,
            0.9444599121656501
           ],
           "xaxis": "x",
           "y": [
            0.3103731188878842,
            0.3063500148574869,
            0.10163732415345472,
            1,
            0.7309905754012396,
            0.25943281246737454,
            0,
            0.5821946238604745,
            0.6948228363860147
           ],
           "yaxis": "y"
          }
         ],
         "name": "2"
        },
        {
         "data": [
          {
           "hovertemplate": "court=3<br>PC1=%{x}<br>PC2=%{y}<br>justice=%{text}<extra></extra>",
           "ids": [
            "Stevens",
            "Scalia",
            "Kennedy",
            "Breyer",
            "Ginsburg",
            "Thomas",
            "Roberts",
            "Alito",
            "Sotomayor"
           ],
           "legendgroup": "",
           "marker": {
            "color": "#636efa",
            "symbol": "circle"
           },
           "mode": "markers+text",
           "name": "",
           "orientation": "v",
           "showlegend": false,
           "text": [
            "Stevens",
            "Scalia",
            "Kennedy",
            "Breyer",
            "Ginsburg",
            "Thomas",
            "Roberts",
            "Alito",
            "Sotomayor"
           ],
           "type": "scatter",
           "x": [
            0.0351859601765232,
            0.9999999999999998,
            0.5502437424109597,
            0.01123686025034476,
            0.06587074187928749,
            0.9892849810984732,
            0.7671665241937513,
            0.8805998467817625,
            0
           ],
           "xaxis": "x",
           "y": [
            0.1655255146722156,
            0.1921516773236281,
            1,
            0.4009914799708051,
            0.6623523787147656,
            0,
            0.6928459043336501,
            0.752300834662001,
            0.30009907463472557
           ],
           "yaxis": "y"
          }
         ],
         "name": "3"
        },
        {
         "data": [
          {
           "hovertemplate": "court=4<br>PC1=%{x}<br>PC2=%{y}<br>justice=%{text}<extra></extra>",
           "ids": [
            "Scalia",
            "Kennedy",
            "Breyer",
            "Ginsburg",
            "Thomas",
            "Roberts",
            "Alito",
            "Sotomayor",
            "Kagan"
           ],
           "legendgroup": "",
           "marker": {
            "color": "#636efa",
            "symbol": "circle"
           },
           "mode": "markers+text",
           "name": "",
           "orientation": "v",
           "showlegend": false,
           "text": [
            "Scalia",
            "Kennedy",
            "Breyer",
            "Ginsburg",
            "Thomas",
            "Roberts",
            "Alito",
            "Sotomayor",
            "Kagan"
           ],
           "type": "scatter",
           "x": [
            0.9416297119062715,
            0.5799623719418217,
            0.09702574004182651,
            0,
            1,
            0.8702715742308946,
            0.9975231308007415,
            0.044291139981099126,
            0.06789198635330329
           ],
           "xaxis": "x",
           "y": [
            0,
            1,
            0.5163253737880833,
            0.08476493481896713,
            0.04200963350521009,
            0.47939898558259186,
            0.4578028661502975,
            0.2804156901370134,
            0.21817871624823132
           ],
           "yaxis": "y"
          }
         ],
         "name": "4"
        },
        {
         "data": [
          {
           "hovertemplate": "court=5<br>PC1=%{x}<br>PC2=%{y}<br>justice=%{text}<extra></extra>",
           "ids": [
            "Kennedy",
            "Breyer",
            "Ginsburg",
            "Thomas",
            "Roberts",
            "Alito",
            "Sotomayor",
            "Kagan",
            "Gorsuch"
           ],
           "legendgroup": "",
           "marker": {
            "color": "#636efa",
            "symbol": "circle"
           },
           "mode": "markers+text",
           "name": "",
           "orientation": "v",
           "showlegend": false,
           "text": [
            "Kennedy",
            "Breyer",
            "Ginsburg",
            "Thomas",
            "Roberts",
            "Alito",
            "Sotomayor",
            "Kagan",
            "Gorsuch"
           ],
           "type": "scatter",
           "x": [
            0.7413800750380025,
            0.050359581449649415,
            0.05182616942938123,
            0.9992420986122716,
            0.700360975415212,
            1,
            0,
            0.1200498206747439,
            0.9061014445631624
           ],
           "xaxis": "x",
           "y": [
            0.8527163739619184,
            0.3344799561157381,
            0.3145074740598967,
            0.0004126274860275503,
            1,
            0,
            0.325673129049798,
            0.29609866801759943,
            0.46273750413450476
           ],
           "yaxis": "y"
          }
         ],
         "name": "5"
        },
        {
         "data": [
          {
           "hovertemplate": "court=6<br>PC1=%{x}<br>PC2=%{y}<br>justice=%{text}<extra></extra>",
           "ids": [
            "Breyer",
            "Ginsburg",
            "Thomas",
            "Roberts",
            "Alito",
            "Sotomayor",
            "Kagan",
            "Gorsuch",
            "Kavanaugh"
           ],
           "legendgroup": "",
           "marker": {
            "color": "#636efa",
            "symbol": "circle"
           },
           "mode": "markers+text",
           "name": "",
           "orientation": "v",
           "showlegend": false,
           "text": [
            "Breyer",
            "Ginsburg",
            "Thomas",
            "Roberts",
            "Alito",
            "Sotomayor",
            "Kagan",
            "Gorsuch",
            "Kavanaugh"
           ],
           "type": "scatter",
           "x": [
            0.09326315113214906,
            0.033776982214826945,
            0.9999999999999999,
            0.692982835488233,
            0.9630945389082195,
            0,
            0.09688292598246284,
            0.7548505276000882,
            0.726794011533905
           ],
           "xaxis": "x",
           "y": [
            0.7085308881792528,
            0.44455698945440186,
            0.21727301327124426,
            1,
            0.6823505911869422,
            0.3810021854544464,
            0.531988508716561,
            0,
            0.91600924657752
           ],
           "yaxis": "y"
          }
         ],
         "name": "6"
        }
       ],
       "layout": {
        "height": 700,
        "legend": {
         "tracegroupgap": 0
        },
        "sliders": [
         {
          "active": 0,
          "currentvalue": {
           "prefix": "court="
          },
          "len": 0.9,
          "pad": {
           "b": 10,
           "t": 60
          },
          "steps": [
           {
            "args": [
             [
              "0"
             ],
             {
              "frame": {
               "duration": 0,
               "redraw": false
              },
              "fromcurrent": true,
              "mode": "immediate",
              "transition": {
               "duration": 0,
               "easing": "linear"
              }
             }
            ],
            "label": "0",
            "method": "animate"
           },
           {
            "args": [
             [
              "1"
             ],
             {
              "frame": {
               "duration": 0,
               "redraw": false
              },
              "fromcurrent": true,
              "mode": "immediate",
              "transition": {
               "duration": 0,
               "easing": "linear"
              }
             }
            ],
            "label": "1",
            "method": "animate"
           },
           {
            "args": [
             [
              "2"
             ],
             {
              "frame": {
               "duration": 0,
               "redraw": false
              },
              "fromcurrent": true,
              "mode": "immediate",
              "transition": {
               "duration": 0,
               "easing": "linear"
              }
             }
            ],
            "label": "2",
            "method": "animate"
           },
           {
            "args": [
             [
              "3"
             ],
             {
              "frame": {
               "duration": 0,
               "redraw": false
              },
              "fromcurrent": true,
              "mode": "immediate",
              "transition": {
               "duration": 0,
               "easing": "linear"
              }
             }
            ],
            "label": "3",
            "method": "animate"
           },
           {
            "args": [
             [
              "4"
             ],
             {
              "frame": {
               "duration": 0,
               "redraw": false
              },
              "fromcurrent": true,
              "mode": "immediate",
              "transition": {
               "duration": 0,
               "easing": "linear"
              }
             }
            ],
            "label": "4",
            "method": "animate"
           },
           {
            "args": [
             [
              "5"
             ],
             {
              "frame": {
               "duration": 0,
               "redraw": false
              },
              "fromcurrent": true,
              "mode": "immediate",
              "transition": {
               "duration": 0,
               "easing": "linear"
              }
             }
            ],
            "label": "5",
            "method": "animate"
           },
           {
            "args": [
             [
              "6"
             ],
             {
              "frame": {
               "duration": 0,
               "redraw": false
              },
              "fromcurrent": true,
              "mode": "immediate",
              "transition": {
               "duration": 0,
               "easing": "linear"
              }
             }
            ],
            "label": "6",
            "method": "animate"
           }
          ],
          "x": 0.1,
          "xanchor": "left",
          "y": 0,
          "yanchor": "top"
         }
        ],
        "template": {
         "data": {
          "bar": [
           {
            "error_x": {
             "color": "#2a3f5f"
            },
            "error_y": {
             "color": "#2a3f5f"
            },
            "marker": {
             "line": {
              "color": "#E5ECF6",
              "width": 0.5
             }
            },
            "type": "bar"
           }
          ],
          "barpolar": [
           {
            "marker": {
             "line": {
              "color": "#E5ECF6",
              "width": 0.5
             }
            },
            "type": "barpolar"
           }
          ],
          "carpet": [
           {
            "aaxis": {
             "endlinecolor": "#2a3f5f",
             "gridcolor": "white",
             "linecolor": "white",
             "minorgridcolor": "white",
             "startlinecolor": "#2a3f5f"
            },
            "baxis": {
             "endlinecolor": "#2a3f5f",
             "gridcolor": "white",
             "linecolor": "white",
             "minorgridcolor": "white",
             "startlinecolor": "#2a3f5f"
            },
            "type": "carpet"
           }
          ],
          "choropleth": [
           {
            "colorbar": {
             "outlinewidth": 0,
             "ticks": ""
            },
            "type": "choropleth"
           }
          ],
          "contour": [
           {
            "colorbar": {
             "outlinewidth": 0,
             "ticks": ""
            },
            "colorscale": [
             [
              0,
              "#0d0887"
             ],
             [
              0.1111111111111111,
              "#46039f"
             ],
             [
              0.2222222222222222,
              "#7201a8"
             ],
             [
              0.3333333333333333,
              "#9c179e"
             ],
             [
              0.4444444444444444,
              "#bd3786"
             ],
             [
              0.5555555555555556,
              "#d8576b"
             ],
             [
              0.6666666666666666,
              "#ed7953"
             ],
             [
              0.7777777777777778,
              "#fb9f3a"
             ],
             [
              0.8888888888888888,
              "#fdca26"
             ],
             [
              1,
              "#f0f921"
             ]
            ],
            "type": "contour"
           }
          ],
          "contourcarpet": [
           {
            "colorbar": {
             "outlinewidth": 0,
             "ticks": ""
            },
            "type": "contourcarpet"
           }
          ],
          "heatmap": [
           {
            "colorbar": {
             "outlinewidth": 0,
             "ticks": ""
            },
            "colorscale": [
             [
              0,
              "#0d0887"
             ],
             [
              0.1111111111111111,
              "#46039f"
             ],
             [
              0.2222222222222222,
              "#7201a8"
             ],
             [
              0.3333333333333333,
              "#9c179e"
             ],
             [
              0.4444444444444444,
              "#bd3786"
             ],
             [
              0.5555555555555556,
              "#d8576b"
             ],
             [
              0.6666666666666666,
              "#ed7953"
             ],
             [
              0.7777777777777778,
              "#fb9f3a"
             ],
             [
              0.8888888888888888,
              "#fdca26"
             ],
             [
              1,
              "#f0f921"
             ]
            ],
            "type": "heatmap"
           }
          ],
          "heatmapgl": [
           {
            "colorbar": {
             "outlinewidth": 0,
             "ticks": ""
            },
            "colorscale": [
             [
              0,
              "#0d0887"
             ],
             [
              0.1111111111111111,
              "#46039f"
             ],
             [
              0.2222222222222222,
              "#7201a8"
             ],
             [
              0.3333333333333333,
              "#9c179e"
             ],
             [
              0.4444444444444444,
              "#bd3786"
             ],
             [
              0.5555555555555556,
              "#d8576b"
             ],
             [
              0.6666666666666666,
              "#ed7953"
             ],
             [
              0.7777777777777778,
              "#fb9f3a"
             ],
             [
              0.8888888888888888,
              "#fdca26"
             ],
             [
              1,
              "#f0f921"
             ]
            ],
            "type": "heatmapgl"
           }
          ],
          "histogram": [
           {
            "marker": {
             "colorbar": {
              "outlinewidth": 0,
              "ticks": ""
             }
            },
            "type": "histogram"
           }
          ],
          "histogram2d": [
           {
            "colorbar": {
             "outlinewidth": 0,
             "ticks": ""
            },
            "colorscale": [
             [
              0,
              "#0d0887"
             ],
             [
              0.1111111111111111,
              "#46039f"
             ],
             [
              0.2222222222222222,
              "#7201a8"
             ],
             [
              0.3333333333333333,
              "#9c179e"
             ],
             [
              0.4444444444444444,
              "#bd3786"
             ],
             [
              0.5555555555555556,
              "#d8576b"
             ],
             [
              0.6666666666666666,
              "#ed7953"
             ],
             [
              0.7777777777777778,
              "#fb9f3a"
             ],
             [
              0.8888888888888888,
              "#fdca26"
             ],
             [
              1,
              "#f0f921"
             ]
            ],
            "type": "histogram2d"
           }
          ],
          "histogram2dcontour": [
           {
            "colorbar": {
             "outlinewidth": 0,
             "ticks": ""
            },
            "colorscale": [
             [
              0,
              "#0d0887"
             ],
             [
              0.1111111111111111,
              "#46039f"
             ],
             [
              0.2222222222222222,
              "#7201a8"
             ],
             [
              0.3333333333333333,
              "#9c179e"
             ],
             [
              0.4444444444444444,
              "#bd3786"
             ],
             [
              0.5555555555555556,
              "#d8576b"
             ],
             [
              0.6666666666666666,
              "#ed7953"
             ],
             [
              0.7777777777777778,
              "#fb9f3a"
             ],
             [
              0.8888888888888888,
              "#fdca26"
             ],
             [
              1,
              "#f0f921"
             ]
            ],
            "type": "histogram2dcontour"
           }
          ],
          "mesh3d": [
           {
            "colorbar": {
             "outlinewidth": 0,
             "ticks": ""
            },
            "type": "mesh3d"
           }
          ],
          "parcoords": [
           {
            "line": {
             "colorbar": {
              "outlinewidth": 0,
              "ticks": ""
             }
            },
            "type": "parcoords"
           }
          ],
          "pie": [
           {
            "automargin": true,
            "type": "pie"
           }
          ],
          "scatter": [
           {
            "marker": {
             "colorbar": {
              "outlinewidth": 0,
              "ticks": ""
             }
            },
            "type": "scatter"
           }
          ],
          "scatter3d": [
           {
            "line": {
             "colorbar": {
              "outlinewidth": 0,
              "ticks": ""
             }
            },
            "marker": {
             "colorbar": {
              "outlinewidth": 0,
              "ticks": ""
             }
            },
            "type": "scatter3d"
           }
          ],
          "scattercarpet": [
           {
            "marker": {
             "colorbar": {
              "outlinewidth": 0,
              "ticks": ""
             }
            },
            "type": "scattercarpet"
           }
          ],
          "scattergeo": [
           {
            "marker": {
             "colorbar": {
              "outlinewidth": 0,
              "ticks": ""
             }
            },
            "type": "scattergeo"
           }
          ],
          "scattergl": [
           {
            "marker": {
             "colorbar": {
              "outlinewidth": 0,
              "ticks": ""
             }
            },
            "type": "scattergl"
           }
          ],
          "scattermapbox": [
           {
            "marker": {
             "colorbar": {
              "outlinewidth": 0,
              "ticks": ""
             }
            },
            "type": "scattermapbox"
           }
          ],
          "scatterpolar": [
           {
            "marker": {
             "colorbar": {
              "outlinewidth": 0,
              "ticks": ""
             }
            },
            "type": "scatterpolar"
           }
          ],
          "scatterpolargl": [
           {
            "marker": {
             "colorbar": {
              "outlinewidth": 0,
              "ticks": ""
             }
            },
            "type": "scatterpolargl"
           }
          ],
          "scatterternary": [
           {
            "marker": {
             "colorbar": {
              "outlinewidth": 0,
              "ticks": ""
             }
            },
            "type": "scatterternary"
           }
          ],
          "surface": [
           {
            "colorbar": {
             "outlinewidth": 0,
             "ticks": ""
            },
            "colorscale": [
             [
              0,
              "#0d0887"
             ],
             [
              0.1111111111111111,
              "#46039f"
             ],
             [
              0.2222222222222222,
              "#7201a8"
             ],
             [
              0.3333333333333333,
              "#9c179e"
             ],
             [
              0.4444444444444444,
              "#bd3786"
             ],
             [
              0.5555555555555556,
              "#d8576b"
             ],
             [
              0.6666666666666666,
              "#ed7953"
             ],
             [
              0.7777777777777778,
              "#fb9f3a"
             ],
             [
              0.8888888888888888,
              "#fdca26"
             ],
             [
              1,
              "#f0f921"
             ]
            ],
            "type": "surface"
           }
          ],
          "table": [
           {
            "cells": {
             "fill": {
              "color": "#EBF0F8"
             },
             "line": {
              "color": "white"
             }
            },
            "header": {
             "fill": {
              "color": "#C8D4E3"
             },
             "line": {
              "color": "white"
             }
            },
            "type": "table"
           }
          ]
         },
         "layout": {
          "annotationdefaults": {
           "arrowcolor": "#2a3f5f",
           "arrowhead": 0,
           "arrowwidth": 1
          },
          "coloraxis": {
           "colorbar": {
            "outlinewidth": 0,
            "ticks": ""
           }
          },
          "colorscale": {
           "diverging": [
            [
             0,
             "#8e0152"
            ],
            [
             0.1,
             "#c51b7d"
            ],
            [
             0.2,
             "#de77ae"
            ],
            [
             0.3,
             "#f1b6da"
            ],
            [
             0.4,
             "#fde0ef"
            ],
            [
             0.5,
             "#f7f7f7"
            ],
            [
             0.6,
             "#e6f5d0"
            ],
            [
             0.7,
             "#b8e186"
            ],
            [
             0.8,
             "#7fbc41"
            ],
            [
             0.9,
             "#4d9221"
            ],
            [
             1,
             "#276419"
            ]
           ],
           "sequential": [
            [
             0,
             "#0d0887"
            ],
            [
             0.1111111111111111,
             "#46039f"
            ],
            [
             0.2222222222222222,
             "#7201a8"
            ],
            [
             0.3333333333333333,
             "#9c179e"
            ],
            [
             0.4444444444444444,
             "#bd3786"
            ],
            [
             0.5555555555555556,
             "#d8576b"
            ],
            [
             0.6666666666666666,
             "#ed7953"
            ],
            [
             0.7777777777777778,
             "#fb9f3a"
            ],
            [
             0.8888888888888888,
             "#fdca26"
            ],
            [
             1,
             "#f0f921"
            ]
           ],
           "sequentialminus": [
            [
             0,
             "#0d0887"
            ],
            [
             0.1111111111111111,
             "#46039f"
            ],
            [
             0.2222222222222222,
             "#7201a8"
            ],
            [
             0.3333333333333333,
             "#9c179e"
            ],
            [
             0.4444444444444444,
             "#bd3786"
            ],
            [
             0.5555555555555556,
             "#d8576b"
            ],
            [
             0.6666666666666666,
             "#ed7953"
            ],
            [
             0.7777777777777778,
             "#fb9f3a"
            ],
            [
             0.8888888888888888,
             "#fdca26"
            ],
            [
             1,
             "#f0f921"
            ]
           ]
          },
          "colorway": [
           "#636efa",
           "#EF553B",
           "#00cc96",
           "#ab63fa",
           "#FFA15A",
           "#19d3f3",
           "#FF6692",
           "#B6E880",
           "#FF97FF",
           "#FECB52"
          ],
          "font": {
           "color": "#2a3f5f"
          },
          "geo": {
           "bgcolor": "white",
           "lakecolor": "white",
           "landcolor": "#E5ECF6",
           "showlakes": true,
           "showland": true,
           "subunitcolor": "white"
          },
          "hoverlabel": {
           "align": "left"
          },
          "hovermode": "closest",
          "mapbox": {
           "style": "light"
          },
          "paper_bgcolor": "white",
          "plot_bgcolor": "#E5ECF6",
          "polar": {
           "angularaxis": {
            "gridcolor": "white",
            "linecolor": "white",
            "ticks": ""
           },
           "bgcolor": "#E5ECF6",
           "radialaxis": {
            "gridcolor": "white",
            "linecolor": "white",
            "ticks": ""
           }
          },
          "scene": {
           "xaxis": {
            "backgroundcolor": "#E5ECF6",
            "gridcolor": "white",
            "gridwidth": 2,
            "linecolor": "white",
            "showbackground": true,
            "ticks": "",
            "zerolinecolor": "white"
           },
           "yaxis": {
            "backgroundcolor": "#E5ECF6",
            "gridcolor": "white",
            "gridwidth": 2,
            "linecolor": "white",
            "showbackground": true,
            "ticks": "",
            "zerolinecolor": "white"
           },
           "zaxis": {
            "backgroundcolor": "#E5ECF6",
            "gridcolor": "white",
            "gridwidth": 2,
            "linecolor": "white",
            "showbackground": true,
            "ticks": "",
            "zerolinecolor": "white"
           }
          },
          "shapedefaults": {
           "line": {
            "color": "#2a3f5f"
           }
          },
          "ternary": {
           "aaxis": {
            "gridcolor": "white",
            "linecolor": "white",
            "ticks": ""
           },
           "baxis": {
            "gridcolor": "white",
            "linecolor": "white",
            "ticks": ""
           },
           "bgcolor": "#E5ECF6",
           "caxis": {
            "gridcolor": "white",
            "linecolor": "white",
            "ticks": ""
           }
          },
          "title": {
           "x": 0.05
          },
          "xaxis": {
           "automargin": true,
           "gridcolor": "white",
           "linecolor": "white",
           "ticks": "",
           "title": {
            "standoff": 15
           },
           "zerolinecolor": "white",
           "zerolinewidth": 2
          },
          "yaxis": {
           "automargin": true,
           "gridcolor": "white",
           "linecolor": "white",
           "ticks": "",
           "title": {
            "standoff": 15
           },
           "zerolinecolor": "white",
           "zerolinewidth": 2
          }
         }
        },
        "title": {
         "text": "Justices Along 2 Components (PCA)"
        },
        "updatemenus": [
         {
          "buttons": [
           {
            "args": [
             null,
             {
              "frame": {
               "duration": 3000,
               "redraw": false
              },
              "fromcurrent": true,
              "mode": "immediate",
              "transition": {
               "duration": 2000,
               "easing": "linear"
              }
             }
            ],
            "label": "&#9654;",
            "method": "animate"
           },
           {
            "args": [
             [
              null
             ],
             {
              "frame": {
               "duration": 0,
               "redraw": false
              },
              "fromcurrent": true,
              "mode": "immediate",
              "transition": {
               "duration": 0,
               "easing": "linear"
              }
             }
            ],
            "label": "&#9724;",
            "method": "animate"
           }
          ],
          "direction": "left",
          "pad": {
           "r": 10,
           "t": 70
          },
          "showactive": false,
          "type": "buttons",
          "x": 0.1,
          "xanchor": "right",
          "y": 0,
          "yanchor": "top"
         }
        ],
        "width": 700,
        "xaxis": {
         "anchor": "y",
         "domain": [
          0,
          1
         ],
         "title": {
          "text": "PC1"
         }
        },
        "yaxis": {
         "anchor": "x",
         "domain": [
          0,
          1
         ],
         "title": {
          "text": "PC2"
         }
        }
       }
      },
      "text/html": [
       "<div>\n",
       "        \n",
       "        \n",
       "            <div id=\"7f61bf30-a760-474a-a231-7c42bae41cde\" class=\"plotly-graph-div\" style=\"height:700px; width:700px;\"></div>\n",
       "            <script type=\"text/javascript\">\n",
       "                require([\"plotly\"], function(Plotly) {\n",
       "                    window.PLOTLYENV=window.PLOTLYENV || {};\n",
       "                    \n",
       "                if (document.getElementById(\"7f61bf30-a760-474a-a231-7c42bae41cde\")) {\n",
       "                    Plotly.newPlot(\n",
       "                        '7f61bf30-a760-474a-a231-7c42bae41cde',\n",
       "                        [{\"hovertemplate\": \"court=0<br>PC1=%{x}<br>PC2=%{y}<br>justice=%{text}<extra></extra>\", \"ids\": [\"Rehnquist\", \"O'Connor\", \"Souter\", \"Stevens\", \"Scalia\", \"Kennedy\", \"Breyer\", \"Ginsburg\", \"Thomas\"], \"legendgroup\": \"\", \"marker\": {\"color\": \"#636efa\", \"symbol\": \"circle\"}, \"mode\": \"markers+text\", \"name\": \"\", \"orientation\": \"v\", \"showlegend\": false, \"text\": [\"Rehnquist\", \"O'Connor\", \"Souter\", \"Stevens\", \"Scalia\", \"Kennedy\", \"Breyer\", \"Ginsburg\", \"Thomas\"], \"textposition\": \"top center\", \"type\": \"scatter\", \"x\": [0.9066245491982414, 0.6179224336250586, 0.07482273314549737, 0.0, 0.9986210554874646, 0.7917134283923876, 0.1146042560434426, 0.034439658817531804, 1.0], \"xaxis\": \"x\", \"y\": [0.7406947694217905, 1.0, 0.31047092661799636, 0.11999444301144996, 0.021612240232525615, 0.6438578135490457, 0.6694816789288267, 0.32475787540437334, 0.0], \"yaxis\": \"y\"}],\n",
       "                        {\"height\": 700, \"legend\": {\"tracegroupgap\": 0}, \"sliders\": [{\"active\": 0, \"currentvalue\": {\"prefix\": \"court=\"}, \"len\": 0.9, \"pad\": {\"b\": 10, \"t\": 60}, \"steps\": [{\"args\": [[\"0\"], {\"frame\": {\"duration\": 0, \"redraw\": false}, \"fromcurrent\": true, \"mode\": \"immediate\", \"transition\": {\"duration\": 0, \"easing\": \"linear\"}}], \"label\": \"0\", \"method\": \"animate\"}, {\"args\": [[\"1\"], {\"frame\": {\"duration\": 0, \"redraw\": false}, \"fromcurrent\": true, \"mode\": \"immediate\", \"transition\": {\"duration\": 0, \"easing\": \"linear\"}}], \"label\": \"1\", \"method\": \"animate\"}, {\"args\": [[\"2\"], {\"frame\": {\"duration\": 0, \"redraw\": false}, \"fromcurrent\": true, \"mode\": \"immediate\", \"transition\": {\"duration\": 0, \"easing\": \"linear\"}}], \"label\": \"2\", \"method\": \"animate\"}, {\"args\": [[\"3\"], {\"frame\": {\"duration\": 0, \"redraw\": false}, \"fromcurrent\": true, \"mode\": \"immediate\", \"transition\": {\"duration\": 0, \"easing\": \"linear\"}}], \"label\": \"3\", \"method\": \"animate\"}, {\"args\": [[\"4\"], {\"frame\": {\"duration\": 0, \"redraw\": false}, \"fromcurrent\": true, \"mode\": \"immediate\", \"transition\": {\"duration\": 0, \"easing\": \"linear\"}}], \"label\": \"4\", \"method\": \"animate\"}, {\"args\": [[\"5\"], {\"frame\": {\"duration\": 0, \"redraw\": false}, \"fromcurrent\": true, \"mode\": \"immediate\", \"transition\": {\"duration\": 0, \"easing\": \"linear\"}}], \"label\": \"5\", \"method\": \"animate\"}, {\"args\": [[\"6\"], {\"frame\": {\"duration\": 0, \"redraw\": false}, \"fromcurrent\": true, \"mode\": \"immediate\", \"transition\": {\"duration\": 0, \"easing\": \"linear\"}}], \"label\": \"6\", \"method\": \"animate\"}], \"x\": 0.1, \"xanchor\": \"left\", \"y\": 0, \"yanchor\": \"top\"}], \"template\": {\"data\": {\"bar\": [{\"error_x\": {\"color\": \"#2a3f5f\"}, \"error_y\": {\"color\": \"#2a3f5f\"}, \"marker\": {\"line\": {\"color\": \"#E5ECF6\", \"width\": 0.5}}, \"type\": \"bar\"}], \"barpolar\": [{\"marker\": {\"line\": {\"color\": \"#E5ECF6\", \"width\": 0.5}}, \"type\": \"barpolar\"}], \"carpet\": [{\"aaxis\": {\"endlinecolor\": \"#2a3f5f\", \"gridcolor\": \"white\", \"linecolor\": \"white\", \"minorgridcolor\": \"white\", \"startlinecolor\": \"#2a3f5f\"}, \"baxis\": {\"endlinecolor\": \"#2a3f5f\", \"gridcolor\": \"white\", \"linecolor\": \"white\", \"minorgridcolor\": \"white\", \"startlinecolor\": \"#2a3f5f\"}, \"type\": \"carpet\"}], \"choropleth\": [{\"colorbar\": {\"outlinewidth\": 0, \"ticks\": \"\"}, \"type\": \"choropleth\"}], \"contour\": [{\"colorbar\": {\"outlinewidth\": 0, \"ticks\": \"\"}, \"colorscale\": [[0.0, \"#0d0887\"], [0.1111111111111111, \"#46039f\"], [0.2222222222222222, \"#7201a8\"], [0.3333333333333333, \"#9c179e\"], [0.4444444444444444, \"#bd3786\"], [0.5555555555555556, \"#d8576b\"], [0.6666666666666666, \"#ed7953\"], [0.7777777777777778, \"#fb9f3a\"], [0.8888888888888888, \"#fdca26\"], [1.0, \"#f0f921\"]], \"type\": \"contour\"}], \"contourcarpet\": [{\"colorbar\": {\"outlinewidth\": 0, \"ticks\": \"\"}, \"type\": \"contourcarpet\"}], \"heatmap\": [{\"colorbar\": {\"outlinewidth\": 0, \"ticks\": \"\"}, \"colorscale\": [[0.0, \"#0d0887\"], [0.1111111111111111, \"#46039f\"], [0.2222222222222222, \"#7201a8\"], [0.3333333333333333, \"#9c179e\"], [0.4444444444444444, \"#bd3786\"], [0.5555555555555556, \"#d8576b\"], [0.6666666666666666, \"#ed7953\"], [0.7777777777777778, \"#fb9f3a\"], [0.8888888888888888, \"#fdca26\"], [1.0, \"#f0f921\"]], \"type\": \"heatmap\"}], \"heatmapgl\": [{\"colorbar\": {\"outlinewidth\": 0, \"ticks\": \"\"}, \"colorscale\": [[0.0, \"#0d0887\"], [0.1111111111111111, \"#46039f\"], [0.2222222222222222, \"#7201a8\"], [0.3333333333333333, \"#9c179e\"], [0.4444444444444444, \"#bd3786\"], [0.5555555555555556, \"#d8576b\"], [0.6666666666666666, \"#ed7953\"], [0.7777777777777778, \"#fb9f3a\"], [0.8888888888888888, \"#fdca26\"], [1.0, \"#f0f921\"]], \"type\": \"heatmapgl\"}], \"histogram\": [{\"marker\": {\"colorbar\": {\"outlinewidth\": 0, \"ticks\": \"\"}}, \"type\": \"histogram\"}], \"histogram2d\": [{\"colorbar\": {\"outlinewidth\": 0, \"ticks\": \"\"}, \"colorscale\": [[0.0, \"#0d0887\"], [0.1111111111111111, \"#46039f\"], [0.2222222222222222, \"#7201a8\"], [0.3333333333333333, \"#9c179e\"], [0.4444444444444444, \"#bd3786\"], [0.5555555555555556, \"#d8576b\"], [0.6666666666666666, \"#ed7953\"], [0.7777777777777778, \"#fb9f3a\"], [0.8888888888888888, \"#fdca26\"], [1.0, \"#f0f921\"]], \"type\": \"histogram2d\"}], \"histogram2dcontour\": [{\"colorbar\": {\"outlinewidth\": 0, \"ticks\": \"\"}, \"colorscale\": [[0.0, \"#0d0887\"], [0.1111111111111111, \"#46039f\"], [0.2222222222222222, \"#7201a8\"], [0.3333333333333333, \"#9c179e\"], [0.4444444444444444, \"#bd3786\"], [0.5555555555555556, \"#d8576b\"], [0.6666666666666666, \"#ed7953\"], [0.7777777777777778, \"#fb9f3a\"], [0.8888888888888888, \"#fdca26\"], [1.0, \"#f0f921\"]], \"type\": \"histogram2dcontour\"}], \"mesh3d\": [{\"colorbar\": {\"outlinewidth\": 0, \"ticks\": \"\"}, \"type\": \"mesh3d\"}], \"parcoords\": [{\"line\": {\"colorbar\": {\"outlinewidth\": 0, \"ticks\": \"\"}}, \"type\": \"parcoords\"}], \"pie\": [{\"automargin\": true, \"type\": \"pie\"}], \"scatter\": [{\"marker\": {\"colorbar\": {\"outlinewidth\": 0, \"ticks\": \"\"}}, \"type\": \"scatter\"}], \"scatter3d\": [{\"line\": {\"colorbar\": {\"outlinewidth\": 0, \"ticks\": \"\"}}, \"marker\": {\"colorbar\": {\"outlinewidth\": 0, \"ticks\": \"\"}}, \"type\": \"scatter3d\"}], \"scattercarpet\": [{\"marker\": {\"colorbar\": {\"outlinewidth\": 0, \"ticks\": \"\"}}, \"type\": \"scattercarpet\"}], \"scattergeo\": [{\"marker\": {\"colorbar\": {\"outlinewidth\": 0, \"ticks\": \"\"}}, \"type\": \"scattergeo\"}], \"scattergl\": [{\"marker\": {\"colorbar\": {\"outlinewidth\": 0, \"ticks\": \"\"}}, \"type\": \"scattergl\"}], \"scattermapbox\": [{\"marker\": {\"colorbar\": {\"outlinewidth\": 0, \"ticks\": \"\"}}, \"type\": \"scattermapbox\"}], \"scatterpolar\": [{\"marker\": {\"colorbar\": {\"outlinewidth\": 0, \"ticks\": \"\"}}, \"type\": \"scatterpolar\"}], \"scatterpolargl\": [{\"marker\": {\"colorbar\": {\"outlinewidth\": 0, \"ticks\": \"\"}}, \"type\": \"scatterpolargl\"}], \"scatterternary\": [{\"marker\": {\"colorbar\": {\"outlinewidth\": 0, \"ticks\": \"\"}}, \"type\": \"scatterternary\"}], \"surface\": [{\"colorbar\": {\"outlinewidth\": 0, \"ticks\": \"\"}, \"colorscale\": [[0.0, \"#0d0887\"], [0.1111111111111111, \"#46039f\"], [0.2222222222222222, \"#7201a8\"], [0.3333333333333333, \"#9c179e\"], [0.4444444444444444, \"#bd3786\"], [0.5555555555555556, \"#d8576b\"], [0.6666666666666666, \"#ed7953\"], [0.7777777777777778, \"#fb9f3a\"], [0.8888888888888888, \"#fdca26\"], [1.0, \"#f0f921\"]], \"type\": \"surface\"}], \"table\": [{\"cells\": {\"fill\": {\"color\": \"#EBF0F8\"}, \"line\": {\"color\": \"white\"}}, \"header\": {\"fill\": {\"color\": \"#C8D4E3\"}, \"line\": {\"color\": \"white\"}}, \"type\": \"table\"}]}, \"layout\": {\"annotationdefaults\": {\"arrowcolor\": \"#2a3f5f\", \"arrowhead\": 0, \"arrowwidth\": 1}, \"coloraxis\": {\"colorbar\": {\"outlinewidth\": 0, \"ticks\": \"\"}}, \"colorscale\": {\"diverging\": [[0, \"#8e0152\"], [0.1, \"#c51b7d\"], [0.2, \"#de77ae\"], [0.3, \"#f1b6da\"], [0.4, \"#fde0ef\"], [0.5, \"#f7f7f7\"], [0.6, \"#e6f5d0\"], [0.7, \"#b8e186\"], [0.8, \"#7fbc41\"], [0.9, \"#4d9221\"], [1, \"#276419\"]], \"sequential\": [[0.0, \"#0d0887\"], [0.1111111111111111, \"#46039f\"], [0.2222222222222222, \"#7201a8\"], [0.3333333333333333, \"#9c179e\"], [0.4444444444444444, \"#bd3786\"], [0.5555555555555556, \"#d8576b\"], [0.6666666666666666, \"#ed7953\"], [0.7777777777777778, \"#fb9f3a\"], [0.8888888888888888, \"#fdca26\"], [1.0, \"#f0f921\"]], \"sequentialminus\": [[0.0, \"#0d0887\"], [0.1111111111111111, \"#46039f\"], [0.2222222222222222, \"#7201a8\"], [0.3333333333333333, \"#9c179e\"], [0.4444444444444444, \"#bd3786\"], [0.5555555555555556, \"#d8576b\"], [0.6666666666666666, \"#ed7953\"], [0.7777777777777778, \"#fb9f3a\"], [0.8888888888888888, \"#fdca26\"], [1.0, \"#f0f921\"]]}, \"colorway\": [\"#636efa\", \"#EF553B\", \"#00cc96\", \"#ab63fa\", \"#FFA15A\", \"#19d3f3\", \"#FF6692\", \"#B6E880\", \"#FF97FF\", \"#FECB52\"], \"font\": {\"color\": \"#2a3f5f\"}, \"geo\": {\"bgcolor\": \"white\", \"lakecolor\": \"white\", \"landcolor\": \"#E5ECF6\", \"showlakes\": true, \"showland\": true, \"subunitcolor\": \"white\"}, \"hoverlabel\": {\"align\": \"left\"}, \"hovermode\": \"closest\", \"mapbox\": {\"style\": \"light\"}, \"paper_bgcolor\": \"white\", \"plot_bgcolor\": \"#E5ECF6\", \"polar\": {\"angularaxis\": {\"gridcolor\": \"white\", \"linecolor\": \"white\", \"ticks\": \"\"}, \"bgcolor\": \"#E5ECF6\", \"radialaxis\": {\"gridcolor\": \"white\", \"linecolor\": \"white\", \"ticks\": \"\"}}, \"scene\": {\"xaxis\": {\"backgroundcolor\": \"#E5ECF6\", \"gridcolor\": \"white\", \"gridwidth\": 2, \"linecolor\": \"white\", \"showbackground\": true, \"ticks\": \"\", \"zerolinecolor\": \"white\"}, \"yaxis\": {\"backgroundcolor\": \"#E5ECF6\", \"gridcolor\": \"white\", \"gridwidth\": 2, \"linecolor\": \"white\", \"showbackground\": true, \"ticks\": \"\", \"zerolinecolor\": \"white\"}, \"zaxis\": {\"backgroundcolor\": \"#E5ECF6\", \"gridcolor\": \"white\", \"gridwidth\": 2, \"linecolor\": \"white\", \"showbackground\": true, \"ticks\": \"\", \"zerolinecolor\": \"white\"}}, \"shapedefaults\": {\"line\": {\"color\": \"#2a3f5f\"}}, \"ternary\": {\"aaxis\": {\"gridcolor\": \"white\", \"linecolor\": \"white\", \"ticks\": \"\"}, \"baxis\": {\"gridcolor\": \"white\", \"linecolor\": \"white\", \"ticks\": \"\"}, \"bgcolor\": \"#E5ECF6\", \"caxis\": {\"gridcolor\": \"white\", \"linecolor\": \"white\", \"ticks\": \"\"}}, \"title\": {\"x\": 0.05}, \"xaxis\": {\"automargin\": true, \"gridcolor\": \"white\", \"linecolor\": \"white\", \"ticks\": \"\", \"title\": {\"standoff\": 15}, \"zerolinecolor\": \"white\", \"zerolinewidth\": 2}, \"yaxis\": {\"automargin\": true, \"gridcolor\": \"white\", \"linecolor\": \"white\", \"ticks\": \"\", \"title\": {\"standoff\": 15}, \"zerolinecolor\": \"white\", \"zerolinewidth\": 2}}}, \"title\": {\"text\": \"Justices Along 2 Components (PCA)\"}, \"updatemenus\": [{\"buttons\": [{\"args\": [null, {\"frame\": {\"duration\": 3000, \"redraw\": false}, \"fromcurrent\": true, \"mode\": \"immediate\", \"transition\": {\"duration\": 2000, \"easing\": \"linear\"}}], \"label\": \"&#9654;\", \"method\": \"animate\"}, {\"args\": [[null], {\"frame\": {\"duration\": 0, \"redraw\": false}, \"fromcurrent\": true, \"mode\": \"immediate\", \"transition\": {\"duration\": 0, \"easing\": \"linear\"}}], \"label\": \"&#9724;\", \"method\": \"animate\"}], \"direction\": \"left\", \"pad\": {\"r\": 10, \"t\": 70}, \"showactive\": false, \"type\": \"buttons\", \"x\": 0.1, \"xanchor\": \"right\", \"y\": 0, \"yanchor\": \"top\"}], \"width\": 700, \"xaxis\": {\"anchor\": \"y\", \"domain\": [0.0, 1.0], \"title\": {\"text\": \"PC1\"}}, \"yaxis\": {\"anchor\": \"x\", \"domain\": [0.0, 1.0], \"title\": {\"text\": \"PC2\"}}},\n",
       "                        {\"responsive\": true}\n",
       "                    ).then(function(){\n",
       "                            Plotly.addFrames('7f61bf30-a760-474a-a231-7c42bae41cde', [{\"data\": [{\"hovertemplate\": \"court=0<br>PC1=%{x}<br>PC2=%{y}<br>justice=%{text}<extra></extra>\", \"ids\": [\"Rehnquist\", \"O'Connor\", \"Souter\", \"Stevens\", \"Scalia\", \"Kennedy\", \"Breyer\", \"Ginsburg\", \"Thomas\"], \"legendgroup\": \"\", \"marker\": {\"color\": \"#636efa\", \"symbol\": \"circle\"}, \"mode\": \"markers+text\", \"name\": \"\", \"orientation\": \"v\", \"showlegend\": false, \"text\": [\"Rehnquist\", \"O'Connor\", \"Souter\", \"Stevens\", \"Scalia\", \"Kennedy\", \"Breyer\", \"Ginsburg\", \"Thomas\"], \"x\": [0.9066245491982414, 0.6179224336250586, 0.07482273314549737, 0.0, 0.9986210554874646, 0.7917134283923876, 0.1146042560434426, 0.034439658817531804, 1.0], \"xaxis\": \"x\", \"y\": [0.7406947694217905, 1.0, 0.31047092661799636, 0.11999444301144996, 0.021612240232525615, 0.6438578135490457, 0.6694816789288267, 0.32475787540437334, 0.0], \"yaxis\": \"y\", \"type\": \"scatter\"}], \"name\": \"0\"}, {\"data\": [{\"hovertemplate\": \"court=1<br>PC1=%{x}<br>PC2=%{y}<br>justice=%{text}<extra></extra>\", \"ids\": [\"O'Connor\", \"Souter\", \"Stevens\", \"Scalia\", \"Kennedy\", \"Breyer\", \"Ginsburg\", \"Thomas\", \"Roberts\"], \"legendgroup\": \"\", \"marker\": {\"color\": \"#636efa\", \"symbol\": \"circle\"}, \"mode\": \"markers+text\", \"name\": \"\", \"orientation\": \"v\", \"showlegend\": false, \"text\": [\"O'Connor\", \"Souter\", \"Stevens\", \"Scalia\", \"Kennedy\", \"Breyer\", \"Ginsburg\", \"Thomas\", \"Roberts\"], \"x\": [0.3630555928721626, 0.06063654178870648, 0.017190255892203687, 0.9772091429596692, 0.5626756285840355, 0.060636541788706644, 0.0, 1.0, 0.9772091429596692], \"xaxis\": \"x\", \"y\": [0.10805906130726656, 0.0, 0.38687593951640786, 0.13083221988270755, 1.0, 0.0, 0.3558120603656727, 0.14265863772819543, 0.13083221988270755], \"yaxis\": \"y\", \"type\": \"scatter\"}], \"name\": \"1\"}, {\"data\": [{\"hovertemplate\": \"court=2<br>PC1=%{x}<br>PC2=%{y}<br>justice=%{text}<extra></extra>\", \"ids\": [\"Souter\", \"Stevens\", \"Scalia\", \"Kennedy\", \"Breyer\", \"Ginsburg\", \"Thomas\", \"Roberts\", \"Alito\"], \"legendgroup\": \"\", \"marker\": {\"color\": \"#636efa\", \"symbol\": \"circle\"}, \"mode\": \"markers+text\", \"name\": \"\", \"orientation\": \"v\", \"showlegend\": false, \"text\": [\"Souter\", \"Stevens\", \"Scalia\", \"Kennedy\", \"Breyer\", \"Ginsburg\", \"Thomas\", \"Roberts\", \"Alito\"], \"x\": [0.0979949859975775, 0.0, 0.9724871015777683, 0.6997108107701846, 0.15318609676028244, 0.06785178775643269, 1.0, 0.9201830789352115, 0.9444599121656501], \"xaxis\": \"x\", \"y\": [0.3103731188878842, 0.3063500148574869, 0.10163732415345472, 1.0, 0.7309905754012396, 0.25943281246737454, 0.0, 0.5821946238604745, 0.6948228363860147], \"yaxis\": \"y\", \"type\": \"scatter\"}], \"name\": \"2\"}, {\"data\": [{\"hovertemplate\": \"court=3<br>PC1=%{x}<br>PC2=%{y}<br>justice=%{text}<extra></extra>\", \"ids\": [\"Stevens\", \"Scalia\", \"Kennedy\", \"Breyer\", \"Ginsburg\", \"Thomas\", \"Roberts\", \"Alito\", \"Sotomayor\"], \"legendgroup\": \"\", \"marker\": {\"color\": \"#636efa\", \"symbol\": \"circle\"}, \"mode\": \"markers+text\", \"name\": \"\", \"orientation\": \"v\", \"showlegend\": false, \"text\": [\"Stevens\", \"Scalia\", \"Kennedy\", \"Breyer\", \"Ginsburg\", \"Thomas\", \"Roberts\", \"Alito\", \"Sotomayor\"], \"x\": [0.0351859601765232, 0.9999999999999998, 0.5502437424109597, 0.01123686025034476, 0.06587074187928749, 0.9892849810984732, 0.7671665241937513, 0.8805998467817625, 0.0], \"xaxis\": \"x\", \"y\": [0.1655255146722156, 0.1921516773236281, 1.0, 0.4009914799708051, 0.6623523787147656, 0.0, 0.6928459043336501, 0.752300834662001, 0.30009907463472557], \"yaxis\": \"y\", \"type\": \"scatter\"}], \"name\": \"3\"}, {\"data\": [{\"hovertemplate\": \"court=4<br>PC1=%{x}<br>PC2=%{y}<br>justice=%{text}<extra></extra>\", \"ids\": [\"Scalia\", \"Kennedy\", \"Breyer\", \"Ginsburg\", \"Thomas\", \"Roberts\", \"Alito\", \"Sotomayor\", \"Kagan\"], \"legendgroup\": \"\", \"marker\": {\"color\": \"#636efa\", \"symbol\": \"circle\"}, \"mode\": \"markers+text\", \"name\": \"\", \"orientation\": \"v\", \"showlegend\": false, \"text\": [\"Scalia\", \"Kennedy\", \"Breyer\", \"Ginsburg\", \"Thomas\", \"Roberts\", \"Alito\", \"Sotomayor\", \"Kagan\"], \"x\": [0.9416297119062715, 0.5799623719418217, 0.09702574004182651, 0.0, 1.0, 0.8702715742308946, 0.9975231308007415, 0.044291139981099126, 0.06789198635330329], \"xaxis\": \"x\", \"y\": [0.0, 1.0, 0.5163253737880833, 0.08476493481896713, 0.04200963350521009, 0.47939898558259186, 0.4578028661502975, 0.2804156901370134, 0.21817871624823132], \"yaxis\": \"y\", \"type\": \"scatter\"}], \"name\": \"4\"}, {\"data\": [{\"hovertemplate\": \"court=5<br>PC1=%{x}<br>PC2=%{y}<br>justice=%{text}<extra></extra>\", \"ids\": [\"Kennedy\", \"Breyer\", \"Ginsburg\", \"Thomas\", \"Roberts\", \"Alito\", \"Sotomayor\", \"Kagan\", \"Gorsuch\"], \"legendgroup\": \"\", \"marker\": {\"color\": \"#636efa\", \"symbol\": \"circle\"}, \"mode\": \"markers+text\", \"name\": \"\", \"orientation\": \"v\", \"showlegend\": false, \"text\": [\"Kennedy\", \"Breyer\", \"Ginsburg\", \"Thomas\", \"Roberts\", \"Alito\", \"Sotomayor\", \"Kagan\", \"Gorsuch\"], \"x\": [0.7413800750380025, 0.050359581449649415, 0.05182616942938123, 0.9992420986122716, 0.700360975415212, 1.0, 0.0, 0.1200498206747439, 0.9061014445631624], \"xaxis\": \"x\", \"y\": [0.8527163739619184, 0.3344799561157381, 0.3145074740598967, 0.0004126274860275503, 1.0, 0.0, 0.325673129049798, 0.29609866801759943, 0.46273750413450476], \"yaxis\": \"y\", \"type\": \"scatter\"}], \"name\": \"5\"}, {\"data\": [{\"hovertemplate\": \"court=6<br>PC1=%{x}<br>PC2=%{y}<br>justice=%{text}<extra></extra>\", \"ids\": [\"Breyer\", \"Ginsburg\", \"Thomas\", \"Roberts\", \"Alito\", \"Sotomayor\", \"Kagan\", \"Gorsuch\", \"Kavanaugh\"], \"legendgroup\": \"\", \"marker\": {\"color\": \"#636efa\", \"symbol\": \"circle\"}, \"mode\": \"markers+text\", \"name\": \"\", \"orientation\": \"v\", \"showlegend\": false, \"text\": [\"Breyer\", \"Ginsburg\", \"Thomas\", \"Roberts\", \"Alito\", \"Sotomayor\", \"Kagan\", \"Gorsuch\", \"Kavanaugh\"], \"x\": [0.09326315113214906, 0.033776982214826945, 0.9999999999999999, 0.692982835488233, 0.9630945389082195, 0.0, 0.09688292598246284, 0.7548505276000882, 0.726794011533905], \"xaxis\": \"x\", \"y\": [0.7085308881792528, 0.44455698945440186, 0.21727301327124426, 1.0, 0.6823505911869422, 0.3810021854544464, 0.531988508716561, 0.0, 0.91600924657752], \"yaxis\": \"y\", \"type\": \"scatter\"}], \"name\": \"6\"}]);\n",
       "                        }).then(function(){\n",
       "                            \n",
       "var gd = document.getElementById('7f61bf30-a760-474a-a231-7c42bae41cde');\n",
       "var x = new MutationObserver(function (mutations, observer) {{\n",
       "        var display = window.getComputedStyle(gd).display;\n",
       "        if (!display || display === 'none') {{\n",
       "            console.log([gd, 'removed!']);\n",
       "            Plotly.purge(gd);\n",
       "            observer.disconnect();\n",
       "        }}\n",
       "}});\n",
       "\n",
       "// Listen for the removal of the full notebook cells\n",
       "var notebookContainer = gd.closest('#notebook-container');\n",
       "if (notebookContainer) {{\n",
       "    x.observe(notebookContainer, {childList: true});\n",
       "}}\n",
       "\n",
       "// Listen for the clearing of the current output cell\n",
       "var outputEl = gd.closest('.output');\n",
       "if (outputEl) {{\n",
       "    x.observe(outputEl, {childList: true});\n",
       "}}\n",
       "\n",
       "                        })\n",
       "                };\n",
       "                });\n",
       "            </script>\n",
       "        </div>"
      ]
     },
     "metadata": {},
     "output_type": "display_data"
    }
   ],
   "source": [
    "animated_2comp(pcas)"
   ]
  },
  {
   "cell_type": "code",
   "execution_count": null,
   "metadata": {},
   "outputs": [],
   "source": []
  }
 ],
 "metadata": {
  "kernelspec": {
   "display_name": "scotus",
   "language": "python",
   "name": "scotus"
  },
  "language_info": {
   "codemirror_mode": {
    "name": "ipython",
    "version": 3
   },
   "file_extension": ".py",
   "mimetype": "text/x-python",
   "name": "python",
   "nbconvert_exporter": "python",
   "pygments_lexer": "ipython3",
   "version": "3.7.4"
  },
  "toc": {
   "base_numbering": 1,
   "nav_menu": {},
   "number_sections": true,
   "sideBar": true,
   "skip_h1_title": false,
   "title_cell": "Table of Contents",
   "title_sidebar": "Contents",
   "toc_cell": false,
   "toc_position": {},
   "toc_section_display": true,
   "toc_window_display": false
  }
 },
 "nbformat": 4,
 "nbformat_minor": 4
}
