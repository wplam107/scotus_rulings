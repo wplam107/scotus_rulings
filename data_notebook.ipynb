{
 "cells": [
  {
   "cell_type": "markdown",
   "metadata": {},
   "source": [
    "# Data Functions for EDA and App\n",
    "Notebook walking through functions with example"
   ]
  },
  {
   "cell_type": "code",
   "execution_count": 123,
   "metadata": {
    "ExecuteTime": {
     "end_time": "2020-07-23T22:36:39.186724Z",
     "start_time": "2020-07-23T22:36:39.181477Z"
    }
   },
   "outputs": [],
   "source": [
    "# Standard imports\n",
    "import numpy as np\n",
    "import pandas as pd\n",
    "import pickle\n",
    "\n",
    "# sklearn imports\n",
    "from sklearn.metrics.pairwise import cosine_similarity\n",
    "from sklearn.decomposition import PCA\n",
    "from sklearn.preprocessing import MinMaxScaler\n",
    "\n",
    "# Plotting imports\n",
    "import plotly.graph_objects as go\n",
    "import plotly.express as px\n",
    "import networkx as nx"
   ]
  },
  {
   "cell_type": "code",
   "execution_count": 2,
   "metadata": {
    "ExecuteTime": {
     "end_time": "2020-07-22T22:18:20.175745Z",
     "start_time": "2020-07-22T22:18:20.166253Z"
    }
   },
   "outputs": [],
   "source": [
    "# Binary\n",
    "with open('./app/data/adj_df.p', 'rb') as f:\n",
    "    df1 = pickle.load(f)\n",
    "\n",
    "# Multiclass\n",
    "with open('./app/data/mul_df.p', 'rb') as f:\n",
    "    df2 = pickle.load(f)"
   ]
  },
  {
   "cell_type": "markdown",
   "metadata": {},
   "source": [
    "## Functions for persistent variables\n",
    "Below are functions to create a list of the different courts between 1999 and 2019."
   ]
  },
  {
   "cell_type": "code",
   "execution_count": 26,
   "metadata": {
    "ExecuteTime": {
     "end_time": "2020-07-23T15:35:40.883617Z",
     "start_time": "2020-07-23T15:35:40.844132Z"
    }
   },
   "outputs": [],
   "source": [
    "# Helper function to get sorted list of justices\n",
    "def justice_terms(df):\n",
    "    justices = list(df.index)\n",
    "    justices_by_cases = []\n",
    "    for justice in justices:\n",
    "        first_case = min(df.loc[justice].dropna().index)\n",
    "        last_case = max(df.loc[justice].dropna().index)\n",
    "        case_range = (first_case, last_case)\n",
    "        justices_by_cases.append((justice, case_range))\n",
    "    justices_by_cases.sort(key=lambda x: (x[1][0], x[1][1]))\n",
    "    return [ justice[0] for justice in justices_by_cases ]\n",
    "\n",
    "def get_courts(df):\n",
    "    '''\n",
    "    Returns list of different court compositions\n",
    "    '''\n",
    "    courts = []\n",
    "    justices = justice_terms(df)\n",
    "    i = 0\n",
    "    j = 9\n",
    "    while j <= len(df.index):\n",
    "        court = justices[i:j]\n",
    "        courts.append(court)\n",
    "        i += 1\n",
    "        j += 1\n",
    "    return courts"
   ]
  },
  {
   "cell_type": "code",
   "execution_count": 27,
   "metadata": {
    "ExecuteTime": {
     "end_time": "2020-07-23T15:35:41.356514Z",
     "start_time": "2020-07-23T15:35:41.263580Z"
    },
    "scrolled": true
   },
   "outputs": [
    {
     "name": "stdout",
     "output_type": "stream",
     "text": [
      "['Rehnquist', \"O'Connor\", 'Souter', 'Stevens', 'Scalia', 'Kennedy', 'Breyer', 'Ginsburg', 'Thomas']\n",
      "[\"O'Connor\", 'Souter', 'Stevens', 'Scalia', 'Kennedy', 'Breyer', 'Ginsburg', 'Thomas', 'Roberts']\n",
      "['Souter', 'Stevens', 'Scalia', 'Kennedy', 'Breyer', 'Ginsburg', 'Thomas', 'Roberts', 'Alito']\n",
      "['Stevens', 'Scalia', 'Kennedy', 'Breyer', 'Ginsburg', 'Thomas', 'Roberts', 'Alito', 'Sotomayor']\n",
      "['Scalia', 'Kennedy', 'Breyer', 'Ginsburg', 'Thomas', 'Roberts', 'Alito', 'Sotomayor', 'Kagan']\n",
      "['Kennedy', 'Breyer', 'Ginsburg', 'Thomas', 'Roberts', 'Alito', 'Sotomayor', 'Kagan', 'Gorsuch']\n",
      "['Breyer', 'Ginsburg', 'Thomas', 'Roberts', 'Alito', 'Sotomayor', 'Kagan', 'Gorsuch', 'Kavanaugh']\n"
     ]
    }
   ],
   "source": [
    "# All courts between 1999 and 2019\n",
    "all_courts = get_courts(df2)\n",
    "for court in all_courts:\n",
    "    print(court)"
   ]
  },
  {
   "cell_type": "markdown",
   "metadata": {},
   "source": [
    "## Functions to get data for courts"
   ]
  },
  {
   "cell_type": "code",
   "execution_count": 34,
   "metadata": {
    "ExecuteTime": {
     "end_time": "2020-07-23T15:46:38.963162Z",
     "start_time": "2020-07-23T15:46:38.955560Z"
    }
   },
   "outputs": [],
   "source": [
    "def get_opinions(df, court):\n",
    "    '''\n",
    "    Returns numpy array of a particular court's opinions dropping columns with NaN values\n",
    "    '''\n",
    "    return np.array(df.loc[court].dropna(axis=1))"
   ]
  },
  {
   "cell_type": "code",
   "execution_count": 36,
   "metadata": {
    "ExecuteTime": {
     "end_time": "2020-07-23T15:48:04.695043Z",
     "start_time": "2020-07-23T15:48:04.684201Z"
    }
   },
   "outputs": [
    {
     "data": {
      "text/plain": [
       "array([[ 2.,  2.,  2., ..., -2.,  2.,  2.],\n",
       "       [ 2.,  2.,  2., ...,  2.,  2.,  2.],\n",
       "       [ 2.,  2.,  2., ...,  2.,  2., -2.],\n",
       "       ...,\n",
       "       [ 2.,  2.,  2., ...,  2.,  2.,  2.],\n",
       "       [ 2.,  2.,  2., ...,  2.,  2., -2.],\n",
       "       [ 2.,  2.,  2., ..., -2.,  2.,  2.]])"
      ]
     },
     "execution_count": 36,
     "metadata": {},
     "output_type": "execute_result"
    }
   ],
   "source": [
    "# Opinions as a numpy array\n",
    "first = get_opinions(df2, all_courts[0])\n",
    "first"
   ]
  },
  {
   "cell_type": "code",
   "execution_count": 37,
   "metadata": {
    "ExecuteTime": {
     "end_time": "2020-07-23T15:48:14.536207Z",
     "start_time": "2020-07-23T15:48:14.503926Z"
    }
   },
   "outputs": [
    {
     "data": {
      "text/html": [
       "<div>\n",
       "<style scoped>\n",
       "    .dataframe tbody tr th:only-of-type {\n",
       "        vertical-align: middle;\n",
       "    }\n",
       "\n",
       "    .dataframe tbody tr th {\n",
       "        vertical-align: top;\n",
       "    }\n",
       "\n",
       "    .dataframe thead th {\n",
       "        text-align: right;\n",
       "    }\n",
       "</style>\n",
       "<table border=\"1\" class=\"dataframe\">\n",
       "  <thead>\n",
       "    <tr style=\"text-align: right;\">\n",
       "      <th></th>\n",
       "      <th>0</th>\n",
       "      <th>1</th>\n",
       "      <th>2</th>\n",
       "      <th>3</th>\n",
       "      <th>4</th>\n",
       "      <th>5</th>\n",
       "      <th>6</th>\n",
       "      <th>7</th>\n",
       "      <th>8</th>\n",
       "      <th>9</th>\n",
       "      <th>...</th>\n",
       "      <th>455</th>\n",
       "      <th>456</th>\n",
       "      <th>457</th>\n",
       "      <th>458</th>\n",
       "      <th>459</th>\n",
       "      <th>460</th>\n",
       "      <th>461</th>\n",
       "      <th>462</th>\n",
       "      <th>463</th>\n",
       "      <th>464</th>\n",
       "    </tr>\n",
       "  </thead>\n",
       "  <tbody>\n",
       "    <tr>\n",
       "      <td>Rehnquist</td>\n",
       "      <td>2.0</td>\n",
       "      <td>2.0</td>\n",
       "      <td>2.0</td>\n",
       "      <td>2.0</td>\n",
       "      <td>2.0</td>\n",
       "      <td>2.0</td>\n",
       "      <td>2.0</td>\n",
       "      <td>2.0</td>\n",
       "      <td>2.0</td>\n",
       "      <td>2.0</td>\n",
       "      <td>...</td>\n",
       "      <td>2.0</td>\n",
       "      <td>2.0</td>\n",
       "      <td>-2.0</td>\n",
       "      <td>2.0</td>\n",
       "      <td>2.0</td>\n",
       "      <td>2.0</td>\n",
       "      <td>2.0</td>\n",
       "      <td>-2.0</td>\n",
       "      <td>2.0</td>\n",
       "      <td>2.0</td>\n",
       "    </tr>\n",
       "    <tr>\n",
       "      <td>O'Connor</td>\n",
       "      <td>2.0</td>\n",
       "      <td>2.0</td>\n",
       "      <td>2.0</td>\n",
       "      <td>2.0</td>\n",
       "      <td>2.0</td>\n",
       "      <td>2.0</td>\n",
       "      <td>2.0</td>\n",
       "      <td>2.0</td>\n",
       "      <td>2.0</td>\n",
       "      <td>2.0</td>\n",
       "      <td>...</td>\n",
       "      <td>-2.0</td>\n",
       "      <td>2.0</td>\n",
       "      <td>2.0</td>\n",
       "      <td>2.0</td>\n",
       "      <td>-2.0</td>\n",
       "      <td>2.0</td>\n",
       "      <td>2.0</td>\n",
       "      <td>2.0</td>\n",
       "      <td>2.0</td>\n",
       "      <td>2.0</td>\n",
       "    </tr>\n",
       "    <tr>\n",
       "      <td>Souter</td>\n",
       "      <td>2.0</td>\n",
       "      <td>2.0</td>\n",
       "      <td>2.0</td>\n",
       "      <td>2.0</td>\n",
       "      <td>2.0</td>\n",
       "      <td>2.0</td>\n",
       "      <td>2.0</td>\n",
       "      <td>2.0</td>\n",
       "      <td>2.0</td>\n",
       "      <td>2.0</td>\n",
       "      <td>...</td>\n",
       "      <td>2.0</td>\n",
       "      <td>2.0</td>\n",
       "      <td>2.0</td>\n",
       "      <td>-2.0</td>\n",
       "      <td>-2.0</td>\n",
       "      <td>2.0</td>\n",
       "      <td>-2.0</td>\n",
       "      <td>2.0</td>\n",
       "      <td>2.0</td>\n",
       "      <td>-2.0</td>\n",
       "    </tr>\n",
       "    <tr>\n",
       "      <td>Stevens</td>\n",
       "      <td>-2.0</td>\n",
       "      <td>-2.0</td>\n",
       "      <td>-2.0</td>\n",
       "      <td>-2.0</td>\n",
       "      <td>-2.0</td>\n",
       "      <td>2.0</td>\n",
       "      <td>-2.0</td>\n",
       "      <td>2.0</td>\n",
       "      <td>2.0</td>\n",
       "      <td>-2.0</td>\n",
       "      <td>...</td>\n",
       "      <td>-2.0</td>\n",
       "      <td>2.0</td>\n",
       "      <td>2.0</td>\n",
       "      <td>-2.0</td>\n",
       "      <td>-2.0</td>\n",
       "      <td>-2.0</td>\n",
       "      <td>-2.0</td>\n",
       "      <td>2.0</td>\n",
       "      <td>2.0</td>\n",
       "      <td>2.0</td>\n",
       "    </tr>\n",
       "    <tr>\n",
       "      <td>Scalia</td>\n",
       "      <td>2.0</td>\n",
       "      <td>2.0</td>\n",
       "      <td>2.0</td>\n",
       "      <td>2.0</td>\n",
       "      <td>2.0</td>\n",
       "      <td>2.0</td>\n",
       "      <td>2.0</td>\n",
       "      <td>2.0</td>\n",
       "      <td>2.0</td>\n",
       "      <td>2.0</td>\n",
       "      <td>...</td>\n",
       "      <td>2.0</td>\n",
       "      <td>2.0</td>\n",
       "      <td>-2.0</td>\n",
       "      <td>2.0</td>\n",
       "      <td>2.0</td>\n",
       "      <td>2.0</td>\n",
       "      <td>2.0</td>\n",
       "      <td>-2.0</td>\n",
       "      <td>2.0</td>\n",
       "      <td>-2.0</td>\n",
       "    </tr>\n",
       "    <tr>\n",
       "      <td>Kennedy</td>\n",
       "      <td>2.0</td>\n",
       "      <td>2.0</td>\n",
       "      <td>2.0</td>\n",
       "      <td>2.0</td>\n",
       "      <td>2.0</td>\n",
       "      <td>2.0</td>\n",
       "      <td>2.0</td>\n",
       "      <td>2.0</td>\n",
       "      <td>2.0</td>\n",
       "      <td>-2.0</td>\n",
       "      <td>...</td>\n",
       "      <td>2.0</td>\n",
       "      <td>2.0</td>\n",
       "      <td>2.0</td>\n",
       "      <td>2.0</td>\n",
       "      <td>2.0</td>\n",
       "      <td>2.0</td>\n",
       "      <td>2.0</td>\n",
       "      <td>-2.0</td>\n",
       "      <td>2.0</td>\n",
       "      <td>2.0</td>\n",
       "    </tr>\n",
       "    <tr>\n",
       "      <td>Breyer</td>\n",
       "      <td>2.0</td>\n",
       "      <td>2.0</td>\n",
       "      <td>2.0</td>\n",
       "      <td>2.0</td>\n",
       "      <td>2.0</td>\n",
       "      <td>2.0</td>\n",
       "      <td>2.0</td>\n",
       "      <td>2.0</td>\n",
       "      <td>2.0</td>\n",
       "      <td>2.0</td>\n",
       "      <td>...</td>\n",
       "      <td>-2.0</td>\n",
       "      <td>2.0</td>\n",
       "      <td>2.0</td>\n",
       "      <td>2.0</td>\n",
       "      <td>1.0</td>\n",
       "      <td>2.0</td>\n",
       "      <td>-2.0</td>\n",
       "      <td>2.0</td>\n",
       "      <td>2.0</td>\n",
       "      <td>2.0</td>\n",
       "    </tr>\n",
       "    <tr>\n",
       "      <td>Ginsburg</td>\n",
       "      <td>2.0</td>\n",
       "      <td>2.0</td>\n",
       "      <td>2.0</td>\n",
       "      <td>2.0</td>\n",
       "      <td>2.0</td>\n",
       "      <td>2.0</td>\n",
       "      <td>2.0</td>\n",
       "      <td>2.0</td>\n",
       "      <td>2.0</td>\n",
       "      <td>2.0</td>\n",
       "      <td>...</td>\n",
       "      <td>-2.0</td>\n",
       "      <td>2.0</td>\n",
       "      <td>2.0</td>\n",
       "      <td>2.0</td>\n",
       "      <td>-2.0</td>\n",
       "      <td>-2.0</td>\n",
       "      <td>-2.0</td>\n",
       "      <td>2.0</td>\n",
       "      <td>2.0</td>\n",
       "      <td>-2.0</td>\n",
       "    </tr>\n",
       "    <tr>\n",
       "      <td>Thomas</td>\n",
       "      <td>2.0</td>\n",
       "      <td>2.0</td>\n",
       "      <td>2.0</td>\n",
       "      <td>2.0</td>\n",
       "      <td>2.0</td>\n",
       "      <td>2.0</td>\n",
       "      <td>2.0</td>\n",
       "      <td>2.0</td>\n",
       "      <td>2.0</td>\n",
       "      <td>2.0</td>\n",
       "      <td>...</td>\n",
       "      <td>2.0</td>\n",
       "      <td>2.0</td>\n",
       "      <td>-2.0</td>\n",
       "      <td>2.0</td>\n",
       "      <td>2.0</td>\n",
       "      <td>2.0</td>\n",
       "      <td>2.0</td>\n",
       "      <td>-2.0</td>\n",
       "      <td>2.0</td>\n",
       "      <td>2.0</td>\n",
       "    </tr>\n",
       "  </tbody>\n",
       "</table>\n",
       "<p>9 rows × 465 columns</p>\n",
       "</div>"
      ],
      "text/plain": [
       "           0    1    2    3    4    5    6    7    8    9    ...  455  456  \\\n",
       "Rehnquist  2.0  2.0  2.0  2.0  2.0  2.0  2.0  2.0  2.0  2.0  ...  2.0  2.0   \n",
       "O'Connor   2.0  2.0  2.0  2.0  2.0  2.0  2.0  2.0  2.0  2.0  ... -2.0  2.0   \n",
       "Souter     2.0  2.0  2.0  2.0  2.0  2.0  2.0  2.0  2.0  2.0  ...  2.0  2.0   \n",
       "Stevens   -2.0 -2.0 -2.0 -2.0 -2.0  2.0 -2.0  2.0  2.0 -2.0  ... -2.0  2.0   \n",
       "Scalia     2.0  2.0  2.0  2.0  2.0  2.0  2.0  2.0  2.0  2.0  ...  2.0  2.0   \n",
       "Kennedy    2.0  2.0  2.0  2.0  2.0  2.0  2.0  2.0  2.0 -2.0  ...  2.0  2.0   \n",
       "Breyer     2.0  2.0  2.0  2.0  2.0  2.0  2.0  2.0  2.0  2.0  ... -2.0  2.0   \n",
       "Ginsburg   2.0  2.0  2.0  2.0  2.0  2.0  2.0  2.0  2.0  2.0  ... -2.0  2.0   \n",
       "Thomas     2.0  2.0  2.0  2.0  2.0  2.0  2.0  2.0  2.0  2.0  ...  2.0  2.0   \n",
       "\n",
       "           457  458  459  460  461  462  463  464  \n",
       "Rehnquist -2.0  2.0  2.0  2.0  2.0 -2.0  2.0  2.0  \n",
       "O'Connor   2.0  2.0 -2.0  2.0  2.0  2.0  2.0  2.0  \n",
       "Souter     2.0 -2.0 -2.0  2.0 -2.0  2.0  2.0 -2.0  \n",
       "Stevens    2.0 -2.0 -2.0 -2.0 -2.0  2.0  2.0  2.0  \n",
       "Scalia    -2.0  2.0  2.0  2.0  2.0 -2.0  2.0 -2.0  \n",
       "Kennedy    2.0  2.0  2.0  2.0  2.0 -2.0  2.0  2.0  \n",
       "Breyer     2.0  2.0  1.0  2.0 -2.0  2.0  2.0  2.0  \n",
       "Ginsburg   2.0  2.0 -2.0 -2.0 -2.0  2.0  2.0 -2.0  \n",
       "Thomas    -2.0  2.0  2.0  2.0  2.0 -2.0  2.0  2.0  \n",
       "\n",
       "[9 rows x 465 columns]"
      ]
     },
     "execution_count": 37,
     "metadata": {},
     "output_type": "execute_result"
    }
   ],
   "source": [
    "# Pandas DataFrame of opinions\n",
    "pd.DataFrame(first, index=all_courts[0])"
   ]
  },
  {
   "cell_type": "markdown",
   "metadata": {},
   "source": [
    "## Function for cosine similarities between justices and plotting"
   ]
  },
  {
   "cell_type": "code",
   "execution_count": 38,
   "metadata": {
    "ExecuteTime": {
     "end_time": "2020-07-23T15:49:26.565054Z",
     "start_time": "2020-07-23T15:49:26.555190Z"
    }
   },
   "outputs": [],
   "source": [
    "def get_sim(court_op):\n",
    "    '''\n",
    "    Returns numpy cosine similarity matrix from an array of opinions\n",
    "    '''\n",
    "    sim_mat = np.zeros((9,9))\n",
    "    for i in range(9):\n",
    "        for j in range(9):\n",
    "            j_a = court_op[i]\n",
    "            j_a = j_a.reshape(1, len(j_a))\n",
    "            j_b = court_op[j]\n",
    "            j_b = j_b.reshape(1, len(j_b))\n",
    "            sim_mat[i][j] = np.round(cosine_similarity(j_a, j_b), 4)\n",
    "    return sim_mat"
   ]
  },
  {
   "cell_type": "code",
   "execution_count": 40,
   "metadata": {
    "ExecuteTime": {
     "end_time": "2020-07-23T15:50:09.450150Z",
     "start_time": "2020-07-23T15:50:09.393483Z"
    }
   },
   "outputs": [
    {
     "data": {
      "text/html": [
       "<div>\n",
       "<style scoped>\n",
       "    .dataframe tbody tr th:only-of-type {\n",
       "        vertical-align: middle;\n",
       "    }\n",
       "\n",
       "    .dataframe tbody tr th {\n",
       "        vertical-align: top;\n",
       "    }\n",
       "\n",
       "    .dataframe thead th {\n",
       "        text-align: right;\n",
       "    }\n",
       "</style>\n",
       "<table border=\"1\" class=\"dataframe\">\n",
       "  <thead>\n",
       "    <tr style=\"text-align: right;\">\n",
       "      <th></th>\n",
       "      <th>Rehnquist</th>\n",
       "      <th>O'Connor</th>\n",
       "      <th>Souter</th>\n",
       "      <th>Stevens</th>\n",
       "      <th>Scalia</th>\n",
       "      <th>Kennedy</th>\n",
       "      <th>Breyer</th>\n",
       "      <th>Ginsburg</th>\n",
       "      <th>Thomas</th>\n",
       "    </tr>\n",
       "  </thead>\n",
       "  <tbody>\n",
       "    <tr>\n",
       "      <td>Rehnquist</td>\n",
       "      <td>1.0000</td>\n",
       "      <td>0.7231</td>\n",
       "      <td>0.3325</td>\n",
       "      <td>0.1907</td>\n",
       "      <td>0.7010</td>\n",
       "      <td>0.7834</td>\n",
       "      <td>0.4081</td>\n",
       "      <td>0.3192</td>\n",
       "      <td>0.7334</td>\n",
       "    </tr>\n",
       "    <tr>\n",
       "      <td>O'Connor</td>\n",
       "      <td>0.7231</td>\n",
       "      <td>1.0000</td>\n",
       "      <td>0.5241</td>\n",
       "      <td>0.3740</td>\n",
       "      <td>0.5413</td>\n",
       "      <td>0.6784</td>\n",
       "      <td>0.5838</td>\n",
       "      <td>0.4838</td>\n",
       "      <td>0.5362</td>\n",
       "    </tr>\n",
       "    <tr>\n",
       "      <td>Souter</td>\n",
       "      <td>0.3325</td>\n",
       "      <td>0.5241</td>\n",
       "      <td>1.0000</td>\n",
       "      <td>0.7143</td>\n",
       "      <td>0.2545</td>\n",
       "      <td>0.4295</td>\n",
       "      <td>0.7499</td>\n",
       "      <td>0.8395</td>\n",
       "      <td>0.2656</td>\n",
       "    </tr>\n",
       "    <tr>\n",
       "      <td>Stevens</td>\n",
       "      <td>0.1907</td>\n",
       "      <td>0.3740</td>\n",
       "      <td>0.7143</td>\n",
       "      <td>1.0000</td>\n",
       "      <td>0.0951</td>\n",
       "      <td>0.3187</td>\n",
       "      <td>0.6389</td>\n",
       "      <td>0.7160</td>\n",
       "      <td>0.1318</td>\n",
       "    </tr>\n",
       "    <tr>\n",
       "      <td>Scalia</td>\n",
       "      <td>0.7010</td>\n",
       "      <td>0.5413</td>\n",
       "      <td>0.2545</td>\n",
       "      <td>0.0951</td>\n",
       "      <td>1.0000</td>\n",
       "      <td>0.6560</td>\n",
       "      <td>0.2561</td>\n",
       "      <td>0.2228</td>\n",
       "      <td>0.8595</td>\n",
       "    </tr>\n",
       "    <tr>\n",
       "      <td>Kennedy</td>\n",
       "      <td>0.7834</td>\n",
       "      <td>0.6784</td>\n",
       "      <td>0.4295</td>\n",
       "      <td>0.3187</td>\n",
       "      <td>0.6560</td>\n",
       "      <td>1.0000</td>\n",
       "      <td>0.4471</td>\n",
       "      <td>0.3876</td>\n",
       "      <td>0.6708</td>\n",
       "    </tr>\n",
       "    <tr>\n",
       "      <td>Breyer</td>\n",
       "      <td>0.4081</td>\n",
       "      <td>0.5838</td>\n",
       "      <td>0.7499</td>\n",
       "      <td>0.6389</td>\n",
       "      <td>0.2561</td>\n",
       "      <td>0.4471</td>\n",
       "      <td>1.0000</td>\n",
       "      <td>0.8005</td>\n",
       "      <td>0.2192</td>\n",
       "    </tr>\n",
       "    <tr>\n",
       "      <td>Ginsburg</td>\n",
       "      <td>0.3192</td>\n",
       "      <td>0.4838</td>\n",
       "      <td>0.8395</td>\n",
       "      <td>0.7160</td>\n",
       "      <td>0.2228</td>\n",
       "      <td>0.3876</td>\n",
       "      <td>0.8005</td>\n",
       "      <td>1.0000</td>\n",
       "      <td>0.2228</td>\n",
       "    </tr>\n",
       "    <tr>\n",
       "      <td>Thomas</td>\n",
       "      <td>0.7334</td>\n",
       "      <td>0.5362</td>\n",
       "      <td>0.2656</td>\n",
       "      <td>0.1318</td>\n",
       "      <td>0.8595</td>\n",
       "      <td>0.6708</td>\n",
       "      <td>0.2192</td>\n",
       "      <td>0.2228</td>\n",
       "      <td>1.0000</td>\n",
       "    </tr>\n",
       "  </tbody>\n",
       "</table>\n",
       "</div>"
      ],
      "text/plain": [
       "           Rehnquist  O'Connor  Souter  Stevens  Scalia  Kennedy  Breyer  \\\n",
       "Rehnquist     1.0000    0.7231  0.3325   0.1907  0.7010   0.7834  0.4081   \n",
       "O'Connor      0.7231    1.0000  0.5241   0.3740  0.5413   0.6784  0.5838   \n",
       "Souter        0.3325    0.5241  1.0000   0.7143  0.2545   0.4295  0.7499   \n",
       "Stevens       0.1907    0.3740  0.7143   1.0000  0.0951   0.3187  0.6389   \n",
       "Scalia        0.7010    0.5413  0.2545   0.0951  1.0000   0.6560  0.2561   \n",
       "Kennedy       0.7834    0.6784  0.4295   0.3187  0.6560   1.0000  0.4471   \n",
       "Breyer        0.4081    0.5838  0.7499   0.6389  0.2561   0.4471  1.0000   \n",
       "Ginsburg      0.3192    0.4838  0.8395   0.7160  0.2228   0.3876  0.8005   \n",
       "Thomas        0.7334    0.5362  0.2656   0.1318  0.8595   0.6708  0.2192   \n",
       "\n",
       "           Ginsburg  Thomas  \n",
       "Rehnquist    0.3192  0.7334  \n",
       "O'Connor     0.4838  0.5362  \n",
       "Souter       0.8395  0.2656  \n",
       "Stevens      0.7160  0.1318  \n",
       "Scalia       0.2228  0.8595  \n",
       "Kennedy      0.3876  0.6708  \n",
       "Breyer       0.8005  0.2192  \n",
       "Ginsburg     1.0000  0.2228  \n",
       "Thomas       0.2228  1.0000  "
      ]
     },
     "execution_count": 40,
     "metadata": {},
     "output_type": "execute_result"
    }
   ],
   "source": [
    "# Similarity matrix of first court\n",
    "sim_mat = get_sim(first)\n",
    "pd.DataFrame(sim_mat, index=all_courts[0], columns=all_courts[0])"
   ]
  },
  {
   "cell_type": "code",
   "execution_count": 41,
   "metadata": {
    "ExecuteTime": {
     "end_time": "2020-07-23T15:50:25.609198Z",
     "start_time": "2020-07-23T15:50:25.576573Z"
    }
   },
   "outputs": [],
   "source": [
    "def most_similar(df, j1):\n",
    "    similarity = {}\n",
    "    other_justices = list(df.index)\n",
    "    other_justices.remove(j1)\n",
    "    for j2 in other_justices:\n",
    "        temp_df = df.loc[[j1, j2]].dropna(axis=1)\n",
    "        if len(temp_df.columns) != 0:\n",
    "            X1 = np.array(temp_df.loc[j1])\n",
    "            X2 = np.array(temp_df.loc[j2])\n",
    "            similarity[j2] = round(float(cosine_similarity(X1.reshape(1, len(X1)), X2.reshape(1, len(X2)))), 3)\n",
    "    return similarity"
   ]
  },
  {
   "cell_type": "code",
   "execution_count": 42,
   "metadata": {
    "ExecuteTime": {
     "end_time": "2020-07-23T15:50:26.156108Z",
     "start_time": "2020-07-23T15:50:26.072955Z"
    }
   },
   "outputs": [
    {
     "data": {
      "text/plain": [
       "{'Breyer': 0.354,\n",
       " 'Ginsburg': 0.261,\n",
       " 'Gorsuch': 0.607,\n",
       " 'Kagan': 0.347,\n",
       " 'Kavanaugh': 0.707,\n",
       " 'Kennedy': 0.669,\n",
       " 'Roberts': 0.762,\n",
       " 'Scalia': 0.703,\n",
       " 'Sotomayor': 0.26,\n",
       " 'Souter': 0.236,\n",
       " 'Stevens': 0.132,\n",
       " 'Thomas': 0.748}"
      ]
     },
     "execution_count": 42,
     "metadata": {},
     "output_type": "execute_result"
    }
   ],
   "source": [
    "most_similar(df2, 'Alito')"
   ]
  },
  {
   "cell_type": "code",
   "execution_count": 316,
   "metadata": {
    "ExecuteTime": {
     "end_time": "2020-07-24T00:38:36.306494Z",
     "start_time": "2020-07-24T00:38:36.301719Z"
    }
   },
   "outputs": [],
   "source": [
    "def sim_heatmap(sim_mat, justices):\n",
    "    '''\n",
    "    Returns Plotly heatmap figure\n",
    "    '''\n",
    "    fig = go.Figure(data=(go.Heatmap(z=sim_mat, x=justices, y=justices, colorscale='Inferno')))\n",
    "    fig.update_layout(title='Heatmap of Cosine Similarity Between Justices',\n",
    "                      height=500,\n",
    "                      width=500,\n",
    "                     )\n",
    "    return fig"
   ]
  },
  {
   "cell_type": "code",
   "execution_count": 317,
   "metadata": {
    "ExecuteTime": {
     "end_time": "2020-07-24T00:38:37.053976Z",
     "start_time": "2020-07-24T00:38:37.035301Z"
    }
   },
   "outputs": [
    {
     "data": {
      "application/vnd.plotly.v1+json": {
       "config": {
        "plotlyServerURL": "https://plot.ly"
       },
       "data": [
        {
         "colorscale": [
          [
           0,
           "#000004"
          ],
          [
           0.1111111111111111,
           "#1b0c41"
          ],
          [
           0.2222222222222222,
           "#4a0c6b"
          ],
          [
           0.3333333333333333,
           "#781c6d"
          ],
          [
           0.4444444444444444,
           "#a52c60"
          ],
          [
           0.5555555555555556,
           "#cf4446"
          ],
          [
           0.6666666666666666,
           "#ed6925"
          ],
          [
           0.7777777777777778,
           "#fb9b06"
          ],
          [
           0.8888888888888888,
           "#f7d13d"
          ],
          [
           1,
           "#fcffa4"
          ]
         ],
         "type": "heatmap",
         "x": [
          "Rehnquist",
          "O'Connor",
          "Souter",
          "Stevens",
          "Scalia",
          "Kennedy",
          "Breyer",
          "Ginsburg",
          "Thomas"
         ],
         "y": [
          "Rehnquist",
          "O'Connor",
          "Souter",
          "Stevens",
          "Scalia",
          "Kennedy",
          "Breyer",
          "Ginsburg",
          "Thomas"
         ],
         "z": [
          [
           1,
           0.7231,
           0.3325,
           0.1907,
           0.701,
           0.7834,
           0.4081,
           0.3192,
           0.7334
          ],
          [
           0.7231,
           1,
           0.5241,
           0.374,
           0.5413,
           0.6784,
           0.5838,
           0.4838,
           0.5362
          ],
          [
           0.3325,
           0.5241,
           1,
           0.7143,
           0.2545,
           0.4295,
           0.7499,
           0.8395,
           0.2656
          ],
          [
           0.1907,
           0.374,
           0.7143,
           1,
           0.0951,
           0.3187,
           0.6389,
           0.716,
           0.1318
          ],
          [
           0.701,
           0.5413,
           0.2545,
           0.0951,
           1,
           0.656,
           0.2561,
           0.2228,
           0.8595
          ],
          [
           0.7834,
           0.6784,
           0.4295,
           0.3187,
           0.656,
           1,
           0.4471,
           0.3876,
           0.6708
          ],
          [
           0.4081,
           0.5838,
           0.7499,
           0.6389,
           0.2561,
           0.4471,
           1,
           0.8005,
           0.2192
          ],
          [
           0.3192,
           0.4838,
           0.8395,
           0.716,
           0.2228,
           0.3876,
           0.8005,
           1,
           0.2228
          ],
          [
           0.7334,
           0.5362,
           0.2656,
           0.1318,
           0.8595,
           0.6708,
           0.2192,
           0.2228,
           1
          ]
         ]
        }
       ],
       "layout": {
        "height": 500,
        "template": {
         "data": {
          "bar": [
           {
            "error_x": {
             "color": "#2a3f5f"
            },
            "error_y": {
             "color": "#2a3f5f"
            },
            "marker": {
             "line": {
              "color": "#E5ECF6",
              "width": 0.5
             }
            },
            "type": "bar"
           }
          ],
          "barpolar": [
           {
            "marker": {
             "line": {
              "color": "#E5ECF6",
              "width": 0.5
             }
            },
            "type": "barpolar"
           }
          ],
          "carpet": [
           {
            "aaxis": {
             "endlinecolor": "#2a3f5f",
             "gridcolor": "white",
             "linecolor": "white",
             "minorgridcolor": "white",
             "startlinecolor": "#2a3f5f"
            },
            "baxis": {
             "endlinecolor": "#2a3f5f",
             "gridcolor": "white",
             "linecolor": "white",
             "minorgridcolor": "white",
             "startlinecolor": "#2a3f5f"
            },
            "type": "carpet"
           }
          ],
          "choropleth": [
           {
            "colorbar": {
             "outlinewidth": 0,
             "ticks": ""
            },
            "type": "choropleth"
           }
          ],
          "contour": [
           {
            "colorbar": {
             "outlinewidth": 0,
             "ticks": ""
            },
            "colorscale": [
             [
              0,
              "#0d0887"
             ],
             [
              0.1111111111111111,
              "#46039f"
             ],
             [
              0.2222222222222222,
              "#7201a8"
             ],
             [
              0.3333333333333333,
              "#9c179e"
             ],
             [
              0.4444444444444444,
              "#bd3786"
             ],
             [
              0.5555555555555556,
              "#d8576b"
             ],
             [
              0.6666666666666666,
              "#ed7953"
             ],
             [
              0.7777777777777778,
              "#fb9f3a"
             ],
             [
              0.8888888888888888,
              "#fdca26"
             ],
             [
              1,
              "#f0f921"
             ]
            ],
            "type": "contour"
           }
          ],
          "contourcarpet": [
           {
            "colorbar": {
             "outlinewidth": 0,
             "ticks": ""
            },
            "type": "contourcarpet"
           }
          ],
          "heatmap": [
           {
            "colorbar": {
             "outlinewidth": 0,
             "ticks": ""
            },
            "colorscale": [
             [
              0,
              "#0d0887"
             ],
             [
              0.1111111111111111,
              "#46039f"
             ],
             [
              0.2222222222222222,
              "#7201a8"
             ],
             [
              0.3333333333333333,
              "#9c179e"
             ],
             [
              0.4444444444444444,
              "#bd3786"
             ],
             [
              0.5555555555555556,
              "#d8576b"
             ],
             [
              0.6666666666666666,
              "#ed7953"
             ],
             [
              0.7777777777777778,
              "#fb9f3a"
             ],
             [
              0.8888888888888888,
              "#fdca26"
             ],
             [
              1,
              "#f0f921"
             ]
            ],
            "type": "heatmap"
           }
          ],
          "heatmapgl": [
           {
            "colorbar": {
             "outlinewidth": 0,
             "ticks": ""
            },
            "colorscale": [
             [
              0,
              "#0d0887"
             ],
             [
              0.1111111111111111,
              "#46039f"
             ],
             [
              0.2222222222222222,
              "#7201a8"
             ],
             [
              0.3333333333333333,
              "#9c179e"
             ],
             [
              0.4444444444444444,
              "#bd3786"
             ],
             [
              0.5555555555555556,
              "#d8576b"
             ],
             [
              0.6666666666666666,
              "#ed7953"
             ],
             [
              0.7777777777777778,
              "#fb9f3a"
             ],
             [
              0.8888888888888888,
              "#fdca26"
             ],
             [
              1,
              "#f0f921"
             ]
            ],
            "type": "heatmapgl"
           }
          ],
          "histogram": [
           {
            "marker": {
             "colorbar": {
              "outlinewidth": 0,
              "ticks": ""
             }
            },
            "type": "histogram"
           }
          ],
          "histogram2d": [
           {
            "colorbar": {
             "outlinewidth": 0,
             "ticks": ""
            },
            "colorscale": [
             [
              0,
              "#0d0887"
             ],
             [
              0.1111111111111111,
              "#46039f"
             ],
             [
              0.2222222222222222,
              "#7201a8"
             ],
             [
              0.3333333333333333,
              "#9c179e"
             ],
             [
              0.4444444444444444,
              "#bd3786"
             ],
             [
              0.5555555555555556,
              "#d8576b"
             ],
             [
              0.6666666666666666,
              "#ed7953"
             ],
             [
              0.7777777777777778,
              "#fb9f3a"
             ],
             [
              0.8888888888888888,
              "#fdca26"
             ],
             [
              1,
              "#f0f921"
             ]
            ],
            "type": "histogram2d"
           }
          ],
          "histogram2dcontour": [
           {
            "colorbar": {
             "outlinewidth": 0,
             "ticks": ""
            },
            "colorscale": [
             [
              0,
              "#0d0887"
             ],
             [
              0.1111111111111111,
              "#46039f"
             ],
             [
              0.2222222222222222,
              "#7201a8"
             ],
             [
              0.3333333333333333,
              "#9c179e"
             ],
             [
              0.4444444444444444,
              "#bd3786"
             ],
             [
              0.5555555555555556,
              "#d8576b"
             ],
             [
              0.6666666666666666,
              "#ed7953"
             ],
             [
              0.7777777777777778,
              "#fb9f3a"
             ],
             [
              0.8888888888888888,
              "#fdca26"
             ],
             [
              1,
              "#f0f921"
             ]
            ],
            "type": "histogram2dcontour"
           }
          ],
          "mesh3d": [
           {
            "colorbar": {
             "outlinewidth": 0,
             "ticks": ""
            },
            "type": "mesh3d"
           }
          ],
          "parcoords": [
           {
            "line": {
             "colorbar": {
              "outlinewidth": 0,
              "ticks": ""
             }
            },
            "type": "parcoords"
           }
          ],
          "pie": [
           {
            "automargin": true,
            "type": "pie"
           }
          ],
          "scatter": [
           {
            "marker": {
             "colorbar": {
              "outlinewidth": 0,
              "ticks": ""
             }
            },
            "type": "scatter"
           }
          ],
          "scatter3d": [
           {
            "line": {
             "colorbar": {
              "outlinewidth": 0,
              "ticks": ""
             }
            },
            "marker": {
             "colorbar": {
              "outlinewidth": 0,
              "ticks": ""
             }
            },
            "type": "scatter3d"
           }
          ],
          "scattercarpet": [
           {
            "marker": {
             "colorbar": {
              "outlinewidth": 0,
              "ticks": ""
             }
            },
            "type": "scattercarpet"
           }
          ],
          "scattergeo": [
           {
            "marker": {
             "colorbar": {
              "outlinewidth": 0,
              "ticks": ""
             }
            },
            "type": "scattergeo"
           }
          ],
          "scattergl": [
           {
            "marker": {
             "colorbar": {
              "outlinewidth": 0,
              "ticks": ""
             }
            },
            "type": "scattergl"
           }
          ],
          "scattermapbox": [
           {
            "marker": {
             "colorbar": {
              "outlinewidth": 0,
              "ticks": ""
             }
            },
            "type": "scattermapbox"
           }
          ],
          "scatterpolar": [
           {
            "marker": {
             "colorbar": {
              "outlinewidth": 0,
              "ticks": ""
             }
            },
            "type": "scatterpolar"
           }
          ],
          "scatterpolargl": [
           {
            "marker": {
             "colorbar": {
              "outlinewidth": 0,
              "ticks": ""
             }
            },
            "type": "scatterpolargl"
           }
          ],
          "scatterternary": [
           {
            "marker": {
             "colorbar": {
              "outlinewidth": 0,
              "ticks": ""
             }
            },
            "type": "scatterternary"
           }
          ],
          "surface": [
           {
            "colorbar": {
             "outlinewidth": 0,
             "ticks": ""
            },
            "colorscale": [
             [
              0,
              "#0d0887"
             ],
             [
              0.1111111111111111,
              "#46039f"
             ],
             [
              0.2222222222222222,
              "#7201a8"
             ],
             [
              0.3333333333333333,
              "#9c179e"
             ],
             [
              0.4444444444444444,
              "#bd3786"
             ],
             [
              0.5555555555555556,
              "#d8576b"
             ],
             [
              0.6666666666666666,
              "#ed7953"
             ],
             [
              0.7777777777777778,
              "#fb9f3a"
             ],
             [
              0.8888888888888888,
              "#fdca26"
             ],
             [
              1,
              "#f0f921"
             ]
            ],
            "type": "surface"
           }
          ],
          "table": [
           {
            "cells": {
             "fill": {
              "color": "#EBF0F8"
             },
             "line": {
              "color": "white"
             }
            },
            "header": {
             "fill": {
              "color": "#C8D4E3"
             },
             "line": {
              "color": "white"
             }
            },
            "type": "table"
           }
          ]
         },
         "layout": {
          "annotationdefaults": {
           "arrowcolor": "#2a3f5f",
           "arrowhead": 0,
           "arrowwidth": 1
          },
          "coloraxis": {
           "colorbar": {
            "outlinewidth": 0,
            "ticks": ""
           }
          },
          "colorscale": {
           "diverging": [
            [
             0,
             "#8e0152"
            ],
            [
             0.1,
             "#c51b7d"
            ],
            [
             0.2,
             "#de77ae"
            ],
            [
             0.3,
             "#f1b6da"
            ],
            [
             0.4,
             "#fde0ef"
            ],
            [
             0.5,
             "#f7f7f7"
            ],
            [
             0.6,
             "#e6f5d0"
            ],
            [
             0.7,
             "#b8e186"
            ],
            [
             0.8,
             "#7fbc41"
            ],
            [
             0.9,
             "#4d9221"
            ],
            [
             1,
             "#276419"
            ]
           ],
           "sequential": [
            [
             0,
             "#0d0887"
            ],
            [
             0.1111111111111111,
             "#46039f"
            ],
            [
             0.2222222222222222,
             "#7201a8"
            ],
            [
             0.3333333333333333,
             "#9c179e"
            ],
            [
             0.4444444444444444,
             "#bd3786"
            ],
            [
             0.5555555555555556,
             "#d8576b"
            ],
            [
             0.6666666666666666,
             "#ed7953"
            ],
            [
             0.7777777777777778,
             "#fb9f3a"
            ],
            [
             0.8888888888888888,
             "#fdca26"
            ],
            [
             1,
             "#f0f921"
            ]
           ],
           "sequentialminus": [
            [
             0,
             "#0d0887"
            ],
            [
             0.1111111111111111,
             "#46039f"
            ],
            [
             0.2222222222222222,
             "#7201a8"
            ],
            [
             0.3333333333333333,
             "#9c179e"
            ],
            [
             0.4444444444444444,
             "#bd3786"
            ],
            [
             0.5555555555555556,
             "#d8576b"
            ],
            [
             0.6666666666666666,
             "#ed7953"
            ],
            [
             0.7777777777777778,
             "#fb9f3a"
            ],
            [
             0.8888888888888888,
             "#fdca26"
            ],
            [
             1,
             "#f0f921"
            ]
           ]
          },
          "colorway": [
           "#636efa",
           "#EF553B",
           "#00cc96",
           "#ab63fa",
           "#FFA15A",
           "#19d3f3",
           "#FF6692",
           "#B6E880",
           "#FF97FF",
           "#FECB52"
          ],
          "font": {
           "color": "#2a3f5f"
          },
          "geo": {
           "bgcolor": "white",
           "lakecolor": "white",
           "landcolor": "#E5ECF6",
           "showlakes": true,
           "showland": true,
           "subunitcolor": "white"
          },
          "hoverlabel": {
           "align": "left"
          },
          "hovermode": "closest",
          "mapbox": {
           "style": "light"
          },
          "paper_bgcolor": "white",
          "plot_bgcolor": "#E5ECF6",
          "polar": {
           "angularaxis": {
            "gridcolor": "white",
            "linecolor": "white",
            "ticks": ""
           },
           "bgcolor": "#E5ECF6",
           "radialaxis": {
            "gridcolor": "white",
            "linecolor": "white",
            "ticks": ""
           }
          },
          "scene": {
           "xaxis": {
            "backgroundcolor": "#E5ECF6",
            "gridcolor": "white",
            "gridwidth": 2,
            "linecolor": "white",
            "showbackground": true,
            "ticks": "",
            "zerolinecolor": "white"
           },
           "yaxis": {
            "backgroundcolor": "#E5ECF6",
            "gridcolor": "white",
            "gridwidth": 2,
            "linecolor": "white",
            "showbackground": true,
            "ticks": "",
            "zerolinecolor": "white"
           },
           "zaxis": {
            "backgroundcolor": "#E5ECF6",
            "gridcolor": "white",
            "gridwidth": 2,
            "linecolor": "white",
            "showbackground": true,
            "ticks": "",
            "zerolinecolor": "white"
           }
          },
          "shapedefaults": {
           "line": {
            "color": "#2a3f5f"
           }
          },
          "ternary": {
           "aaxis": {
            "gridcolor": "white",
            "linecolor": "white",
            "ticks": ""
           },
           "baxis": {
            "gridcolor": "white",
            "linecolor": "white",
            "ticks": ""
           },
           "bgcolor": "#E5ECF6",
           "caxis": {
            "gridcolor": "white",
            "linecolor": "white",
            "ticks": ""
           }
          },
          "title": {
           "x": 0.05
          },
          "xaxis": {
           "automargin": true,
           "gridcolor": "white",
           "linecolor": "white",
           "ticks": "",
           "title": {
            "standoff": 15
           },
           "zerolinecolor": "white",
           "zerolinewidth": 2
          },
          "yaxis": {
           "automargin": true,
           "gridcolor": "white",
           "linecolor": "white",
           "ticks": "",
           "title": {
            "standoff": 15
           },
           "zerolinecolor": "white",
           "zerolinewidth": 2
          }
         }
        },
        "title": {
         "text": "Heatmap of Cosine Similarity Between Justices"
        },
        "width": 500
       }
      },
      "text/html": [
       "<div>\n",
       "        \n",
       "        \n",
       "            <div id=\"b363f77d-09db-433a-b958-b43cac0080ad\" class=\"plotly-graph-div\" style=\"height:500px; width:500px;\"></div>\n",
       "            <script type=\"text/javascript\">\n",
       "                require([\"plotly\"], function(Plotly) {\n",
       "                    window.PLOTLYENV=window.PLOTLYENV || {};\n",
       "                    \n",
       "                if (document.getElementById(\"b363f77d-09db-433a-b958-b43cac0080ad\")) {\n",
       "                    Plotly.newPlot(\n",
       "                        'b363f77d-09db-433a-b958-b43cac0080ad',\n",
       "                        [{\"colorscale\": [[0.0, \"#000004\"], [0.1111111111111111, \"#1b0c41\"], [0.2222222222222222, \"#4a0c6b\"], [0.3333333333333333, \"#781c6d\"], [0.4444444444444444, \"#a52c60\"], [0.5555555555555556, \"#cf4446\"], [0.6666666666666666, \"#ed6925\"], [0.7777777777777778, \"#fb9b06\"], [0.8888888888888888, \"#f7d13d\"], [1.0, \"#fcffa4\"]], \"type\": \"heatmap\", \"x\": [\"Rehnquist\", \"O'Connor\", \"Souter\", \"Stevens\", \"Scalia\", \"Kennedy\", \"Breyer\", \"Ginsburg\", \"Thomas\"], \"y\": [\"Rehnquist\", \"O'Connor\", \"Souter\", \"Stevens\", \"Scalia\", \"Kennedy\", \"Breyer\", \"Ginsburg\", \"Thomas\"], \"z\": [[1.0, 0.7231, 0.3325, 0.1907, 0.701, 0.7834, 0.4081, 0.3192, 0.7334], [0.7231, 1.0, 0.5241, 0.374, 0.5413, 0.6784, 0.5838, 0.4838, 0.5362], [0.3325, 0.5241, 1.0, 0.7143, 0.2545, 0.4295, 0.7499, 0.8395, 0.2656], [0.1907, 0.374, 0.7143, 1.0, 0.0951, 0.3187, 0.6389, 0.716, 0.1318], [0.701, 0.5413, 0.2545, 0.0951, 1.0, 0.656, 0.2561, 0.2228, 0.8595], [0.7834, 0.6784, 0.4295, 0.3187, 0.656, 1.0, 0.4471, 0.3876, 0.6708], [0.4081, 0.5838, 0.7499, 0.6389, 0.2561, 0.4471, 1.0, 0.8005, 0.2192], [0.3192, 0.4838, 0.8395, 0.716, 0.2228, 0.3876, 0.8005, 1.0, 0.2228], [0.7334, 0.5362, 0.2656, 0.1318, 0.8595, 0.6708, 0.2192, 0.2228, 1.0]]}],\n",
       "                        {\"height\": 500, \"template\": {\"data\": {\"bar\": [{\"error_x\": {\"color\": \"#2a3f5f\"}, \"error_y\": {\"color\": \"#2a3f5f\"}, \"marker\": {\"line\": {\"color\": \"#E5ECF6\", \"width\": 0.5}}, \"type\": \"bar\"}], \"barpolar\": [{\"marker\": {\"line\": {\"color\": \"#E5ECF6\", \"width\": 0.5}}, \"type\": \"barpolar\"}], \"carpet\": [{\"aaxis\": {\"endlinecolor\": \"#2a3f5f\", \"gridcolor\": \"white\", \"linecolor\": \"white\", \"minorgridcolor\": \"white\", \"startlinecolor\": \"#2a3f5f\"}, \"baxis\": {\"endlinecolor\": \"#2a3f5f\", \"gridcolor\": \"white\", \"linecolor\": \"white\", \"minorgridcolor\": \"white\", \"startlinecolor\": \"#2a3f5f\"}, \"type\": \"carpet\"}], \"choropleth\": [{\"colorbar\": {\"outlinewidth\": 0, \"ticks\": \"\"}, \"type\": \"choropleth\"}], \"contour\": [{\"colorbar\": {\"outlinewidth\": 0, \"ticks\": \"\"}, \"colorscale\": [[0.0, \"#0d0887\"], [0.1111111111111111, \"#46039f\"], [0.2222222222222222, \"#7201a8\"], [0.3333333333333333, \"#9c179e\"], [0.4444444444444444, \"#bd3786\"], [0.5555555555555556, \"#d8576b\"], [0.6666666666666666, \"#ed7953\"], [0.7777777777777778, \"#fb9f3a\"], [0.8888888888888888, \"#fdca26\"], [1.0, \"#f0f921\"]], \"type\": \"contour\"}], \"contourcarpet\": [{\"colorbar\": {\"outlinewidth\": 0, \"ticks\": \"\"}, \"type\": \"contourcarpet\"}], \"heatmap\": [{\"colorbar\": {\"outlinewidth\": 0, \"ticks\": \"\"}, \"colorscale\": [[0.0, \"#0d0887\"], [0.1111111111111111, \"#46039f\"], [0.2222222222222222, \"#7201a8\"], [0.3333333333333333, \"#9c179e\"], [0.4444444444444444, \"#bd3786\"], [0.5555555555555556, \"#d8576b\"], [0.6666666666666666, \"#ed7953\"], [0.7777777777777778, \"#fb9f3a\"], [0.8888888888888888, \"#fdca26\"], [1.0, \"#f0f921\"]], \"type\": \"heatmap\"}], \"heatmapgl\": [{\"colorbar\": {\"outlinewidth\": 0, \"ticks\": \"\"}, \"colorscale\": [[0.0, \"#0d0887\"], [0.1111111111111111, \"#46039f\"], [0.2222222222222222, \"#7201a8\"], [0.3333333333333333, \"#9c179e\"], [0.4444444444444444, \"#bd3786\"], [0.5555555555555556, \"#d8576b\"], [0.6666666666666666, \"#ed7953\"], [0.7777777777777778, \"#fb9f3a\"], [0.8888888888888888, \"#fdca26\"], [1.0, \"#f0f921\"]], \"type\": \"heatmapgl\"}], \"histogram\": [{\"marker\": {\"colorbar\": {\"outlinewidth\": 0, \"ticks\": \"\"}}, \"type\": \"histogram\"}], \"histogram2d\": [{\"colorbar\": {\"outlinewidth\": 0, \"ticks\": \"\"}, \"colorscale\": [[0.0, \"#0d0887\"], [0.1111111111111111, \"#46039f\"], [0.2222222222222222, \"#7201a8\"], [0.3333333333333333, \"#9c179e\"], [0.4444444444444444, \"#bd3786\"], [0.5555555555555556, \"#d8576b\"], [0.6666666666666666, \"#ed7953\"], [0.7777777777777778, \"#fb9f3a\"], [0.8888888888888888, \"#fdca26\"], [1.0, \"#f0f921\"]], \"type\": \"histogram2d\"}], \"histogram2dcontour\": [{\"colorbar\": {\"outlinewidth\": 0, \"ticks\": \"\"}, \"colorscale\": [[0.0, \"#0d0887\"], [0.1111111111111111, \"#46039f\"], [0.2222222222222222, \"#7201a8\"], [0.3333333333333333, \"#9c179e\"], [0.4444444444444444, \"#bd3786\"], [0.5555555555555556, \"#d8576b\"], [0.6666666666666666, \"#ed7953\"], [0.7777777777777778, \"#fb9f3a\"], [0.8888888888888888, \"#fdca26\"], [1.0, \"#f0f921\"]], \"type\": \"histogram2dcontour\"}], \"mesh3d\": [{\"colorbar\": {\"outlinewidth\": 0, \"ticks\": \"\"}, \"type\": \"mesh3d\"}], \"parcoords\": [{\"line\": {\"colorbar\": {\"outlinewidth\": 0, \"ticks\": \"\"}}, \"type\": \"parcoords\"}], \"pie\": [{\"automargin\": true, \"type\": \"pie\"}], \"scatter\": [{\"marker\": {\"colorbar\": {\"outlinewidth\": 0, \"ticks\": \"\"}}, \"type\": \"scatter\"}], \"scatter3d\": [{\"line\": {\"colorbar\": {\"outlinewidth\": 0, \"ticks\": \"\"}}, \"marker\": {\"colorbar\": {\"outlinewidth\": 0, \"ticks\": \"\"}}, \"type\": \"scatter3d\"}], \"scattercarpet\": [{\"marker\": {\"colorbar\": {\"outlinewidth\": 0, \"ticks\": \"\"}}, \"type\": \"scattercarpet\"}], \"scattergeo\": [{\"marker\": {\"colorbar\": {\"outlinewidth\": 0, \"ticks\": \"\"}}, \"type\": \"scattergeo\"}], \"scattergl\": [{\"marker\": {\"colorbar\": {\"outlinewidth\": 0, \"ticks\": \"\"}}, \"type\": \"scattergl\"}], \"scattermapbox\": [{\"marker\": {\"colorbar\": {\"outlinewidth\": 0, \"ticks\": \"\"}}, \"type\": \"scattermapbox\"}], \"scatterpolar\": [{\"marker\": {\"colorbar\": {\"outlinewidth\": 0, \"ticks\": \"\"}}, \"type\": \"scatterpolar\"}], \"scatterpolargl\": [{\"marker\": {\"colorbar\": {\"outlinewidth\": 0, \"ticks\": \"\"}}, \"type\": \"scatterpolargl\"}], \"scatterternary\": [{\"marker\": {\"colorbar\": {\"outlinewidth\": 0, \"ticks\": \"\"}}, \"type\": \"scatterternary\"}], \"surface\": [{\"colorbar\": {\"outlinewidth\": 0, \"ticks\": \"\"}, \"colorscale\": [[0.0, \"#0d0887\"], [0.1111111111111111, \"#46039f\"], [0.2222222222222222, \"#7201a8\"], [0.3333333333333333, \"#9c179e\"], [0.4444444444444444, \"#bd3786\"], [0.5555555555555556, \"#d8576b\"], [0.6666666666666666, \"#ed7953\"], [0.7777777777777778, \"#fb9f3a\"], [0.8888888888888888, \"#fdca26\"], [1.0, \"#f0f921\"]], \"type\": \"surface\"}], \"table\": [{\"cells\": {\"fill\": {\"color\": \"#EBF0F8\"}, \"line\": {\"color\": \"white\"}}, \"header\": {\"fill\": {\"color\": \"#C8D4E3\"}, \"line\": {\"color\": \"white\"}}, \"type\": \"table\"}]}, \"layout\": {\"annotationdefaults\": {\"arrowcolor\": \"#2a3f5f\", \"arrowhead\": 0, \"arrowwidth\": 1}, \"coloraxis\": {\"colorbar\": {\"outlinewidth\": 0, \"ticks\": \"\"}}, \"colorscale\": {\"diverging\": [[0, \"#8e0152\"], [0.1, \"#c51b7d\"], [0.2, \"#de77ae\"], [0.3, \"#f1b6da\"], [0.4, \"#fde0ef\"], [0.5, \"#f7f7f7\"], [0.6, \"#e6f5d0\"], [0.7, \"#b8e186\"], [0.8, \"#7fbc41\"], [0.9, \"#4d9221\"], [1, \"#276419\"]], \"sequential\": [[0.0, \"#0d0887\"], [0.1111111111111111, \"#46039f\"], [0.2222222222222222, \"#7201a8\"], [0.3333333333333333, \"#9c179e\"], [0.4444444444444444, \"#bd3786\"], [0.5555555555555556, \"#d8576b\"], [0.6666666666666666, \"#ed7953\"], [0.7777777777777778, \"#fb9f3a\"], [0.8888888888888888, \"#fdca26\"], [1.0, \"#f0f921\"]], \"sequentialminus\": [[0.0, \"#0d0887\"], [0.1111111111111111, \"#46039f\"], [0.2222222222222222, \"#7201a8\"], [0.3333333333333333, \"#9c179e\"], [0.4444444444444444, \"#bd3786\"], [0.5555555555555556, \"#d8576b\"], [0.6666666666666666, \"#ed7953\"], [0.7777777777777778, \"#fb9f3a\"], [0.8888888888888888, \"#fdca26\"], [1.0, \"#f0f921\"]]}, \"colorway\": [\"#636efa\", \"#EF553B\", \"#00cc96\", \"#ab63fa\", \"#FFA15A\", \"#19d3f3\", \"#FF6692\", \"#B6E880\", \"#FF97FF\", \"#FECB52\"], \"font\": {\"color\": \"#2a3f5f\"}, \"geo\": {\"bgcolor\": \"white\", \"lakecolor\": \"white\", \"landcolor\": \"#E5ECF6\", \"showlakes\": true, \"showland\": true, \"subunitcolor\": \"white\"}, \"hoverlabel\": {\"align\": \"left\"}, \"hovermode\": \"closest\", \"mapbox\": {\"style\": \"light\"}, \"paper_bgcolor\": \"white\", \"plot_bgcolor\": \"#E5ECF6\", \"polar\": {\"angularaxis\": {\"gridcolor\": \"white\", \"linecolor\": \"white\", \"ticks\": \"\"}, \"bgcolor\": \"#E5ECF6\", \"radialaxis\": {\"gridcolor\": \"white\", \"linecolor\": \"white\", \"ticks\": \"\"}}, \"scene\": {\"xaxis\": {\"backgroundcolor\": \"#E5ECF6\", \"gridcolor\": \"white\", \"gridwidth\": 2, \"linecolor\": \"white\", \"showbackground\": true, \"ticks\": \"\", \"zerolinecolor\": \"white\"}, \"yaxis\": {\"backgroundcolor\": \"#E5ECF6\", \"gridcolor\": \"white\", \"gridwidth\": 2, \"linecolor\": \"white\", \"showbackground\": true, \"ticks\": \"\", \"zerolinecolor\": \"white\"}, \"zaxis\": {\"backgroundcolor\": \"#E5ECF6\", \"gridcolor\": \"white\", \"gridwidth\": 2, \"linecolor\": \"white\", \"showbackground\": true, \"ticks\": \"\", \"zerolinecolor\": \"white\"}}, \"shapedefaults\": {\"line\": {\"color\": \"#2a3f5f\"}}, \"ternary\": {\"aaxis\": {\"gridcolor\": \"white\", \"linecolor\": \"white\", \"ticks\": \"\"}, \"baxis\": {\"gridcolor\": \"white\", \"linecolor\": \"white\", \"ticks\": \"\"}, \"bgcolor\": \"#E5ECF6\", \"caxis\": {\"gridcolor\": \"white\", \"linecolor\": \"white\", \"ticks\": \"\"}}, \"title\": {\"x\": 0.05}, \"xaxis\": {\"automargin\": true, \"gridcolor\": \"white\", \"linecolor\": \"white\", \"ticks\": \"\", \"title\": {\"standoff\": 15}, \"zerolinecolor\": \"white\", \"zerolinewidth\": 2}, \"yaxis\": {\"automargin\": true, \"gridcolor\": \"white\", \"linecolor\": \"white\", \"ticks\": \"\", \"title\": {\"standoff\": 15}, \"zerolinecolor\": \"white\", \"zerolinewidth\": 2}}}, \"title\": {\"text\": \"Heatmap of Cosine Similarity Between Justices\"}, \"width\": 500},\n",
       "                        {\"responsive\": true}\n",
       "                    ).then(function(){\n",
       "                            \n",
       "var gd = document.getElementById('b363f77d-09db-433a-b958-b43cac0080ad');\n",
       "var x = new MutationObserver(function (mutations, observer) {{\n",
       "        var display = window.getComputedStyle(gd).display;\n",
       "        if (!display || display === 'none') {{\n",
       "            console.log([gd, 'removed!']);\n",
       "            Plotly.purge(gd);\n",
       "            observer.disconnect();\n",
       "        }}\n",
       "}});\n",
       "\n",
       "// Listen for the removal of the full notebook cells\n",
       "var notebookContainer = gd.closest('#notebook-container');\n",
       "if (notebookContainer) {{\n",
       "    x.observe(notebookContainer, {childList: true});\n",
       "}}\n",
       "\n",
       "// Listen for the clearing of the current output cell\n",
       "var outputEl = gd.closest('.output');\n",
       "if (outputEl) {{\n",
       "    x.observe(outputEl, {childList: true});\n",
       "}}\n",
       "\n",
       "                        })\n",
       "                };\n",
       "                });\n",
       "            </script>\n",
       "        </div>"
      ]
     },
     "metadata": {},
     "output_type": "display_data"
    }
   ],
   "source": [
    "sim_heatmap(sim_mat, souter[0])"
   ]
  },
  {
   "cell_type": "markdown",
   "metadata": {},
   "source": [
    "## Functions for PCA and plotting PCA"
   ]
  },
  {
   "cell_type": "code",
   "execution_count": 28,
   "metadata": {
    "ExecuteTime": {
     "end_time": "2020-07-23T15:44:44.280717Z",
     "start_time": "2020-07-23T15:44:44.255770Z"
    }
   },
   "outputs": [],
   "source": [
    "def get_pca(court_op, court):\n",
    "    '''\n",
    "    2-component representation of justices within a particular court (using PCA), returns DataFrame\n",
    "    '''\n",
    "    pca = PCA(n_components=2)\n",
    "    comp = pd.DataFrame(pca.fit_transform(court_op), index=court, columns=['pc1', 'pc2'])\n",
    "\n",
    "    # Maintain consistent axes based on Ginsburg/Thomas\n",
    "    if comp.loc['Ginsburg']['pc1'] >=0:\n",
    "        comp['pc1'] = -comp['pc1']\n",
    "    if comp.loc['Thomas']['pc2'] >= 0:\n",
    "        comp['pc2'] = -comp['pc2']\n",
    "    \n",
    "    # Scale for consistency\n",
    "    scaler = MinMaxScaler()\n",
    "    comp = scaler.fit_transform(comp)\n",
    "    comp = pd.DataFrame(comp)\n",
    "    \n",
    "    comp.reset_index(inplace=True)\n",
    "    comp.columns = ['justice', 'pc1', 'pc2']\n",
    "    comp['justice'] = court\n",
    "    return comp\n",
    "\n",
    "def all_pca_df(df, court_opinions, courts):\n",
    "    '''\n",
    "    Returns a merged 2-component DataFrame\n",
    "    '''\n",
    "    pca_dfs = []\n",
    "    for n in range(len(court_opinions)):\n",
    "        temp_df = get_pca(court_opinions[n], courts[n])\n",
    "        temp_df['court'] = n\n",
    "        pca_dfs.append(temp_df)\n",
    "\n",
    "    pca_dfs = pd.concat(pca_dfs).reset_index(drop=True)\n",
    "    return pca_dfs"
   ]
  },
  {
   "cell_type": "code",
   "execution_count": 32,
   "metadata": {
    "ExecuteTime": {
     "end_time": "2020-07-23T15:45:54.772870Z",
     "start_time": "2020-07-23T15:45:54.669796Z"
    }
   },
   "outputs": [],
   "source": [
    "all_court_opinions = [ get_opinions(df2, court) for court in all_courts ]\n",
    "pcas = all_pca_df(df2, all_court_opinions, all_courts)"
   ]
  },
  {
   "cell_type": "code",
   "execution_count": 33,
   "metadata": {
    "ExecuteTime": {
     "end_time": "2020-07-23T15:45:57.217621Z",
     "start_time": "2020-07-23T15:45:57.115177Z"
    }
   },
   "outputs": [
    {
     "data": {
      "text/html": [
       "<div>\n",
       "<style scoped>\n",
       "    .dataframe tbody tr th:only-of-type {\n",
       "        vertical-align: middle;\n",
       "    }\n",
       "\n",
       "    .dataframe tbody tr th {\n",
       "        vertical-align: top;\n",
       "    }\n",
       "\n",
       "    .dataframe thead th {\n",
       "        text-align: right;\n",
       "    }\n",
       "</style>\n",
       "<table border=\"1\" class=\"dataframe\">\n",
       "  <thead>\n",
       "    <tr style=\"text-align: right;\">\n",
       "      <th></th>\n",
       "      <th>justice</th>\n",
       "      <th>pc1</th>\n",
       "      <th>pc2</th>\n",
       "      <th>court</th>\n",
       "    </tr>\n",
       "  </thead>\n",
       "  <tbody>\n",
       "    <tr>\n",
       "      <td>0</td>\n",
       "      <td>Rehnquist</td>\n",
       "      <td>0.908512</td>\n",
       "      <td>0.737965</td>\n",
       "      <td>0</td>\n",
       "    </tr>\n",
       "    <tr>\n",
       "      <td>1</td>\n",
       "      <td>O'Connor</td>\n",
       "      <td>0.620810</td>\n",
       "      <td>1.000000</td>\n",
       "      <td>0</td>\n",
       "    </tr>\n",
       "    <tr>\n",
       "      <td>2</td>\n",
       "      <td>Souter</td>\n",
       "      <td>0.074027</td>\n",
       "      <td>0.310760</td>\n",
       "      <td>0</td>\n",
       "    </tr>\n",
       "    <tr>\n",
       "      <td>3</td>\n",
       "      <td>Stevens</td>\n",
       "      <td>0.000000</td>\n",
       "      <td>0.123450</td>\n",
       "      <td>0</td>\n",
       "    </tr>\n",
       "    <tr>\n",
       "      <td>4</td>\n",
       "      <td>Scalia</td>\n",
       "      <td>0.998957</td>\n",
       "      <td>0.024039</td>\n",
       "      <td>0</td>\n",
       "    </tr>\n",
       "    <tr>\n",
       "      <td>...</td>\n",
       "      <td>...</td>\n",
       "      <td>...</td>\n",
       "      <td>...</td>\n",
       "      <td>...</td>\n",
       "    </tr>\n",
       "    <tr>\n",
       "      <td>58</td>\n",
       "      <td>Alito</td>\n",
       "      <td>0.962074</td>\n",
       "      <td>0.688246</td>\n",
       "      <td>6</td>\n",
       "    </tr>\n",
       "    <tr>\n",
       "      <td>59</td>\n",
       "      <td>Sotomayor</td>\n",
       "      <td>0.000000</td>\n",
       "      <td>0.394951</td>\n",
       "      <td>6</td>\n",
       "    </tr>\n",
       "    <tr>\n",
       "      <td>60</td>\n",
       "      <td>Kagan</td>\n",
       "      <td>0.102127</td>\n",
       "      <td>0.541335</td>\n",
       "      <td>6</td>\n",
       "    </tr>\n",
       "    <tr>\n",
       "      <td>61</td>\n",
       "      <td>Gorsuch</td>\n",
       "      <td>0.753805</td>\n",
       "      <td>0.000000</td>\n",
       "      <td>6</td>\n",
       "    </tr>\n",
       "    <tr>\n",
       "      <td>62</td>\n",
       "      <td>Kavanaugh</td>\n",
       "      <td>0.732749</td>\n",
       "      <td>0.905868</td>\n",
       "      <td>6</td>\n",
       "    </tr>\n",
       "  </tbody>\n",
       "</table>\n",
       "<p>63 rows × 4 columns</p>\n",
       "</div>"
      ],
      "text/plain": [
       "      justice       pc1       pc2  court\n",
       "0   Rehnquist  0.908512  0.737965      0\n",
       "1    O'Connor  0.620810  1.000000      0\n",
       "2      Souter  0.074027  0.310760      0\n",
       "3     Stevens  0.000000  0.123450      0\n",
       "4      Scalia  0.998957  0.024039      0\n",
       "..        ...       ...       ...    ...\n",
       "58      Alito  0.962074  0.688246      6\n",
       "59  Sotomayor  0.000000  0.394951      6\n",
       "60      Kagan  0.102127  0.541335      6\n",
       "61    Gorsuch  0.753805  0.000000      6\n",
       "62  Kavanaugh  0.732749  0.905868      6\n",
       "\n",
       "[63 rows x 4 columns]"
      ]
     },
     "execution_count": 33,
     "metadata": {},
     "output_type": "execute_result"
    }
   ],
   "source": [
    "pcas"
   ]
  },
  {
   "cell_type": "code",
   "execution_count": 18,
   "metadata": {
    "ExecuteTime": {
     "end_time": "2020-07-22T23:04:07.798591Z",
     "start_time": "2020-07-22T23:04:07.789485Z"
    }
   },
   "outputs": [],
   "source": [
    "def animated_2comp(df):\n",
    "    '''\n",
    "    Returns Plotly 2 component scatter plot figure\n",
    "    '''\n",
    "    fig = px.scatter(df, x='pc1', y='pc2',\n",
    "                     animation_frame='court',\n",
    "                     animation_group='justice',\n",
    "                     text='justice',\n",
    "                     title='Justices Along 2 Components (PCA)',\n",
    "                     labels={'pc1': 'PC1', 'pc2': 'PC2'},\n",
    "                     width=500,\n",
    "                     height=500,\n",
    "                     range_x=(-0.2, 1.2),\n",
    "                     range_y=(-0.2, 1.2),\n",
    "                    )\n",
    "    fig.update_traces(textposition='top center')\n",
    "    fig.layout.updatemenus[0].buttons[0].args[1][\"transition\"][\"duration\"] = 2000\n",
    "    fig.layout.updatemenus[0].buttons[0].args[1][\"frame\"][\"duration\"] = 3000\n",
    "    return fig"
   ]
  },
  {
   "cell_type": "code",
   "execution_count": 19,
   "metadata": {
    "ExecuteTime": {
     "end_time": "2020-07-22T23:04:09.500647Z",
     "start_time": "2020-07-22T23:04:08.645488Z"
    }
   },
   "outputs": [
    {
     "data": {
      "application/vnd.plotly.v1+json": {
       "config": {
        "plotlyServerURL": "https://plot.ly"
       },
       "data": [
        {
         "hovertemplate": "court=0<br>PC1=%{x}<br>PC2=%{y}<br>justice=%{text}<extra></extra>",
         "ids": [
          "Rehnquist",
          "O'Connor",
          "Souter",
          "Stevens",
          "Scalia",
          "Kennedy",
          "Breyer",
          "Ginsburg",
          "Thomas"
         ],
         "legendgroup": "",
         "marker": {
          "color": "#636efa",
          "symbol": "circle"
         },
         "mode": "markers+text",
         "name": "",
         "orientation": "v",
         "showlegend": false,
         "text": [
          "Rehnquist",
          "O'Connor",
          "Souter",
          "Stevens",
          "Scalia",
          "Kennedy",
          "Breyer",
          "Ginsburg",
          "Thomas"
         ],
         "textposition": "top center",
         "type": "scatter",
         "x": [
          0.9085122627039396,
          0.620809535661631,
          0.0740271726451539,
          0,
          0.9989566939523578,
          0.7943286182754276,
          0.11578872568429421,
          0.03393891273382266,
          1
         ],
         "xaxis": "x",
         "y": [
          0.7379649775367028,
          1,
          0.31076000147629557,
          0.12345026978325102,
          0.024039405798637503,
          0.6430664359644882,
          0.6707757292640334,
          0.32605946137735997,
          0
         ],
         "yaxis": "y"
        }
       ],
       "frames": [
        {
         "data": [
          {
           "hovertemplate": "court=0<br>PC1=%{x}<br>PC2=%{y}<br>justice=%{text}<extra></extra>",
           "ids": [
            "Rehnquist",
            "O'Connor",
            "Souter",
            "Stevens",
            "Scalia",
            "Kennedy",
            "Breyer",
            "Ginsburg",
            "Thomas"
           ],
           "legendgroup": "",
           "marker": {
            "color": "#636efa",
            "symbol": "circle"
           },
           "mode": "markers+text",
           "name": "",
           "orientation": "v",
           "showlegend": false,
           "text": [
            "Rehnquist",
            "O'Connor",
            "Souter",
            "Stevens",
            "Scalia",
            "Kennedy",
            "Breyer",
            "Ginsburg",
            "Thomas"
           ],
           "type": "scatter",
           "x": [
            0.9085122627039396,
            0.620809535661631,
            0.0740271726451539,
            0,
            0.9989566939523578,
            0.7943286182754276,
            0.11578872568429421,
            0.03393891273382266,
            1
           ],
           "xaxis": "x",
           "y": [
            0.7379649775367028,
            1,
            0.31076000147629557,
            0.12345026978325102,
            0.024039405798637503,
            0.6430664359644882,
            0.6707757292640334,
            0.32605946137735997,
            0
           ],
           "yaxis": "y"
          }
         ],
         "name": "0"
        },
        {
         "data": [
          {
           "hovertemplate": "court=1<br>PC1=%{x}<br>PC2=%{y}<br>justice=%{text}<extra></extra>",
           "ids": [
            "O'Connor",
            "Souter",
            "Stevens",
            "Scalia",
            "Kennedy",
            "Breyer",
            "Ginsburg",
            "Thomas",
            "Roberts"
           ],
           "legendgroup": "",
           "marker": {
            "color": "#636efa",
            "symbol": "circle"
           },
           "mode": "markers+text",
           "name": "",
           "orientation": "v",
           "showlegend": false,
           "text": [
            "O'Connor",
            "Souter",
            "Stevens",
            "Scalia",
            "Kennedy",
            "Breyer",
            "Ginsburg",
            "Thomas",
            "Roberts"
           ],
           "type": "scatter",
           "x": [
            0.36277804067082275,
            0.060877760340971976,
            0.023108266041134917,
            0.9762699967642741,
            0.5626403490144073,
            0.06087776034097225,
            0,
            1,
            0.9762699967642741
           ],
           "xaxis": "x",
           "y": [
            0.1091754256735745,
            0,
            0.37049786603721074,
            0.1300490566340661,
            1,
            8.326672684688674e-17,
            0.35963993932107735,
            0.13319785447547877,
            0.1300490566340661
           ],
           "yaxis": "y"
          }
         ],
         "name": "1"
        },
        {
         "data": [
          {
           "hovertemplate": "court=2<br>PC1=%{x}<br>PC2=%{y}<br>justice=%{text}<extra></extra>",
           "ids": [
            "Souter",
            "Stevens",
            "Scalia",
            "Kennedy",
            "Breyer",
            "Ginsburg",
            "Thomas",
            "Roberts",
            "Alito"
           ],
           "legendgroup": "",
           "marker": {
            "color": "#636efa",
            "symbol": "circle"
           },
           "mode": "markers+text",
           "name": "",
           "orientation": "v",
           "showlegend": false,
           "text": [
            "Souter",
            "Stevens",
            "Scalia",
            "Kennedy",
            "Breyer",
            "Ginsburg",
            "Thomas",
            "Roberts",
            "Alito"
           ],
           "type": "scatter",
           "x": [
            0.09524439039364824,
            0,
            0.972807905228561,
            0.6988718927108777,
            0.14895684863273317,
            0.06771320996217134,
            1,
            0.9158655909279664,
            0.9416808424287689
           ],
           "xaxis": "x",
           "y": [
            0.31519280909735803,
            0.30788803937390274,
            0.10462803956844108,
            1,
            0.7378171609701583,
            0.2612065831605602,
            0,
            0.5917518038177745,
            0.7053345316307016
           ],
           "yaxis": "y"
          }
         ],
         "name": "2"
        },
        {
         "data": [
          {
           "hovertemplate": "court=3<br>PC1=%{x}<br>PC2=%{y}<br>justice=%{text}<extra></extra>",
           "ids": [
            "Stevens",
            "Scalia",
            "Kennedy",
            "Breyer",
            "Ginsburg",
            "Thomas",
            "Roberts",
            "Alito",
            "Sotomayor"
           ],
           "legendgroup": "",
           "marker": {
            "color": "#636efa",
            "symbol": "circle"
           },
           "mode": "markers+text",
           "name": "",
           "orientation": "v",
           "showlegend": false,
           "text": [
            "Stevens",
            "Scalia",
            "Kennedy",
            "Breyer",
            "Ginsburg",
            "Thomas",
            "Roberts",
            "Alito",
            "Sotomayor"
           ],
           "type": "scatter",
           "x": [
            0.037496061061254304,
            1,
            0.5528728740690227,
            0.0113979846362523,
            0.06269124339768728,
            0.9933893527455914,
            0.7705146220871272,
            0.8780741445451123,
            0
           ],
           "xaxis": "x",
           "y": [
            0.19149985273533976,
            0.187857885834171,
            1,
            0.39095636860561167,
            0.6441376666539276,
            0,
            0.6823188974436872,
            0.7502642664485164,
            0.2852592165649175
           ],
           "yaxis": "y"
          }
         ],
         "name": "3"
        },
        {
         "data": [
          {
           "hovertemplate": "court=4<br>PC1=%{x}<br>PC2=%{y}<br>justice=%{text}<extra></extra>",
           "ids": [
            "Scalia",
            "Kennedy",
            "Breyer",
            "Ginsburg",
            "Thomas",
            "Roberts",
            "Alito",
            "Sotomayor",
            "Kagan"
           ],
           "legendgroup": "",
           "marker": {
            "color": "#636efa",
            "symbol": "circle"
           },
           "mode": "markers+text",
           "name": "",
           "orientation": "v",
           "showlegend": false,
           "text": [
            "Scalia",
            "Kennedy",
            "Breyer",
            "Ginsburg",
            "Thomas",
            "Roberts",
            "Alito",
            "Sotomayor",
            "Kagan"
           ],
           "type": "scatter",
           "x": [
            0.9393054314981699,
            0.5808480801228693,
            0.09684861813409701,
            0,
            1,
            0.868741074660599,
            0.9974342185750942,
            0.04373665025508289,
            0.06860557431444492
           ],
           "xaxis": "x",
           "y": [
            0,
            1,
            0.5144460271753196,
            0.08231380751781053,
            0.04594596719306465,
            0.47302684282772817,
            0.45131590375052993,
            0.2791855093142942,
            0.21854572698182229
           ],
           "yaxis": "y"
          }
         ],
         "name": "4"
        },
        {
         "data": [
          {
           "hovertemplate": "court=5<br>PC1=%{x}<br>PC2=%{y}<br>justice=%{text}<extra></extra>",
           "ids": [
            "Kennedy",
            "Breyer",
            "Ginsburg",
            "Thomas",
            "Roberts",
            "Alito",
            "Sotomayor",
            "Kagan",
            "Gorsuch"
           ],
           "legendgroup": "",
           "marker": {
            "color": "#636efa",
            "symbol": "circle"
           },
           "mode": "markers+text",
           "name": "",
           "orientation": "v",
           "showlegend": false,
           "text": [
            "Kennedy",
            "Breyer",
            "Ginsburg",
            "Thomas",
            "Roberts",
            "Alito",
            "Sotomayor",
            "Kagan",
            "Gorsuch"
           ],
           "type": "scatter",
           "x": [
            0.7426905032924086,
            0.05288591354199401,
            0.05268279438198764,
            0.999418778177553,
            0.7018793595871731,
            1.0000000000000002,
            0,
            0.12158877748512342,
            0.9072650503997144
           ],
           "xaxis": "x",
           "y": [
            0.8514184680915986,
            0.3453616853390108,
            0.30573981234142966,
            0,
            1,
            0.0009656402629453775,
            0.31586245018115733,
            0.30641097028613695,
            0.45991079425955317
           ],
           "yaxis": "y"
          }
         ],
         "name": "5"
        },
        {
         "data": [
          {
           "hovertemplate": "court=6<br>PC1=%{x}<br>PC2=%{y}<br>justice=%{text}<extra></extra>",
           "ids": [
            "Breyer",
            "Ginsburg",
            "Thomas",
            "Roberts",
            "Alito",
            "Sotomayor",
            "Kagan",
            "Gorsuch",
            "Kavanaugh"
           ],
           "legendgroup": "",
           "marker": {
            "color": "#636efa",
            "symbol": "circle"
           },
           "mode": "markers+text",
           "name": "",
           "orientation": "v",
           "showlegend": false,
           "text": [
            "Breyer",
            "Ginsburg",
            "Thomas",
            "Roberts",
            "Alito",
            "Sotomayor",
            "Kagan",
            "Gorsuch",
            "Kavanaugh"
           ],
           "type": "scatter",
           "x": [
            0.09697517045951515,
            0.03217280164217723,
            0.9999999999999998,
            0.6954168239447379,
            0.9620743491532304,
            0,
            0.10212650140604873,
            0.753804696245826,
            0.7327492321457049
           ],
           "xaxis": "x",
           "y": [
            0.7184590816714673,
            0.4471403292276267,
            0.23793954674204237,
            1,
            0.6882464295520944,
            0.39495057117620425,
            0.5413348970586553,
            0,
            0.9058676718307008
           ],
           "yaxis": "y"
          }
         ],
         "name": "6"
        }
       ],
       "layout": {
        "height": 500,
        "legend": {
         "tracegroupgap": 0
        },
        "sliders": [
         {
          "active": 0,
          "currentvalue": {
           "prefix": "court="
          },
          "len": 0.9,
          "pad": {
           "b": 10,
           "t": 60
          },
          "steps": [
           {
            "args": [
             [
              "0"
             ],
             {
              "frame": {
               "duration": 0,
               "redraw": false
              },
              "fromcurrent": true,
              "mode": "immediate",
              "transition": {
               "duration": 0,
               "easing": "linear"
              }
             }
            ],
            "label": "0",
            "method": "animate"
           },
           {
            "args": [
             [
              "1"
             ],
             {
              "frame": {
               "duration": 0,
               "redraw": false
              },
              "fromcurrent": true,
              "mode": "immediate",
              "transition": {
               "duration": 0,
               "easing": "linear"
              }
             }
            ],
            "label": "1",
            "method": "animate"
           },
           {
            "args": [
             [
              "2"
             ],
             {
              "frame": {
               "duration": 0,
               "redraw": false
              },
              "fromcurrent": true,
              "mode": "immediate",
              "transition": {
               "duration": 0,
               "easing": "linear"
              }
             }
            ],
            "label": "2",
            "method": "animate"
           },
           {
            "args": [
             [
              "3"
             ],
             {
              "frame": {
               "duration": 0,
               "redraw": false
              },
              "fromcurrent": true,
              "mode": "immediate",
              "transition": {
               "duration": 0,
               "easing": "linear"
              }
             }
            ],
            "label": "3",
            "method": "animate"
           },
           {
            "args": [
             [
              "4"
             ],
             {
              "frame": {
               "duration": 0,
               "redraw": false
              },
              "fromcurrent": true,
              "mode": "immediate",
              "transition": {
               "duration": 0,
               "easing": "linear"
              }
             }
            ],
            "label": "4",
            "method": "animate"
           },
           {
            "args": [
             [
              "5"
             ],
             {
              "frame": {
               "duration": 0,
               "redraw": false
              },
              "fromcurrent": true,
              "mode": "immediate",
              "transition": {
               "duration": 0,
               "easing": "linear"
              }
             }
            ],
            "label": "5",
            "method": "animate"
           },
           {
            "args": [
             [
              "6"
             ],
             {
              "frame": {
               "duration": 0,
               "redraw": false
              },
              "fromcurrent": true,
              "mode": "immediate",
              "transition": {
               "duration": 0,
               "easing": "linear"
              }
             }
            ],
            "label": "6",
            "method": "animate"
           }
          ],
          "x": 0.1,
          "xanchor": "left",
          "y": 0,
          "yanchor": "top"
         }
        ],
        "template": {
         "data": {
          "bar": [
           {
            "error_x": {
             "color": "#2a3f5f"
            },
            "error_y": {
             "color": "#2a3f5f"
            },
            "marker": {
             "line": {
              "color": "#E5ECF6",
              "width": 0.5
             }
            },
            "type": "bar"
           }
          ],
          "barpolar": [
           {
            "marker": {
             "line": {
              "color": "#E5ECF6",
              "width": 0.5
             }
            },
            "type": "barpolar"
           }
          ],
          "carpet": [
           {
            "aaxis": {
             "endlinecolor": "#2a3f5f",
             "gridcolor": "white",
             "linecolor": "white",
             "minorgridcolor": "white",
             "startlinecolor": "#2a3f5f"
            },
            "baxis": {
             "endlinecolor": "#2a3f5f",
             "gridcolor": "white",
             "linecolor": "white",
             "minorgridcolor": "white",
             "startlinecolor": "#2a3f5f"
            },
            "type": "carpet"
           }
          ],
          "choropleth": [
           {
            "colorbar": {
             "outlinewidth": 0,
             "ticks": ""
            },
            "type": "choropleth"
           }
          ],
          "contour": [
           {
            "colorbar": {
             "outlinewidth": 0,
             "ticks": ""
            },
            "colorscale": [
             [
              0,
              "#0d0887"
             ],
             [
              0.1111111111111111,
              "#46039f"
             ],
             [
              0.2222222222222222,
              "#7201a8"
             ],
             [
              0.3333333333333333,
              "#9c179e"
             ],
             [
              0.4444444444444444,
              "#bd3786"
             ],
             [
              0.5555555555555556,
              "#d8576b"
             ],
             [
              0.6666666666666666,
              "#ed7953"
             ],
             [
              0.7777777777777778,
              "#fb9f3a"
             ],
             [
              0.8888888888888888,
              "#fdca26"
             ],
             [
              1,
              "#f0f921"
             ]
            ],
            "type": "contour"
           }
          ],
          "contourcarpet": [
           {
            "colorbar": {
             "outlinewidth": 0,
             "ticks": ""
            },
            "type": "contourcarpet"
           }
          ],
          "heatmap": [
           {
            "colorbar": {
             "outlinewidth": 0,
             "ticks": ""
            },
            "colorscale": [
             [
              0,
              "#0d0887"
             ],
             [
              0.1111111111111111,
              "#46039f"
             ],
             [
              0.2222222222222222,
              "#7201a8"
             ],
             [
              0.3333333333333333,
              "#9c179e"
             ],
             [
              0.4444444444444444,
              "#bd3786"
             ],
             [
              0.5555555555555556,
              "#d8576b"
             ],
             [
              0.6666666666666666,
              "#ed7953"
             ],
             [
              0.7777777777777778,
              "#fb9f3a"
             ],
             [
              0.8888888888888888,
              "#fdca26"
             ],
             [
              1,
              "#f0f921"
             ]
            ],
            "type": "heatmap"
           }
          ],
          "heatmapgl": [
           {
            "colorbar": {
             "outlinewidth": 0,
             "ticks": ""
            },
            "colorscale": [
             [
              0,
              "#0d0887"
             ],
             [
              0.1111111111111111,
              "#46039f"
             ],
             [
              0.2222222222222222,
              "#7201a8"
             ],
             [
              0.3333333333333333,
              "#9c179e"
             ],
             [
              0.4444444444444444,
              "#bd3786"
             ],
             [
              0.5555555555555556,
              "#d8576b"
             ],
             [
              0.6666666666666666,
              "#ed7953"
             ],
             [
              0.7777777777777778,
              "#fb9f3a"
             ],
             [
              0.8888888888888888,
              "#fdca26"
             ],
             [
              1,
              "#f0f921"
             ]
            ],
            "type": "heatmapgl"
           }
          ],
          "histogram": [
           {
            "marker": {
             "colorbar": {
              "outlinewidth": 0,
              "ticks": ""
             }
            },
            "type": "histogram"
           }
          ],
          "histogram2d": [
           {
            "colorbar": {
             "outlinewidth": 0,
             "ticks": ""
            },
            "colorscale": [
             [
              0,
              "#0d0887"
             ],
             [
              0.1111111111111111,
              "#46039f"
             ],
             [
              0.2222222222222222,
              "#7201a8"
             ],
             [
              0.3333333333333333,
              "#9c179e"
             ],
             [
              0.4444444444444444,
              "#bd3786"
             ],
             [
              0.5555555555555556,
              "#d8576b"
             ],
             [
              0.6666666666666666,
              "#ed7953"
             ],
             [
              0.7777777777777778,
              "#fb9f3a"
             ],
             [
              0.8888888888888888,
              "#fdca26"
             ],
             [
              1,
              "#f0f921"
             ]
            ],
            "type": "histogram2d"
           }
          ],
          "histogram2dcontour": [
           {
            "colorbar": {
             "outlinewidth": 0,
             "ticks": ""
            },
            "colorscale": [
             [
              0,
              "#0d0887"
             ],
             [
              0.1111111111111111,
              "#46039f"
             ],
             [
              0.2222222222222222,
              "#7201a8"
             ],
             [
              0.3333333333333333,
              "#9c179e"
             ],
             [
              0.4444444444444444,
              "#bd3786"
             ],
             [
              0.5555555555555556,
              "#d8576b"
             ],
             [
              0.6666666666666666,
              "#ed7953"
             ],
             [
              0.7777777777777778,
              "#fb9f3a"
             ],
             [
              0.8888888888888888,
              "#fdca26"
             ],
             [
              1,
              "#f0f921"
             ]
            ],
            "type": "histogram2dcontour"
           }
          ],
          "mesh3d": [
           {
            "colorbar": {
             "outlinewidth": 0,
             "ticks": ""
            },
            "type": "mesh3d"
           }
          ],
          "parcoords": [
           {
            "line": {
             "colorbar": {
              "outlinewidth": 0,
              "ticks": ""
             }
            },
            "type": "parcoords"
           }
          ],
          "pie": [
           {
            "automargin": true,
            "type": "pie"
           }
          ],
          "scatter": [
           {
            "marker": {
             "colorbar": {
              "outlinewidth": 0,
              "ticks": ""
             }
            },
            "type": "scatter"
           }
          ],
          "scatter3d": [
           {
            "line": {
             "colorbar": {
              "outlinewidth": 0,
              "ticks": ""
             }
            },
            "marker": {
             "colorbar": {
              "outlinewidth": 0,
              "ticks": ""
             }
            },
            "type": "scatter3d"
           }
          ],
          "scattercarpet": [
           {
            "marker": {
             "colorbar": {
              "outlinewidth": 0,
              "ticks": ""
             }
            },
            "type": "scattercarpet"
           }
          ],
          "scattergeo": [
           {
            "marker": {
             "colorbar": {
              "outlinewidth": 0,
              "ticks": ""
             }
            },
            "type": "scattergeo"
           }
          ],
          "scattergl": [
           {
            "marker": {
             "colorbar": {
              "outlinewidth": 0,
              "ticks": ""
             }
            },
            "type": "scattergl"
           }
          ],
          "scattermapbox": [
           {
            "marker": {
             "colorbar": {
              "outlinewidth": 0,
              "ticks": ""
             }
            },
            "type": "scattermapbox"
           }
          ],
          "scatterpolar": [
           {
            "marker": {
             "colorbar": {
              "outlinewidth": 0,
              "ticks": ""
             }
            },
            "type": "scatterpolar"
           }
          ],
          "scatterpolargl": [
           {
            "marker": {
             "colorbar": {
              "outlinewidth": 0,
              "ticks": ""
             }
            },
            "type": "scatterpolargl"
           }
          ],
          "scatterternary": [
           {
            "marker": {
             "colorbar": {
              "outlinewidth": 0,
              "ticks": ""
             }
            },
            "type": "scatterternary"
           }
          ],
          "surface": [
           {
            "colorbar": {
             "outlinewidth": 0,
             "ticks": ""
            },
            "colorscale": [
             [
              0,
              "#0d0887"
             ],
             [
              0.1111111111111111,
              "#46039f"
             ],
             [
              0.2222222222222222,
              "#7201a8"
             ],
             [
              0.3333333333333333,
              "#9c179e"
             ],
             [
              0.4444444444444444,
              "#bd3786"
             ],
             [
              0.5555555555555556,
              "#d8576b"
             ],
             [
              0.6666666666666666,
              "#ed7953"
             ],
             [
              0.7777777777777778,
              "#fb9f3a"
             ],
             [
              0.8888888888888888,
              "#fdca26"
             ],
             [
              1,
              "#f0f921"
             ]
            ],
            "type": "surface"
           }
          ],
          "table": [
           {
            "cells": {
             "fill": {
              "color": "#EBF0F8"
             },
             "line": {
              "color": "white"
             }
            },
            "header": {
             "fill": {
              "color": "#C8D4E3"
             },
             "line": {
              "color": "white"
             }
            },
            "type": "table"
           }
          ]
         },
         "layout": {
          "annotationdefaults": {
           "arrowcolor": "#2a3f5f",
           "arrowhead": 0,
           "arrowwidth": 1
          },
          "coloraxis": {
           "colorbar": {
            "outlinewidth": 0,
            "ticks": ""
           }
          },
          "colorscale": {
           "diverging": [
            [
             0,
             "#8e0152"
            ],
            [
             0.1,
             "#c51b7d"
            ],
            [
             0.2,
             "#de77ae"
            ],
            [
             0.3,
             "#f1b6da"
            ],
            [
             0.4,
             "#fde0ef"
            ],
            [
             0.5,
             "#f7f7f7"
            ],
            [
             0.6,
             "#e6f5d0"
            ],
            [
             0.7,
             "#b8e186"
            ],
            [
             0.8,
             "#7fbc41"
            ],
            [
             0.9,
             "#4d9221"
            ],
            [
             1,
             "#276419"
            ]
           ],
           "sequential": [
            [
             0,
             "#0d0887"
            ],
            [
             0.1111111111111111,
             "#46039f"
            ],
            [
             0.2222222222222222,
             "#7201a8"
            ],
            [
             0.3333333333333333,
             "#9c179e"
            ],
            [
             0.4444444444444444,
             "#bd3786"
            ],
            [
             0.5555555555555556,
             "#d8576b"
            ],
            [
             0.6666666666666666,
             "#ed7953"
            ],
            [
             0.7777777777777778,
             "#fb9f3a"
            ],
            [
             0.8888888888888888,
             "#fdca26"
            ],
            [
             1,
             "#f0f921"
            ]
           ],
           "sequentialminus": [
            [
             0,
             "#0d0887"
            ],
            [
             0.1111111111111111,
             "#46039f"
            ],
            [
             0.2222222222222222,
             "#7201a8"
            ],
            [
             0.3333333333333333,
             "#9c179e"
            ],
            [
             0.4444444444444444,
             "#bd3786"
            ],
            [
             0.5555555555555556,
             "#d8576b"
            ],
            [
             0.6666666666666666,
             "#ed7953"
            ],
            [
             0.7777777777777778,
             "#fb9f3a"
            ],
            [
             0.8888888888888888,
             "#fdca26"
            ],
            [
             1,
             "#f0f921"
            ]
           ]
          },
          "colorway": [
           "#636efa",
           "#EF553B",
           "#00cc96",
           "#ab63fa",
           "#FFA15A",
           "#19d3f3",
           "#FF6692",
           "#B6E880",
           "#FF97FF",
           "#FECB52"
          ],
          "font": {
           "color": "#2a3f5f"
          },
          "geo": {
           "bgcolor": "white",
           "lakecolor": "white",
           "landcolor": "#E5ECF6",
           "showlakes": true,
           "showland": true,
           "subunitcolor": "white"
          },
          "hoverlabel": {
           "align": "left"
          },
          "hovermode": "closest",
          "mapbox": {
           "style": "light"
          },
          "paper_bgcolor": "white",
          "plot_bgcolor": "#E5ECF6",
          "polar": {
           "angularaxis": {
            "gridcolor": "white",
            "linecolor": "white",
            "ticks": ""
           },
           "bgcolor": "#E5ECF6",
           "radialaxis": {
            "gridcolor": "white",
            "linecolor": "white",
            "ticks": ""
           }
          },
          "scene": {
           "xaxis": {
            "backgroundcolor": "#E5ECF6",
            "gridcolor": "white",
            "gridwidth": 2,
            "linecolor": "white",
            "showbackground": true,
            "ticks": "",
            "zerolinecolor": "white"
           },
           "yaxis": {
            "backgroundcolor": "#E5ECF6",
            "gridcolor": "white",
            "gridwidth": 2,
            "linecolor": "white",
            "showbackground": true,
            "ticks": "",
            "zerolinecolor": "white"
           },
           "zaxis": {
            "backgroundcolor": "#E5ECF6",
            "gridcolor": "white",
            "gridwidth": 2,
            "linecolor": "white",
            "showbackground": true,
            "ticks": "",
            "zerolinecolor": "white"
           }
          },
          "shapedefaults": {
           "line": {
            "color": "#2a3f5f"
           }
          },
          "ternary": {
           "aaxis": {
            "gridcolor": "white",
            "linecolor": "white",
            "ticks": ""
           },
           "baxis": {
            "gridcolor": "white",
            "linecolor": "white",
            "ticks": ""
           },
           "bgcolor": "#E5ECF6",
           "caxis": {
            "gridcolor": "white",
            "linecolor": "white",
            "ticks": ""
           }
          },
          "title": {
           "x": 0.05
          },
          "xaxis": {
           "automargin": true,
           "gridcolor": "white",
           "linecolor": "white",
           "ticks": "",
           "title": {
            "standoff": 15
           },
           "zerolinecolor": "white",
           "zerolinewidth": 2
          },
          "yaxis": {
           "automargin": true,
           "gridcolor": "white",
           "linecolor": "white",
           "ticks": "",
           "title": {
            "standoff": 15
           },
           "zerolinecolor": "white",
           "zerolinewidth": 2
          }
         }
        },
        "title": {
         "text": "Justices Along 2 Components (PCA)"
        },
        "updatemenus": [
         {
          "buttons": [
           {
            "args": [
             null,
             {
              "frame": {
               "duration": 3000,
               "redraw": false
              },
              "fromcurrent": true,
              "mode": "immediate",
              "transition": {
               "duration": 2000,
               "easing": "linear"
              }
             }
            ],
            "label": "&#9654;",
            "method": "animate"
           },
           {
            "args": [
             [
              null
             ],
             {
              "frame": {
               "duration": 0,
               "redraw": false
              },
              "fromcurrent": true,
              "mode": "immediate",
              "transition": {
               "duration": 0,
               "easing": "linear"
              }
             }
            ],
            "label": "&#9724;",
            "method": "animate"
           }
          ],
          "direction": "left",
          "pad": {
           "r": 10,
           "t": 70
          },
          "showactive": false,
          "type": "buttons",
          "x": 0.1,
          "xanchor": "right",
          "y": 0,
          "yanchor": "top"
         }
        ],
        "width": 500,
        "xaxis": {
         "anchor": "y",
         "domain": [
          0,
          1
         ],
         "range": [
          -0.2,
          1.2
         ],
         "title": {
          "text": "PC1"
         }
        },
        "yaxis": {
         "anchor": "x",
         "domain": [
          0,
          1
         ],
         "range": [
          -0.2,
          1.2
         ],
         "title": {
          "text": "PC2"
         }
        }
       }
      },
      "text/html": [
       "<div>\n",
       "        \n",
       "        \n",
       "            <div id=\"edcfa19f-3aa3-4e76-ab5f-0c9ebd6d9928\" class=\"plotly-graph-div\" style=\"height:500px; width:500px;\"></div>\n",
       "            <script type=\"text/javascript\">\n",
       "                require([\"plotly\"], function(Plotly) {\n",
       "                    window.PLOTLYENV=window.PLOTLYENV || {};\n",
       "                    \n",
       "                if (document.getElementById(\"edcfa19f-3aa3-4e76-ab5f-0c9ebd6d9928\")) {\n",
       "                    Plotly.newPlot(\n",
       "                        'edcfa19f-3aa3-4e76-ab5f-0c9ebd6d9928',\n",
       "                        [{\"hovertemplate\": \"court=0<br>PC1=%{x}<br>PC2=%{y}<br>justice=%{text}<extra></extra>\", \"ids\": [\"Rehnquist\", \"O'Connor\", \"Souter\", \"Stevens\", \"Scalia\", \"Kennedy\", \"Breyer\", \"Ginsburg\", \"Thomas\"], \"legendgroup\": \"\", \"marker\": {\"color\": \"#636efa\", \"symbol\": \"circle\"}, \"mode\": \"markers+text\", \"name\": \"\", \"orientation\": \"v\", \"showlegend\": false, \"text\": [\"Rehnquist\", \"O'Connor\", \"Souter\", \"Stevens\", \"Scalia\", \"Kennedy\", \"Breyer\", \"Ginsburg\", \"Thomas\"], \"textposition\": \"top center\", \"type\": \"scatter\", \"x\": [0.9085122627039396, 0.620809535661631, 0.0740271726451539, 0.0, 0.9989566939523578, 0.7943286182754276, 0.11578872568429421, 0.03393891273382266, 1.0], \"xaxis\": \"x\", \"y\": [0.7379649775367028, 1.0, 0.31076000147629557, 0.12345026978325102, 0.024039405798637503, 0.6430664359644882, 0.6707757292640334, 0.32605946137735997, 0.0], \"yaxis\": \"y\"}],\n",
       "                        {\"height\": 500, \"legend\": {\"tracegroupgap\": 0}, \"sliders\": [{\"active\": 0, \"currentvalue\": {\"prefix\": \"court=\"}, \"len\": 0.9, \"pad\": {\"b\": 10, \"t\": 60}, \"steps\": [{\"args\": [[\"0\"], {\"frame\": {\"duration\": 0, \"redraw\": false}, \"fromcurrent\": true, \"mode\": \"immediate\", \"transition\": {\"duration\": 0, \"easing\": \"linear\"}}], \"label\": \"0\", \"method\": \"animate\"}, {\"args\": [[\"1\"], {\"frame\": {\"duration\": 0, \"redraw\": false}, \"fromcurrent\": true, \"mode\": \"immediate\", \"transition\": {\"duration\": 0, \"easing\": \"linear\"}}], \"label\": \"1\", \"method\": \"animate\"}, {\"args\": [[\"2\"], {\"frame\": {\"duration\": 0, \"redraw\": false}, \"fromcurrent\": true, \"mode\": \"immediate\", \"transition\": {\"duration\": 0, \"easing\": \"linear\"}}], \"label\": \"2\", \"method\": \"animate\"}, {\"args\": [[\"3\"], {\"frame\": {\"duration\": 0, \"redraw\": false}, \"fromcurrent\": true, \"mode\": \"immediate\", \"transition\": {\"duration\": 0, \"easing\": \"linear\"}}], \"label\": \"3\", \"method\": \"animate\"}, {\"args\": [[\"4\"], {\"frame\": {\"duration\": 0, \"redraw\": false}, \"fromcurrent\": true, \"mode\": \"immediate\", \"transition\": {\"duration\": 0, \"easing\": \"linear\"}}], \"label\": \"4\", \"method\": \"animate\"}, {\"args\": [[\"5\"], {\"frame\": {\"duration\": 0, \"redraw\": false}, \"fromcurrent\": true, \"mode\": \"immediate\", \"transition\": {\"duration\": 0, \"easing\": \"linear\"}}], \"label\": \"5\", \"method\": \"animate\"}, {\"args\": [[\"6\"], {\"frame\": {\"duration\": 0, \"redraw\": false}, \"fromcurrent\": true, \"mode\": \"immediate\", \"transition\": {\"duration\": 0, \"easing\": \"linear\"}}], \"label\": \"6\", \"method\": \"animate\"}], \"x\": 0.1, \"xanchor\": \"left\", \"y\": 0, \"yanchor\": \"top\"}], \"template\": {\"data\": {\"bar\": [{\"error_x\": {\"color\": \"#2a3f5f\"}, \"error_y\": {\"color\": \"#2a3f5f\"}, \"marker\": {\"line\": {\"color\": \"#E5ECF6\", \"width\": 0.5}}, \"type\": \"bar\"}], \"barpolar\": [{\"marker\": {\"line\": {\"color\": \"#E5ECF6\", \"width\": 0.5}}, \"type\": \"barpolar\"}], \"carpet\": [{\"aaxis\": {\"endlinecolor\": \"#2a3f5f\", \"gridcolor\": \"white\", \"linecolor\": \"white\", \"minorgridcolor\": \"white\", \"startlinecolor\": \"#2a3f5f\"}, \"baxis\": {\"endlinecolor\": \"#2a3f5f\", \"gridcolor\": \"white\", \"linecolor\": \"white\", \"minorgridcolor\": \"white\", \"startlinecolor\": \"#2a3f5f\"}, \"type\": \"carpet\"}], \"choropleth\": [{\"colorbar\": {\"outlinewidth\": 0, \"ticks\": \"\"}, \"type\": \"choropleth\"}], \"contour\": [{\"colorbar\": {\"outlinewidth\": 0, \"ticks\": \"\"}, \"colorscale\": [[0.0, \"#0d0887\"], [0.1111111111111111, \"#46039f\"], [0.2222222222222222, \"#7201a8\"], [0.3333333333333333, \"#9c179e\"], [0.4444444444444444, \"#bd3786\"], [0.5555555555555556, \"#d8576b\"], [0.6666666666666666, \"#ed7953\"], [0.7777777777777778, \"#fb9f3a\"], [0.8888888888888888, \"#fdca26\"], [1.0, \"#f0f921\"]], \"type\": \"contour\"}], \"contourcarpet\": [{\"colorbar\": {\"outlinewidth\": 0, \"ticks\": \"\"}, \"type\": \"contourcarpet\"}], \"heatmap\": [{\"colorbar\": {\"outlinewidth\": 0, \"ticks\": \"\"}, \"colorscale\": [[0.0, \"#0d0887\"], [0.1111111111111111, \"#46039f\"], [0.2222222222222222, \"#7201a8\"], [0.3333333333333333, \"#9c179e\"], [0.4444444444444444, \"#bd3786\"], [0.5555555555555556, \"#d8576b\"], [0.6666666666666666, \"#ed7953\"], [0.7777777777777778, \"#fb9f3a\"], [0.8888888888888888, \"#fdca26\"], [1.0, \"#f0f921\"]], \"type\": \"heatmap\"}], \"heatmapgl\": [{\"colorbar\": {\"outlinewidth\": 0, \"ticks\": \"\"}, \"colorscale\": [[0.0, \"#0d0887\"], [0.1111111111111111, \"#46039f\"], [0.2222222222222222, \"#7201a8\"], [0.3333333333333333, \"#9c179e\"], [0.4444444444444444, \"#bd3786\"], [0.5555555555555556, \"#d8576b\"], [0.6666666666666666, \"#ed7953\"], [0.7777777777777778, \"#fb9f3a\"], [0.8888888888888888, \"#fdca26\"], [1.0, \"#f0f921\"]], \"type\": \"heatmapgl\"}], \"histogram\": [{\"marker\": {\"colorbar\": {\"outlinewidth\": 0, \"ticks\": \"\"}}, \"type\": \"histogram\"}], \"histogram2d\": [{\"colorbar\": {\"outlinewidth\": 0, \"ticks\": \"\"}, \"colorscale\": [[0.0, \"#0d0887\"], [0.1111111111111111, \"#46039f\"], [0.2222222222222222, \"#7201a8\"], [0.3333333333333333, \"#9c179e\"], [0.4444444444444444, \"#bd3786\"], [0.5555555555555556, \"#d8576b\"], [0.6666666666666666, \"#ed7953\"], [0.7777777777777778, \"#fb9f3a\"], [0.8888888888888888, \"#fdca26\"], [1.0, \"#f0f921\"]], \"type\": \"histogram2d\"}], \"histogram2dcontour\": [{\"colorbar\": {\"outlinewidth\": 0, \"ticks\": \"\"}, \"colorscale\": [[0.0, \"#0d0887\"], [0.1111111111111111, \"#46039f\"], [0.2222222222222222, \"#7201a8\"], [0.3333333333333333, \"#9c179e\"], [0.4444444444444444, \"#bd3786\"], [0.5555555555555556, \"#d8576b\"], [0.6666666666666666, \"#ed7953\"], [0.7777777777777778, \"#fb9f3a\"], [0.8888888888888888, \"#fdca26\"], [1.0, \"#f0f921\"]], \"type\": \"histogram2dcontour\"}], \"mesh3d\": [{\"colorbar\": {\"outlinewidth\": 0, \"ticks\": \"\"}, \"type\": \"mesh3d\"}], \"parcoords\": [{\"line\": {\"colorbar\": {\"outlinewidth\": 0, \"ticks\": \"\"}}, \"type\": \"parcoords\"}], \"pie\": [{\"automargin\": true, \"type\": \"pie\"}], \"scatter\": [{\"marker\": {\"colorbar\": {\"outlinewidth\": 0, \"ticks\": \"\"}}, \"type\": \"scatter\"}], \"scatter3d\": [{\"line\": {\"colorbar\": {\"outlinewidth\": 0, \"ticks\": \"\"}}, \"marker\": {\"colorbar\": {\"outlinewidth\": 0, \"ticks\": \"\"}}, \"type\": \"scatter3d\"}], \"scattercarpet\": [{\"marker\": {\"colorbar\": {\"outlinewidth\": 0, \"ticks\": \"\"}}, \"type\": \"scattercarpet\"}], \"scattergeo\": [{\"marker\": {\"colorbar\": {\"outlinewidth\": 0, \"ticks\": \"\"}}, \"type\": \"scattergeo\"}], \"scattergl\": [{\"marker\": {\"colorbar\": {\"outlinewidth\": 0, \"ticks\": \"\"}}, \"type\": \"scattergl\"}], \"scattermapbox\": [{\"marker\": {\"colorbar\": {\"outlinewidth\": 0, \"ticks\": \"\"}}, \"type\": \"scattermapbox\"}], \"scatterpolar\": [{\"marker\": {\"colorbar\": {\"outlinewidth\": 0, \"ticks\": \"\"}}, \"type\": \"scatterpolar\"}], \"scatterpolargl\": [{\"marker\": {\"colorbar\": {\"outlinewidth\": 0, \"ticks\": \"\"}}, \"type\": \"scatterpolargl\"}], \"scatterternary\": [{\"marker\": {\"colorbar\": {\"outlinewidth\": 0, \"ticks\": \"\"}}, \"type\": \"scatterternary\"}], \"surface\": [{\"colorbar\": {\"outlinewidth\": 0, \"ticks\": \"\"}, \"colorscale\": [[0.0, \"#0d0887\"], [0.1111111111111111, \"#46039f\"], [0.2222222222222222, \"#7201a8\"], [0.3333333333333333, \"#9c179e\"], [0.4444444444444444, \"#bd3786\"], [0.5555555555555556, \"#d8576b\"], [0.6666666666666666, \"#ed7953\"], [0.7777777777777778, \"#fb9f3a\"], [0.8888888888888888, \"#fdca26\"], [1.0, \"#f0f921\"]], \"type\": \"surface\"}], \"table\": [{\"cells\": {\"fill\": {\"color\": \"#EBF0F8\"}, \"line\": {\"color\": \"white\"}}, \"header\": {\"fill\": {\"color\": \"#C8D4E3\"}, \"line\": {\"color\": \"white\"}}, \"type\": \"table\"}]}, \"layout\": {\"annotationdefaults\": {\"arrowcolor\": \"#2a3f5f\", \"arrowhead\": 0, \"arrowwidth\": 1}, \"coloraxis\": {\"colorbar\": {\"outlinewidth\": 0, \"ticks\": \"\"}}, \"colorscale\": {\"diverging\": [[0, \"#8e0152\"], [0.1, \"#c51b7d\"], [0.2, \"#de77ae\"], [0.3, \"#f1b6da\"], [0.4, \"#fde0ef\"], [0.5, \"#f7f7f7\"], [0.6, \"#e6f5d0\"], [0.7, \"#b8e186\"], [0.8, \"#7fbc41\"], [0.9, \"#4d9221\"], [1, \"#276419\"]], \"sequential\": [[0.0, \"#0d0887\"], [0.1111111111111111, \"#46039f\"], [0.2222222222222222, \"#7201a8\"], [0.3333333333333333, \"#9c179e\"], [0.4444444444444444, \"#bd3786\"], [0.5555555555555556, \"#d8576b\"], [0.6666666666666666, \"#ed7953\"], [0.7777777777777778, \"#fb9f3a\"], [0.8888888888888888, \"#fdca26\"], [1.0, \"#f0f921\"]], \"sequentialminus\": [[0.0, \"#0d0887\"], [0.1111111111111111, \"#46039f\"], [0.2222222222222222, \"#7201a8\"], [0.3333333333333333, \"#9c179e\"], [0.4444444444444444, \"#bd3786\"], [0.5555555555555556, \"#d8576b\"], [0.6666666666666666, \"#ed7953\"], [0.7777777777777778, \"#fb9f3a\"], [0.8888888888888888, \"#fdca26\"], [1.0, \"#f0f921\"]]}, \"colorway\": [\"#636efa\", \"#EF553B\", \"#00cc96\", \"#ab63fa\", \"#FFA15A\", \"#19d3f3\", \"#FF6692\", \"#B6E880\", \"#FF97FF\", \"#FECB52\"], \"font\": {\"color\": \"#2a3f5f\"}, \"geo\": {\"bgcolor\": \"white\", \"lakecolor\": \"white\", \"landcolor\": \"#E5ECF6\", \"showlakes\": true, \"showland\": true, \"subunitcolor\": \"white\"}, \"hoverlabel\": {\"align\": \"left\"}, \"hovermode\": \"closest\", \"mapbox\": {\"style\": \"light\"}, \"paper_bgcolor\": \"white\", \"plot_bgcolor\": \"#E5ECF6\", \"polar\": {\"angularaxis\": {\"gridcolor\": \"white\", \"linecolor\": \"white\", \"ticks\": \"\"}, \"bgcolor\": \"#E5ECF6\", \"radialaxis\": {\"gridcolor\": \"white\", \"linecolor\": \"white\", \"ticks\": \"\"}}, \"scene\": {\"xaxis\": {\"backgroundcolor\": \"#E5ECF6\", \"gridcolor\": \"white\", \"gridwidth\": 2, \"linecolor\": \"white\", \"showbackground\": true, \"ticks\": \"\", \"zerolinecolor\": \"white\"}, \"yaxis\": {\"backgroundcolor\": \"#E5ECF6\", \"gridcolor\": \"white\", \"gridwidth\": 2, \"linecolor\": \"white\", \"showbackground\": true, \"ticks\": \"\", \"zerolinecolor\": \"white\"}, \"zaxis\": {\"backgroundcolor\": \"#E5ECF6\", \"gridcolor\": \"white\", \"gridwidth\": 2, \"linecolor\": \"white\", \"showbackground\": true, \"ticks\": \"\", \"zerolinecolor\": \"white\"}}, \"shapedefaults\": {\"line\": {\"color\": \"#2a3f5f\"}}, \"ternary\": {\"aaxis\": {\"gridcolor\": \"white\", \"linecolor\": \"white\", \"ticks\": \"\"}, \"baxis\": {\"gridcolor\": \"white\", \"linecolor\": \"white\", \"ticks\": \"\"}, \"bgcolor\": \"#E5ECF6\", \"caxis\": {\"gridcolor\": \"white\", \"linecolor\": \"white\", \"ticks\": \"\"}}, \"title\": {\"x\": 0.05}, \"xaxis\": {\"automargin\": true, \"gridcolor\": \"white\", \"linecolor\": \"white\", \"ticks\": \"\", \"title\": {\"standoff\": 15}, \"zerolinecolor\": \"white\", \"zerolinewidth\": 2}, \"yaxis\": {\"automargin\": true, \"gridcolor\": \"white\", \"linecolor\": \"white\", \"ticks\": \"\", \"title\": {\"standoff\": 15}, \"zerolinecolor\": \"white\", \"zerolinewidth\": 2}}}, \"title\": {\"text\": \"Justices Along 2 Components (PCA)\"}, \"updatemenus\": [{\"buttons\": [{\"args\": [null, {\"frame\": {\"duration\": 3000, \"redraw\": false}, \"fromcurrent\": true, \"mode\": \"immediate\", \"transition\": {\"duration\": 2000, \"easing\": \"linear\"}}], \"label\": \"&#9654;\", \"method\": \"animate\"}, {\"args\": [[null], {\"frame\": {\"duration\": 0, \"redraw\": false}, \"fromcurrent\": true, \"mode\": \"immediate\", \"transition\": {\"duration\": 0, \"easing\": \"linear\"}}], \"label\": \"&#9724;\", \"method\": \"animate\"}], \"direction\": \"left\", \"pad\": {\"r\": 10, \"t\": 70}, \"showactive\": false, \"type\": \"buttons\", \"x\": 0.1, \"xanchor\": \"right\", \"y\": 0, \"yanchor\": \"top\"}], \"width\": 500, \"xaxis\": {\"anchor\": \"y\", \"domain\": [0.0, 1.0], \"range\": [-0.2, 1.2], \"title\": {\"text\": \"PC1\"}}, \"yaxis\": {\"anchor\": \"x\", \"domain\": [0.0, 1.0], \"range\": [-0.2, 1.2], \"title\": {\"text\": \"PC2\"}}},\n",
       "                        {\"responsive\": true}\n",
       "                    ).then(function(){\n",
       "                            Plotly.addFrames('edcfa19f-3aa3-4e76-ab5f-0c9ebd6d9928', [{\"data\": [{\"hovertemplate\": \"court=0<br>PC1=%{x}<br>PC2=%{y}<br>justice=%{text}<extra></extra>\", \"ids\": [\"Rehnquist\", \"O'Connor\", \"Souter\", \"Stevens\", \"Scalia\", \"Kennedy\", \"Breyer\", \"Ginsburg\", \"Thomas\"], \"legendgroup\": \"\", \"marker\": {\"color\": \"#636efa\", \"symbol\": \"circle\"}, \"mode\": \"markers+text\", \"name\": \"\", \"orientation\": \"v\", \"showlegend\": false, \"text\": [\"Rehnquist\", \"O'Connor\", \"Souter\", \"Stevens\", \"Scalia\", \"Kennedy\", \"Breyer\", \"Ginsburg\", \"Thomas\"], \"x\": [0.9085122627039396, 0.620809535661631, 0.0740271726451539, 0.0, 0.9989566939523578, 0.7943286182754276, 0.11578872568429421, 0.03393891273382266, 1.0], \"xaxis\": \"x\", \"y\": [0.7379649775367028, 1.0, 0.31076000147629557, 0.12345026978325102, 0.024039405798637503, 0.6430664359644882, 0.6707757292640334, 0.32605946137735997, 0.0], \"yaxis\": \"y\", \"type\": \"scatter\"}], \"name\": \"0\"}, {\"data\": [{\"hovertemplate\": \"court=1<br>PC1=%{x}<br>PC2=%{y}<br>justice=%{text}<extra></extra>\", \"ids\": [\"O'Connor\", \"Souter\", \"Stevens\", \"Scalia\", \"Kennedy\", \"Breyer\", \"Ginsburg\", \"Thomas\", \"Roberts\"], \"legendgroup\": \"\", \"marker\": {\"color\": \"#636efa\", \"symbol\": \"circle\"}, \"mode\": \"markers+text\", \"name\": \"\", \"orientation\": \"v\", \"showlegend\": false, \"text\": [\"O'Connor\", \"Souter\", \"Stevens\", \"Scalia\", \"Kennedy\", \"Breyer\", \"Ginsburg\", \"Thomas\", \"Roberts\"], \"x\": [0.36277804067082275, 0.060877760340971976, 0.023108266041134917, 0.9762699967642741, 0.5626403490144073, 0.06087776034097225, 0.0, 1.0, 0.9762699967642741], \"xaxis\": \"x\", \"y\": [0.1091754256735745, 0.0, 0.37049786603721074, 0.1300490566340661, 1.0, 8.326672684688674e-17, 0.35963993932107735, 0.13319785447547877, 0.1300490566340661], \"yaxis\": \"y\", \"type\": \"scatter\"}], \"name\": \"1\"}, {\"data\": [{\"hovertemplate\": \"court=2<br>PC1=%{x}<br>PC2=%{y}<br>justice=%{text}<extra></extra>\", \"ids\": [\"Souter\", \"Stevens\", \"Scalia\", \"Kennedy\", \"Breyer\", \"Ginsburg\", \"Thomas\", \"Roberts\", \"Alito\"], \"legendgroup\": \"\", \"marker\": {\"color\": \"#636efa\", \"symbol\": \"circle\"}, \"mode\": \"markers+text\", \"name\": \"\", \"orientation\": \"v\", \"showlegend\": false, \"text\": [\"Souter\", \"Stevens\", \"Scalia\", \"Kennedy\", \"Breyer\", \"Ginsburg\", \"Thomas\", \"Roberts\", \"Alito\"], \"x\": [0.09524439039364824, 0.0, 0.972807905228561, 0.6988718927108777, 0.14895684863273317, 0.06771320996217134, 1.0, 0.9158655909279664, 0.9416808424287689], \"xaxis\": \"x\", \"y\": [0.31519280909735803, 0.30788803937390274, 0.10462803956844108, 1.0, 0.7378171609701583, 0.2612065831605602, 0.0, 0.5917518038177745, 0.7053345316307016], \"yaxis\": \"y\", \"type\": \"scatter\"}], \"name\": \"2\"}, {\"data\": [{\"hovertemplate\": \"court=3<br>PC1=%{x}<br>PC2=%{y}<br>justice=%{text}<extra></extra>\", \"ids\": [\"Stevens\", \"Scalia\", \"Kennedy\", \"Breyer\", \"Ginsburg\", \"Thomas\", \"Roberts\", \"Alito\", \"Sotomayor\"], \"legendgroup\": \"\", \"marker\": {\"color\": \"#636efa\", \"symbol\": \"circle\"}, \"mode\": \"markers+text\", \"name\": \"\", \"orientation\": \"v\", \"showlegend\": false, \"text\": [\"Stevens\", \"Scalia\", \"Kennedy\", \"Breyer\", \"Ginsburg\", \"Thomas\", \"Roberts\", \"Alito\", \"Sotomayor\"], \"x\": [0.037496061061254304, 1.0, 0.5528728740690227, 0.0113979846362523, 0.06269124339768728, 0.9933893527455914, 0.7705146220871272, 0.8780741445451123, 0.0], \"xaxis\": \"x\", \"y\": [0.19149985273533976, 0.187857885834171, 1.0, 0.39095636860561167, 0.6441376666539276, 0.0, 0.6823188974436872, 0.7502642664485164, 0.2852592165649175], \"yaxis\": \"y\", \"type\": \"scatter\"}], \"name\": \"3\"}, {\"data\": [{\"hovertemplate\": \"court=4<br>PC1=%{x}<br>PC2=%{y}<br>justice=%{text}<extra></extra>\", \"ids\": [\"Scalia\", \"Kennedy\", \"Breyer\", \"Ginsburg\", \"Thomas\", \"Roberts\", \"Alito\", \"Sotomayor\", \"Kagan\"], \"legendgroup\": \"\", \"marker\": {\"color\": \"#636efa\", \"symbol\": \"circle\"}, \"mode\": \"markers+text\", \"name\": \"\", \"orientation\": \"v\", \"showlegend\": false, \"text\": [\"Scalia\", \"Kennedy\", \"Breyer\", \"Ginsburg\", \"Thomas\", \"Roberts\", \"Alito\", \"Sotomayor\", \"Kagan\"], \"x\": [0.9393054314981699, 0.5808480801228693, 0.09684861813409701, 0.0, 1.0, 0.868741074660599, 0.9974342185750942, 0.04373665025508289, 0.06860557431444492], \"xaxis\": \"x\", \"y\": [0.0, 1.0, 0.5144460271753196, 0.08231380751781053, 0.04594596719306465, 0.47302684282772817, 0.45131590375052993, 0.2791855093142942, 0.21854572698182229], \"yaxis\": \"y\", \"type\": \"scatter\"}], \"name\": \"4\"}, {\"data\": [{\"hovertemplate\": \"court=5<br>PC1=%{x}<br>PC2=%{y}<br>justice=%{text}<extra></extra>\", \"ids\": [\"Kennedy\", \"Breyer\", \"Ginsburg\", \"Thomas\", \"Roberts\", \"Alito\", \"Sotomayor\", \"Kagan\", \"Gorsuch\"], \"legendgroup\": \"\", \"marker\": {\"color\": \"#636efa\", \"symbol\": \"circle\"}, \"mode\": \"markers+text\", \"name\": \"\", \"orientation\": \"v\", \"showlegend\": false, \"text\": [\"Kennedy\", \"Breyer\", \"Ginsburg\", \"Thomas\", \"Roberts\", \"Alito\", \"Sotomayor\", \"Kagan\", \"Gorsuch\"], \"x\": [0.7426905032924086, 0.05288591354199401, 0.05268279438198764, 0.999418778177553, 0.7018793595871731, 1.0000000000000002, 0.0, 0.12158877748512342, 0.9072650503997144], \"xaxis\": \"x\", \"y\": [0.8514184680915986, 0.3453616853390108, 0.30573981234142966, 0.0, 1.0, 0.0009656402629453775, 0.31586245018115733, 0.30641097028613695, 0.45991079425955317], \"yaxis\": \"y\", \"type\": \"scatter\"}], \"name\": \"5\"}, {\"data\": [{\"hovertemplate\": \"court=6<br>PC1=%{x}<br>PC2=%{y}<br>justice=%{text}<extra></extra>\", \"ids\": [\"Breyer\", \"Ginsburg\", \"Thomas\", \"Roberts\", \"Alito\", \"Sotomayor\", \"Kagan\", \"Gorsuch\", \"Kavanaugh\"], \"legendgroup\": \"\", \"marker\": {\"color\": \"#636efa\", \"symbol\": \"circle\"}, \"mode\": \"markers+text\", \"name\": \"\", \"orientation\": \"v\", \"showlegend\": false, \"text\": [\"Breyer\", \"Ginsburg\", \"Thomas\", \"Roberts\", \"Alito\", \"Sotomayor\", \"Kagan\", \"Gorsuch\", \"Kavanaugh\"], \"x\": [0.09697517045951515, 0.03217280164217723, 0.9999999999999998, 0.6954168239447379, 0.9620743491532304, 0.0, 0.10212650140604873, 0.753804696245826, 0.7327492321457049], \"xaxis\": \"x\", \"y\": [0.7184590816714673, 0.4471403292276267, 0.23793954674204237, 1.0, 0.6882464295520944, 0.39495057117620425, 0.5413348970586553, 0.0, 0.9058676718307008], \"yaxis\": \"y\", \"type\": \"scatter\"}], \"name\": \"6\"}]);\n",
       "                        }).then(function(){\n",
       "                            \n",
       "var gd = document.getElementById('edcfa19f-3aa3-4e76-ab5f-0c9ebd6d9928');\n",
       "var x = new MutationObserver(function (mutations, observer) {{\n",
       "        var display = window.getComputedStyle(gd).display;\n",
       "        if (!display || display === 'none') {{\n",
       "            console.log([gd, 'removed!']);\n",
       "            Plotly.purge(gd);\n",
       "            observer.disconnect();\n",
       "        }}\n",
       "}});\n",
       "\n",
       "// Listen for the removal of the full notebook cells\n",
       "var notebookContainer = gd.closest('#notebook-container');\n",
       "if (notebookContainer) {{\n",
       "    x.observe(notebookContainer, {childList: true});\n",
       "}}\n",
       "\n",
       "// Listen for the clearing of the current output cell\n",
       "var outputEl = gd.closest('.output');\n",
       "if (outputEl) {{\n",
       "    x.observe(outputEl, {childList: true});\n",
       "}}\n",
       "\n",
       "                        })\n",
       "                };\n",
       "                });\n",
       "            </script>\n",
       "        </div>"
      ]
     },
     "metadata": {},
     "output_type": "display_data"
    }
   ],
   "source": [
    "animated_2comp(pcas)"
   ]
  },
  {
   "cell_type": "markdown",
   "metadata": {},
   "source": [
    "## Function to create similarity matrix for network graph"
   ]
  },
  {
   "cell_type": "code",
   "execution_count": 308,
   "metadata": {
    "ExecuteTime": {
     "end_time": "2020-07-24T00:33:34.117659Z",
     "start_time": "2020-07-24T00:33:34.105449Z"
    }
   },
   "outputs": [],
   "source": [
    "def all_sim(df):\n",
    "    '''\n",
    "    Returns a similarity DataFrame for all justices (justices who did no serve together are NaN values)\n",
    "    '''\n",
    "    jus = list(df.index)\n",
    "    l = len(jus)\n",
    "    sim_mat = np.zeros((l,l))\n",
    "\n",
    "    for i in range(l):\n",
    "        for j in range(l):   \n",
    "            anb = np.where(df.loc[jus[i]].notna() & df.loc[jus[j]].notna(), df.columns, np.nan)\n",
    "            if len([ x for x in anb if str(x) != 'nan' ]) != 0:\n",
    "                j_a = np.array(df[[ x for x in anb if str(x) != 'nan' ]].loc[jus[i]])\n",
    "                j_b = np.array(df[[ x for x in anb if str(x) != 'nan' ]].loc[jus[j]])\n",
    "                sim_mat[i][j] = np.round(cosine_similarity(j_a.reshape(1, len(j_a)), j_b.reshape(1, len(j_a))), 4)\n",
    "            else:\n",
    "                sim_mat[i][j] = np.nan\n",
    "    \n",
    "    sim_mat = pd.DataFrame(sim_mat, index=jus, columns=jus)\n",
    "    return sim_mat"
   ]
  },
  {
   "cell_type": "code",
   "execution_count": 309,
   "metadata": {
    "ExecuteTime": {
     "end_time": "2020-07-24T00:33:37.456282Z",
     "start_time": "2020-07-24T00:33:35.532433Z"
    }
   },
   "outputs": [
    {
     "data": {
      "text/html": [
       "<div>\n",
       "<style scoped>\n",
       "    .dataframe tbody tr th:only-of-type {\n",
       "        vertical-align: middle;\n",
       "    }\n",
       "\n",
       "    .dataframe tbody tr th {\n",
       "        vertical-align: top;\n",
       "    }\n",
       "\n",
       "    .dataframe thead th {\n",
       "        text-align: right;\n",
       "    }\n",
       "</style>\n",
       "<table border=\"1\" class=\"dataframe\">\n",
       "  <thead>\n",
       "    <tr style=\"text-align: right;\">\n",
       "      <th></th>\n",
       "      <th>Alito</th>\n",
       "      <th>Breyer</th>\n",
       "      <th>Ginsburg</th>\n",
       "      <th>Gorsuch</th>\n",
       "      <th>Kagan</th>\n",
       "      <th>Kavanaugh</th>\n",
       "      <th>Kennedy</th>\n",
       "      <th>O'Connor</th>\n",
       "      <th>Rehnquist</th>\n",
       "      <th>Roberts</th>\n",
       "      <th>Scalia</th>\n",
       "      <th>Sotomayor</th>\n",
       "      <th>Souter</th>\n",
       "      <th>Stevens</th>\n",
       "      <th>Thomas</th>\n",
       "    </tr>\n",
       "  </thead>\n",
       "  <tbody>\n",
       "    <tr>\n",
       "      <td>Alito</td>\n",
       "      <td>1.0000</td>\n",
       "      <td>0.3545</td>\n",
       "      <td>0.2612</td>\n",
       "      <td>0.6074</td>\n",
       "      <td>0.3474</td>\n",
       "      <td>0.7070</td>\n",
       "      <td>0.6690</td>\n",
       "      <td>NaN</td>\n",
       "      <td>NaN</td>\n",
       "      <td>0.7618</td>\n",
       "      <td>0.7030</td>\n",
       "      <td>0.2597</td>\n",
       "      <td>0.2359</td>\n",
       "      <td>0.1316</td>\n",
       "      <td>0.7484</td>\n",
       "    </tr>\n",
       "    <tr>\n",
       "      <td>Breyer</td>\n",
       "      <td>0.3545</td>\n",
       "      <td>1.0000</td>\n",
       "      <td>0.7557</td>\n",
       "      <td>0.2098</td>\n",
       "      <td>0.8081</td>\n",
       "      <td>0.4586</td>\n",
       "      <td>0.5388</td>\n",
       "      <td>0.6103</td>\n",
       "      <td>0.4175</td>\n",
       "      <td>0.4845</td>\n",
       "      <td>0.2892</td>\n",
       "      <td>0.7509</td>\n",
       "      <td>0.7290</td>\n",
       "      <td>0.6521</td>\n",
       "      <td>0.2420</td>\n",
       "    </tr>\n",
       "    <tr>\n",
       "      <td>Ginsburg</td>\n",
       "      <td>0.2612</td>\n",
       "      <td>0.7557</td>\n",
       "      <td>1.0000</td>\n",
       "      <td>0.2429</td>\n",
       "      <td>0.8099</td>\n",
       "      <td>0.3594</td>\n",
       "      <td>0.4692</td>\n",
       "      <td>0.5027</td>\n",
       "      <td>0.3493</td>\n",
       "      <td>0.3958</td>\n",
       "      <td>0.2807</td>\n",
       "      <td>0.7947</td>\n",
       "      <td>0.8063</td>\n",
       "      <td>0.7033</td>\n",
       "      <td>0.2216</td>\n",
       "    </tr>\n",
       "    <tr>\n",
       "      <td>Gorsuch</td>\n",
       "      <td>0.6074</td>\n",
       "      <td>0.2098</td>\n",
       "      <td>0.2429</td>\n",
       "      <td>1.0000</td>\n",
       "      <td>0.3237</td>\n",
       "      <td>0.5792</td>\n",
       "      <td>0.6885</td>\n",
       "      <td>NaN</td>\n",
       "      <td>NaN</td>\n",
       "      <td>0.5919</td>\n",
       "      <td>NaN</td>\n",
       "      <td>0.2255</td>\n",
       "      <td>NaN</td>\n",
       "      <td>NaN</td>\n",
       "      <td>0.6606</td>\n",
       "    </tr>\n",
       "    <tr>\n",
       "      <td>Kagan</td>\n",
       "      <td>0.3474</td>\n",
       "      <td>0.8081</td>\n",
       "      <td>0.8099</td>\n",
       "      <td>0.3237</td>\n",
       "      <td>1.0000</td>\n",
       "      <td>0.4566</td>\n",
       "      <td>0.6331</td>\n",
       "      <td>NaN</td>\n",
       "      <td>NaN</td>\n",
       "      <td>0.5144</td>\n",
       "      <td>0.4247</td>\n",
       "      <td>0.7942</td>\n",
       "      <td>NaN</td>\n",
       "      <td>NaN</td>\n",
       "      <td>0.2892</td>\n",
       "    </tr>\n",
       "    <tr>\n",
       "      <td>Kavanaugh</td>\n",
       "      <td>0.7070</td>\n",
       "      <td>0.4586</td>\n",
       "      <td>0.3594</td>\n",
       "      <td>0.5792</td>\n",
       "      <td>0.4566</td>\n",
       "      <td>1.0000</td>\n",
       "      <td>NaN</td>\n",
       "      <td>NaN</td>\n",
       "      <td>NaN</td>\n",
       "      <td>0.8845</td>\n",
       "      <td>NaN</td>\n",
       "      <td>0.3300</td>\n",
       "      <td>NaN</td>\n",
       "      <td>NaN</td>\n",
       "      <td>0.5741</td>\n",
       "    </tr>\n",
       "    <tr>\n",
       "      <td>Kennedy</td>\n",
       "      <td>0.6690</td>\n",
       "      <td>0.5388</td>\n",
       "      <td>0.4692</td>\n",
       "      <td>0.6885</td>\n",
       "      <td>0.6331</td>\n",
       "      <td>NaN</td>\n",
       "      <td>1.0000</td>\n",
       "      <td>0.6871</td>\n",
       "      <td>0.7926</td>\n",
       "      <td>0.7266</td>\n",
       "      <td>0.6201</td>\n",
       "      <td>0.5501</td>\n",
       "      <td>0.4499</td>\n",
       "      <td>0.3548</td>\n",
       "      <td>0.5820</td>\n",
       "    </tr>\n",
       "    <tr>\n",
       "      <td>O'Connor</td>\n",
       "      <td>NaN</td>\n",
       "      <td>0.6103</td>\n",
       "      <td>0.5027</td>\n",
       "      <td>NaN</td>\n",
       "      <td>NaN</td>\n",
       "      <td>NaN</td>\n",
       "      <td>0.6871</td>\n",
       "      <td>1.0000</td>\n",
       "      <td>0.7249</td>\n",
       "      <td>0.8333</td>\n",
       "      <td>0.5619</td>\n",
       "      <td>NaN</td>\n",
       "      <td>0.5455</td>\n",
       "      <td>0.4015</td>\n",
       "      <td>0.5489</td>\n",
       "    </tr>\n",
       "    <tr>\n",
       "      <td>Rehnquist</td>\n",
       "      <td>NaN</td>\n",
       "      <td>0.4175</td>\n",
       "      <td>0.3493</td>\n",
       "      <td>NaN</td>\n",
       "      <td>NaN</td>\n",
       "      <td>NaN</td>\n",
       "      <td>0.7926</td>\n",
       "      <td>0.7249</td>\n",
       "      <td>1.0000</td>\n",
       "      <td>NaN</td>\n",
       "      <td>0.7076</td>\n",
       "      <td>NaN</td>\n",
       "      <td>0.3586</td>\n",
       "      <td>0.2193</td>\n",
       "      <td>0.7410</td>\n",
       "    </tr>\n",
       "    <tr>\n",
       "      <td>Roberts</td>\n",
       "      <td>0.7618</td>\n",
       "      <td>0.4845</td>\n",
       "      <td>0.3958</td>\n",
       "      <td>0.5919</td>\n",
       "      <td>0.5144</td>\n",
       "      <td>0.8845</td>\n",
       "      <td>0.7266</td>\n",
       "      <td>0.8333</td>\n",
       "      <td>NaN</td>\n",
       "      <td>1.0000</td>\n",
       "      <td>0.7784</td>\n",
       "      <td>0.4542</td>\n",
       "      <td>0.3755</td>\n",
       "      <td>0.2630</td>\n",
       "      <td>0.6574</td>\n",
       "    </tr>\n",
       "    <tr>\n",
       "      <td>Scalia</td>\n",
       "      <td>0.7030</td>\n",
       "      <td>0.2892</td>\n",
       "      <td>0.2807</td>\n",
       "      <td>NaN</td>\n",
       "      <td>0.4247</td>\n",
       "      <td>NaN</td>\n",
       "      <td>0.6201</td>\n",
       "      <td>0.5619</td>\n",
       "      <td>0.7076</td>\n",
       "      <td>0.7784</td>\n",
       "      <td>1.0000</td>\n",
       "      <td>0.3366</td>\n",
       "      <td>0.2797</td>\n",
       "      <td>0.1514</td>\n",
       "      <td>0.8267</td>\n",
       "    </tr>\n",
       "    <tr>\n",
       "      <td>Sotomayor</td>\n",
       "      <td>0.2597</td>\n",
       "      <td>0.7509</td>\n",
       "      <td>0.7947</td>\n",
       "      <td>0.2255</td>\n",
       "      <td>0.7942</td>\n",
       "      <td>0.3300</td>\n",
       "      <td>0.5501</td>\n",
       "      <td>NaN</td>\n",
       "      <td>NaN</td>\n",
       "      <td>0.4542</td>\n",
       "      <td>0.3366</td>\n",
       "      <td>1.0000</td>\n",
       "      <td>NaN</td>\n",
       "      <td>0.6742</td>\n",
       "      <td>0.2245</td>\n",
       "    </tr>\n",
       "    <tr>\n",
       "      <td>Souter</td>\n",
       "      <td>0.2359</td>\n",
       "      <td>0.7290</td>\n",
       "      <td>0.8063</td>\n",
       "      <td>NaN</td>\n",
       "      <td>NaN</td>\n",
       "      <td>NaN</td>\n",
       "      <td>0.4499</td>\n",
       "      <td>0.5455</td>\n",
       "      <td>0.3586</td>\n",
       "      <td>0.3755</td>\n",
       "      <td>0.2797</td>\n",
       "      <td>NaN</td>\n",
       "      <td>1.0000</td>\n",
       "      <td>0.7102</td>\n",
       "      <td>0.2619</td>\n",
       "    </tr>\n",
       "    <tr>\n",
       "      <td>Stevens</td>\n",
       "      <td>0.1316</td>\n",
       "      <td>0.6521</td>\n",
       "      <td>0.7033</td>\n",
       "      <td>NaN</td>\n",
       "      <td>NaN</td>\n",
       "      <td>NaN</td>\n",
       "      <td>0.3548</td>\n",
       "      <td>0.4015</td>\n",
       "      <td>0.2193</td>\n",
       "      <td>0.2630</td>\n",
       "      <td>0.1514</td>\n",
       "      <td>0.6742</td>\n",
       "      <td>0.7102</td>\n",
       "      <td>1.0000</td>\n",
       "      <td>0.1491</td>\n",
       "    </tr>\n",
       "    <tr>\n",
       "      <td>Thomas</td>\n",
       "      <td>0.7484</td>\n",
       "      <td>0.2420</td>\n",
       "      <td>0.2216</td>\n",
       "      <td>0.6606</td>\n",
       "      <td>0.2892</td>\n",
       "      <td>0.5741</td>\n",
       "      <td>0.5820</td>\n",
       "      <td>0.5489</td>\n",
       "      <td>0.7410</td>\n",
       "      <td>0.6574</td>\n",
       "      <td>0.8267</td>\n",
       "      <td>0.2245</td>\n",
       "      <td>0.2619</td>\n",
       "      <td>0.1491</td>\n",
       "      <td>1.0000</td>\n",
       "    </tr>\n",
       "  </tbody>\n",
       "</table>\n",
       "</div>"
      ],
      "text/plain": [
       "            Alito  Breyer  Ginsburg  Gorsuch   Kagan  Kavanaugh  Kennedy  \\\n",
       "Alito      1.0000  0.3545    0.2612   0.6074  0.3474     0.7070   0.6690   \n",
       "Breyer     0.3545  1.0000    0.7557   0.2098  0.8081     0.4586   0.5388   \n",
       "Ginsburg   0.2612  0.7557    1.0000   0.2429  0.8099     0.3594   0.4692   \n",
       "Gorsuch    0.6074  0.2098    0.2429   1.0000  0.3237     0.5792   0.6885   \n",
       "Kagan      0.3474  0.8081    0.8099   0.3237  1.0000     0.4566   0.6331   \n",
       "Kavanaugh  0.7070  0.4586    0.3594   0.5792  0.4566     1.0000      NaN   \n",
       "Kennedy    0.6690  0.5388    0.4692   0.6885  0.6331        NaN   1.0000   \n",
       "O'Connor      NaN  0.6103    0.5027      NaN     NaN        NaN   0.6871   \n",
       "Rehnquist     NaN  0.4175    0.3493      NaN     NaN        NaN   0.7926   \n",
       "Roberts    0.7618  0.4845    0.3958   0.5919  0.5144     0.8845   0.7266   \n",
       "Scalia     0.7030  0.2892    0.2807      NaN  0.4247        NaN   0.6201   \n",
       "Sotomayor  0.2597  0.7509    0.7947   0.2255  0.7942     0.3300   0.5501   \n",
       "Souter     0.2359  0.7290    0.8063      NaN     NaN        NaN   0.4499   \n",
       "Stevens    0.1316  0.6521    0.7033      NaN     NaN        NaN   0.3548   \n",
       "Thomas     0.7484  0.2420    0.2216   0.6606  0.2892     0.5741   0.5820   \n",
       "\n",
       "           O'Connor  Rehnquist  Roberts  Scalia  Sotomayor  Souter  Stevens  \\\n",
       "Alito           NaN        NaN   0.7618  0.7030     0.2597  0.2359   0.1316   \n",
       "Breyer       0.6103     0.4175   0.4845  0.2892     0.7509  0.7290   0.6521   \n",
       "Ginsburg     0.5027     0.3493   0.3958  0.2807     0.7947  0.8063   0.7033   \n",
       "Gorsuch         NaN        NaN   0.5919     NaN     0.2255     NaN      NaN   \n",
       "Kagan           NaN        NaN   0.5144  0.4247     0.7942     NaN      NaN   \n",
       "Kavanaugh       NaN        NaN   0.8845     NaN     0.3300     NaN      NaN   \n",
       "Kennedy      0.6871     0.7926   0.7266  0.6201     0.5501  0.4499   0.3548   \n",
       "O'Connor     1.0000     0.7249   0.8333  0.5619        NaN  0.5455   0.4015   \n",
       "Rehnquist    0.7249     1.0000      NaN  0.7076        NaN  0.3586   0.2193   \n",
       "Roberts      0.8333        NaN   1.0000  0.7784     0.4542  0.3755   0.2630   \n",
       "Scalia       0.5619     0.7076   0.7784  1.0000     0.3366  0.2797   0.1514   \n",
       "Sotomayor       NaN        NaN   0.4542  0.3366     1.0000     NaN   0.6742   \n",
       "Souter       0.5455     0.3586   0.3755  0.2797        NaN  1.0000   0.7102   \n",
       "Stevens      0.4015     0.2193   0.2630  0.1514     0.6742  0.7102   1.0000   \n",
       "Thomas       0.5489     0.7410   0.6574  0.8267     0.2245  0.2619   0.1491   \n",
       "\n",
       "           Thomas  \n",
       "Alito      0.7484  \n",
       "Breyer     0.2420  \n",
       "Ginsburg   0.2216  \n",
       "Gorsuch    0.6606  \n",
       "Kagan      0.2892  \n",
       "Kavanaugh  0.5741  \n",
       "Kennedy    0.5820  \n",
       "O'Connor   0.5489  \n",
       "Rehnquist  0.7410  \n",
       "Roberts    0.6574  \n",
       "Scalia     0.8267  \n",
       "Sotomayor  0.2245  \n",
       "Souter     0.2619  \n",
       "Stevens    0.1491  \n",
       "Thomas     1.0000  "
      ]
     },
     "execution_count": 309,
     "metadata": {},
     "output_type": "execute_result"
    }
   ],
   "source": [
    "sim_df = all_sim(df2)\n",
    "sim_df"
   ]
  },
  {
   "cell_type": "markdown",
   "metadata": {},
   "source": [
    "## Functions to build network graph\n",
    "The following are functions and helper functions to build the edges in a network, a graph network, the traces for each edge, the trace for the nodes in the graph network, and finally a plot of the graph network."
   ]
  },
  {
   "cell_type": "code",
   "execution_count": 310,
   "metadata": {
    "ExecuteTime": {
     "end_time": "2020-07-24T00:35:19.318317Z",
     "start_time": "2020-07-24T00:35:19.310895Z"
    }
   },
   "outputs": [],
   "source": [
    "# Scale data helper function\n",
    "def scale_data(df):\n",
    "    jus = list(df.index)\n",
    "    scaler = MinMaxScaler()\n",
    "    new_df = pd.DataFrame(scaler.fit_transform(df), index=jus, columns=jus)\n",
    "    return new_df\n",
    "\n",
    "# Edge builder helper function\n",
    "def build_edges(df):\n",
    "    l = len(df.index) # number of nodes\n",
    "    edges = []\n",
    "    for i in range(l):\n",
    "        for j in range(i+1, l):\n",
    "            if str(df.iloc[i][j]) != 'nan':\n",
    "                tup = (df.iloc[i].name, df.iloc[i].index[j], df.iloc[i][j]) # (justice A, justice B, sim)\n",
    "                edges.append(tup)\n",
    "    return edges"
   ]
  },
  {
   "cell_type": "code",
   "execution_count": 311,
   "metadata": {
    "ExecuteTime": {
     "end_time": "2020-07-24T00:35:19.750168Z",
     "start_time": "2020-07-24T00:35:19.744580Z"
    }
   },
   "outputs": [],
   "source": [
    "def build_network(df):\n",
    "    '''\n",
    "    Build network function, returns nx.Graph object\n",
    "    '''\n",
    "    G = nx.Graph()\n",
    "    new_df = scale_data(df)\n",
    "    edges = build_edges(new_df)\n",
    "    \n",
    "    # Add edges to graph\n",
    "    for edge in edges:\n",
    "        G.add_edge(edge[0], edge[1], weight=edge[2])\n",
    "    \n",
    "    # Positions of nodes with Fruchterman-Reingold force-directed algorithm\n",
    "    pos = nx.spring_layout(G)\n",
    "    \n",
    "    return G, pos"
   ]
  },
  {
   "cell_type": "code",
   "execution_count": 312,
   "metadata": {
    "ExecuteTime": {
     "end_time": "2020-07-24T00:35:20.458757Z",
     "start_time": "2020-07-24T00:35:20.449726Z"
    }
   },
   "outputs": [],
   "source": [
    "# Helper function to treat each edge as a separate trace\n",
    "def get_edge_traces(G, pos, df):\n",
    "    edge_traces = []\n",
    "    for edge in G.edges():\n",
    "        edge_x = []\n",
    "        edge_y = []\n",
    "        x0, y0 = pos[edge[0]]\n",
    "        x1, y1 = pos[edge[1]]\n",
    "        edge_x.append(x0)\n",
    "        edge_x.append(x1)\n",
    "        edge_x.append(None)\n",
    "        edge_y.append(y0)\n",
    "        edge_y.append(y1)\n",
    "        edge_y.append(None)\n",
    "        \n",
    "        # Exponent and multiplier applied to weight of edges\n",
    "        width = 10 * df.loc[edge[0]][edge[1]]**3\n",
    "        edge_trace = go.Scatter(\n",
    "            x=edge_x, y=edge_y,\n",
    "            line=dict(width=width, color='red'),\n",
    "            hoverinfo='none',\n",
    "            mode='lines')\n",
    "        edge_traces.append(edge_trace)\n",
    "        \n",
    "    return edge_traces"
   ]
  },
  {
   "cell_type": "code",
   "execution_count": 313,
   "metadata": {
    "ExecuteTime": {
     "end_time": "2020-07-24T00:35:21.218098Z",
     "start_time": "2020-07-24T00:35:21.209631Z"
    }
   },
   "outputs": [],
   "source": [
    "# Helper function to get node trace\n",
    "def get_node_trace(G, pos, sim_df, cases_df):\n",
    "    node_x = []\n",
    "    node_y = []\n",
    "    node_name = []\n",
    "    node_size = []\n",
    "    cases = []\n",
    "    for node in G.nodes():\n",
    "        x, y = pos[node]\n",
    "        node_x.append(x)\n",
    "        node_y.append(y)\n",
    "        node_size.append(len(cases_df.loc[node].dropna()) / 50)\n",
    "        node_name.append(node)\n",
    "        cases.append(len(cases_df.loc[node].dropna()))\n",
    "\n",
    "    node_trace = go.Scatter(\n",
    "        x=node_x, y=node_y, text=node_name, customdata=cases,\n",
    "        mode='markers+text', marker=dict(size=node_size),\n",
    "        hovertemplate='Justice %{text}<br>Cases: %{customdata}')\n",
    "    return node_trace"
   ]
  },
  {
   "cell_type": "code",
   "execution_count": 314,
   "metadata": {
    "ExecuteTime": {
     "end_time": "2020-07-24T00:35:21.759816Z",
     "start_time": "2020-07-24T00:35:21.752501Z"
    }
   },
   "outputs": [],
   "source": [
    "def plot_network(sim_df, cases_df):\n",
    "    '''\n",
    "    Returns Plotly figure for networkX graph\n",
    "    '''\n",
    "    G, pos = build_network(sim_df)\n",
    "    edge_traces = get_edge_traces(G, pos, sim_df)\n",
    "    node_trace = get_node_trace(G, pos, sim_df, cases_df)\n",
    "    \n",
    "    fig = go.Figure(\n",
    "        data=edge_traces+[node_trace],\n",
    "        layout=go.Layout(\n",
    "            title='SCOTUS Similarity as Network Graph',\n",
    "            showlegend=False,\n",
    "            xaxis=dict(showgrid=False, zeroline=False, showticklabels=False),\n",
    "            yaxis=dict(showgrid=False, zeroline=False, showticklabels=False),\n",
    "            template='plotly_white'\n",
    "        )\n",
    "    )\n",
    "    return fig"
   ]
  },
  {
   "cell_type": "code",
   "execution_count": 315,
   "metadata": {
    "ExecuteTime": {
     "end_time": "2020-07-24T00:35:22.932519Z",
     "start_time": "2020-07-24T00:35:22.718823Z"
    }
   },
   "outputs": [
    {
     "data": {
      "application/vnd.plotly.v1+json": {
       "config": {
        "plotlyServerURL": "https://plot.ly"
       },
       "data": [
        {
         "hoverinfo": "none",
         "line": {
          "color": "red",
          "width": 0.4455010362499999
         },
         "mode": "lines",
         "type": "scatter",
         "x": [
          -0.08002014678112758,
          -0.071574387806329,
          null
         ],
         "y": [
          -0.6903224129463579,
          0.3084890859442285,
          null
         ]
        },
        {
         "hoverinfo": "none",
         "line": {
          "color": "red",
          "width": 0.17820484927999997
         },
         "mode": "lines",
         "type": "scatter",
         "x": [
          -0.08002014678112758,
          -0.15346317223079886,
          null
         ],
         "y": [
          -0.6903224129463579,
          0.5703717033970044,
          null
         ]
        },
        {
         "hoverinfo": "none",
         "line": {
          "color": "red",
          "width": 2.2409097322400005
         },
         "mode": "lines",
         "type": "scatter",
         "x": [
          -0.08002014678112758,
          -0.20716976870968382,
          null
         ],
         "y": [
          -0.6903224129463579,
          -1,
          null
         ]
        },
        {
         "hoverinfo": "none",
         "line": {
          "color": "red",
          "width": 0.41926580423999993
         },
         "mode": "lines",
         "type": "scatter",
         "x": [
          -0.08002014678112758,
          -0.5500087686085217,
          null
         ],
         "y": [
          -0.6903224129463579,
          0.05223029139143942,
          null
         ]
        },
        {
         "hoverinfo": "none",
         "line": {
          "color": "red",
          "width": 3.5339324299999997
         },
         "mode": "lines",
         "type": "scatter",
         "x": [
          -0.08002014678112758,
          -0.615968498487299,
          null
         ],
         "y": [
          -0.6903224129463579,
          -0.6068521128700074,
          null
         ]
        },
        {
         "hoverinfo": "none",
         "line": {
          "color": "red",
          "width": 2.9941830900000004
         },
         "mode": "lines",
         "type": "scatter",
         "x": [
          -0.08002014678112758,
          0.10816851499254974,
          null
         ],
         "y": [
          -0.6903224129463579,
          -0.04735131301408024,
          null
         ]
        },
        {
         "hoverinfo": "none",
         "line": {
          "color": "red",
          "width": 4.42102433032
         },
         "mode": "lines",
         "type": "scatter",
         "x": [
          -0.08002014678112758,
          -0.1622257693938117,
          null
         ],
         "y": [
          -0.6903224129463579,
          -0.21660522373499755,
          null
         ]
        },
        {
         "hoverinfo": "none",
         "line": {
          "color": "red",
          "width": 3.4742892699999994
         },
         "mode": "lines",
         "type": "scatter",
         "x": [
          -0.08002014678112758,
          0.3910845961940097,
          null
         ],
         "y": [
          -0.6903224129463579,
          -0.23392483929338032,
          null
         ]
        },
        {
         "hoverinfo": "none",
         "line": {
          "color": "red",
          "width": 0.17515230172999996
         },
         "mode": "lines",
         "type": "scatter",
         "x": [
          -0.08002014678112758,
          -0.5434225661243655,
          null
         ],
         "y": [
          -0.6903224129463579,
          0.44941055946951747,
          null
         ]
        },
        {
         "hoverinfo": "none",
         "line": {
          "color": "red",
          "width": 0.13127554279
         },
         "mode": "lines",
         "type": "scatter",
         "x": [
          -0.08002014678112758,
          0.4140635478210486,
          null
         ],
         "y": [
          -0.6903224129463579,
          0.7177489228372772,
          null
         ]
        },
        {
         "hoverinfo": "none",
         "line": {
          "color": "red",
          "width": 0.02279122496
         },
         "mode": "lines",
         "type": "scatter",
         "x": [
          -0.08002014678112758,
          0.0008621443628717694,
          null
         ],
         "y": [
          -0.6903224129463579,
          0.9114165039524551,
          null
         ]
        },
        {
         "hoverinfo": "none",
         "line": {
          "color": "red",
          "width": 4.191807559039999
         },
         "mode": "lines",
         "type": "scatter",
         "x": [
          -0.08002014678112758,
          0.2101787609288978,
          null
         ],
         "y": [
          -0.6903224129463579,
          -0.4721920094698346,
          null
         ]
        },
        {
         "hoverinfo": "none",
         "line": {
          "color": "red",
          "width": 4.315670376930001
         },
         "mode": "lines",
         "type": "scatter",
         "x": [
          -0.071574387806329,
          -0.15346317223079886,
          null
         ],
         "y": [
          0.3084890859442285,
          0.5703717033970044,
          null
         ]
        },
        {
         "hoverinfo": "none",
         "line": {
          "color": "red",
          "width": 0.09234565191999998
         },
         "mode": "lines",
         "type": "scatter",
         "x": [
          -0.071574387806329,
          -0.20716976870968382,
          null
         ],
         "y": [
          0.3084890859442285,
          -1,
          null
         ]
        },
        {
         "hoverinfo": "none",
         "line": {
          "color": "red",
          "width": 5.277099954410001
         },
         "mode": "lines",
         "type": "scatter",
         "x": [
          -0.071574387806329,
          -0.5500087686085217,
          null
         ],
         "y": [
          0.3084890859442285,
          0.05223029139143942,
          null
         ]
        },
        {
         "hoverinfo": "none",
         "line": {
          "color": "red",
          "width": 0.9644998205599999
         },
         "mode": "lines",
         "type": "scatter",
         "x": [
          -0.071574387806329,
          -0.615968498487299,
          null
         ],
         "y": [
          0.3084890859442285,
          -0.6068521128700074,
          null
         ]
        },
        {
         "hoverinfo": "none",
         "line": {
          "color": "red",
          "width": 1.5641657107199998
         },
         "mode": "lines",
         "type": "scatter",
         "x": [
          -0.071574387806329,
          0.10816851499254974,
          null
         ],
         "y": [
          0.3084890859442285,
          -0.04735131301408024,
          null
         ]
        },
        {
         "hoverinfo": "none",
         "line": {
          "color": "red",
          "width": 2.2731605472699994
         },
         "mode": "lines",
         "type": "scatter",
         "x": [
          -0.071574387806329,
          0.47880488916936004,
          null
         ],
         "y": [
          0.3084890859442285,
          0.24280130550644985,
          null
         ]
        },
        {
         "hoverinfo": "none",
         "line": {
          "color": "red",
          "width": 0.7277285937499999
         },
         "mode": "lines",
         "type": "scatter",
         "x": [
          -0.071574387806329,
          0.7806906246732015,
          null
         ],
         "y": [
          0.3084890859442285,
          0.014779538830286902,
          null
         ]
        },
        {
         "hoverinfo": "none",
         "line": {
          "color": "red",
          "width": 1.1373165112499999
         },
         "mode": "lines",
         "type": "scatter",
         "x": [
          -0.071574387806329,
          -0.1622257693938117,
          null
         ],
         "y": [
          0.3084890859442285,
          -0.21660522373499755,
          null
         ]
        },
        {
         "hoverinfo": "none",
         "line": {
          "color": "red",
          "width": 0.24187716288000005
         },
         "mode": "lines",
         "type": "scatter",
         "x": [
          -0.071574387806329,
          0.3910845961940097,
          null
         ],
         "y": [
          0.3084890859442285,
          -0.23392483929338032,
          null
         ]
        },
        {
         "hoverinfo": "none",
         "line": {
          "color": "red",
          "width": 4.23395573229
         },
         "mode": "lines",
         "type": "scatter",
         "x": [
          -0.071574387806329,
          -0.5434225661243655,
          null
         ],
         "y": [
          0.3084890859442285,
          0.44941055946951747,
          null
         ]
        },
        {
         "hoverinfo": "none",
         "line": {
          "color": "red",
          "width": 3.8742048899999997
         },
         "mode": "lines",
         "type": "scatter",
         "x": [
          -0.071574387806329,
          0.4140635478210486,
          null
         ],
         "y": [
          0.3084890859442285,
          0.7177489228372772,
          null
         ]
        },
        {
         "hoverinfo": "none",
         "line": {
          "color": "red",
          "width": 2.7729535876100004
         },
         "mode": "lines",
         "type": "scatter",
         "x": [
          -0.071574387806329,
          0.0008621443628717694,
          null
         ],
         "y": [
          0.3084890859442285,
          0.9114165039524551,
          null
         ]
        },
        {
         "hoverinfo": "none",
         "line": {
          "color": "red",
          "width": 0.14172488
         },
         "mode": "lines",
         "type": "scatter",
         "x": [
          -0.071574387806329,
          0.2101787609288978,
          null
         ],
         "y": [
          0.3084890859442285,
          -0.4721920094698346,
          null
         ]
        },
        {
         "hoverinfo": "none",
         "line": {
          "color": "red",
          "width": 0.14331199589000002
         },
         "mode": "lines",
         "type": "scatter",
         "x": [
          -0.15346317223079886,
          -0.20716976870968382,
          null
         ],
         "y": [
          0.5703717033970044,
          -1,
          null
         ]
        },
        {
         "hoverinfo": "none",
         "line": {
          "color": "red",
          "width": 5.31244194299
         },
         "mode": "lines",
         "type": "scatter",
         "x": [
          -0.15346317223079886,
          -0.5500087686085217,
          null
         ],
         "y": [
          0.5703717033970044,
          0.05223029139143942,
          null
         ]
        },
        {
         "hoverinfo": "none",
         "line": {
          "color": "red",
          "width": 0.46423108584
         },
         "mode": "lines",
         "type": "scatter",
         "x": [
          -0.15346317223079886,
          -0.615968498487299,
          null
         ],
         "y": [
          0.5703717033970044,
          -0.6068521128700074,
          null
         ]
        },
        {
         "hoverinfo": "none",
         "line": {
          "color": "red",
          "width": 1.03293741888
         },
         "mode": "lines",
         "type": "scatter",
         "x": [
          -0.15346317223079886,
          0.10816851499254974,
          null
         ],
         "y": [
          0.5703717033970044,
          -0.04735131301408024,
          null
         ]
        },
        {
         "hoverinfo": "none",
         "line": {
          "color": "red",
          "width": 1.2703595468300002
         },
         "mode": "lines",
         "type": "scatter",
         "x": [
          -0.15346317223079886,
          0.47880488916936004,
          null
         ],
         "y": [
          0.5703717033970044,
          0.24280130550644985,
          null
         ]
        },
        {
         "hoverinfo": "none",
         "line": {
          "color": "red",
          "width": 0.42618264156999996
         },
         "mode": "lines",
         "type": "scatter",
         "x": [
          -0.15346317223079886,
          0.7806906246732015,
          null
         ],
         "y": [
          0.5703717033970044,
          0.014779538830286902,
          null
         ]
        },
        {
         "hoverinfo": "none",
         "line": {
          "color": "red",
          "width": 0.62005093912
         },
         "mode": "lines",
         "type": "scatter",
         "x": [
          -0.15346317223079886,
          -0.1622257693938117,
          null
         ],
         "y": [
          0.5703717033970044,
          -0.21660522373499755,
          null
         ]
        },
        {
         "hoverinfo": "none",
         "line": {
          "color": "red",
          "width": 0.22117051943
         },
         "mode": "lines",
         "type": "scatter",
         "x": [
          -0.15346317223079886,
          0.3910845961940097,
          null
         ],
         "y": [
          0.5703717033970044,
          -0.23392483929338032,
          null
         ]
        },
        {
         "hoverinfo": "none",
         "line": {
          "color": "red",
          "width": 5.018912671229999
         },
         "mode": "lines",
         "type": "scatter",
         "x": [
          -0.15346317223079886,
          -0.5434225661243655,
          null
         ],
         "y": [
          0.5703717033970044,
          0.44941055946951747,
          null
         ]
        },
        {
         "hoverinfo": "none",
         "line": {
          "color": "red",
          "width": 5.24191506047
         },
         "mode": "lines",
         "type": "scatter",
         "x": [
          -0.15346317223079886,
          0.4140635478210486,
          null
         ],
         "y": [
          0.5703717033970044,
          0.7177489228372772,
          null
         ]
        },
        {
         "hoverinfo": "none",
         "line": {
          "color": "red",
          "width": 3.4787390493700006
         },
         "mode": "lines",
         "type": "scatter",
         "x": [
          -0.15346317223079886,
          0.0008621443628717694,
          null
         ],
         "y": [
          0.5703717033970044,
          0.9114165039524551,
          null
         ]
        },
        {
         "hoverinfo": "none",
         "line": {
          "color": "red",
          "width": 0.10882013695999998
         },
         "mode": "lines",
         "type": "scatter",
         "x": [
          -0.15346317223079886,
          0.2101787609288978,
          null
         ],
         "y": [
          0.5703717033970044,
          -0.4721920094698346,
          null
         ]
        },
        {
         "hoverinfo": "none",
         "line": {
          "color": "red",
          "width": 0.33917833052999996
         },
         "mode": "lines",
         "type": "scatter",
         "x": [
          -0.20716976870968382,
          -0.5500087686085217,
          null
         ],
         "y": [
          -1,
          0.05223029139143942,
          null
         ]
        },
        {
         "hoverinfo": "none",
         "line": {
          "color": "red",
          "width": 1.9430575308800004
         },
         "mode": "lines",
         "type": "scatter",
         "x": [
          -0.20716976870968382,
          -0.615968498487299,
          null
         ],
         "y": [
          -1,
          -0.6068521128700074,
          null
         ]
        },
        {
         "hoverinfo": "none",
         "line": {
          "color": "red",
          "width": 3.26371204125
         },
         "mode": "lines",
         "type": "scatter",
         "x": [
          -0.20716976870968382,
          0.10816851499254974,
          null
         ],
         "y": [
          -1,
          -0.04735131301408024,
          null
         ]
        },
        {
         "hoverinfo": "none",
         "line": {
          "color": "red",
          "width": 2.07369566559
         },
         "mode": "lines",
         "type": "scatter",
         "x": [
          -0.20716976870968382,
          -0.1622257693938117,
          null
         ],
         "y": [
          -1,
          -0.21660522373499755,
          null
         ]
        },
        {
         "hoverinfo": "none",
         "line": {
          "color": "red",
          "width": 0.11466731375
         },
         "mode": "lines",
         "type": "scatter",
         "x": [
          -0.20716976870968382,
          -0.5434225661243655,
          null
         ],
         "y": [
          -1,
          0.44941055946951747,
          null
         ]
        },
        {
         "hoverinfo": "none",
         "line": {
          "color": "red",
          "width": 2.8828079301599994
         },
         "mode": "lines",
         "type": "scatter",
         "x": [
          -0.20716976870968382,
          0.2101787609288978,
          null
         ],
         "y": [
          -1,
          -0.4721920094698346,
          null
         ]
        },
        {
         "hoverinfo": "none",
         "line": {
          "color": "red",
          "width": 0.95193593496
         },
         "mode": "lines",
         "type": "scatter",
         "x": [
          -0.5500087686085217,
          -0.615968498487299,
          null
         ],
         "y": [
          0.05223029139143942,
          -0.6068521128700074,
          null
         ]
        },
        {
         "hoverinfo": "none",
         "line": {
          "color": "red",
          "width": 2.53756362691
         },
         "mode": "lines",
         "type": "scatter",
         "x": [
          -0.5500087686085217,
          0.10816851499254974,
          null
         ],
         "y": [
          0.05223029139143942,
          -0.04735131301408024,
          null
         ]
        },
        {
         "hoverinfo": "none",
         "line": {
          "color": "red",
          "width": 1.3611402598399995
         },
         "mode": "lines",
         "type": "scatter",
         "x": [
          -0.5500087686085217,
          -0.1622257693938117,
          null
         ],
         "y": [
          0.05223029139143942,
          -0.21660522373499755,
          null
         ]
        },
        {
         "hoverinfo": "none",
         "line": {
          "color": "red",
          "width": 0.7660317722300002
         },
         "mode": "lines",
         "type": "scatter",
         "x": [
          -0.5500087686085217,
          0.3910845961940097,
          null
         ],
         "y": [
          0.05223029139143942,
          -0.23392483929338032,
          null
         ]
        },
        {
         "hoverinfo": "none",
         "line": {
          "color": "red",
          "width": 5.00944540888
         },
         "mode": "lines",
         "type": "scatter",
         "x": [
          -0.5500087686085217,
          -0.5434225661243655,
          null
         ],
         "y": [
          0.05223029139143942,
          0.44941055946951747,
          null
         ]
        },
        {
         "hoverinfo": "none",
         "line": {
          "color": "red",
          "width": 0.24187716288000005
         },
         "mode": "lines",
         "type": "scatter",
         "x": [
          -0.5500087686085217,
          0.2101787609288978,
          null
         ],
         "y": [
          0.05223029139143942,
          -0.4721920094698346,
          null
         ]
        },
        {
         "hoverinfo": "none",
         "line": {
          "color": "red",
          "width": 6.919799511249999
         },
         "mode": "lines",
         "type": "scatter",
         "x": [
          -0.615968498487299,
          -0.1622257693938117,
          null
         ],
         "y": [
          -0.6068521128700074,
          -0.21660522373499755,
          null
         ]
        },
        {
         "hoverinfo": "none",
         "line": {
          "color": "red",
          "width": 0.35937
         },
         "mode": "lines",
         "type": "scatter",
         "x": [
          -0.615968498487299,
          -0.5434225661243655,
          null
         ],
         "y": [
          -0.6068521128700074,
          0.44941055946951747,
          null
         ]
        },
        {
         "hoverinfo": "none",
         "line": {
          "color": "red",
          "width": 1.8921808402100004
         },
         "mode": "lines",
         "type": "scatter",
         "x": [
          -0.615968498487299,
          0.2101787609288978,
          null
         ],
         "y": [
          -0.6068521128700074,
          -0.4721920094698346,
          null
         ]
        },
        {
         "hoverinfo": "none",
         "line": {
          "color": "red",
          "width": 3.2438431431100008
         },
         "mode": "lines",
         "type": "scatter",
         "x": [
          0.10816851499254974,
          0.47880488916936004,
          null
         ],
         "y": [
          -0.04735131301408024,
          0.24280130550644985,
          null
         ]
        },
        {
         "hoverinfo": "none",
         "line": {
          "color": "red",
          "width": 4.979230187759999
         },
         "mode": "lines",
         "type": "scatter",
         "x": [
          0.10816851499254974,
          0.7806906246732015,
          null
         ],
         "y": [
          -0.04735131301408024,
          0.014779538830286902,
          null
         ]
        },
        {
         "hoverinfo": "none",
         "line": {
          "color": "red",
          "width": 3.83606697096
         },
         "mode": "lines",
         "type": "scatter",
         "x": [
          0.10816851499254974,
          -0.1622257693938117,
          null
         ],
         "y": [
          -0.04735131301408024,
          -0.21660522373499755,
          null
         ]
        },
        {
         "hoverinfo": "none",
         "line": {
          "color": "red",
          "width": 2.3844333860099995
         },
         "mode": "lines",
         "type": "scatter",
         "x": [
          0.10816851499254974,
          0.3910845961940097,
          null
         ],
         "y": [
          -0.04735131301408024,
          -0.23392483929338032,
          null
         ]
        },
        {
         "hoverinfo": "none",
         "line": {
          "color": "red",
          "width": 1.6646576650100005
         },
         "mode": "lines",
         "type": "scatter",
         "x": [
          0.10816851499254974,
          -0.5434225661243655,
          null
         ],
         "y": [
          -0.04735131301408024,
          0.44941055946951747,
          null
         ]
        },
        {
         "hoverinfo": "none",
         "line": {
          "color": "red",
          "width": 0.9106426349900001
         },
         "mode": "lines",
         "type": "scatter",
         "x": [
          0.10816851499254974,
          0.4140635478210486,
          null
         ],
         "y": [
          -0.04735131301408024,
          0.7177489228372772,
          null
         ]
        },
        {
         "hoverinfo": "none",
         "line": {
          "color": "red",
          "width": 0.44663302592
         },
         "mode": "lines",
         "type": "scatter",
         "x": [
          0.10816851499254974,
          0.0008621443628717694,
          null
         ],
         "y": [
          -0.04735131301408024,
          0.9114165039524551,
          null
         ]
        },
        {
         "hoverinfo": "none",
         "line": {
          "color": "red",
          "width": 1.9713736799999995
         },
         "mode": "lines",
         "type": "scatter",
         "x": [
          0.10816851499254974,
          0.2101787609288978,
          null
         ],
         "y": [
          -0.04735131301408024,
          -0.4721920094698346,
          null
         ]
        },
        {
         "hoverinfo": "none",
         "line": {
          "color": "red",
          "width": 5.786342620370001
         },
         "mode": "lines",
         "type": "scatter",
         "x": [
          -0.1622257693938117,
          0.47880488916936004,
          null
         ],
         "y": [
          -0.21660522373499755,
          0.24280130550644985,
          null
         ]
        },
        {
         "hoverinfo": "none",
         "line": {
          "color": "red",
          "width": 4.716376663039999
         },
         "mode": "lines",
         "type": "scatter",
         "x": [
          -0.1622257693938117,
          0.3910845961940097,
          null
         ],
         "y": [
          -0.21660522373499755,
          -0.23392483929338032,
          null
         ]
        },
        {
         "hoverinfo": "none",
         "line": {
          "color": "red",
          "width": 0.9370038808799999
         },
         "mode": "lines",
         "type": "scatter",
         "x": [
          -0.1622257693938117,
          -0.5434225661243655,
          null
         ],
         "y": [
          -0.21660522373499755,
          0.44941055946951747,
          null
         ]
        },
        {
         "hoverinfo": "none",
         "line": {
          "color": "red",
          "width": 0.52945593875
         },
         "mode": "lines",
         "type": "scatter",
         "x": [
          -0.1622257693938117,
          0.4140635478210486,
          null
         ],
         "y": [
          -0.21660522373499755,
          0.7177489228372772,
          null
         ]
        },
        {
         "hoverinfo": "none",
         "line": {
          "color": "red",
          "width": 0.18191447000000002
         },
         "mode": "lines",
         "type": "scatter",
         "x": [
          -0.1622257693938117,
          0.0008621443628717694,
          null
         ],
         "y": [
          -0.21660522373499755,
          0.9114165039524551,
          null
         ]
        },
        {
         "hoverinfo": "none",
         "line": {
          "color": "red",
          "width": 2.8411168722399998
         },
         "mode": "lines",
         "type": "scatter",
         "x": [
          -0.1622257693938117,
          0.2101787609288978,
          null
         ],
         "y": [
          -0.21660522373499755,
          -0.4721920094698346,
          null
         ]
        },
        {
         "hoverinfo": "none",
         "line": {
          "color": "red",
          "width": 1.7740959165899997
         },
         "mode": "lines",
         "type": "scatter",
         "x": [
          0.3910845961940097,
          0.47880488916936004,
          null
         ],
         "y": [
          -0.23392483929338032,
          0.24280130550644985,
          null
         ]
        },
        {
         "hoverinfo": "none",
         "line": {
          "color": "red",
          "width": 3.5429373497600003
         },
         "mode": "lines",
         "type": "scatter",
         "x": [
          0.3910845961940097,
          0.7806906246732015,
          null
         ],
         "y": [
          -0.23392483929338032,
          0.014779538830286902,
          null
         ]
        },
        {
         "hoverinfo": "none",
         "line": {
          "color": "red",
          "width": 0.38136631896
         },
         "mode": "lines",
         "type": "scatter",
         "x": [
          0.3910845961940097,
          -0.5434225661243655,
          null
         ],
         "y": [
          -0.23392483929338032,
          0.44941055946951747,
          null
         ]
        },
        {
         "hoverinfo": "none",
         "line": {
          "color": "red",
          "width": 0.21881515573000002
         },
         "mode": "lines",
         "type": "scatter",
         "x": [
          0.3910845961940097,
          0.4140635478210486,
          null
         ],
         "y": [
          -0.23392483929338032,
          0.7177489228372772,
          null
         ]
        },
        {
         "hoverinfo": "none",
         "line": {
          "color": "red",
          "width": 0.034703847440000005
         },
         "mode": "lines",
         "type": "scatter",
         "x": [
          0.3910845961940097,
          0.0008621443628717694,
          null
         ],
         "y": [
          -0.23392483929338032,
          0.9114165039524551,
          null
         ]
        },
        {
         "hoverinfo": "none",
         "line": {
          "color": "red",
          "width": 5.64993970163
         },
         "mode": "lines",
         "type": "scatter",
         "x": [
          0.3910845961940097,
          0.2101787609288978,
          null
         ],
         "y": [
          -0.23392483929338032,
          -0.4721920094698346,
          null
         ]
        },
        {
         "hoverinfo": "none",
         "line": {
          "color": "red",
          "width": 3.06454670488
         },
         "mode": "lines",
         "type": "scatter",
         "x": [
          -0.5434225661243655,
          0.0008621443628717694,
          null
         ],
         "y": [
          0.44941055946951747,
          0.9114165039524551,
          null
         ]
        },
        {
         "hoverinfo": "none",
         "line": {
          "color": "red",
          "width": 0.11314856125000002
         },
         "mode": "lines",
         "type": "scatter",
         "x": [
          -0.5434225661243655,
          0.2101787609288978,
          null
         ],
         "y": [
          0.44941055946951747,
          -0.4721920094698346,
          null
         ]
        },
        {
         "hoverinfo": "none",
         "line": {
          "color": "red",
          "width": 1.6232457137499998
         },
         "mode": "lines",
         "type": "scatter",
         "x": [
          0.4140635478210486,
          0.47880488916936004,
          null
         ],
         "y": [
          0.7177489228372772,
          0.24280130550644985,
          null
         ]
        },
        {
         "hoverinfo": "none",
         "line": {
          "color": "red",
          "width": 0.4611379405599999
         },
         "mode": "lines",
         "type": "scatter",
         "x": [
          0.4140635478210486,
          0.7806906246732015,
          null
         ],
         "y": [
          0.7177489228372772,
          0.014779538830286902,
          null
         ]
        },
        {
         "hoverinfo": "none",
         "line": {
          "color": "red",
          "width": 3.582135452080001
         },
         "mode": "lines",
         "type": "scatter",
         "x": [
          0.4140635478210486,
          0.0008621443628717694,
          null
         ],
         "y": [
          0.7177489228372772,
          0.9114165039524551,
          null
         ]
        },
        {
         "hoverinfo": "none",
         "line": {
          "color": "red",
          "width": 0.17964142659000004
         },
         "mode": "lines",
         "type": "scatter",
         "x": [
          0.4140635478210486,
          0.2101787609288978,
          null
         ],
         "y": [
          0.7177489228372772,
          -0.4721920094698346,
          null
         ]
        },
        {
         "hoverinfo": "none",
         "line": {
          "color": "red",
          "width": 0.6472270337500001
         },
         "mode": "lines",
         "type": "scatter",
         "x": [
          0.0008621443628717694,
          0.47880488916936004,
          null
         ],
         "y": [
          0.9114165039524551,
          0.24280130550644985,
          null
         ]
        },
        {
         "hoverinfo": "none",
         "line": {
          "color": "red",
          "width": 0.10546683057
         },
         "mode": "lines",
         "type": "scatter",
         "x": [
          0.0008621443628717694,
          0.7806906246732015,
          null
         ],
         "y": [
          0.9114165039524551,
          0.014779538830286902,
          null
         ]
        },
        {
         "hoverinfo": "none",
         "line": {
          "color": "red",
          "width": 0.03314613771
         },
         "mode": "lines",
         "type": "scatter",
         "x": [
          0.0008621443628717694,
          0.2101787609288978,
          null
         ],
         "y": [
          0.9114165039524551,
          -0.4721920094698346,
          null
         ]
        },
        {
         "hoverinfo": "none",
         "line": {
          "color": "red",
          "width": 1.6537874516900006
         },
         "mode": "lines",
         "type": "scatter",
         "x": [
          0.2101787609288978,
          0.47880488916936004,
          null
         ],
         "y": [
          -0.4721920094698346,
          0.24280130550644985,
          null
         ]
        },
        {
         "hoverinfo": "none",
         "line": {
          "color": "red",
          "width": 4.06869021
         },
         "mode": "lines",
         "type": "scatter",
         "x": [
          0.2101787609288978,
          0.7806906246732015,
          null
         ],
         "y": [
          -0.4721920094698346,
          0.014779538830286902,
          null
         ]
        },
        {
         "hoverinfo": "none",
         "line": {
          "color": "red",
          "width": 3.8092045924899995
         },
         "mode": "lines",
         "type": "scatter",
         "x": [
          0.47880488916936004,
          0.7806906246732015,
          null
         ],
         "y": [
          0.24280130550644985,
          0.014779538830286902,
          null
         ]
        },
        {
         "customdata": [
          1100,
          1632,
          1648,
          216,
          698,
          117,
          1517,
          1138,
          1313,
          820,
          812,
          903,
          1645,
          512,
          487
         ],
         "hovertemplate": "Justice %{text}<br>Cases: %{customdata}",
         "marker": {
          "size": [
           22,
           32.64,
           32.96,
           4.32,
           13.96,
           2.34,
           30.34,
           22.76,
           26.26,
           16.4,
           16.24,
           18.06,
           32.9,
           10.24,
           9.74
          ]
         },
         "mode": "markers+text",
         "text": [
          "Alito",
          "Breyer",
          "Ginsburg",
          "Gorsuch",
          "Kagan",
          "Kavanaugh",
          "Kennedy",
          "Roberts",
          "Scalia",
          "Sotomayor",
          "Souter",
          "Stevens",
          "Thomas",
          "O'Connor",
          "Rehnquist"
         ],
         "type": "scatter",
         "x": [
          -0.08002014678112758,
          -0.071574387806329,
          -0.15346317223079886,
          -0.20716976870968382,
          -0.5500087686085217,
          -0.615968498487299,
          0.10816851499254974,
          -0.1622257693938117,
          0.3910845961940097,
          -0.5434225661243655,
          0.4140635478210486,
          0.0008621443628717694,
          0.2101787609288978,
          0.47880488916936004,
          0.7806906246732015
         ],
         "y": [
          -0.6903224129463579,
          0.3084890859442285,
          0.5703717033970044,
          -1,
          0.05223029139143942,
          -0.6068521128700074,
          -0.04735131301408024,
          -0.21660522373499755,
          -0.23392483929338032,
          0.44941055946951747,
          0.7177489228372772,
          0.9114165039524551,
          -0.4721920094698346,
          0.24280130550644985,
          0.014779538830286902
         ]
        }
       ],
       "layout": {
        "showlegend": false,
        "template": {
         "data": {
          "bar": [
           {
            "error_x": {
             "color": "#2a3f5f"
            },
            "error_y": {
             "color": "#2a3f5f"
            },
            "marker": {
             "line": {
              "color": "white",
              "width": 0.5
             }
            },
            "type": "bar"
           }
          ],
          "barpolar": [
           {
            "marker": {
             "line": {
              "color": "white",
              "width": 0.5
             }
            },
            "type": "barpolar"
           }
          ],
          "carpet": [
           {
            "aaxis": {
             "endlinecolor": "#2a3f5f",
             "gridcolor": "#C8D4E3",
             "linecolor": "#C8D4E3",
             "minorgridcolor": "#C8D4E3",
             "startlinecolor": "#2a3f5f"
            },
            "baxis": {
             "endlinecolor": "#2a3f5f",
             "gridcolor": "#C8D4E3",
             "linecolor": "#C8D4E3",
             "minorgridcolor": "#C8D4E3",
             "startlinecolor": "#2a3f5f"
            },
            "type": "carpet"
           }
          ],
          "choropleth": [
           {
            "colorbar": {
             "outlinewidth": 0,
             "ticks": ""
            },
            "type": "choropleth"
           }
          ],
          "contour": [
           {
            "colorbar": {
             "outlinewidth": 0,
             "ticks": ""
            },
            "colorscale": [
             [
              0,
              "#0d0887"
             ],
             [
              0.1111111111111111,
              "#46039f"
             ],
             [
              0.2222222222222222,
              "#7201a8"
             ],
             [
              0.3333333333333333,
              "#9c179e"
             ],
             [
              0.4444444444444444,
              "#bd3786"
             ],
             [
              0.5555555555555556,
              "#d8576b"
             ],
             [
              0.6666666666666666,
              "#ed7953"
             ],
             [
              0.7777777777777778,
              "#fb9f3a"
             ],
             [
              0.8888888888888888,
              "#fdca26"
             ],
             [
              1,
              "#f0f921"
             ]
            ],
            "type": "contour"
           }
          ],
          "contourcarpet": [
           {
            "colorbar": {
             "outlinewidth": 0,
             "ticks": ""
            },
            "type": "contourcarpet"
           }
          ],
          "heatmap": [
           {
            "colorbar": {
             "outlinewidth": 0,
             "ticks": ""
            },
            "colorscale": [
             [
              0,
              "#0d0887"
             ],
             [
              0.1111111111111111,
              "#46039f"
             ],
             [
              0.2222222222222222,
              "#7201a8"
             ],
             [
              0.3333333333333333,
              "#9c179e"
             ],
             [
              0.4444444444444444,
              "#bd3786"
             ],
             [
              0.5555555555555556,
              "#d8576b"
             ],
             [
              0.6666666666666666,
              "#ed7953"
             ],
             [
              0.7777777777777778,
              "#fb9f3a"
             ],
             [
              0.8888888888888888,
              "#fdca26"
             ],
             [
              1,
              "#f0f921"
             ]
            ],
            "type": "heatmap"
           }
          ],
          "heatmapgl": [
           {
            "colorbar": {
             "outlinewidth": 0,
             "ticks": ""
            },
            "colorscale": [
             [
              0,
              "#0d0887"
             ],
             [
              0.1111111111111111,
              "#46039f"
             ],
             [
              0.2222222222222222,
              "#7201a8"
             ],
             [
              0.3333333333333333,
              "#9c179e"
             ],
             [
              0.4444444444444444,
              "#bd3786"
             ],
             [
              0.5555555555555556,
              "#d8576b"
             ],
             [
              0.6666666666666666,
              "#ed7953"
             ],
             [
              0.7777777777777778,
              "#fb9f3a"
             ],
             [
              0.8888888888888888,
              "#fdca26"
             ],
             [
              1,
              "#f0f921"
             ]
            ],
            "type": "heatmapgl"
           }
          ],
          "histogram": [
           {
            "marker": {
             "colorbar": {
              "outlinewidth": 0,
              "ticks": ""
             }
            },
            "type": "histogram"
           }
          ],
          "histogram2d": [
           {
            "colorbar": {
             "outlinewidth": 0,
             "ticks": ""
            },
            "colorscale": [
             [
              0,
              "#0d0887"
             ],
             [
              0.1111111111111111,
              "#46039f"
             ],
             [
              0.2222222222222222,
              "#7201a8"
             ],
             [
              0.3333333333333333,
              "#9c179e"
             ],
             [
              0.4444444444444444,
              "#bd3786"
             ],
             [
              0.5555555555555556,
              "#d8576b"
             ],
             [
              0.6666666666666666,
              "#ed7953"
             ],
             [
              0.7777777777777778,
              "#fb9f3a"
             ],
             [
              0.8888888888888888,
              "#fdca26"
             ],
             [
              1,
              "#f0f921"
             ]
            ],
            "type": "histogram2d"
           }
          ],
          "histogram2dcontour": [
           {
            "colorbar": {
             "outlinewidth": 0,
             "ticks": ""
            },
            "colorscale": [
             [
              0,
              "#0d0887"
             ],
             [
              0.1111111111111111,
              "#46039f"
             ],
             [
              0.2222222222222222,
              "#7201a8"
             ],
             [
              0.3333333333333333,
              "#9c179e"
             ],
             [
              0.4444444444444444,
              "#bd3786"
             ],
             [
              0.5555555555555556,
              "#d8576b"
             ],
             [
              0.6666666666666666,
              "#ed7953"
             ],
             [
              0.7777777777777778,
              "#fb9f3a"
             ],
             [
              0.8888888888888888,
              "#fdca26"
             ],
             [
              1,
              "#f0f921"
             ]
            ],
            "type": "histogram2dcontour"
           }
          ],
          "mesh3d": [
           {
            "colorbar": {
             "outlinewidth": 0,
             "ticks": ""
            },
            "type": "mesh3d"
           }
          ],
          "parcoords": [
           {
            "line": {
             "colorbar": {
              "outlinewidth": 0,
              "ticks": ""
             }
            },
            "type": "parcoords"
           }
          ],
          "pie": [
           {
            "automargin": true,
            "type": "pie"
           }
          ],
          "scatter": [
           {
            "marker": {
             "colorbar": {
              "outlinewidth": 0,
              "ticks": ""
             }
            },
            "type": "scatter"
           }
          ],
          "scatter3d": [
           {
            "line": {
             "colorbar": {
              "outlinewidth": 0,
              "ticks": ""
             }
            },
            "marker": {
             "colorbar": {
              "outlinewidth": 0,
              "ticks": ""
             }
            },
            "type": "scatter3d"
           }
          ],
          "scattercarpet": [
           {
            "marker": {
             "colorbar": {
              "outlinewidth": 0,
              "ticks": ""
             }
            },
            "type": "scattercarpet"
           }
          ],
          "scattergeo": [
           {
            "marker": {
             "colorbar": {
              "outlinewidth": 0,
              "ticks": ""
             }
            },
            "type": "scattergeo"
           }
          ],
          "scattergl": [
           {
            "marker": {
             "colorbar": {
              "outlinewidth": 0,
              "ticks": ""
             }
            },
            "type": "scattergl"
           }
          ],
          "scattermapbox": [
           {
            "marker": {
             "colorbar": {
              "outlinewidth": 0,
              "ticks": ""
             }
            },
            "type": "scattermapbox"
           }
          ],
          "scatterpolar": [
           {
            "marker": {
             "colorbar": {
              "outlinewidth": 0,
              "ticks": ""
             }
            },
            "type": "scatterpolar"
           }
          ],
          "scatterpolargl": [
           {
            "marker": {
             "colorbar": {
              "outlinewidth": 0,
              "ticks": ""
             }
            },
            "type": "scatterpolargl"
           }
          ],
          "scatterternary": [
           {
            "marker": {
             "colorbar": {
              "outlinewidth": 0,
              "ticks": ""
             }
            },
            "type": "scatterternary"
           }
          ],
          "surface": [
           {
            "colorbar": {
             "outlinewidth": 0,
             "ticks": ""
            },
            "colorscale": [
             [
              0,
              "#0d0887"
             ],
             [
              0.1111111111111111,
              "#46039f"
             ],
             [
              0.2222222222222222,
              "#7201a8"
             ],
             [
              0.3333333333333333,
              "#9c179e"
             ],
             [
              0.4444444444444444,
              "#bd3786"
             ],
             [
              0.5555555555555556,
              "#d8576b"
             ],
             [
              0.6666666666666666,
              "#ed7953"
             ],
             [
              0.7777777777777778,
              "#fb9f3a"
             ],
             [
              0.8888888888888888,
              "#fdca26"
             ],
             [
              1,
              "#f0f921"
             ]
            ],
            "type": "surface"
           }
          ],
          "table": [
           {
            "cells": {
             "fill": {
              "color": "#EBF0F8"
             },
             "line": {
              "color": "white"
             }
            },
            "header": {
             "fill": {
              "color": "#C8D4E3"
             },
             "line": {
              "color": "white"
             }
            },
            "type": "table"
           }
          ]
         },
         "layout": {
          "annotationdefaults": {
           "arrowcolor": "#2a3f5f",
           "arrowhead": 0,
           "arrowwidth": 1
          },
          "coloraxis": {
           "colorbar": {
            "outlinewidth": 0,
            "ticks": ""
           }
          },
          "colorscale": {
           "diverging": [
            [
             0,
             "#8e0152"
            ],
            [
             0.1,
             "#c51b7d"
            ],
            [
             0.2,
             "#de77ae"
            ],
            [
             0.3,
             "#f1b6da"
            ],
            [
             0.4,
             "#fde0ef"
            ],
            [
             0.5,
             "#f7f7f7"
            ],
            [
             0.6,
             "#e6f5d0"
            ],
            [
             0.7,
             "#b8e186"
            ],
            [
             0.8,
             "#7fbc41"
            ],
            [
             0.9,
             "#4d9221"
            ],
            [
             1,
             "#276419"
            ]
           ],
           "sequential": [
            [
             0,
             "#0d0887"
            ],
            [
             0.1111111111111111,
             "#46039f"
            ],
            [
             0.2222222222222222,
             "#7201a8"
            ],
            [
             0.3333333333333333,
             "#9c179e"
            ],
            [
             0.4444444444444444,
             "#bd3786"
            ],
            [
             0.5555555555555556,
             "#d8576b"
            ],
            [
             0.6666666666666666,
             "#ed7953"
            ],
            [
             0.7777777777777778,
             "#fb9f3a"
            ],
            [
             0.8888888888888888,
             "#fdca26"
            ],
            [
             1,
             "#f0f921"
            ]
           ],
           "sequentialminus": [
            [
             0,
             "#0d0887"
            ],
            [
             0.1111111111111111,
             "#46039f"
            ],
            [
             0.2222222222222222,
             "#7201a8"
            ],
            [
             0.3333333333333333,
             "#9c179e"
            ],
            [
             0.4444444444444444,
             "#bd3786"
            ],
            [
             0.5555555555555556,
             "#d8576b"
            ],
            [
             0.6666666666666666,
             "#ed7953"
            ],
            [
             0.7777777777777778,
             "#fb9f3a"
            ],
            [
             0.8888888888888888,
             "#fdca26"
            ],
            [
             1,
             "#f0f921"
            ]
           ]
          },
          "colorway": [
           "#636efa",
           "#EF553B",
           "#00cc96",
           "#ab63fa",
           "#FFA15A",
           "#19d3f3",
           "#FF6692",
           "#B6E880",
           "#FF97FF",
           "#FECB52"
          ],
          "font": {
           "color": "#2a3f5f"
          },
          "geo": {
           "bgcolor": "white",
           "lakecolor": "white",
           "landcolor": "white",
           "showlakes": true,
           "showland": true,
           "subunitcolor": "#C8D4E3"
          },
          "hoverlabel": {
           "align": "left"
          },
          "hovermode": "closest",
          "mapbox": {
           "style": "light"
          },
          "paper_bgcolor": "white",
          "plot_bgcolor": "white",
          "polar": {
           "angularaxis": {
            "gridcolor": "#EBF0F8",
            "linecolor": "#EBF0F8",
            "ticks": ""
           },
           "bgcolor": "white",
           "radialaxis": {
            "gridcolor": "#EBF0F8",
            "linecolor": "#EBF0F8",
            "ticks": ""
           }
          },
          "scene": {
           "xaxis": {
            "backgroundcolor": "white",
            "gridcolor": "#DFE8F3",
            "gridwidth": 2,
            "linecolor": "#EBF0F8",
            "showbackground": true,
            "ticks": "",
            "zerolinecolor": "#EBF0F8"
           },
           "yaxis": {
            "backgroundcolor": "white",
            "gridcolor": "#DFE8F3",
            "gridwidth": 2,
            "linecolor": "#EBF0F8",
            "showbackground": true,
            "ticks": "",
            "zerolinecolor": "#EBF0F8"
           },
           "zaxis": {
            "backgroundcolor": "white",
            "gridcolor": "#DFE8F3",
            "gridwidth": 2,
            "linecolor": "#EBF0F8",
            "showbackground": true,
            "ticks": "",
            "zerolinecolor": "#EBF0F8"
           }
          },
          "shapedefaults": {
           "line": {
            "color": "#2a3f5f"
           }
          },
          "ternary": {
           "aaxis": {
            "gridcolor": "#DFE8F3",
            "linecolor": "#A2B1C6",
            "ticks": ""
           },
           "baxis": {
            "gridcolor": "#DFE8F3",
            "linecolor": "#A2B1C6",
            "ticks": ""
           },
           "bgcolor": "white",
           "caxis": {
            "gridcolor": "#DFE8F3",
            "linecolor": "#A2B1C6",
            "ticks": ""
           }
          },
          "title": {
           "x": 0.05
          },
          "xaxis": {
           "automargin": true,
           "gridcolor": "#EBF0F8",
           "linecolor": "#EBF0F8",
           "ticks": "",
           "title": {
            "standoff": 15
           },
           "zerolinecolor": "#EBF0F8",
           "zerolinewidth": 2
          },
          "yaxis": {
           "automargin": true,
           "gridcolor": "#EBF0F8",
           "linecolor": "#EBF0F8",
           "ticks": "",
           "title": {
            "standoff": 15
           },
           "zerolinecolor": "#EBF0F8",
           "zerolinewidth": 2
          }
         }
        },
        "title": {
         "text": "SCOTUS Similarity as Network Graph"
        },
        "xaxis": {
         "showgrid": false,
         "showticklabels": false,
         "zeroline": false
        },
        "yaxis": {
         "showgrid": false,
         "showticklabels": false,
         "zeroline": false
        }
       }
      },
      "text/html": [
       "<div>\n",
       "        \n",
       "        \n",
       "            <div id=\"408cfaf3-b303-4da7-a26a-a275c490a455\" class=\"plotly-graph-div\" style=\"height:525px; width:100%;\"></div>\n",
       "            <script type=\"text/javascript\">\n",
       "                require([\"plotly\"], function(Plotly) {\n",
       "                    window.PLOTLYENV=window.PLOTLYENV || {};\n",
       "                    \n",
       "                if (document.getElementById(\"408cfaf3-b303-4da7-a26a-a275c490a455\")) {\n",
       "                    Plotly.newPlot(\n",
       "                        '408cfaf3-b303-4da7-a26a-a275c490a455',\n",
       "                        [{\"hoverinfo\": \"none\", \"line\": {\"color\": \"red\", \"width\": 0.4455010362499999}, \"mode\": \"lines\", \"type\": \"scatter\", \"x\": [-0.08002014678112758, -0.071574387806329, null], \"y\": [-0.6903224129463579, 0.3084890859442285, null]}, {\"hoverinfo\": \"none\", \"line\": {\"color\": \"red\", \"width\": 0.17820484927999997}, \"mode\": \"lines\", \"type\": \"scatter\", \"x\": [-0.08002014678112758, -0.15346317223079886, null], \"y\": [-0.6903224129463579, 0.5703717033970044, null]}, {\"hoverinfo\": \"none\", \"line\": {\"color\": \"red\", \"width\": 2.2409097322400005}, \"mode\": \"lines\", \"type\": \"scatter\", \"x\": [-0.08002014678112758, -0.20716976870968382, null], \"y\": [-0.6903224129463579, -1.0, null]}, {\"hoverinfo\": \"none\", \"line\": {\"color\": \"red\", \"width\": 0.41926580423999993}, \"mode\": \"lines\", \"type\": \"scatter\", \"x\": [-0.08002014678112758, -0.5500087686085217, null], \"y\": [-0.6903224129463579, 0.05223029139143942, null]}, {\"hoverinfo\": \"none\", \"line\": {\"color\": \"red\", \"width\": 3.5339324299999997}, \"mode\": \"lines\", \"type\": \"scatter\", \"x\": [-0.08002014678112758, -0.615968498487299, null], \"y\": [-0.6903224129463579, -0.6068521128700074, null]}, {\"hoverinfo\": \"none\", \"line\": {\"color\": \"red\", \"width\": 2.9941830900000004}, \"mode\": \"lines\", \"type\": \"scatter\", \"x\": [-0.08002014678112758, 0.10816851499254974, null], \"y\": [-0.6903224129463579, -0.04735131301408024, null]}, {\"hoverinfo\": \"none\", \"line\": {\"color\": \"red\", \"width\": 4.42102433032}, \"mode\": \"lines\", \"type\": \"scatter\", \"x\": [-0.08002014678112758, -0.1622257693938117, null], \"y\": [-0.6903224129463579, -0.21660522373499755, null]}, {\"hoverinfo\": \"none\", \"line\": {\"color\": \"red\", \"width\": 3.4742892699999994}, \"mode\": \"lines\", \"type\": \"scatter\", \"x\": [-0.08002014678112758, 0.3910845961940097, null], \"y\": [-0.6903224129463579, -0.23392483929338032, null]}, {\"hoverinfo\": \"none\", \"line\": {\"color\": \"red\", \"width\": 0.17515230172999996}, \"mode\": \"lines\", \"type\": \"scatter\", \"x\": [-0.08002014678112758, -0.5434225661243655, null], \"y\": [-0.6903224129463579, 0.44941055946951747, null]}, {\"hoverinfo\": \"none\", \"line\": {\"color\": \"red\", \"width\": 0.13127554279}, \"mode\": \"lines\", \"type\": \"scatter\", \"x\": [-0.08002014678112758, 0.4140635478210486, null], \"y\": [-0.6903224129463579, 0.7177489228372772, null]}, {\"hoverinfo\": \"none\", \"line\": {\"color\": \"red\", \"width\": 0.02279122496}, \"mode\": \"lines\", \"type\": \"scatter\", \"x\": [-0.08002014678112758, 0.0008621443628717694, null], \"y\": [-0.6903224129463579, 0.9114165039524551, null]}, {\"hoverinfo\": \"none\", \"line\": {\"color\": \"red\", \"width\": 4.191807559039999}, \"mode\": \"lines\", \"type\": \"scatter\", \"x\": [-0.08002014678112758, 0.2101787609288978, null], \"y\": [-0.6903224129463579, -0.4721920094698346, null]}, {\"hoverinfo\": \"none\", \"line\": {\"color\": \"red\", \"width\": 4.315670376930001}, \"mode\": \"lines\", \"type\": \"scatter\", \"x\": [-0.071574387806329, -0.15346317223079886, null], \"y\": [0.3084890859442285, 0.5703717033970044, null]}, {\"hoverinfo\": \"none\", \"line\": {\"color\": \"red\", \"width\": 0.09234565191999998}, \"mode\": \"lines\", \"type\": \"scatter\", \"x\": [-0.071574387806329, -0.20716976870968382, null], \"y\": [0.3084890859442285, -1.0, null]}, {\"hoverinfo\": \"none\", \"line\": {\"color\": \"red\", \"width\": 5.277099954410001}, \"mode\": \"lines\", \"type\": \"scatter\", \"x\": [-0.071574387806329, -0.5500087686085217, null], \"y\": [0.3084890859442285, 0.05223029139143942, null]}, {\"hoverinfo\": \"none\", \"line\": {\"color\": \"red\", \"width\": 0.9644998205599999}, \"mode\": \"lines\", \"type\": \"scatter\", \"x\": [-0.071574387806329, -0.615968498487299, null], \"y\": [0.3084890859442285, -0.6068521128700074, null]}, {\"hoverinfo\": \"none\", \"line\": {\"color\": \"red\", \"width\": 1.5641657107199998}, \"mode\": \"lines\", \"type\": \"scatter\", \"x\": [-0.071574387806329, 0.10816851499254974, null], \"y\": [0.3084890859442285, -0.04735131301408024, null]}, {\"hoverinfo\": \"none\", \"line\": {\"color\": \"red\", \"width\": 2.2731605472699994}, \"mode\": \"lines\", \"type\": \"scatter\", \"x\": [-0.071574387806329, 0.47880488916936004, null], \"y\": [0.3084890859442285, 0.24280130550644985, null]}, {\"hoverinfo\": \"none\", \"line\": {\"color\": \"red\", \"width\": 0.7277285937499999}, \"mode\": \"lines\", \"type\": \"scatter\", \"x\": [-0.071574387806329, 0.7806906246732015, null], \"y\": [0.3084890859442285, 0.014779538830286902, null]}, {\"hoverinfo\": \"none\", \"line\": {\"color\": \"red\", \"width\": 1.1373165112499999}, \"mode\": \"lines\", \"type\": \"scatter\", \"x\": [-0.071574387806329, -0.1622257693938117, null], \"y\": [0.3084890859442285, -0.21660522373499755, null]}, {\"hoverinfo\": \"none\", \"line\": {\"color\": \"red\", \"width\": 0.24187716288000005}, \"mode\": \"lines\", \"type\": \"scatter\", \"x\": [-0.071574387806329, 0.3910845961940097, null], \"y\": [0.3084890859442285, -0.23392483929338032, null]}, {\"hoverinfo\": \"none\", \"line\": {\"color\": \"red\", \"width\": 4.23395573229}, \"mode\": \"lines\", \"type\": \"scatter\", \"x\": [-0.071574387806329, -0.5434225661243655, null], \"y\": [0.3084890859442285, 0.44941055946951747, null]}, {\"hoverinfo\": \"none\", \"line\": {\"color\": \"red\", \"width\": 3.8742048899999997}, \"mode\": \"lines\", \"type\": \"scatter\", \"x\": [-0.071574387806329, 0.4140635478210486, null], \"y\": [0.3084890859442285, 0.7177489228372772, null]}, {\"hoverinfo\": \"none\", \"line\": {\"color\": \"red\", \"width\": 2.7729535876100004}, \"mode\": \"lines\", \"type\": \"scatter\", \"x\": [-0.071574387806329, 0.0008621443628717694, null], \"y\": [0.3084890859442285, 0.9114165039524551, null]}, {\"hoverinfo\": \"none\", \"line\": {\"color\": \"red\", \"width\": 0.14172488}, \"mode\": \"lines\", \"type\": \"scatter\", \"x\": [-0.071574387806329, 0.2101787609288978, null], \"y\": [0.3084890859442285, -0.4721920094698346, null]}, {\"hoverinfo\": \"none\", \"line\": {\"color\": \"red\", \"width\": 0.14331199589000002}, \"mode\": \"lines\", \"type\": \"scatter\", \"x\": [-0.15346317223079886, -0.20716976870968382, null], \"y\": [0.5703717033970044, -1.0, null]}, {\"hoverinfo\": \"none\", \"line\": {\"color\": \"red\", \"width\": 5.31244194299}, \"mode\": \"lines\", \"type\": \"scatter\", \"x\": [-0.15346317223079886, -0.5500087686085217, null], \"y\": [0.5703717033970044, 0.05223029139143942, null]}, {\"hoverinfo\": \"none\", \"line\": {\"color\": \"red\", \"width\": 0.46423108584}, \"mode\": \"lines\", \"type\": \"scatter\", \"x\": [-0.15346317223079886, -0.615968498487299, null], \"y\": [0.5703717033970044, -0.6068521128700074, null]}, {\"hoverinfo\": \"none\", \"line\": {\"color\": \"red\", \"width\": 1.03293741888}, \"mode\": \"lines\", \"type\": \"scatter\", \"x\": [-0.15346317223079886, 0.10816851499254974, null], \"y\": [0.5703717033970044, -0.04735131301408024, null]}, {\"hoverinfo\": \"none\", \"line\": {\"color\": \"red\", \"width\": 1.2703595468300002}, \"mode\": \"lines\", \"type\": \"scatter\", \"x\": [-0.15346317223079886, 0.47880488916936004, null], \"y\": [0.5703717033970044, 0.24280130550644985, null]}, {\"hoverinfo\": \"none\", \"line\": {\"color\": \"red\", \"width\": 0.42618264156999996}, \"mode\": \"lines\", \"type\": \"scatter\", \"x\": [-0.15346317223079886, 0.7806906246732015, null], \"y\": [0.5703717033970044, 0.014779538830286902, null]}, {\"hoverinfo\": \"none\", \"line\": {\"color\": \"red\", \"width\": 0.62005093912}, \"mode\": \"lines\", \"type\": \"scatter\", \"x\": [-0.15346317223079886, -0.1622257693938117, null], \"y\": [0.5703717033970044, -0.21660522373499755, null]}, {\"hoverinfo\": \"none\", \"line\": {\"color\": \"red\", \"width\": 0.22117051943}, \"mode\": \"lines\", \"type\": \"scatter\", \"x\": [-0.15346317223079886, 0.3910845961940097, null], \"y\": [0.5703717033970044, -0.23392483929338032, null]}, {\"hoverinfo\": \"none\", \"line\": {\"color\": \"red\", \"width\": 5.018912671229999}, \"mode\": \"lines\", \"type\": \"scatter\", \"x\": [-0.15346317223079886, -0.5434225661243655, null], \"y\": [0.5703717033970044, 0.44941055946951747, null]}, {\"hoverinfo\": \"none\", \"line\": {\"color\": \"red\", \"width\": 5.24191506047}, \"mode\": \"lines\", \"type\": \"scatter\", \"x\": [-0.15346317223079886, 0.4140635478210486, null], \"y\": [0.5703717033970044, 0.7177489228372772, null]}, {\"hoverinfo\": \"none\", \"line\": {\"color\": \"red\", \"width\": 3.4787390493700006}, \"mode\": \"lines\", \"type\": \"scatter\", \"x\": [-0.15346317223079886, 0.0008621443628717694, null], \"y\": [0.5703717033970044, 0.9114165039524551, null]}, {\"hoverinfo\": \"none\", \"line\": {\"color\": \"red\", \"width\": 0.10882013695999998}, \"mode\": \"lines\", \"type\": \"scatter\", \"x\": [-0.15346317223079886, 0.2101787609288978, null], \"y\": [0.5703717033970044, -0.4721920094698346, null]}, {\"hoverinfo\": \"none\", \"line\": {\"color\": \"red\", \"width\": 0.33917833052999996}, \"mode\": \"lines\", \"type\": \"scatter\", \"x\": [-0.20716976870968382, -0.5500087686085217, null], \"y\": [-1.0, 0.05223029139143942, null]}, {\"hoverinfo\": \"none\", \"line\": {\"color\": \"red\", \"width\": 1.9430575308800004}, \"mode\": \"lines\", \"type\": \"scatter\", \"x\": [-0.20716976870968382, -0.615968498487299, null], \"y\": [-1.0, -0.6068521128700074, null]}, {\"hoverinfo\": \"none\", \"line\": {\"color\": \"red\", \"width\": 3.26371204125}, \"mode\": \"lines\", \"type\": \"scatter\", \"x\": [-0.20716976870968382, 0.10816851499254974, null], \"y\": [-1.0, -0.04735131301408024, null]}, {\"hoverinfo\": \"none\", \"line\": {\"color\": \"red\", \"width\": 2.07369566559}, \"mode\": \"lines\", \"type\": \"scatter\", \"x\": [-0.20716976870968382, -0.1622257693938117, null], \"y\": [-1.0, -0.21660522373499755, null]}, {\"hoverinfo\": \"none\", \"line\": {\"color\": \"red\", \"width\": 0.11466731375}, \"mode\": \"lines\", \"type\": \"scatter\", \"x\": [-0.20716976870968382, -0.5434225661243655, null], \"y\": [-1.0, 0.44941055946951747, null]}, {\"hoverinfo\": \"none\", \"line\": {\"color\": \"red\", \"width\": 2.8828079301599994}, \"mode\": \"lines\", \"type\": \"scatter\", \"x\": [-0.20716976870968382, 0.2101787609288978, null], \"y\": [-1.0, -0.4721920094698346, null]}, {\"hoverinfo\": \"none\", \"line\": {\"color\": \"red\", \"width\": 0.95193593496}, \"mode\": \"lines\", \"type\": \"scatter\", \"x\": [-0.5500087686085217, -0.615968498487299, null], \"y\": [0.05223029139143942, -0.6068521128700074, null]}, {\"hoverinfo\": \"none\", \"line\": {\"color\": \"red\", \"width\": 2.53756362691}, \"mode\": \"lines\", \"type\": \"scatter\", \"x\": [-0.5500087686085217, 0.10816851499254974, null], \"y\": [0.05223029139143942, -0.04735131301408024, null]}, {\"hoverinfo\": \"none\", \"line\": {\"color\": \"red\", \"width\": 1.3611402598399995}, \"mode\": \"lines\", \"type\": \"scatter\", \"x\": [-0.5500087686085217, -0.1622257693938117, null], \"y\": [0.05223029139143942, -0.21660522373499755, null]}, {\"hoverinfo\": \"none\", \"line\": {\"color\": \"red\", \"width\": 0.7660317722300002}, \"mode\": \"lines\", \"type\": \"scatter\", \"x\": [-0.5500087686085217, 0.3910845961940097, null], \"y\": [0.05223029139143942, -0.23392483929338032, null]}, {\"hoverinfo\": \"none\", \"line\": {\"color\": \"red\", \"width\": 5.00944540888}, \"mode\": \"lines\", \"type\": \"scatter\", \"x\": [-0.5500087686085217, -0.5434225661243655, null], \"y\": [0.05223029139143942, 0.44941055946951747, null]}, {\"hoverinfo\": \"none\", \"line\": {\"color\": \"red\", \"width\": 0.24187716288000005}, \"mode\": \"lines\", \"type\": \"scatter\", \"x\": [-0.5500087686085217, 0.2101787609288978, null], \"y\": [0.05223029139143942, -0.4721920094698346, null]}, {\"hoverinfo\": \"none\", \"line\": {\"color\": \"red\", \"width\": 6.919799511249999}, \"mode\": \"lines\", \"type\": \"scatter\", \"x\": [-0.615968498487299, -0.1622257693938117, null], \"y\": [-0.6068521128700074, -0.21660522373499755, null]}, {\"hoverinfo\": \"none\", \"line\": {\"color\": \"red\", \"width\": 0.35937}, \"mode\": \"lines\", \"type\": \"scatter\", \"x\": [-0.615968498487299, -0.5434225661243655, null], \"y\": [-0.6068521128700074, 0.44941055946951747, null]}, {\"hoverinfo\": \"none\", \"line\": {\"color\": \"red\", \"width\": 1.8921808402100004}, \"mode\": \"lines\", \"type\": \"scatter\", \"x\": [-0.615968498487299, 0.2101787609288978, null], \"y\": [-0.6068521128700074, -0.4721920094698346, null]}, {\"hoverinfo\": \"none\", \"line\": {\"color\": \"red\", \"width\": 3.2438431431100008}, \"mode\": \"lines\", \"type\": \"scatter\", \"x\": [0.10816851499254974, 0.47880488916936004, null], \"y\": [-0.04735131301408024, 0.24280130550644985, null]}, {\"hoverinfo\": \"none\", \"line\": {\"color\": \"red\", \"width\": 4.979230187759999}, \"mode\": \"lines\", \"type\": \"scatter\", \"x\": [0.10816851499254974, 0.7806906246732015, null], \"y\": [-0.04735131301408024, 0.014779538830286902, null]}, {\"hoverinfo\": \"none\", \"line\": {\"color\": \"red\", \"width\": 3.83606697096}, \"mode\": \"lines\", \"type\": \"scatter\", \"x\": [0.10816851499254974, -0.1622257693938117, null], \"y\": [-0.04735131301408024, -0.21660522373499755, null]}, {\"hoverinfo\": \"none\", \"line\": {\"color\": \"red\", \"width\": 2.3844333860099995}, \"mode\": \"lines\", \"type\": \"scatter\", \"x\": [0.10816851499254974, 0.3910845961940097, null], \"y\": [-0.04735131301408024, -0.23392483929338032, null]}, {\"hoverinfo\": \"none\", \"line\": {\"color\": \"red\", \"width\": 1.6646576650100005}, \"mode\": \"lines\", \"type\": \"scatter\", \"x\": [0.10816851499254974, -0.5434225661243655, null], \"y\": [-0.04735131301408024, 0.44941055946951747, null]}, {\"hoverinfo\": \"none\", \"line\": {\"color\": \"red\", \"width\": 0.9106426349900001}, \"mode\": \"lines\", \"type\": \"scatter\", \"x\": [0.10816851499254974, 0.4140635478210486, null], \"y\": [-0.04735131301408024, 0.7177489228372772, null]}, {\"hoverinfo\": \"none\", \"line\": {\"color\": \"red\", \"width\": 0.44663302592}, \"mode\": \"lines\", \"type\": \"scatter\", \"x\": [0.10816851499254974, 0.0008621443628717694, null], \"y\": [-0.04735131301408024, 0.9114165039524551, null]}, {\"hoverinfo\": \"none\", \"line\": {\"color\": \"red\", \"width\": 1.9713736799999995}, \"mode\": \"lines\", \"type\": \"scatter\", \"x\": [0.10816851499254974, 0.2101787609288978, null], \"y\": [-0.04735131301408024, -0.4721920094698346, null]}, {\"hoverinfo\": \"none\", \"line\": {\"color\": \"red\", \"width\": 5.786342620370001}, \"mode\": \"lines\", \"type\": \"scatter\", \"x\": [-0.1622257693938117, 0.47880488916936004, null], \"y\": [-0.21660522373499755, 0.24280130550644985, null]}, {\"hoverinfo\": \"none\", \"line\": {\"color\": \"red\", \"width\": 4.716376663039999}, \"mode\": \"lines\", \"type\": \"scatter\", \"x\": [-0.1622257693938117, 0.3910845961940097, null], \"y\": [-0.21660522373499755, -0.23392483929338032, null]}, {\"hoverinfo\": \"none\", \"line\": {\"color\": \"red\", \"width\": 0.9370038808799999}, \"mode\": \"lines\", \"type\": \"scatter\", \"x\": [-0.1622257693938117, -0.5434225661243655, null], \"y\": [-0.21660522373499755, 0.44941055946951747, null]}, {\"hoverinfo\": \"none\", \"line\": {\"color\": \"red\", \"width\": 0.52945593875}, \"mode\": \"lines\", \"type\": \"scatter\", \"x\": [-0.1622257693938117, 0.4140635478210486, null], \"y\": [-0.21660522373499755, 0.7177489228372772, null]}, {\"hoverinfo\": \"none\", \"line\": {\"color\": \"red\", \"width\": 0.18191447000000002}, \"mode\": \"lines\", \"type\": \"scatter\", \"x\": [-0.1622257693938117, 0.0008621443628717694, null], \"y\": [-0.21660522373499755, 0.9114165039524551, null]}, {\"hoverinfo\": \"none\", \"line\": {\"color\": \"red\", \"width\": 2.8411168722399998}, \"mode\": \"lines\", \"type\": \"scatter\", \"x\": [-0.1622257693938117, 0.2101787609288978, null], \"y\": [-0.21660522373499755, -0.4721920094698346, null]}, {\"hoverinfo\": \"none\", \"line\": {\"color\": \"red\", \"width\": 1.7740959165899997}, \"mode\": \"lines\", \"type\": \"scatter\", \"x\": [0.3910845961940097, 0.47880488916936004, null], \"y\": [-0.23392483929338032, 0.24280130550644985, null]}, {\"hoverinfo\": \"none\", \"line\": {\"color\": \"red\", \"width\": 3.5429373497600003}, \"mode\": \"lines\", \"type\": \"scatter\", \"x\": [0.3910845961940097, 0.7806906246732015, null], \"y\": [-0.23392483929338032, 0.014779538830286902, null]}, {\"hoverinfo\": \"none\", \"line\": {\"color\": \"red\", \"width\": 0.38136631896}, \"mode\": \"lines\", \"type\": \"scatter\", \"x\": [0.3910845961940097, -0.5434225661243655, null], \"y\": [-0.23392483929338032, 0.44941055946951747, null]}, {\"hoverinfo\": \"none\", \"line\": {\"color\": \"red\", \"width\": 0.21881515573000002}, \"mode\": \"lines\", \"type\": \"scatter\", \"x\": [0.3910845961940097, 0.4140635478210486, null], \"y\": [-0.23392483929338032, 0.7177489228372772, null]}, {\"hoverinfo\": \"none\", \"line\": {\"color\": \"red\", \"width\": 0.034703847440000005}, \"mode\": \"lines\", \"type\": \"scatter\", \"x\": [0.3910845961940097, 0.0008621443628717694, null], \"y\": [-0.23392483929338032, 0.9114165039524551, null]}, {\"hoverinfo\": \"none\", \"line\": {\"color\": \"red\", \"width\": 5.64993970163}, \"mode\": \"lines\", \"type\": \"scatter\", \"x\": [0.3910845961940097, 0.2101787609288978, null], \"y\": [-0.23392483929338032, -0.4721920094698346, null]}, {\"hoverinfo\": \"none\", \"line\": {\"color\": \"red\", \"width\": 3.06454670488}, \"mode\": \"lines\", \"type\": \"scatter\", \"x\": [-0.5434225661243655, 0.0008621443628717694, null], \"y\": [0.44941055946951747, 0.9114165039524551, null]}, {\"hoverinfo\": \"none\", \"line\": {\"color\": \"red\", \"width\": 0.11314856125000002}, \"mode\": \"lines\", \"type\": \"scatter\", \"x\": [-0.5434225661243655, 0.2101787609288978, null], \"y\": [0.44941055946951747, -0.4721920094698346, null]}, {\"hoverinfo\": \"none\", \"line\": {\"color\": \"red\", \"width\": 1.6232457137499998}, \"mode\": \"lines\", \"type\": \"scatter\", \"x\": [0.4140635478210486, 0.47880488916936004, null], \"y\": [0.7177489228372772, 0.24280130550644985, null]}, {\"hoverinfo\": \"none\", \"line\": {\"color\": \"red\", \"width\": 0.4611379405599999}, \"mode\": \"lines\", \"type\": \"scatter\", \"x\": [0.4140635478210486, 0.7806906246732015, null], \"y\": [0.7177489228372772, 0.014779538830286902, null]}, {\"hoverinfo\": \"none\", \"line\": {\"color\": \"red\", \"width\": 3.582135452080001}, \"mode\": \"lines\", \"type\": \"scatter\", \"x\": [0.4140635478210486, 0.0008621443628717694, null], \"y\": [0.7177489228372772, 0.9114165039524551, null]}, {\"hoverinfo\": \"none\", \"line\": {\"color\": \"red\", \"width\": 0.17964142659000004}, \"mode\": \"lines\", \"type\": \"scatter\", \"x\": [0.4140635478210486, 0.2101787609288978, null], \"y\": [0.7177489228372772, -0.4721920094698346, null]}, {\"hoverinfo\": \"none\", \"line\": {\"color\": \"red\", \"width\": 0.6472270337500001}, \"mode\": \"lines\", \"type\": \"scatter\", \"x\": [0.0008621443628717694, 0.47880488916936004, null], \"y\": [0.9114165039524551, 0.24280130550644985, null]}, {\"hoverinfo\": \"none\", \"line\": {\"color\": \"red\", \"width\": 0.10546683057}, \"mode\": \"lines\", \"type\": \"scatter\", \"x\": [0.0008621443628717694, 0.7806906246732015, null], \"y\": [0.9114165039524551, 0.014779538830286902, null]}, {\"hoverinfo\": \"none\", \"line\": {\"color\": \"red\", \"width\": 0.03314613771}, \"mode\": \"lines\", \"type\": \"scatter\", \"x\": [0.0008621443628717694, 0.2101787609288978, null], \"y\": [0.9114165039524551, -0.4721920094698346, null]}, {\"hoverinfo\": \"none\", \"line\": {\"color\": \"red\", \"width\": 1.6537874516900006}, \"mode\": \"lines\", \"type\": \"scatter\", \"x\": [0.2101787609288978, 0.47880488916936004, null], \"y\": [-0.4721920094698346, 0.24280130550644985, null]}, {\"hoverinfo\": \"none\", \"line\": {\"color\": \"red\", \"width\": 4.06869021}, \"mode\": \"lines\", \"type\": \"scatter\", \"x\": [0.2101787609288978, 0.7806906246732015, null], \"y\": [-0.4721920094698346, 0.014779538830286902, null]}, {\"hoverinfo\": \"none\", \"line\": {\"color\": \"red\", \"width\": 3.8092045924899995}, \"mode\": \"lines\", \"type\": \"scatter\", \"x\": [0.47880488916936004, 0.7806906246732015, null], \"y\": [0.24280130550644985, 0.014779538830286902, null]}, {\"customdata\": [1100, 1632, 1648, 216, 698, 117, 1517, 1138, 1313, 820, 812, 903, 1645, 512, 487], \"hovertemplate\": \"Justice %{text}<br>Cases: %{customdata}\", \"marker\": {\"size\": [22.0, 32.64, 32.96, 4.32, 13.96, 2.34, 30.34, 22.76, 26.26, 16.4, 16.24, 18.06, 32.9, 10.24, 9.74]}, \"mode\": \"markers+text\", \"text\": [\"Alito\", \"Breyer\", \"Ginsburg\", \"Gorsuch\", \"Kagan\", \"Kavanaugh\", \"Kennedy\", \"Roberts\", \"Scalia\", \"Sotomayor\", \"Souter\", \"Stevens\", \"Thomas\", \"O'Connor\", \"Rehnquist\"], \"type\": \"scatter\", \"x\": [-0.08002014678112758, -0.071574387806329, -0.15346317223079886, -0.20716976870968382, -0.5500087686085217, -0.615968498487299, 0.10816851499254974, -0.1622257693938117, 0.3910845961940097, -0.5434225661243655, 0.4140635478210486, 0.0008621443628717694, 0.2101787609288978, 0.47880488916936004, 0.7806906246732015], \"y\": [-0.6903224129463579, 0.3084890859442285, 0.5703717033970044, -1.0, 0.05223029139143942, -0.6068521128700074, -0.04735131301408024, -0.21660522373499755, -0.23392483929338032, 0.44941055946951747, 0.7177489228372772, 0.9114165039524551, -0.4721920094698346, 0.24280130550644985, 0.014779538830286902]}],\n",
       "                        {\"showlegend\": false, \"template\": {\"data\": {\"bar\": [{\"error_x\": {\"color\": \"#2a3f5f\"}, \"error_y\": {\"color\": \"#2a3f5f\"}, \"marker\": {\"line\": {\"color\": \"white\", \"width\": 0.5}}, \"type\": \"bar\"}], \"barpolar\": [{\"marker\": {\"line\": {\"color\": \"white\", \"width\": 0.5}}, \"type\": \"barpolar\"}], \"carpet\": [{\"aaxis\": {\"endlinecolor\": \"#2a3f5f\", \"gridcolor\": \"#C8D4E3\", \"linecolor\": \"#C8D4E3\", \"minorgridcolor\": \"#C8D4E3\", \"startlinecolor\": \"#2a3f5f\"}, \"baxis\": {\"endlinecolor\": \"#2a3f5f\", \"gridcolor\": \"#C8D4E3\", \"linecolor\": \"#C8D4E3\", \"minorgridcolor\": \"#C8D4E3\", \"startlinecolor\": \"#2a3f5f\"}, \"type\": \"carpet\"}], \"choropleth\": [{\"colorbar\": {\"outlinewidth\": 0, \"ticks\": \"\"}, \"type\": \"choropleth\"}], \"contour\": [{\"colorbar\": {\"outlinewidth\": 0, \"ticks\": \"\"}, \"colorscale\": [[0.0, \"#0d0887\"], [0.1111111111111111, \"#46039f\"], [0.2222222222222222, \"#7201a8\"], [0.3333333333333333, \"#9c179e\"], [0.4444444444444444, \"#bd3786\"], [0.5555555555555556, \"#d8576b\"], [0.6666666666666666, \"#ed7953\"], [0.7777777777777778, \"#fb9f3a\"], [0.8888888888888888, \"#fdca26\"], [1.0, \"#f0f921\"]], \"type\": \"contour\"}], \"contourcarpet\": [{\"colorbar\": {\"outlinewidth\": 0, \"ticks\": \"\"}, \"type\": \"contourcarpet\"}], \"heatmap\": [{\"colorbar\": {\"outlinewidth\": 0, \"ticks\": \"\"}, \"colorscale\": [[0.0, \"#0d0887\"], [0.1111111111111111, \"#46039f\"], [0.2222222222222222, \"#7201a8\"], [0.3333333333333333, \"#9c179e\"], [0.4444444444444444, \"#bd3786\"], [0.5555555555555556, \"#d8576b\"], [0.6666666666666666, \"#ed7953\"], [0.7777777777777778, \"#fb9f3a\"], [0.8888888888888888, \"#fdca26\"], [1.0, \"#f0f921\"]], \"type\": \"heatmap\"}], \"heatmapgl\": [{\"colorbar\": {\"outlinewidth\": 0, \"ticks\": \"\"}, \"colorscale\": [[0.0, \"#0d0887\"], [0.1111111111111111, \"#46039f\"], [0.2222222222222222, \"#7201a8\"], [0.3333333333333333, \"#9c179e\"], [0.4444444444444444, \"#bd3786\"], [0.5555555555555556, \"#d8576b\"], [0.6666666666666666, \"#ed7953\"], [0.7777777777777778, \"#fb9f3a\"], [0.8888888888888888, \"#fdca26\"], [1.0, \"#f0f921\"]], \"type\": \"heatmapgl\"}], \"histogram\": [{\"marker\": {\"colorbar\": {\"outlinewidth\": 0, \"ticks\": \"\"}}, \"type\": \"histogram\"}], \"histogram2d\": [{\"colorbar\": {\"outlinewidth\": 0, \"ticks\": \"\"}, \"colorscale\": [[0.0, \"#0d0887\"], [0.1111111111111111, \"#46039f\"], [0.2222222222222222, \"#7201a8\"], [0.3333333333333333, \"#9c179e\"], [0.4444444444444444, \"#bd3786\"], [0.5555555555555556, \"#d8576b\"], [0.6666666666666666, \"#ed7953\"], [0.7777777777777778, \"#fb9f3a\"], [0.8888888888888888, \"#fdca26\"], [1.0, \"#f0f921\"]], \"type\": \"histogram2d\"}], \"histogram2dcontour\": [{\"colorbar\": {\"outlinewidth\": 0, \"ticks\": \"\"}, \"colorscale\": [[0.0, \"#0d0887\"], [0.1111111111111111, \"#46039f\"], [0.2222222222222222, \"#7201a8\"], [0.3333333333333333, \"#9c179e\"], [0.4444444444444444, \"#bd3786\"], [0.5555555555555556, \"#d8576b\"], [0.6666666666666666, \"#ed7953\"], [0.7777777777777778, \"#fb9f3a\"], [0.8888888888888888, \"#fdca26\"], [1.0, \"#f0f921\"]], \"type\": \"histogram2dcontour\"}], \"mesh3d\": [{\"colorbar\": {\"outlinewidth\": 0, \"ticks\": \"\"}, \"type\": \"mesh3d\"}], \"parcoords\": [{\"line\": {\"colorbar\": {\"outlinewidth\": 0, \"ticks\": \"\"}}, \"type\": \"parcoords\"}], \"pie\": [{\"automargin\": true, \"type\": \"pie\"}], \"scatter\": [{\"marker\": {\"colorbar\": {\"outlinewidth\": 0, \"ticks\": \"\"}}, \"type\": \"scatter\"}], \"scatter3d\": [{\"line\": {\"colorbar\": {\"outlinewidth\": 0, \"ticks\": \"\"}}, \"marker\": {\"colorbar\": {\"outlinewidth\": 0, \"ticks\": \"\"}}, \"type\": \"scatter3d\"}], \"scattercarpet\": [{\"marker\": {\"colorbar\": {\"outlinewidth\": 0, \"ticks\": \"\"}}, \"type\": \"scattercarpet\"}], \"scattergeo\": [{\"marker\": {\"colorbar\": {\"outlinewidth\": 0, \"ticks\": \"\"}}, \"type\": \"scattergeo\"}], \"scattergl\": [{\"marker\": {\"colorbar\": {\"outlinewidth\": 0, \"ticks\": \"\"}}, \"type\": \"scattergl\"}], \"scattermapbox\": [{\"marker\": {\"colorbar\": {\"outlinewidth\": 0, \"ticks\": \"\"}}, \"type\": \"scattermapbox\"}], \"scatterpolar\": [{\"marker\": {\"colorbar\": {\"outlinewidth\": 0, \"ticks\": \"\"}}, \"type\": \"scatterpolar\"}], \"scatterpolargl\": [{\"marker\": {\"colorbar\": {\"outlinewidth\": 0, \"ticks\": \"\"}}, \"type\": \"scatterpolargl\"}], \"scatterternary\": [{\"marker\": {\"colorbar\": {\"outlinewidth\": 0, \"ticks\": \"\"}}, \"type\": \"scatterternary\"}], \"surface\": [{\"colorbar\": {\"outlinewidth\": 0, \"ticks\": \"\"}, \"colorscale\": [[0.0, \"#0d0887\"], [0.1111111111111111, \"#46039f\"], [0.2222222222222222, \"#7201a8\"], [0.3333333333333333, \"#9c179e\"], [0.4444444444444444, \"#bd3786\"], [0.5555555555555556, \"#d8576b\"], [0.6666666666666666, \"#ed7953\"], [0.7777777777777778, \"#fb9f3a\"], [0.8888888888888888, \"#fdca26\"], [1.0, \"#f0f921\"]], \"type\": \"surface\"}], \"table\": [{\"cells\": {\"fill\": {\"color\": \"#EBF0F8\"}, \"line\": {\"color\": \"white\"}}, \"header\": {\"fill\": {\"color\": \"#C8D4E3\"}, \"line\": {\"color\": \"white\"}}, \"type\": \"table\"}]}, \"layout\": {\"annotationdefaults\": {\"arrowcolor\": \"#2a3f5f\", \"arrowhead\": 0, \"arrowwidth\": 1}, \"coloraxis\": {\"colorbar\": {\"outlinewidth\": 0, \"ticks\": \"\"}}, \"colorscale\": {\"diverging\": [[0, \"#8e0152\"], [0.1, \"#c51b7d\"], [0.2, \"#de77ae\"], [0.3, \"#f1b6da\"], [0.4, \"#fde0ef\"], [0.5, \"#f7f7f7\"], [0.6, \"#e6f5d0\"], [0.7, \"#b8e186\"], [0.8, \"#7fbc41\"], [0.9, \"#4d9221\"], [1, \"#276419\"]], \"sequential\": [[0.0, \"#0d0887\"], [0.1111111111111111, \"#46039f\"], [0.2222222222222222, \"#7201a8\"], [0.3333333333333333, \"#9c179e\"], [0.4444444444444444, \"#bd3786\"], [0.5555555555555556, \"#d8576b\"], [0.6666666666666666, \"#ed7953\"], [0.7777777777777778, \"#fb9f3a\"], [0.8888888888888888, \"#fdca26\"], [1.0, \"#f0f921\"]], \"sequentialminus\": [[0.0, \"#0d0887\"], [0.1111111111111111, \"#46039f\"], [0.2222222222222222, \"#7201a8\"], [0.3333333333333333, \"#9c179e\"], [0.4444444444444444, \"#bd3786\"], [0.5555555555555556, \"#d8576b\"], [0.6666666666666666, \"#ed7953\"], [0.7777777777777778, \"#fb9f3a\"], [0.8888888888888888, \"#fdca26\"], [1.0, \"#f0f921\"]]}, \"colorway\": [\"#636efa\", \"#EF553B\", \"#00cc96\", \"#ab63fa\", \"#FFA15A\", \"#19d3f3\", \"#FF6692\", \"#B6E880\", \"#FF97FF\", \"#FECB52\"], \"font\": {\"color\": \"#2a3f5f\"}, \"geo\": {\"bgcolor\": \"white\", \"lakecolor\": \"white\", \"landcolor\": \"white\", \"showlakes\": true, \"showland\": true, \"subunitcolor\": \"#C8D4E3\"}, \"hoverlabel\": {\"align\": \"left\"}, \"hovermode\": \"closest\", \"mapbox\": {\"style\": \"light\"}, \"paper_bgcolor\": \"white\", \"plot_bgcolor\": \"white\", \"polar\": {\"angularaxis\": {\"gridcolor\": \"#EBF0F8\", \"linecolor\": \"#EBF0F8\", \"ticks\": \"\"}, \"bgcolor\": \"white\", \"radialaxis\": {\"gridcolor\": \"#EBF0F8\", \"linecolor\": \"#EBF0F8\", \"ticks\": \"\"}}, \"scene\": {\"xaxis\": {\"backgroundcolor\": \"white\", \"gridcolor\": \"#DFE8F3\", \"gridwidth\": 2, \"linecolor\": \"#EBF0F8\", \"showbackground\": true, \"ticks\": \"\", \"zerolinecolor\": \"#EBF0F8\"}, \"yaxis\": {\"backgroundcolor\": \"white\", \"gridcolor\": \"#DFE8F3\", \"gridwidth\": 2, \"linecolor\": \"#EBF0F8\", \"showbackground\": true, \"ticks\": \"\", \"zerolinecolor\": \"#EBF0F8\"}, \"zaxis\": {\"backgroundcolor\": \"white\", \"gridcolor\": \"#DFE8F3\", \"gridwidth\": 2, \"linecolor\": \"#EBF0F8\", \"showbackground\": true, \"ticks\": \"\", \"zerolinecolor\": \"#EBF0F8\"}}, \"shapedefaults\": {\"line\": {\"color\": \"#2a3f5f\"}}, \"ternary\": {\"aaxis\": {\"gridcolor\": \"#DFE8F3\", \"linecolor\": \"#A2B1C6\", \"ticks\": \"\"}, \"baxis\": {\"gridcolor\": \"#DFE8F3\", \"linecolor\": \"#A2B1C6\", \"ticks\": \"\"}, \"bgcolor\": \"white\", \"caxis\": {\"gridcolor\": \"#DFE8F3\", \"linecolor\": \"#A2B1C6\", \"ticks\": \"\"}}, \"title\": {\"x\": 0.05}, \"xaxis\": {\"automargin\": true, \"gridcolor\": \"#EBF0F8\", \"linecolor\": \"#EBF0F8\", \"ticks\": \"\", \"title\": {\"standoff\": 15}, \"zerolinecolor\": \"#EBF0F8\", \"zerolinewidth\": 2}, \"yaxis\": {\"automargin\": true, \"gridcolor\": \"#EBF0F8\", \"linecolor\": \"#EBF0F8\", \"ticks\": \"\", \"title\": {\"standoff\": 15}, \"zerolinecolor\": \"#EBF0F8\", \"zerolinewidth\": 2}}}, \"title\": {\"text\": \"SCOTUS Similarity as Network Graph\"}, \"xaxis\": {\"showgrid\": false, \"showticklabels\": false, \"zeroline\": false}, \"yaxis\": {\"showgrid\": false, \"showticklabels\": false, \"zeroline\": false}},\n",
       "                        {\"responsive\": true}\n",
       "                    ).then(function(){\n",
       "                            \n",
       "var gd = document.getElementById('408cfaf3-b303-4da7-a26a-a275c490a455');\n",
       "var x = new MutationObserver(function (mutations, observer) {{\n",
       "        var display = window.getComputedStyle(gd).display;\n",
       "        if (!display || display === 'none') {{\n",
       "            console.log([gd, 'removed!']);\n",
       "            Plotly.purge(gd);\n",
       "            observer.disconnect();\n",
       "        }}\n",
       "}});\n",
       "\n",
       "// Listen for the removal of the full notebook cells\n",
       "var notebookContainer = gd.closest('#notebook-container');\n",
       "if (notebookContainer) {{\n",
       "    x.observe(notebookContainer, {childList: true});\n",
       "}}\n",
       "\n",
       "// Listen for the clearing of the current output cell\n",
       "var outputEl = gd.closest('.output');\n",
       "if (outputEl) {{\n",
       "    x.observe(outputEl, {childList: true});\n",
       "}}\n",
       "\n",
       "                        })\n",
       "                };\n",
       "                });\n",
       "            </script>\n",
       "        </div>"
      ]
     },
     "metadata": {},
     "output_type": "display_data"
    }
   ],
   "source": [
    "plot_network(sim_df, df2)"
   ]
  },
  {
   "cell_type": "code",
   "execution_count": null,
   "metadata": {},
   "outputs": [],
   "source": []
  }
 ],
 "metadata": {
  "kernelspec": {
   "display_name": "scotus",
   "language": "python",
   "name": "scotus"
  },
  "language_info": {
   "codemirror_mode": {
    "name": "ipython",
    "version": 3
   },
   "file_extension": ".py",
   "mimetype": "text/x-python",
   "name": "python",
   "nbconvert_exporter": "python",
   "pygments_lexer": "ipython3",
   "version": "3.7.4"
  },
  "toc": {
   "base_numbering": 1,
   "nav_menu": {},
   "number_sections": true,
   "sideBar": true,
   "skip_h1_title": false,
   "title_cell": "Table of Contents",
   "title_sidebar": "Contents",
   "toc_cell": false,
   "toc_position": {},
   "toc_section_display": true,
   "toc_window_display": false
  }
 },
 "nbformat": 4,
 "nbformat_minor": 4
}
