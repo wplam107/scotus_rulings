{
 "cells": [
  {
   "cell_type": "code",
   "execution_count": 1,
   "metadata": {
    "ExecuteTime": {
     "end_time": "2020-07-21T01:57:36.294688Z",
     "start_time": "2020-07-21T01:57:33.194856Z"
    }
   },
   "outputs": [],
   "source": [
    "import numpy as np\n",
    "import pandas as pd\n",
    "import pickle\n",
    "from sklearn.metrics.pairwise import cosine_similarity, manhattan_distances, euclidean_distances\n",
    "import plotly.graph_objects as go\n",
    "import plotly.express as px"
   ]
  },
  {
   "cell_type": "code",
   "execution_count": 2,
   "metadata": {
    "ExecuteTime": {
     "end_time": "2020-07-21T01:57:36.308056Z",
     "start_time": "2020-07-21T01:57:36.297557Z"
    }
   },
   "outputs": [],
   "source": [
    "# Binary\n",
    "f = open('adj_df.p', 'rb')\n",
    "df1 = pickle.load(f)\n",
    "f.close()\n",
    "\n",
    "# Multiclass\n",
    "f = open('mul_df.p', 'rb')\n",
    "df2 = pickle.load(f)\n",
    "f.close()"
   ]
  },
  {
   "cell_type": "code",
   "execution_count": 66,
   "metadata": {
    "ExecuteTime": {
     "end_time": "2020-07-21T02:18:16.890108Z",
     "start_time": "2020-07-21T02:18:16.846059Z"
    }
   },
   "outputs": [],
   "source": [
    "# Create class object encapsulating relevent data and methods\n",
    "class scotus(object):\n",
    "    def __init__(self, df):\n",
    "        self.df = df\n",
    "        self.justices = list(df.index)\n",
    "        self.current_justice = None\n",
    "        self.j_courts = None\n",
    "        \n",
    "        # Case ranges\n",
    "        self.j_cases = {}\n",
    "        for j in self.justices:\n",
    "            cases = self.df.loc[j].dropna().index\n",
    "            r = (min(cases), max(cases))\n",
    "            self.j_cases[j] = r\n",
    "            \n",
    "        # Make initial court\n",
    "        self.courts = []\n",
    "        court = []\n",
    "        cs = self.j_cases\n",
    "        js = self.justices\n",
    "        leaving = []\n",
    "        starts = []\n",
    "        first = min(self.df.columns)\n",
    "        last = max(self.df.columns)\n",
    "        for j in js:\n",
    "            if cs[j][0] == first:\n",
    "                court.append(j)\n",
    "            else:\n",
    "                starts.append((j, cs[j][0]))\n",
    "            if cs[j][1] < last:\n",
    "                leaving.append((j, cs[j][1]))\n",
    "        \n",
    "        # Find retired justices and new justices\n",
    "        leaving.sort(key=lambda x: x[1])\n",
    "        starts.sort(key=lambda x: x[1])\n",
    "        assert len(leaving) == len(starts)\n",
    "        self.courts.append(court.copy())\n",
    "    \n",
    "        # Build new courts\n",
    "        for i, j in enumerate(leaving):\n",
    "            court.remove(j[0])\n",
    "            court.append(starts[i][0])\n",
    "            self.courts.append(court.copy())\n",
    "        \n",
    "    def __len__(self):\n",
    "        return len(self.df.columns)\n",
    "    \n",
    "    def __str__(self):\n",
    "        return f'Justices: {len(self.justices)}\\nCases: {len(self.df.columns)}\\nCourts: {len(self.courts)}'\n",
    "    \n",
    "    def __repr__(self):\n",
    "        return f'Justices: {len(self.justices)}\\nCases: {len(self.df.columns)}\\nCourts: {len(self.courts)}'\n",
    "    \n",
    "            \n",
    "    def get_court(self, court):\n",
    "        '''\n",
    "        Get justice similarities\n",
    "        '''\n",
    "\n",
    "        return self.df.loc[court].dropna(axis=1)\n",
    "    \n",
    "    def sim_matrix(self, all_justices=True):\n",
    "        '''\n",
    "        Return similarity matrix (Numpy array)\n",
    "        '''\n",
    "        if all_justices:\n",
    "            jus = list(self.justices)\n",
    "            l = len(jus)\n",
    "            sim_mat = np.zeros((l,l))\n",
    "\n",
    "            for i in range(l):\n",
    "                for j in range(l):   \n",
    "                    anb = np.where(self.df.loc[jus[i]].notna() & self.df.loc[jus[j]].notna(), self.df.columns, np.nan)\n",
    "                    if len([ x for x in anb if str(x) != 'nan' ]) != 0:\n",
    "                        j_a = np.array(self.df[[ x for x in anb if str(x) != 'nan' ]].loc[jus[i]])\n",
    "                        j_b = np.array(self.df[[ x for x in anb if str(x) != 'nan' ]].loc[jus[j]])\n",
    "                        sim_mat[i][j] = np.round(cosine_similarity(j_a.reshape(1, len(j_a)), j_b.reshape(1, len(j_a))), 4)\n",
    "                    else:\n",
    "                        sim_mat[i][j] = np.nan\n",
    "                        \n",
    "            return sim_mat\n",
    "        \n",
    "        else:\n",
    "            assert self.j_courts, 'Set justice'\n",
    "            court_sims = []\n",
    "            for court in self.j_courts:\n",
    "                df = self.get_court(court)\n",
    "                sim_mat = get_sim_mat(df)\n",
    "                court_sims.append(sim_mat)\n",
    "            \n",
    "            return court_sims\n",
    "\n",
    "    def two_dim_court(self, court_num):\n",
    "        '''\n",
    "        2-component representation of justices within a particular court (using PCA), returns DataFrame\n",
    "        '''\n",
    "        \n",
    "        assert court_num in range(0, len(self.courts)), f'Choose int from 0-{len(self.courts)-1}'\n",
    "        \n",
    "        temp_df = pd.DataFrame([ self.df.loc[j] for j in self.courts[court_num] ]).dropna(axis=1)\n",
    "        X = temp_df.values\n",
    "        pca = PCA(n_components=2)\n",
    "        comp = pd.DataFrame(pca.fit_transform(X), columns=['x', 'y'])\n",
    "        comp['justice'] = temp_df.index\n",
    "        \n",
    "        return comp\n",
    "\n",
    "    def set_justice(self, justice):\n",
    "        '''\n",
    "        Set a justice\n",
    "        '''\n",
    "\n",
    "        assert justice in self.justices, f'Not a justice between 1999-2019.\\nChoose one of {self.justices}'\n",
    "        self.current_justice = justice\n",
    "        courts = []\n",
    "        for i, court in enumerate(self.courts):\n",
    "            if justice in court:\n",
    "                courts.append(i)\n",
    "        self.j_courts = [ self.courts[court] for court in courts ]\n",
    "        print(f'Courts Justice {justice} has served on:')\n",
    "        for court in self.j_courts:\n",
    "            print(court)\n",
    "\n",
    "    def _two_dims(self, courts):\n",
    "        assert self.j_courts, 'Set justice'\n",
    "        comps = [ two_dim_court(court) for court in self.j_courts ]\n",
    "        self.comps = comps\n",
    "\n",
    "def get_sim_mat(df):\n",
    "    sim_mat = np.zeros((9,9))\n",
    "    justices = list(df.index)\n",
    "    for i in range(9):\n",
    "        for j in range(9):\n",
    "            j_a = np.array(df.loc[justices[i]])\n",
    "            j_a = j_a.reshape(1, len(j_a))\n",
    "            j_b = np.array(df.loc[justices[j]])\n",
    "            j_b = j_b.reshape(1, len(j_b))\n",
    "            sim_mat[i][j] = np.round(cosine_similarity(j_a, j_b), 4)\n",
    "\n",
    "    return sim_mat"
   ]
  },
  {
   "cell_type": "code",
   "execution_count": 67,
   "metadata": {
    "ExecuteTime": {
     "end_time": "2020-07-21T02:18:17.269792Z",
     "start_time": "2020-07-21T02:18:17.252318Z"
    }
   },
   "outputs": [],
   "source": [
    "sc_obj = scotus(df1)"
   ]
  },
  {
   "cell_type": "code",
   "execution_count": 68,
   "metadata": {
    "ExecuteTime": {
     "end_time": "2020-07-21T02:18:17.668573Z",
     "start_time": "2020-07-21T02:18:17.664334Z"
    }
   },
   "outputs": [
    {
     "name": "stdout",
     "output_type": "stream",
     "text": [
      "Courts Justice Alito has served on:\n",
      "['Breyer', 'Ginsburg', 'Kennedy', 'Scalia', 'Souter', 'Stevens', 'Thomas', 'Roberts', 'Alito']\n",
      "['Breyer', 'Ginsburg', 'Kennedy', 'Scalia', 'Stevens', 'Thomas', 'Roberts', 'Alito', 'Sotomayor']\n",
      "['Breyer', 'Ginsburg', 'Kennedy', 'Scalia', 'Thomas', 'Roberts', 'Alito', 'Sotomayor', 'Kagan']\n",
      "['Breyer', 'Ginsburg', 'Kennedy', 'Thomas', 'Roberts', 'Alito', 'Sotomayor', 'Kagan', 'Gorsuch']\n",
      "['Breyer', 'Ginsburg', 'Thomas', 'Roberts', 'Alito', 'Sotomayor', 'Kagan', 'Gorsuch', 'Kavanaugh']\n"
     ]
    }
   ],
   "source": [
    "sc_obj.set_justice('Alito')"
   ]
  },
  {
   "cell_type": "code",
   "execution_count": 69,
   "metadata": {
    "ExecuteTime": {
     "end_time": "2020-07-21T02:18:21.910709Z",
     "start_time": "2020-07-21T02:18:21.581054Z"
    }
   },
   "outputs": [],
   "source": [
    "court_sims = sc_obj.sim_matrix(all_justices=False)"
   ]
  },
  {
   "cell_type": "code",
   "execution_count": 70,
   "metadata": {
    "ExecuteTime": {
     "end_time": "2020-07-21T02:18:28.728967Z",
     "start_time": "2020-07-21T02:18:28.717271Z"
    }
   },
   "outputs": [
    {
     "data": {
      "text/plain": [
       "[array([[1.    , 0.6279, 0.2344, 0.0559, 0.6623, 0.685 , 0.0839, 0.1097,\n",
       "         0.1336],\n",
       "        [0.6279, 1.    , 0.1019, 0.0729, 0.7325, 0.7475, 0.0657, 0.0215,\n",
       "         0.056 ],\n",
       "        [0.2344, 0.1019, 1.    , 0.1626, 0.1256, 0.115 , 0.1171, 0.268 ,\n",
       "         0.3996],\n",
       "        [0.0559, 0.0729, 0.1626, 1.    , 0.0899, 0.0658, 0.7541, 0.6026,\n",
       "         0.5478],\n",
       "        [0.6623, 0.7325, 0.1256, 0.0899, 1.    , 0.7117, 0.0971, 0.0847,\n",
       "         0.092 ],\n",
       "        [0.685 , 0.7475, 0.115 , 0.0658, 0.7117, 1.    , 0.0889, 0.0581,\n",
       "         0.0842],\n",
       "        [0.0839, 0.0657, 0.1171, 0.7541, 0.0971, 0.0889, 1.    , 0.5428,\n",
       "         0.5578],\n",
       "        [0.1097, 0.0215, 0.268 , 0.6026, 0.0847, 0.0581, 0.5428, 1.    ,\n",
       "         0.7012],\n",
       "        [0.1336, 0.056 , 0.3996, 0.5478, 0.092 , 0.0842, 0.5578, 0.7012,\n",
       "         1.    ]]),\n",
       " array([[1.    , 0.6677, 0.1622, 0.    , 0.6156, 0.1185, 0.1529, 0.1383,\n",
       "         0.703 ],\n",
       "        [0.6677, 1.    , 0.343 , 0.    , 0.5423, 0.1252, 0.2425, 0.2194,\n",
       "         0.686 ],\n",
       "        [0.1622, 0.343 , 1.    , 0.2041, 0.2372, 0.    , 0.3536, 0.3198,\n",
       "         0.1667],\n",
       "        [0.    , 0.    , 0.2041, 1.    , 0.0645, 0.6708, 0.4811, 0.3482,\n",
       "         0.068 ],\n",
       "        [0.6156, 0.5423, 0.2372, 0.0645, 1.    , 0.0577, 0.0745, 0.    ,\n",
       "         0.6852],\n",
       "        [0.1185, 0.1252, 0.    , 0.6708, 0.0577, 1.    , 0.4303, 0.4671,\n",
       "         0.0609],\n",
       "        [0.1529, 0.2425, 0.3536, 0.4811, 0.0745, 0.4303, 1.    , 0.402 ,\n",
       "         0.1571],\n",
       "        [0.1383, 0.2194, 0.3198, 0.3482, 0.    , 0.4671, 0.402 , 1.    ,\n",
       "         0.    ],\n",
       "        [0.703 , 0.686 , 0.1667, 0.068 , 0.6852, 0.0609, 0.1571, 0.    ,\n",
       "         1.    ]]),\n",
       " array([[1.    , 0.715 , 0.1636, 0.016 , 0.0899, 0.1145, 0.1377, 0.657 ,\n",
       "         0.6893],\n",
       "        [0.715 , 1.    , 0.1248, 0.1425, 0.1067, 0.034 , 0.0817, 0.71  ,\n",
       "         0.7781],\n",
       "        [0.1636, 0.1248, 1.    , 0.2282, 0.2351, 0.2177, 0.3273, 0.1561,\n",
       "         0.1438],\n",
       "        [0.016 , 0.1425, 0.2282, 1.    , 0.7022, 0.6522, 0.5976, 0.0916,\n",
       "         0.1641],\n",
       "        [0.0899, 0.1067, 0.2351, 0.7022, 1.    , 0.5583, 0.7134, 0.0858,\n",
       "         0.0922],\n",
       "        [0.1145, 0.034 , 0.2177, 0.6522, 0.5583, 1.    , 0.6592, 0.0364,\n",
       "         0.    ],\n",
       "        [0.1377, 0.0817, 0.3273, 0.5976, 0.7134, 0.6592, 1.    , 0.073 ,\n",
       "         0.0471],\n",
       "        [0.657 , 0.71  , 0.1561, 0.0916, 0.0858, 0.0364, 0.073 , 1.    ,\n",
       "         0.7379],\n",
       "        [0.6893, 0.7781, 0.1438, 0.1641, 0.0922, 0.    , 0.0471, 0.7379,\n",
       "         1.    ]]),\n",
       " array([[1.    , 0.8104, 0.    , 0.    , 0.087 , 0.    , 0.8269, 0.8543,\n",
       "         0.055 ],\n",
       "        [0.8104, 1.    , 0.    , 0.    , 0.    , 0.    , 0.9129, 0.7906,\n",
       "         0.    ],\n",
       "        [0.    , 0.    , 1.    , 0.4216, 0.3651, 0.4216, 0.    , 0.    ,\n",
       "         0.3464],\n",
       "        [0.    , 0.    , 0.4216, 1.    , 0.2887, 0.8333, 0.    , 0.0556,\n",
       "         0.6086],\n",
       "        [0.087 , 0.    , 0.3651, 0.2887, 1.    , 0.2887, 0.0833, 0.0962,\n",
       "         0.3162],\n",
       "        [0.    , 0.    , 0.4216, 0.8333, 0.2887, 1.    , 0.    , 0.0556,\n",
       "         0.6086],\n",
       "        [0.8269, 0.9129, 0.    , 0.    , 0.0833, 0.    , 1.    , 0.7698,\n",
       "         0.    ],\n",
       "        [0.8543, 0.7906, 0.    , 0.0556, 0.0962, 0.0556, 0.7698, 1.    ,\n",
       "         0.0609],\n",
       "        [0.055 , 0.    , 0.3464, 0.6086, 0.3162, 0.6086, 0.    , 0.0609,\n",
       "         1.    ]]),\n",
       " array([[1.    , 0.7648, 0.1057, 0.1774, 0.1538, 0.728 , 0.7206, 0.1201,\n",
       "         0.1307],\n",
       "        [0.7648, 1.    , 0.1001, 0.056 , 0.0728, 0.8207, 0.7202, 0.2274,\n",
       "         0.0619],\n",
       "        [0.1057, 0.1001, 1.    , 0.2708, 0.7397, 0.0953, 0.11  , 0.5866,\n",
       "         0.4191],\n",
       "        [0.1774, 0.056 , 0.2708, 1.    , 0.5322, 0.1066, 0.1231, 0.1231,\n",
       "         0.603 ],\n",
       "        [0.1538, 0.0728, 0.7397, 0.5322, 1.    , 0.0693, 0.0801, 0.4404,\n",
       "         0.5883],\n",
       "        [0.728 , 0.8207, 0.0953, 0.1066, 0.0693, 1.    , 0.7578, 0.2887,\n",
       "         0.1179],\n",
       "        [0.7206, 0.7202, 0.11  , 0.1231, 0.0801, 0.7578, 1.    , 0.2083,\n",
       "         0.068 ],\n",
       "        [0.1201, 0.2274, 0.5866, 0.1231, 0.4404, 0.2887, 0.2083, 1.    ,\n",
       "         0.2041],\n",
       "        [0.1307, 0.0619, 0.4191, 0.603 , 0.5883, 0.1179, 0.068 , 0.2041,\n",
       "         1.    ]])]"
      ]
     },
     "execution_count": 70,
     "metadata": {},
     "output_type": "execute_result"
    }
   ],
   "source": [
    "court_sims"
   ]
  },
  {
   "cell_type": "code",
   "execution_count": 62,
   "metadata": {
    "ExecuteTime": {
     "end_time": "2020-07-21T02:17:12.423580Z",
     "start_time": "2020-07-21T02:17:12.408664Z"
    }
   },
   "outputs": [],
   "source": [
    "a = np.array(sc_obj.get_court(sc_obj.j_courts[0]).loc['Alito'])\n",
    "a = a.reshape(1, len(a))\n",
    "b = np.array(sc_obj.get_court(sc_obj.j_courts[0]).loc['Thomas'])\n",
    "b = b.reshape(1, len(b))"
   ]
  },
  {
   "cell_type": "code",
   "execution_count": 65,
   "metadata": {
    "ExecuteTime": {
     "end_time": "2020-07-21T02:17:36.887004Z",
     "start_time": "2020-07-21T02:17:36.880856Z"
    }
   },
   "outputs": [
    {
     "data": {
      "text/plain": [
       "array([[0.5578]])"
      ]
     },
     "execution_count": 65,
     "metadata": {},
     "output_type": "execute_result"
    }
   ],
   "source": [
    "np.round(cosine_similarity(a, b), 4)"
   ]
  },
  {
   "cell_type": "code",
   "execution_count": null,
   "metadata": {},
   "outputs": [],
   "source": []
  }
 ],
 "metadata": {
  "kernelspec": {
   "display_name": "scotus",
   "language": "python",
   "name": "scotus"
  },
  "language_info": {
   "codemirror_mode": {
    "name": "ipython",
    "version": 3
   },
   "file_extension": ".py",
   "mimetype": "text/x-python",
   "name": "python",
   "nbconvert_exporter": "python",
   "pygments_lexer": "ipython3",
   "version": "3.7.4"
  },
  "toc": {
   "base_numbering": 1,
   "nav_menu": {},
   "number_sections": true,
   "sideBar": true,
   "skip_h1_title": false,
   "title_cell": "Table of Contents",
   "title_sidebar": "Contents",
   "toc_cell": false,
   "toc_position": {},
   "toc_section_display": true,
   "toc_window_display": false
  }
 },
 "nbformat": 4,
 "nbformat_minor": 4
}
