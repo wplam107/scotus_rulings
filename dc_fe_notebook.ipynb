{
 "cells": [
  {
   "cell_type": "markdown",
   "metadata": {},
   "source": [
    "# Data Cleaning, Feature Engineering, Initial EDA Notebook"
   ]
  },
  {
   "cell_type": "code",
   "execution_count": 6,
   "metadata": {
    "ExecuteTime": {
     "end_time": "2020-07-16T21:47:51.219873Z",
     "start_time": "2020-07-16T21:47:51.215285Z"
    }
   },
   "outputs": [],
   "source": [
    "# Standard imports\n",
    "import numpy as np\n",
    "import pandas as pd\n",
    "\n",
    "# Data visualization imports\n",
    "import matplotlib.pyplot as plt\n",
    "import seaborn as sns\n",
    "import networkx as nx\n",
    "import plotly.express as px\n",
    "import plotly.graph_objects as go\n",
    "from plotly.subplots import make_subplots\n",
    "\n",
    "# Export data\n",
    "import pickle\n",
    "\n",
    "# Scotus class object\n",
    "from scotus_class import scotus"
   ]
  },
  {
   "cell_type": "code",
   "execution_count": 2,
   "metadata": {
    "ExecuteTime": {
     "end_time": "2020-07-16T21:47:27.847410Z",
     "start_time": "2020-07-16T21:47:27.571271Z"
    }
   },
   "outputs": [],
   "source": [
    "df = pd.read_csv('scotus_rulings.csv', index_col=0)"
   ]
  },
  {
   "cell_type": "markdown",
   "metadata": {},
   "source": [
    "## Clean data and engineer metric\n",
    "There are 2 ways shown below on how the case features maybe be engineered/cleaned.  The first treats a case as either a vote with the majority or a dissent.  The second maintains the level of concurrence/dissent of a justice.  In each case, a justice can hold multiple opinions.  They can simultaneously agree with the decision of the majority opinion but hold a separate reasoning(s) on the ruling (filing a concurrence).  With 1 being agreement and 2 filing a concurrence (and similarly 4 being dissent and 3 filing a concurrence/dissent).  The metric used here tries to capture the difference between those opinions by finding the mean of a justice's opinion (while removing filing multiple concurrences/dissents in a specific case)."
   ]
  },
  {
   "cell_type": "code",
   "execution_count": 17,
   "metadata": {
    "ExecuteTime": {
     "end_time": "2020-07-17T14:08:13.434689Z",
     "start_time": "2020-07-17T14:08:13.422793Z"
    }
   },
   "outputs": [],
   "source": [
    "# Map code string to metric function (binary)\n",
    "def string_2_ints(s):    \n",
    "    # Special case 'X' is no vote\n",
    "    if s is np.nan:\n",
    "        return np.nan\n",
    "    if s == 'X':\n",
    "        return np.nan\n",
    "    \n",
    "    # Split and remove non-integers and simplify to either majority or dissent\n",
    "    nums = []\n",
    "    for x in set(list(s)):\n",
    "        try:\n",
    "            if int(x) > 2: # Any dissent is assigned as dissent against majority opinion\n",
    "                nums.append(0)\n",
    "            elif int(x) <= 2:\n",
    "                nums.append(1)\n",
    "            elif str(x) == 'nan':\n",
    "                continue\n",
    "        except:\n",
    "            continue\n",
    "\n",
    "    return nums[0]\n",
    "\n",
    "# Map code string to metric function (multi-class)\n",
    "def string_2_multi(s):    \n",
    "    # Special case 'X' is no vote\n",
    "    if s is np.nan:\n",
    "        return np.nan\n",
    "    if s == 'X':\n",
    "        return np.nan\n",
    "    \n",
    "    # Split and remove non-integers\n",
    "    nums = []\n",
    "    for x in set(list(s)):\n",
    "        try:\n",
    "            nums.append(int(x))\n",
    "        except:\n",
    "            continue\n",
    "            \n",
    "    # Return floor of mean value of justices' opinions\n",
    "    return np.floor(np.mean(nums))"
   ]
  },
  {
   "cell_type": "code",
   "execution_count": 18,
   "metadata": {
    "ExecuteTime": {
     "end_time": "2020-07-17T14:08:14.306338Z",
     "start_time": "2020-07-17T14:08:13.765292Z"
    }
   },
   "outputs": [],
   "source": [
    "adj_df = pd.DataFrame(np.vectorize(string_2_ints)(df), index=df.index)\n",
    "mul_df = pd.DataFrame(np.vectorize(string_2_multi)(df), index=df.index)"
   ]
  },
  {
   "cell_type": "code",
   "execution_count": 19,
   "metadata": {
    "ExecuteTime": {
     "end_time": "2020-07-17T14:08:16.310188Z",
     "start_time": "2020-07-17T14:08:16.269074Z"
    }
   },
   "outputs": [
    {
     "data": {
      "text/html": [
       "<div>\n",
       "<style scoped>\n",
       "    .dataframe tbody tr th:only-of-type {\n",
       "        vertical-align: middle;\n",
       "    }\n",
       "\n",
       "    .dataframe tbody tr th {\n",
       "        vertical-align: top;\n",
       "    }\n",
       "\n",
       "    .dataframe thead th {\n",
       "        text-align: right;\n",
       "    }\n",
       "</style>\n",
       "<table border=\"1\" class=\"dataframe\">\n",
       "  <thead>\n",
       "    <tr style=\"text-align: right;\">\n",
       "      <th></th>\n",
       "      <th>0</th>\n",
       "      <th>1</th>\n",
       "      <th>2</th>\n",
       "      <th>3</th>\n",
       "      <th>4</th>\n",
       "      <th>5</th>\n",
       "      <th>6</th>\n",
       "      <th>7</th>\n",
       "      <th>8</th>\n",
       "      <th>9</th>\n",
       "      <th>...</th>\n",
       "      <th>1638</th>\n",
       "      <th>1639</th>\n",
       "      <th>1640</th>\n",
       "      <th>1641</th>\n",
       "      <th>1642</th>\n",
       "      <th>1643</th>\n",
       "      <th>1644</th>\n",
       "      <th>1645</th>\n",
       "      <th>1646</th>\n",
       "      <th>1647</th>\n",
       "    </tr>\n",
       "  </thead>\n",
       "  <tbody>\n",
       "    <tr>\n",
       "      <td>Alito</td>\n",
       "      <td>NaN</td>\n",
       "      <td>NaN</td>\n",
       "      <td>NaN</td>\n",
       "      <td>NaN</td>\n",
       "      <td>NaN</td>\n",
       "      <td>NaN</td>\n",
       "      <td>NaN</td>\n",
       "      <td>NaN</td>\n",
       "      <td>NaN</td>\n",
       "      <td>NaN</td>\n",
       "      <td>...</td>\n",
       "      <td>0.0</td>\n",
       "      <td>0.0</td>\n",
       "      <td>0.0</td>\n",
       "      <td>1.0</td>\n",
       "      <td>1.0</td>\n",
       "      <td>1.0</td>\n",
       "      <td>1.0</td>\n",
       "      <td>1.0</td>\n",
       "      <td>1.0</td>\n",
       "      <td>1.0</td>\n",
       "    </tr>\n",
       "    <tr>\n",
       "      <td>Breyer</td>\n",
       "      <td>1.0</td>\n",
       "      <td>1.0</td>\n",
       "      <td>1.0</td>\n",
       "      <td>1.0</td>\n",
       "      <td>1.0</td>\n",
       "      <td>1.0</td>\n",
       "      <td>1.0</td>\n",
       "      <td>1.0</td>\n",
       "      <td>1.0</td>\n",
       "      <td>1.0</td>\n",
       "      <td>...</td>\n",
       "      <td>1.0</td>\n",
       "      <td>1.0</td>\n",
       "      <td>1.0</td>\n",
       "      <td>1.0</td>\n",
       "      <td>1.0</td>\n",
       "      <td>0.0</td>\n",
       "      <td>1.0</td>\n",
       "      <td>0.0</td>\n",
       "      <td>0.0</td>\n",
       "      <td>0.0</td>\n",
       "    </tr>\n",
       "    <tr>\n",
       "      <td>Ginsburg</td>\n",
       "      <td>1.0</td>\n",
       "      <td>1.0</td>\n",
       "      <td>1.0</td>\n",
       "      <td>1.0</td>\n",
       "      <td>1.0</td>\n",
       "      <td>1.0</td>\n",
       "      <td>1.0</td>\n",
       "      <td>1.0</td>\n",
       "      <td>1.0</td>\n",
       "      <td>1.0</td>\n",
       "      <td>...</td>\n",
       "      <td>1.0</td>\n",
       "      <td>1.0</td>\n",
       "      <td>1.0</td>\n",
       "      <td>1.0</td>\n",
       "      <td>1.0</td>\n",
       "      <td>0.0</td>\n",
       "      <td>1.0</td>\n",
       "      <td>0.0</td>\n",
       "      <td>0.0</td>\n",
       "      <td>1.0</td>\n",
       "    </tr>\n",
       "  </tbody>\n",
       "</table>\n",
       "<p>3 rows × 1648 columns</p>\n",
       "</div>"
      ],
      "text/plain": [
       "          0     1     2     3     4     5     6     7     8     9     ...  \\\n",
       "Alito      NaN   NaN   NaN   NaN   NaN   NaN   NaN   NaN   NaN   NaN  ...   \n",
       "Breyer     1.0   1.0   1.0   1.0   1.0   1.0   1.0   1.0   1.0   1.0  ...   \n",
       "Ginsburg   1.0   1.0   1.0   1.0   1.0   1.0   1.0   1.0   1.0   1.0  ...   \n",
       "\n",
       "          1638  1639  1640  1641  1642  1643  1644  1645  1646  1647  \n",
       "Alito      0.0   0.0   0.0   1.0   1.0   1.0   1.0   1.0   1.0   1.0  \n",
       "Breyer     1.0   1.0   1.0   1.0   1.0   0.0   1.0   0.0   0.0   0.0  \n",
       "Ginsburg   1.0   1.0   1.0   1.0   1.0   0.0   1.0   0.0   0.0   1.0  \n",
       "\n",
       "[3 rows x 1648 columns]"
      ]
     },
     "execution_count": 19,
     "metadata": {},
     "output_type": "execute_result"
    }
   ],
   "source": [
    "adj_df.head(3)"
   ]
  },
  {
   "cell_type": "code",
   "execution_count": 20,
   "metadata": {
    "ExecuteTime": {
     "end_time": "2020-07-17T14:08:16.984339Z",
     "start_time": "2020-07-17T14:08:16.942018Z"
    }
   },
   "outputs": [
    {
     "data": {
      "text/html": [
       "<div>\n",
       "<style scoped>\n",
       "    .dataframe tbody tr th:only-of-type {\n",
       "        vertical-align: middle;\n",
       "    }\n",
       "\n",
       "    .dataframe tbody tr th {\n",
       "        vertical-align: top;\n",
       "    }\n",
       "\n",
       "    .dataframe thead th {\n",
       "        text-align: right;\n",
       "    }\n",
       "</style>\n",
       "<table border=\"1\" class=\"dataframe\">\n",
       "  <thead>\n",
       "    <tr style=\"text-align: right;\">\n",
       "      <th></th>\n",
       "      <th>0</th>\n",
       "      <th>1</th>\n",
       "      <th>2</th>\n",
       "      <th>3</th>\n",
       "      <th>4</th>\n",
       "      <th>5</th>\n",
       "      <th>6</th>\n",
       "      <th>7</th>\n",
       "      <th>8</th>\n",
       "      <th>9</th>\n",
       "      <th>...</th>\n",
       "      <th>1638</th>\n",
       "      <th>1639</th>\n",
       "      <th>1640</th>\n",
       "      <th>1641</th>\n",
       "      <th>1642</th>\n",
       "      <th>1643</th>\n",
       "      <th>1644</th>\n",
       "      <th>1645</th>\n",
       "      <th>1646</th>\n",
       "      <th>1647</th>\n",
       "    </tr>\n",
       "  </thead>\n",
       "  <tbody>\n",
       "    <tr>\n",
       "      <td>Alito</td>\n",
       "      <td>NaN</td>\n",
       "      <td>NaN</td>\n",
       "      <td>NaN</td>\n",
       "      <td>NaN</td>\n",
       "      <td>NaN</td>\n",
       "      <td>NaN</td>\n",
       "      <td>NaN</td>\n",
       "      <td>NaN</td>\n",
       "      <td>NaN</td>\n",
       "      <td>NaN</td>\n",
       "      <td>...</td>\n",
       "      <td>4.0</td>\n",
       "      <td>4.0</td>\n",
       "      <td>3.0</td>\n",
       "      <td>1.0</td>\n",
       "      <td>1.0</td>\n",
       "      <td>1.0</td>\n",
       "      <td>2.0</td>\n",
       "      <td>1.0</td>\n",
       "      <td>1.0</td>\n",
       "      <td>1.0</td>\n",
       "    </tr>\n",
       "    <tr>\n",
       "      <td>Breyer</td>\n",
       "      <td>1.0</td>\n",
       "      <td>1.0</td>\n",
       "      <td>1.0</td>\n",
       "      <td>1.0</td>\n",
       "      <td>1.0</td>\n",
       "      <td>1.0</td>\n",
       "      <td>1.0</td>\n",
       "      <td>1.0</td>\n",
       "      <td>1.0</td>\n",
       "      <td>1.0</td>\n",
       "      <td>...</td>\n",
       "      <td>1.0</td>\n",
       "      <td>1.0</td>\n",
       "      <td>1.0</td>\n",
       "      <td>1.0</td>\n",
       "      <td>2.0</td>\n",
       "      <td>3.0</td>\n",
       "      <td>1.0</td>\n",
       "      <td>4.0</td>\n",
       "      <td>4.0</td>\n",
       "      <td>4.0</td>\n",
       "    </tr>\n",
       "    <tr>\n",
       "      <td>Ginsburg</td>\n",
       "      <td>1.0</td>\n",
       "      <td>1.0</td>\n",
       "      <td>1.0</td>\n",
       "      <td>1.0</td>\n",
       "      <td>1.0</td>\n",
       "      <td>1.0</td>\n",
       "      <td>1.0</td>\n",
       "      <td>1.0</td>\n",
       "      <td>1.0</td>\n",
       "      <td>1.0</td>\n",
       "      <td>...</td>\n",
       "      <td>1.0</td>\n",
       "      <td>1.0</td>\n",
       "      <td>1.0</td>\n",
       "      <td>1.0</td>\n",
       "      <td>2.0</td>\n",
       "      <td>3.0</td>\n",
       "      <td>1.0</td>\n",
       "      <td>4.0</td>\n",
       "      <td>4.0</td>\n",
       "      <td>1.0</td>\n",
       "    </tr>\n",
       "  </tbody>\n",
       "</table>\n",
       "<p>3 rows × 1648 columns</p>\n",
       "</div>"
      ],
      "text/plain": [
       "          0     1     2     3     4     5     6     7     8     9     ...  \\\n",
       "Alito      NaN   NaN   NaN   NaN   NaN   NaN   NaN   NaN   NaN   NaN  ...   \n",
       "Breyer     1.0   1.0   1.0   1.0   1.0   1.0   1.0   1.0   1.0   1.0  ...   \n",
       "Ginsburg   1.0   1.0   1.0   1.0   1.0   1.0   1.0   1.0   1.0   1.0  ...   \n",
       "\n",
       "          1638  1639  1640  1641  1642  1643  1644  1645  1646  1647  \n",
       "Alito      4.0   4.0   3.0   1.0   1.0   1.0   2.0   1.0   1.0   1.0  \n",
       "Breyer     1.0   1.0   1.0   1.0   2.0   3.0   1.0   4.0   4.0   4.0  \n",
       "Ginsburg   1.0   1.0   1.0   1.0   2.0   3.0   1.0   4.0   4.0   1.0  \n",
       "\n",
       "[3 rows x 1648 columns]"
      ]
     },
     "execution_count": 20,
     "metadata": {},
     "output_type": "execute_result"
    }
   ],
   "source": [
    "mul_df.head(3)"
   ]
  },
  {
   "cell_type": "code",
   "execution_count": 21,
   "metadata": {
    "ExecuteTime": {
     "end_time": "2020-07-17T14:08:24.302192Z",
     "start_time": "2020-07-17T14:08:24.292199Z"
    }
   },
   "outputs": [],
   "source": [
    "# Pickle for prediction models\n",
    "f = open('adj_df.p', 'wb')\n",
    "pickle.dump(adj_df, f)\n",
    "f.close()\n",
    "\n",
    "f = open('mul_df.p', 'wb')\n",
    "pickle.dump(mul_df, f)\n",
    "f.close()"
   ]
  },
  {
   "cell_type": "markdown",
   "metadata": {},
   "source": [
    "## Scotus Rulings Class Object\n",
    "A class object was created in order to encapsulate data in the file ```scotus_class.py```.  The methods return various forms of data including courts of justices (as old ones retire and new ones are appointed) allowing for easy comparisons for EDA and in a dashboard."
   ]
  },
  {
   "cell_type": "code",
   "execution_count": null,
   "metadata": {
    "ExecuteTime": {
     "end_time": "2020-07-16T17:08:52.799096Z",
     "start_time": "2020-07-16T17:08:52.781911Z"
    }
   },
   "outputs": [],
   "source": [
    "scotus_obj = scotus(adj_df)"
   ]
  },
  {
   "cell_type": "markdown",
   "metadata": {},
   "source": [
    "## Initial EDA"
   ]
  },
  {
   "cell_type": "markdown",
   "metadata": {},
   "source": [
    "### Mean Level of Dissent\n",
    "Justice's opinions on cases were coded such that:\n",
    "- 1 = Wrote or Joined Majority\n",
    "- 2 = Wrote or Joined a Concurrence\n",
    "- 3 = Wrote or Joined a Concurrence/Dissent\n",
    "- 4 = Wrote or Joined a Dissent\n",
    "\n",
    "The graph below illustrates the mean opinion of a justice.  A greater mean opinion equates to a greater tendency to have a differing opinion than the majority opinion."
   ]
  },
  {
   "cell_type": "code",
   "execution_count": null,
   "metadata": {
    "ExecuteTime": {
     "end_time": "2020-07-16T17:10:06.068731Z",
     "start_time": "2020-07-16T17:10:06.002020Z"
    },
    "scrolled": false
   },
   "outputs": [],
   "source": [
    "fig = px.bar(pd.DataFrame(adj_df.mean(axis=1)).reset_index(), x='index', y=0, range_y=(0, 1))\n",
    "fig.update_layout(\n",
    "    title='Justices by Mean Opinion',\n",
    "    xaxis_title='Justices',\n",
    "    yaxis_title='Mean Justice Opinion (0=dissent, 1=majority)',\n",
    "    xaxis={'categoryorder':'total descending'},\n",
    ")"
   ]
  },
  {
   "cell_type": "markdown",
   "metadata": {},
   "source": [
    "### Similarity Matrix\n",
    "The plot below illustrates the cosine similarity between justices"
   ]
  },
  {
   "cell_type": "code",
   "execution_count": null,
   "metadata": {
    "ExecuteTime": {
     "end_time": "2020-07-16T17:10:48.106067Z",
     "start_time": "2020-07-16T17:10:46.494555Z"
    }
   },
   "outputs": [],
   "source": [
    "sim_mat = pd.DataFrame(scotus_obj.sim_matrix(), index=adj_df.index, columns=adj_df.index)"
   ]
  },
  {
   "cell_type": "code",
   "execution_count": null,
   "metadata": {
    "ExecuteTime": {
     "end_time": "2020-07-16T17:10:48.728256Z",
     "start_time": "2020-07-16T17:10:48.108544Z"
    }
   },
   "outputs": [],
   "source": [
    "plt.figure(figsize=(15,10))\n",
    "mask = np.zeros(sim_mat.shape, dtype=bool)\n",
    "mask[np.triu_indices(len(mask))] = True\n",
    "sns.heatmap(sim_mat, cmap='coolwarm', mask=mask, square=True)\n",
    "plt.show()"
   ]
  },
  {
   "cell_type": "markdown",
   "metadata": {},
   "source": [
    "### Cosine Similarity as a Network Graph"
   ]
  },
  {
   "cell_type": "code",
   "execution_count": null,
   "metadata": {
    "ExecuteTime": {
     "end_time": "2020-07-16T17:11:47.239654Z",
     "start_time": "2020-07-16T17:11:47.235564Z"
    }
   },
   "outputs": [],
   "source": [
    "# Create nodes\n",
    "nodes = scotus_obj.justices\n",
    "l = len(nodes)"
   ]
  },
  {
   "cell_type": "code",
   "execution_count": null,
   "metadata": {
    "ExecuteTime": {
     "end_time": "2020-07-16T17:11:48.046142Z",
     "start_time": "2020-07-16T17:11:47.996171Z"
    }
   },
   "outputs": [],
   "source": [
    "# Create edges, tuple = (justice A, justice B, cosine similarity)\n",
    "edges = []\n",
    "for i in range(l):\n",
    "    for j in range(i+1, l):\n",
    "        if str(sim_mat.iloc[i][j]) != 'nan':\n",
    "            tup = (sim_mat.iloc[i].name, sim_mat.iloc[i].index[j], sim_mat.iloc[i][j])\n",
    "            edges.append(tup)"
   ]
  },
  {
   "cell_type": "code",
   "execution_count": null,
   "metadata": {
    "ExecuteTime": {
     "end_time": "2020-07-16T17:15:06.941976Z",
     "start_time": "2020-07-16T17:15:06.580544Z"
    }
   },
   "outputs": [],
   "source": [
    "# Instantiate graph object\n",
    "fig = plt.figure(figsize=(20,10))\n",
    "G = nx.Graph()\n",
    "\n",
    "# Add edges to graph\n",
    "for edge in edges:\n",
    "    if edge[2] > 0.65:\n",
    "        G.add_edge(edge[0], edge[1], weight=edge[2])\n",
    "\n",
    "# Create line weights\n",
    "el = [ (u, v) for (u, v, d) in G.edges(data=True) if d['weight'] > 0.95 ]\n",
    "eml = [ (u, v) for (u, v, d) in G.edges(data=True) if (d['weight'] > 0.9) and (d['weight'] <= 0.95) ]\n",
    "em = [ (u, v) for (u, v, d) in G.edges(data=True) if (d['weight'] > 0.85) and (d['weight'] <= 0.9) ]\n",
    "\n",
    "# Postions of nodes and edges\n",
    "pos = nx.spring_layout(G)\n",
    "nl = G.nodes(data=True)\n",
    "nml = G.nodes(data=True)\n",
    "\n",
    "# Plot Nodes\n",
    "nx.draw_networkx_nodes(G, pos, node_size=700, alpha=0.8)\n",
    "\n",
    "# Plot Edges\n",
    "nx.draw_networkx_edges(G, pos, edgelist=el, width=10, edge_color='r', alpha=0.8)\n",
    "nx.draw_networkx_edges(G, pos, edgelist=eml, width=7, edge_color='orange', alpha=0.8)\n",
    "nx.draw_networkx_edges(G, pos, edgelist=em, width=4, edge_color='yellow', alpha=0.8)\n",
    "\n",
    "# Add Justice Labels\n",
    "nx.draw_networkx_labels(G, pos, font_size=14, font_family='sans-serif')\n",
    "\n",
    "plt.axis('off')\n",
    "plt.show()"
   ]
  },
  {
   "cell_type": "code",
   "execution_count": 26,
   "metadata": {
    "ExecuteTime": {
     "end_time": "2020-07-17T14:14:39.120172Z",
     "start_time": "2020-07-17T14:14:38.942156Z"
    }
   },
   "outputs": [
    {
     "data": {
      "image/png": "[encoded data removed]",
      "text/plain": [
       "<Figure size 432x288 with 1 Axes>"
      ]
     },
     "metadata": {
      "needs_background": "light"
     },
     "output_type": "display_data"
    }
   ],
   "source": [
    "plt.hist(mul_df.loc['Breyer'], bins=4)\n",
    "plt.show()"
   ]
  },
  {
   "cell_type": "code",
   "execution_count": null,
   "metadata": {},
   "outputs": [],
   "source": []
  }
 ],
 "metadata": {
  "kernelspec": {
   "display_name": "scotus",
   "language": "python",
   "name": "scotus"
  },
  "language_info": {
   "codemirror_mode": {
    "name": "ipython",
    "version": 3
   },
   "file_extension": ".py",
   "mimetype": "text/x-python",
   "name": "python",
   "nbconvert_exporter": "python",
   "pygments_lexer": "ipython3",
   "version": "3.7.4"
  },
  "toc": {
   "base_numbering": 1,
   "nav_menu": {},
   "number_sections": true,
   "sideBar": true,
   "skip_h1_title": false,
   "title_cell": "Table of Contents",
   "title_sidebar": "Contents",
   "toc_cell": false,
   "toc_position": {},
   "toc_section_display": true,
   "toc_window_display": false
  }
 },
 "nbformat": 4,
 "nbformat_minor": 2
}
