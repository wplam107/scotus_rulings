{
 "cells": [
  {
   "cell_type": "markdown",
   "metadata": {},
   "source": [
    "# Predicting Justice Votes"
   ]
  },
  {
   "cell_type": "code",
   "execution_count": 1,
   "metadata": {
    "ExecuteTime": {
     "end_time": "2020-07-17T17:42:58.650015Z",
     "start_time": "2020-07-17T17:42:56.190939Z"
    }
   },
   "outputs": [],
   "source": [
    "# Standard imports\n",
    "import numpy as np\n",
    "import pandas as pd\n",
    "\n",
    "# Models and eval\n",
    "from sklearn.naive_bayes import BernoulliNB\n",
    "from sklearn.naive_bayes import GaussianNB\n",
    "from sklearn.naive_bayes import ComplementNB\n",
    "from sklearn.naive_bayes import MultinomialNB\n",
    "from sklearn.ensemble import RandomForestClassifier\n",
    "from sklearn.metrics import f1_score, accuracy_score\n",
    "from sklearn.metrics.pairwise import cosine_similarity\n",
    "from sklearn.model_selection import train_test_split\n",
    "from sklearn.model_selection import GridSearchCV\n",
    "\n",
    "# Import data\n",
    "import pickle\n",
    "\n",
    "# Scotus class object\n",
    "from scotus_class import scotus"
   ]
  },
  {
   "cell_type": "code",
   "execution_count": 2,
   "metadata": {
    "ExecuteTime": {
     "end_time": "2020-07-17T17:42:58.662281Z",
     "start_time": "2020-07-17T17:42:58.652980Z"
    }
   },
   "outputs": [],
   "source": [
    "# Binary\n",
    "f = open('adj_df.p', 'rb')\n",
    "df1 = pickle.load(f)\n",
    "f.close()\n",
    "\n",
    "# Multiclass\n",
    "f = open('mul_df.p', 'rb')\n",
    "df2 = pickle.load(f)\n",
    "f.close()"
   ]
  },
  {
   "cell_type": "markdown",
   "metadata": {},
   "source": [
    "## Initial Test of Predicting Justice Opinions\n",
    "In this initial test, each case a justice has produced an opinion on is a potential target variable.  All other cases in which a justice has produced an opinion are treated as features."
   ]
  },
  {
   "cell_type": "code",
   "execution_count": 3,
   "metadata": {
    "ExecuteTime": {
     "end_time": "2020-07-17T17:42:59.296929Z",
     "start_time": "2020-07-17T17:42:59.278872Z"
    }
   },
   "outputs": [],
   "source": [
    "# Instantiate scotus object for references\n",
    "sc_obj = scotus(df1)"
   ]
  },
  {
   "cell_type": "code",
   "execution_count": 4,
   "metadata": {
    "ExecuteTime": {
     "end_time": "2020-07-17T17:42:59.579464Z",
     "start_time": "2020-07-17T17:42:59.574715Z"
    }
   },
   "outputs": [
    {
     "name": "stdout",
     "output_type": "stream",
     "text": [
      "Court Number(s): [0]\n"
     ]
    }
   ],
   "source": [
    "# Select Rehnquist court(s)\n",
    "sc_obj.justice_courts('Rehnquist')\n",
    "print('Court Number(s):', sc_obj.j_courts)"
   ]
  },
  {
   "cell_type": "code",
   "execution_count": 5,
   "metadata": {
    "ExecuteTime": {
     "end_time": "2020-07-17T17:42:59.885522Z",
     "start_time": "2020-07-17T17:42:59.881605Z"
    }
   },
   "outputs": [
    {
     "name": "stdout",
     "output_type": "stream",
     "text": [
      "['Breyer', 'Ginsburg', 'Kennedy', \"O'Connor\", 'Rehnquist', 'Scalia', 'Souter', 'Stevens', 'Thomas']\n"
     ]
    }
   ],
   "source": [
    "# Rehnquist court\n",
    "rehn_court = sc_obj.courts[0]\n",
    "print(rehn_court)"
   ]
  },
  {
   "cell_type": "code",
   "execution_count": 6,
   "metadata": {
    "ExecuteTime": {
     "end_time": "2020-07-17T17:43:01.203860Z",
     "start_time": "2020-07-17T17:43:01.198942Z"
    }
   },
   "outputs": [
    {
     "name": "stdout",
     "output_type": "stream",
     "text": [
      "First Case: 0\n",
      "Last Case: 497\n"
     ]
    }
   ],
   "source": [
    "# Rehnquist term\n",
    "print('First Case:', sc_obj.j_cases['Rehnquist'][0])\n",
    "print('Last Case:', sc_obj.j_cases['Rehnquist'][1])"
   ]
  },
  {
   "cell_type": "code",
   "execution_count": 7,
   "metadata": {
    "ExecuteTime": {
     "end_time": "2020-07-17T17:43:02.470640Z",
     "start_time": "2020-07-17T17:43:02.463514Z"
    }
   },
   "outputs": [
    {
     "name": "stdout",
     "output_type": "stream",
     "text": [
      "Missing justice opinions: 36\n"
     ]
    }
   ],
   "source": [
    "current_df = df1.loc[rehn_court, :498]\n",
    "print('Missing justice opinions:', current_df.isna().sum().sum())"
   ]
  },
  {
   "cell_type": "code",
   "execution_count": 8,
   "metadata": {
    "ExecuteTime": {
     "end_time": "2020-07-17T17:43:02.805510Z",
     "start_time": "2020-07-17T17:43:02.798059Z"
    }
   },
   "outputs": [
    {
     "name": "stdout",
     "output_type": "stream",
     "text": [
      "Cases with no missing opinions: 465\n"
     ]
    }
   ],
   "source": [
    "# Drop cases with missing opinions\n",
    "current_df.dropna(axis=1, inplace=True)\n",
    "print('Cases with no missing opinions:', len(current_df.columns))"
   ]
  },
  {
   "cell_type": "code",
   "execution_count": 28,
   "metadata": {
    "ExecuteTime": {
     "end_time": "2020-07-17T17:56:16.794160Z",
     "start_time": "2020-07-17T17:56:16.785374Z"
    }
   },
   "outputs": [],
   "source": [
    "# Set X, y helper function\n",
    "def get_xy(df, justice, case):\n",
    "    X = df.drop(justice, axis=0).drop(case, axis=1)\n",
    "    y = df.drop(justice, axis=0)[case]\n",
    "    return X, y\n",
    "    \n",
    "# Prediction function\n",
    "def predict_cases(df, justice):\n",
    "    cases = list(df.columns)\n",
    "    preds = []\n",
    "    for case in cases:\n",
    "        clf = BernoulliNB()\n",
    "        X, y = get_xy(df, justice, case)\n",
    "        clf.fit(X, y)\n",
    "        pred = int(clf.predict(np.array(df.loc[justice].drop(case)).reshape(1, len(cases)-1)))\n",
    "        preds.append(pred)\n",
    "    return np.array(preds)"
   ]
  },
  {
   "cell_type": "code",
   "execution_count": 29,
   "metadata": {
    "ExecuteTime": {
     "end_time": "2020-07-17T17:56:34.641641Z",
     "start_time": "2020-07-17T17:56:17.171019Z"
    },
    "scrolled": true
   },
   "outputs": [
    {
     "name": "stdout",
     "output_type": "stream",
     "text": [
      "Justice: Breyer\n",
      "------------------------------\n",
      "F1-Score: 0.8683445586671392\n",
      "Accuracy: 0.864516129032258\n",
      "------------------------------\n",
      "Justice: Ginsburg\n",
      "------------------------------\n",
      "F1-Score: 0.9099865620038081\n",
      "Accuracy: 0.9096774193548387\n",
      "------------------------------\n",
      "Justice: Kennedy\n",
      "------------------------------\n",
      "F1-Score: 0.8736929673412142\n",
      "Accuracy: 0.8688172043010752\n",
      "------------------------------\n",
      "Justice: O'Connor\n",
      "------------------------------\n",
      "F1-Score: 0.8499319410004172\n",
      "Accuracy: 0.843010752688172\n",
      "------------------------------\n",
      "Justice: Rehnquist\n",
      "------------------------------\n",
      "F1-Score: 0.8866067440342936\n",
      "Accuracy: 0.8795698924731182\n",
      "------------------------------\n",
      "Justice: Scalia\n",
      "------------------------------\n",
      "F1-Score: 0.8939452261318046\n",
      "Accuracy: 0.8924731182795699\n",
      "------------------------------\n",
      "Justice: Souter\n",
      "------------------------------\n",
      "F1-Score: 0.8953302800711384\n",
      "Accuracy: 0.8924731182795699\n",
      "------------------------------\n",
      "Justice: Stevens\n",
      "------------------------------\n",
      "F1-Score: 0.8589506165167322\n",
      "Accuracy: 0.8602150537634409\n",
      "------------------------------\n",
      "Justice: Thomas\n",
      "------------------------------\n",
      "F1-Score: 0.9003072523937504\n",
      "Accuracy: 0.896774193548387\n",
      "------------------------------\n"
     ]
    }
   ],
   "source": [
    "justice_preds = {}\n",
    "for justice in rehn_court:\n",
    "    y_preds = list(predict_cases(current_df, justice))\n",
    "    y_true = list(current_df.loc[justice])\n",
    "    justice_preds[justice] = y_preds\n",
    "    print('Justice:', justice)\n",
    "    print('-'*30)\n",
    "    print('F1-Score:', f1_score(y_true, y_preds, average='weighted'))\n",
    "    print('Accuracy:', accuracy_score(y_true, y_preds))\n",
    "    print('-'*30)"
   ]
  },
  {
   "cell_type": "code",
   "execution_count": 30,
   "metadata": {
    "ExecuteTime": {
     "end_time": "2020-07-17T17:56:34.649828Z",
     "start_time": "2020-07-17T17:56:34.644387Z"
    }
   },
   "outputs": [
    {
     "data": {
      "text/plain": [
       "0.8148148148148148"
      ]
     },
     "execution_count": 30,
     "metadata": {},
     "output_type": "execute_result"
    }
   ],
   "source": [
    "# Mean opinion\n",
    "current_df.sum().sum() / (9*len(current_df.columns))"
   ]
  },
  {
   "cell_type": "code",
   "execution_count": 31,
   "metadata": {
    "ExecuteTime": {
     "end_time": "2020-07-17T17:56:34.664403Z",
     "start_time": "2020-07-17T17:56:34.655028Z"
    }
   },
   "outputs": [
    {
     "data": {
      "text/plain": [
       "0.7913978494623656"
      ]
     },
     "execution_count": 31,
     "metadata": {},
     "output_type": "execute_result"
    }
   ],
   "source": [
    "# Predicted mean opinion\n",
    "pd.DataFrame(justice_preds).T.sum().sum() / (9*len(current_df.columns))"
   ]
  },
  {
   "cell_type": "code",
   "execution_count": 32,
   "metadata": {
    "ExecuteTime": {
     "end_time": "2020-07-17T17:56:34.725193Z",
     "start_time": "2020-07-17T17:56:34.666642Z"
    },
    "scrolled": true
   },
   "outputs": [],
   "source": [
    "pred_sim = pd.DataFrame(index=current_df.index, columns=current_df.index)\n",
    "for justice1 in list(current_df.index):\n",
    "    sim = []\n",
    "    for justice2 in list(current_df.index):\n",
    "        X = np.array(justice_preds[justice1]).reshape(1,len(justice_preds[justice1]))\n",
    "        Y = np.array(justice_preds[justice2]).reshape(1,len(justice_preds[justice2]))\n",
    "        sim.append(float(cosine_similarity(X, Y)))\n",
    "    pred_sim[justice1] = sim"
   ]
  },
  {
   "cell_type": "code",
   "execution_count": 33,
   "metadata": {
    "ExecuteTime": {
     "end_time": "2020-07-17T17:56:36.482167Z",
     "start_time": "2020-07-17T17:56:34.727476Z"
    }
   },
   "outputs": [],
   "source": [
    "actual = pd.DataFrame(sc_obj.sim_matrix(), index=df1.index, columns=df1.index)\n",
    "actual = actual.loc[list(current_df.index)][list(current_df.index)]"
   ]
  },
  {
   "cell_type": "code",
   "execution_count": null,
   "metadata": {
    "ExecuteTime": {
     "end_time": "2020-07-17T16:13:57.533687Z",
     "start_time": "2020-07-17T16:13:57.528129Z"
    }
   },
   "outputs": [],
   "source": [
    "pred_sim.mean().mean()"
   ]
  },
  {
   "cell_type": "code",
   "execution_count": null,
   "metadata": {
    "ExecuteTime": {
     "end_time": "2020-07-17T16:13:57.545157Z",
     "start_time": "2020-07-17T16:13:57.537253Z"
    }
   },
   "outputs": [],
   "source": [
    "actual.mean().mean()"
   ]
  },
  {
   "cell_type": "code",
   "execution_count": 10,
   "metadata": {
    "ExecuteTime": {
     "end_time": "2020-07-17T17:46:10.632157Z",
     "start_time": "2020-07-17T17:46:10.628476Z"
    }
   },
   "outputs": [],
   "source": [
    "case_df = current_df.T"
   ]
  },
  {
   "cell_type": "code",
   "execution_count": 38,
   "metadata": {
    "ExecuteTime": {
     "end_time": "2020-07-17T18:03:36.390465Z",
     "start_time": "2020-07-17T18:02:36.472566Z"
    },
    "scrolled": true
   },
   "outputs": [
    {
     "name": "stderr",
     "output_type": "stream",
     "text": [
      "/Users/waynelam/opt/anaconda3/lib/python3.7/site-packages/sklearn/model_selection/_search.py:814: DeprecationWarning: The default of the `iid` parameter will change from True to False in version 0.22 and will be removed in 0.24. This will change numeric results when test-set sizes are unequal.\n",
      "  DeprecationWarning)\n"
     ]
    },
    {
     "name": "stdout",
     "output_type": "stream",
     "text": [
      "------------------------------\n",
      "Justice: Breyer\n",
      "------------------------------\n",
      "F1: 0.9290322580645162\n",
      "Accuracy: 0.8817204301075269\n"
     ]
    },
    {
     "name": "stderr",
     "output_type": "stream",
     "text": [
      "/Users/waynelam/opt/anaconda3/lib/python3.7/site-packages/sklearn/model_selection/_search.py:814: DeprecationWarning: The default of the `iid` parameter will change from True to False in version 0.22 and will be removed in 0.24. This will change numeric results when test-set sizes are unequal.\n",
      "  DeprecationWarning)\n"
     ]
    },
    {
     "name": "stdout",
     "output_type": "stream",
     "text": [
      "------------------------------\n",
      "Justice: Ginsburg\n",
      "------------------------------\n",
      "F1: 0.9466666666666667\n",
      "Accuracy: 0.9139784946236559\n"
     ]
    },
    {
     "name": "stderr",
     "output_type": "stream",
     "text": [
      "/Users/waynelam/opt/anaconda3/lib/python3.7/site-packages/sklearn/model_selection/_search.py:814: DeprecationWarning: The default of the `iid` parameter will change from True to False in version 0.22 and will be removed in 0.24. This will change numeric results when test-set sizes are unequal.\n",
      "  DeprecationWarning)\n"
     ]
    },
    {
     "name": "stdout",
     "output_type": "stream",
     "text": [
      "------------------------------\n",
      "Justice: Kennedy\n",
      "------------------------------\n",
      "F1: 0.937142857142857\n",
      "Accuracy: 0.8817204301075269\n"
     ]
    },
    {
     "name": "stderr",
     "output_type": "stream",
     "text": [
      "/Users/waynelam/opt/anaconda3/lib/python3.7/site-packages/sklearn/model_selection/_search.py:814: DeprecationWarning: The default of the `iid` parameter will change from True to False in version 0.22 and will be removed in 0.24. This will change numeric results when test-set sizes are unequal.\n",
      "  DeprecationWarning)\n"
     ]
    },
    {
     "name": "stdout",
     "output_type": "stream",
     "text": [
      "------------------------------\n",
      "Justice: O'Connor\n",
      "------------------------------\n",
      "F1: 0.9371428571428572\n",
      "Accuracy: 0.8817204301075269\n"
     ]
    },
    {
     "name": "stderr",
     "output_type": "stream",
     "text": [
      "/Users/waynelam/opt/anaconda3/lib/python3.7/site-packages/sklearn/model_selection/_search.py:814: DeprecationWarning: The default of the `iid` parameter will change from True to False in version 0.22 and will be removed in 0.24. This will change numeric results when test-set sizes are unequal.\n",
      "  DeprecationWarning)\n"
     ]
    },
    {
     "name": "stdout",
     "output_type": "stream",
     "text": [
      "------------------------------\n",
      "Justice: Rehnquist\n",
      "------------------------------\n",
      "F1: 0.9487179487179487\n",
      "Accuracy: 0.9139784946236559\n",
      "------------------------------\n",
      "Justice: Scalia\n",
      "------------------------------\n",
      "F1: 0.912751677852349\n",
      "Accuracy: 0.8602150537634409\n",
      "------------------------------\n",
      "Justice: Souter\n",
      "------------------------------\n",
      "F1: 0.9426751592356688\n",
      "Accuracy: 0.9032258064516129\n",
      "------------------------------\n",
      "Justice: Stevens\n",
      "------------------------------\n",
      "F1: 0.8936170212765958\n",
      "Accuracy: 0.8387096774193549\n",
      "------------------------------\n",
      "Justice: Thomas\n",
      "------------------------------\n",
      "F1: 0.9041095890410958\n",
      "Accuracy: 0.8494623655913979\n"
     ]
    }
   ],
   "source": [
    "rf_preds = {}\n",
    "for justice in list(current_df.index):\n",
    "    X = case_df.drop(columns=justice)\n",
    "    y = case_df[justice]\n",
    "    X_train, X_test, y_train, y_test = train_test_split(X, y, test_size=0.2, random_state=0)\n",
    "\n",
    "    rf = RandomForestClassifier()\n",
    "    params = {\n",
    "        'n_estimators': [15, 20, 25],\n",
    "        'max_depth': [2, 3, 4, 5, 6],\n",
    "        'criterion': ['gini', 'entropy'],\n",
    "        'class_weight': [None, 'balanced', 'balanced_subsample'],\n",
    "    }\n",
    "\n",
    "    clf = GridSearchCV(rf, params, scoring='f1', n_jobs=-1, cv=5)\n",
    "    clf.fit(X_train, y_train)\n",
    "    clf_model = clf.best_estimator_\n",
    "    preds = clf_model.predict(X_test)\n",
    "    f1 = f1_score(y_test, preds)\n",
    "    acc = accuracy_score(y_test, preds)\n",
    "    print(30*'-')\n",
    "    print('Justice:', justice)\n",
    "    print(30*'-')\n",
    "    print('F1:', f1)\n",
    "    print('Accuracy:', acc)\n",
    "    \n",
    "    preds = []\n",
    "    for case in case_df.drop(columns=justice).index:\n",
    "        case = np.array(case_df.drop(columns=justice).loc[case]).reshape(1, 8)\n",
    "        pred = clf_model.predict(case)\n",
    "        preds.append(int(pred))\n",
    "    \n",
    "    rf_preds[justice] = preds"
   ]
  },
  {
   "cell_type": "code",
   "execution_count": 39,
   "metadata": {
    "ExecuteTime": {
     "end_time": "2020-07-17T18:03:36.446670Z",
     "start_time": "2020-07-17T18:03:36.392861Z"
    }
   },
   "outputs": [],
   "source": [
    "rf_sim = pd.DataFrame(index=current_df.index, columns=current_df.index)\n",
    "for justice1 in list(current_df.index):\n",
    "    sim = []\n",
    "    for justice2 in list(current_df.index):\n",
    "        X = np.array(rf_preds[justice1]).reshape(1,len(rf_preds[justice1]))\n",
    "        Y = np.array(rf_preds[justice2]).reshape(1,len(rf_preds[justice2]))\n",
    "        sim.append(float(cosine_similarity(X, Y)))\n",
    "    rf_sim[justice1] = sim"
   ]
  },
  {
   "cell_type": "code",
   "execution_count": 34,
   "metadata": {
    "ExecuteTime": {
     "end_time": "2020-07-17T17:56:38.290408Z",
     "start_time": "2020-07-17T17:56:38.275354Z"
    },
    "scrolled": true
   },
   "outputs": [
    {
     "data": {
      "text/html": [
       "<div>\n",
       "<style scoped>\n",
       "    .dataframe tbody tr th:only-of-type {\n",
       "        vertical-align: middle;\n",
       "    }\n",
       "\n",
       "    .dataframe tbody tr th {\n",
       "        vertical-align: top;\n",
       "    }\n",
       "\n",
       "    .dataframe thead th {\n",
       "        text-align: right;\n",
       "    }\n",
       "</style>\n",
       "<table border=\"1\" class=\"dataframe\">\n",
       "  <thead>\n",
       "    <tr style=\"text-align: right;\">\n",
       "      <th></th>\n",
       "      <th>Breyer</th>\n",
       "      <th>Ginsburg</th>\n",
       "      <th>Kennedy</th>\n",
       "      <th>O'Connor</th>\n",
       "      <th>Rehnquist</th>\n",
       "      <th>Scalia</th>\n",
       "      <th>Souter</th>\n",
       "      <th>Stevens</th>\n",
       "      <th>Thomas</th>\n",
       "    </tr>\n",
       "  </thead>\n",
       "  <tbody>\n",
       "    <tr>\n",
       "      <td>Breyer</td>\n",
       "      <td>1.000000</td>\n",
       "      <td>0.958333</td>\n",
       "      <td>0.777680</td>\n",
       "      <td>0.807197</td>\n",
       "      <td>0.730052</td>\n",
       "      <td>0.711303</td>\n",
       "      <td>0.957005</td>\n",
       "      <td>0.970432</td>\n",
       "      <td>0.700478</td>\n",
       "    </tr>\n",
       "    <tr>\n",
       "      <td>Ginsburg</td>\n",
       "      <td>0.958333</td>\n",
       "      <td>1.000000</td>\n",
       "      <td>0.772389</td>\n",
       "      <td>0.802022</td>\n",
       "      <td>0.724543</td>\n",
       "      <td>0.702935</td>\n",
       "      <td>0.962553</td>\n",
       "      <td>0.976107</td>\n",
       "      <td>0.692039</td>\n",
       "    </tr>\n",
       "    <tr>\n",
       "      <td>Kennedy</td>\n",
       "      <td>0.777680</td>\n",
       "      <td>0.772389</td>\n",
       "      <td>1.000000</td>\n",
       "      <td>0.970682</td>\n",
       "      <td>0.941800</td>\n",
       "      <td>0.942972</td>\n",
       "      <td>0.776602</td>\n",
       "      <td>0.751173</td>\n",
       "      <td>0.937604</td>\n",
       "    </tr>\n",
       "    <tr>\n",
       "      <td>O'Connor</td>\n",
       "      <td>0.807197</td>\n",
       "      <td>0.802022</td>\n",
       "      <td>0.970682</td>\n",
       "      <td>1.000000</td>\n",
       "      <td>0.928847</td>\n",
       "      <td>0.919698</td>\n",
       "      <td>0.811245</td>\n",
       "      <td>0.787558</td>\n",
       "      <td>0.914424</td>\n",
       "    </tr>\n",
       "    <tr>\n",
       "      <td>Rehnquist</td>\n",
       "      <td>0.730052</td>\n",
       "      <td>0.724543</td>\n",
       "      <td>0.941800</td>\n",
       "      <td>0.928847</td>\n",
       "      <td>1.000000</td>\n",
       "      <td>0.968263</td>\n",
       "      <td>0.723538</td>\n",
       "      <td>0.700728</td>\n",
       "      <td>0.965344</td>\n",
       "    </tr>\n",
       "    <tr>\n",
       "      <td>Scalia</td>\n",
       "      <td>0.711303</td>\n",
       "      <td>0.702935</td>\n",
       "      <td>0.942972</td>\n",
       "      <td>0.919698</td>\n",
       "      <td>0.968263</td>\n",
       "      <td>1.000000</td>\n",
       "      <td>0.704746</td>\n",
       "      <td>0.678162</td>\n",
       "      <td>0.968961</td>\n",
       "    </tr>\n",
       "    <tr>\n",
       "      <td>Souter</td>\n",
       "      <td>0.957005</td>\n",
       "      <td>0.962553</td>\n",
       "      <td>0.776602</td>\n",
       "      <td>0.811245</td>\n",
       "      <td>0.723538</td>\n",
       "      <td>0.704746</td>\n",
       "      <td>1.000000</td>\n",
       "      <td>0.969087</td>\n",
       "      <td>0.699507</td>\n",
       "    </tr>\n",
       "    <tr>\n",
       "      <td>Stevens</td>\n",
       "      <td>0.970432</td>\n",
       "      <td>0.976107</td>\n",
       "      <td>0.751173</td>\n",
       "      <td>0.787558</td>\n",
       "      <td>0.700728</td>\n",
       "      <td>0.678162</td>\n",
       "      <td>0.969087</td>\n",
       "      <td>1.000000</td>\n",
       "      <td>0.666691</td>\n",
       "    </tr>\n",
       "    <tr>\n",
       "      <td>Thomas</td>\n",
       "      <td>0.700478</td>\n",
       "      <td>0.692039</td>\n",
       "      <td>0.937604</td>\n",
       "      <td>0.914424</td>\n",
       "      <td>0.965344</td>\n",
       "      <td>0.968961</td>\n",
       "      <td>0.699507</td>\n",
       "      <td>0.666691</td>\n",
       "      <td>1.000000</td>\n",
       "    </tr>\n",
       "  </tbody>\n",
       "</table>\n",
       "</div>"
      ],
      "text/plain": [
       "             Breyer  Ginsburg   Kennedy  O'Connor  Rehnquist    Scalia  \\\n",
       "Breyer     1.000000  0.958333  0.777680  0.807197   0.730052  0.711303   \n",
       "Ginsburg   0.958333  1.000000  0.772389  0.802022   0.724543  0.702935   \n",
       "Kennedy    0.777680  0.772389  1.000000  0.970682   0.941800  0.942972   \n",
       "O'Connor   0.807197  0.802022  0.970682  1.000000   0.928847  0.919698   \n",
       "Rehnquist  0.730052  0.724543  0.941800  0.928847   1.000000  0.968263   \n",
       "Scalia     0.711303  0.702935  0.942972  0.919698   0.968263  1.000000   \n",
       "Souter     0.957005  0.962553  0.776602  0.811245   0.723538  0.704746   \n",
       "Stevens    0.970432  0.976107  0.751173  0.787558   0.700728  0.678162   \n",
       "Thomas     0.700478  0.692039  0.937604  0.914424   0.965344  0.968961   \n",
       "\n",
       "             Souter   Stevens    Thomas  \n",
       "Breyer     0.957005  0.970432  0.700478  \n",
       "Ginsburg   0.962553  0.976107  0.692039  \n",
       "Kennedy    0.776602  0.751173  0.937604  \n",
       "O'Connor   0.811245  0.787558  0.914424  \n",
       "Rehnquist  0.723538  0.700728  0.965344  \n",
       "Scalia     0.704746  0.678162  0.968961  \n",
       "Souter     1.000000  0.969087  0.699507  \n",
       "Stevens    0.969087  1.000000  0.666691  \n",
       "Thomas     0.699507  0.666691  1.000000  "
      ]
     },
     "execution_count": 34,
     "metadata": {},
     "output_type": "execute_result"
    }
   ],
   "source": [
    "pred_sim"
   ]
  },
  {
   "cell_type": "code",
   "execution_count": 35,
   "metadata": {
    "ExecuteTime": {
     "end_time": "2020-07-17T17:56:38.595334Z",
     "start_time": "2020-07-17T17:56:38.578483Z"
    },
    "scrolled": true
   },
   "outputs": [
    {
     "data": {
      "text/html": [
       "<div>\n",
       "<style scoped>\n",
       "    .dataframe tbody tr th:only-of-type {\n",
       "        vertical-align: middle;\n",
       "    }\n",
       "\n",
       "    .dataframe tbody tr th {\n",
       "        vertical-align: top;\n",
       "    }\n",
       "\n",
       "    .dataframe thead th {\n",
       "        text-align: right;\n",
       "    }\n",
       "</style>\n",
       "<table border=\"1\" class=\"dataframe\">\n",
       "  <thead>\n",
       "    <tr style=\"text-align: right;\">\n",
       "      <th></th>\n",
       "      <th>Breyer</th>\n",
       "      <th>Ginsburg</th>\n",
       "      <th>Kennedy</th>\n",
       "      <th>O'Connor</th>\n",
       "      <th>Rehnquist</th>\n",
       "      <th>Scalia</th>\n",
       "      <th>Souter</th>\n",
       "      <th>Stevens</th>\n",
       "      <th>Thomas</th>\n",
       "    </tr>\n",
       "  </thead>\n",
       "  <tbody>\n",
       "    <tr>\n",
       "      <td>Breyer</td>\n",
       "      <td>1.0000</td>\n",
       "      <td>0.9159</td>\n",
       "      <td>0.8643</td>\n",
       "      <td>0.8798</td>\n",
       "      <td>0.8173</td>\n",
       "      <td>0.7816</td>\n",
       "      <td>0.9070</td>\n",
       "      <td>0.8794</td>\n",
       "      <td>0.7648</td>\n",
       "    </tr>\n",
       "    <tr>\n",
       "      <td>Ginsburg</td>\n",
       "      <td>0.9159</td>\n",
       "      <td>1.0000</td>\n",
       "      <td>0.8414</td>\n",
       "      <td>0.8477</td>\n",
       "      <td>0.7925</td>\n",
       "      <td>0.7733</td>\n",
       "      <td>0.9297</td>\n",
       "      <td>0.8920</td>\n",
       "      <td>0.7544</td>\n",
       "    </tr>\n",
       "    <tr>\n",
       "      <td>Kennedy</td>\n",
       "      <td>0.8643</td>\n",
       "      <td>0.8414</td>\n",
       "      <td>1.0000</td>\n",
       "      <td>0.9075</td>\n",
       "      <td>0.9337</td>\n",
       "      <td>0.8890</td>\n",
       "      <td>0.8327</td>\n",
       "      <td>0.8026</td>\n",
       "      <td>0.8776</td>\n",
       "    </tr>\n",
       "    <tr>\n",
       "      <td>O'Connor</td>\n",
       "      <td>0.8798</td>\n",
       "      <td>0.8477</td>\n",
       "      <td>0.9075</td>\n",
       "      <td>1.0000</td>\n",
       "      <td>0.9182</td>\n",
       "      <td>0.8692</td>\n",
       "      <td>0.8656</td>\n",
       "      <td>0.8239</td>\n",
       "      <td>0.8674</td>\n",
       "    </tr>\n",
       "    <tr>\n",
       "      <td>Rehnquist</td>\n",
       "      <td>0.8173</td>\n",
       "      <td>0.7925</td>\n",
       "      <td>0.9337</td>\n",
       "      <td>0.9182</td>\n",
       "      <td>1.0000</td>\n",
       "      <td>0.9012</td>\n",
       "      <td>0.7992</td>\n",
       "      <td>0.7536</td>\n",
       "      <td>0.9108</td>\n",
       "    </tr>\n",
       "    <tr>\n",
       "      <td>Scalia</td>\n",
       "      <td>0.7816</td>\n",
       "      <td>0.7733</td>\n",
       "      <td>0.8890</td>\n",
       "      <td>0.8692</td>\n",
       "      <td>0.9012</td>\n",
       "      <td>1.0000</td>\n",
       "      <td>0.7693</td>\n",
       "      <td>0.7272</td>\n",
       "      <td>0.9394</td>\n",
       "    </tr>\n",
       "    <tr>\n",
       "      <td>Souter</td>\n",
       "      <td>0.9070</td>\n",
       "      <td>0.9297</td>\n",
       "      <td>0.8327</td>\n",
       "      <td>0.8656</td>\n",
       "      <td>0.7992</td>\n",
       "      <td>0.7693</td>\n",
       "      <td>1.0000</td>\n",
       "      <td>0.8964</td>\n",
       "      <td>0.7651</td>\n",
       "    </tr>\n",
       "    <tr>\n",
       "      <td>Stevens</td>\n",
       "      <td>0.8794</td>\n",
       "      <td>0.8920</td>\n",
       "      <td>0.8026</td>\n",
       "      <td>0.8239</td>\n",
       "      <td>0.7536</td>\n",
       "      <td>0.7272</td>\n",
       "      <td>0.8964</td>\n",
       "      <td>1.0000</td>\n",
       "      <td>0.7264</td>\n",
       "    </tr>\n",
       "    <tr>\n",
       "      <td>Thomas</td>\n",
       "      <td>0.7648</td>\n",
       "      <td>0.7544</td>\n",
       "      <td>0.8776</td>\n",
       "      <td>0.8674</td>\n",
       "      <td>0.9108</td>\n",
       "      <td>0.9394</td>\n",
       "      <td>0.7651</td>\n",
       "      <td>0.7264</td>\n",
       "      <td>1.0000</td>\n",
       "    </tr>\n",
       "  </tbody>\n",
       "</table>\n",
       "</div>"
      ],
      "text/plain": [
       "           Breyer  Ginsburg  Kennedy  O'Connor  Rehnquist  Scalia  Souter  \\\n",
       "Breyer     1.0000    0.9159   0.8643    0.8798     0.8173  0.7816  0.9070   \n",
       "Ginsburg   0.9159    1.0000   0.8414    0.8477     0.7925  0.7733  0.9297   \n",
       "Kennedy    0.8643    0.8414   1.0000    0.9075     0.9337  0.8890  0.8327   \n",
       "O'Connor   0.8798    0.8477   0.9075    1.0000     0.9182  0.8692  0.8656   \n",
       "Rehnquist  0.8173    0.7925   0.9337    0.9182     1.0000  0.9012  0.7992   \n",
       "Scalia     0.7816    0.7733   0.8890    0.8692     0.9012  1.0000  0.7693   \n",
       "Souter     0.9070    0.9297   0.8327    0.8656     0.7992  0.7693  1.0000   \n",
       "Stevens    0.8794    0.8920   0.8026    0.8239     0.7536  0.7272  0.8964   \n",
       "Thomas     0.7648    0.7544   0.8776    0.8674     0.9108  0.9394  0.7651   \n",
       "\n",
       "           Stevens  Thomas  \n",
       "Breyer      0.8794  0.7648  \n",
       "Ginsburg    0.8920  0.7544  \n",
       "Kennedy     0.8026  0.8776  \n",
       "O'Connor    0.8239  0.8674  \n",
       "Rehnquist   0.7536  0.9108  \n",
       "Scalia      0.7272  0.9394  \n",
       "Souter      0.8964  0.7651  \n",
       "Stevens     1.0000  0.7264  \n",
       "Thomas      0.7264  1.0000  "
      ]
     },
     "execution_count": 35,
     "metadata": {},
     "output_type": "execute_result"
    }
   ],
   "source": [
    "actual"
   ]
  },
  {
   "cell_type": "code",
   "execution_count": 27,
   "metadata": {
    "ExecuteTime": {
     "end_time": "2020-07-17T17:56:02.688203Z",
     "start_time": "2020-07-17T17:56:02.673423Z"
    }
   },
   "outputs": [
    {
     "data": {
      "text/html": [
       "<div>\n",
       "<style scoped>\n",
       "    .dataframe tbody tr th:only-of-type {\n",
       "        vertical-align: middle;\n",
       "    }\n",
       "\n",
       "    .dataframe tbody tr th {\n",
       "        vertical-align: top;\n",
       "    }\n",
       "\n",
       "    .dataframe thead th {\n",
       "        text-align: right;\n",
       "    }\n",
       "</style>\n",
       "<table border=\"1\" class=\"dataframe\">\n",
       "  <thead>\n",
       "    <tr style=\"text-align: right;\">\n",
       "      <th></th>\n",
       "      <th>Breyer</th>\n",
       "      <th>Ginsburg</th>\n",
       "      <th>Kennedy</th>\n",
       "      <th>O'Connor</th>\n",
       "      <th>Rehnquist</th>\n",
       "      <th>Scalia</th>\n",
       "      <th>Souter</th>\n",
       "      <th>Stevens</th>\n",
       "      <th>Thomas</th>\n",
       "    </tr>\n",
       "  </thead>\n",
       "  <tbody>\n",
       "    <tr>\n",
       "      <td>Breyer</td>\n",
       "      <td>1.000000</td>\n",
       "      <td>0.957146</td>\n",
       "      <td>0.893899</td>\n",
       "      <td>0.905182</td>\n",
       "      <td>0.828878</td>\n",
       "      <td>0.766471</td>\n",
       "      <td>0.955298</td>\n",
       "      <td>0.931241</td>\n",
       "      <td>0.747317</td>\n",
       "    </tr>\n",
       "    <tr>\n",
       "      <td>Ginsburg</td>\n",
       "      <td>0.957146</td>\n",
       "      <td>1.000000</td>\n",
       "      <td>0.864039</td>\n",
       "      <td>0.876209</td>\n",
       "      <td>0.791020</td>\n",
       "      <td>0.725601</td>\n",
       "      <td>0.947093</td>\n",
       "      <td>0.942343</td>\n",
       "      <td>0.721679</td>\n",
       "    </tr>\n",
       "    <tr>\n",
       "      <td>Kennedy</td>\n",
       "      <td>0.893899</td>\n",
       "      <td>0.864039</td>\n",
       "      <td>1.000000</td>\n",
       "      <td>0.991361</td>\n",
       "      <td>0.943722</td>\n",
       "      <td>0.882727</td>\n",
       "      <td>0.914461</td>\n",
       "      <td>0.860234</td>\n",
       "      <td>0.870248</td>\n",
       "    </tr>\n",
       "    <tr>\n",
       "      <td>O'Connor</td>\n",
       "      <td>0.905182</td>\n",
       "      <td>0.876209</td>\n",
       "      <td>0.991361</td>\n",
       "      <td>1.000000</td>\n",
       "      <td>0.940144</td>\n",
       "      <td>0.889605</td>\n",
       "      <td>0.925156</td>\n",
       "      <td>0.872520</td>\n",
       "      <td>0.877435</td>\n",
       "    </tr>\n",
       "    <tr>\n",
       "      <td>Rehnquist</td>\n",
       "      <td>0.828878</td>\n",
       "      <td>0.791020</td>\n",
       "      <td>0.943722</td>\n",
       "      <td>0.940144</td>\n",
       "      <td>1.000000</td>\n",
       "      <td>0.917959</td>\n",
       "      <td>0.850542</td>\n",
       "      <td>0.786500</td>\n",
       "      <td>0.907229</td>\n",
       "    </tr>\n",
       "    <tr>\n",
       "      <td>Scalia</td>\n",
       "      <td>0.766471</td>\n",
       "      <td>0.725601</td>\n",
       "      <td>0.882727</td>\n",
       "      <td>0.889605</td>\n",
       "      <td>0.917959</td>\n",
       "      <td>1.000000</td>\n",
       "      <td>0.786504</td>\n",
       "      <td>0.725898</td>\n",
       "      <td>0.956014</td>\n",
       "    </tr>\n",
       "    <tr>\n",
       "      <td>Souter</td>\n",
       "      <td>0.955298</td>\n",
       "      <td>0.947093</td>\n",
       "      <td>0.914461</td>\n",
       "      <td>0.925156</td>\n",
       "      <td>0.850542</td>\n",
       "      <td>0.786504</td>\n",
       "      <td>1.000000</td>\n",
       "      <td>0.935113</td>\n",
       "      <td>0.770921</td>\n",
       "    </tr>\n",
       "    <tr>\n",
       "      <td>Stevens</td>\n",
       "      <td>0.931241</td>\n",
       "      <td>0.942343</td>\n",
       "      <td>0.860234</td>\n",
       "      <td>0.872520</td>\n",
       "      <td>0.786500</td>\n",
       "      <td>0.725898</td>\n",
       "      <td>0.935113</td>\n",
       "      <td>1.000000</td>\n",
       "      <td>0.710685</td>\n",
       "    </tr>\n",
       "    <tr>\n",
       "      <td>Thomas</td>\n",
       "      <td>0.747317</td>\n",
       "      <td>0.721679</td>\n",
       "      <td>0.870248</td>\n",
       "      <td>0.877435</td>\n",
       "      <td>0.907229</td>\n",
       "      <td>0.956014</td>\n",
       "      <td>0.770921</td>\n",
       "      <td>0.710685</td>\n",
       "      <td>1.000000</td>\n",
       "    </tr>\n",
       "  </tbody>\n",
       "</table>\n",
       "</div>"
      ],
      "text/plain": [
       "             Breyer  Ginsburg   Kennedy  O'Connor  Rehnquist    Scalia  \\\n",
       "Breyer     1.000000  0.957146  0.893899  0.905182   0.828878  0.766471   \n",
       "Ginsburg   0.957146  1.000000  0.864039  0.876209   0.791020  0.725601   \n",
       "Kennedy    0.893899  0.864039  1.000000  0.991361   0.943722  0.882727   \n",
       "O'Connor   0.905182  0.876209  0.991361  1.000000   0.940144  0.889605   \n",
       "Rehnquist  0.828878  0.791020  0.943722  0.940144   1.000000  0.917959   \n",
       "Scalia     0.766471  0.725601  0.882727  0.889605   0.917959  1.000000   \n",
       "Souter     0.955298  0.947093  0.914461  0.925156   0.850542  0.786504   \n",
       "Stevens    0.931241  0.942343  0.860234  0.872520   0.786500  0.725898   \n",
       "Thomas     0.747317  0.721679  0.870248  0.877435   0.907229  0.956014   \n",
       "\n",
       "             Souter   Stevens    Thomas  \n",
       "Breyer     0.955298  0.931241  0.747317  \n",
       "Ginsburg   0.947093  0.942343  0.721679  \n",
       "Kennedy    0.914461  0.860234  0.870248  \n",
       "O'Connor   0.925156  0.872520  0.877435  \n",
       "Rehnquist  0.850542  0.786500  0.907229  \n",
       "Scalia     0.786504  0.725898  0.956014  \n",
       "Souter     1.000000  0.935113  0.770921  \n",
       "Stevens    0.935113  1.000000  0.710685  \n",
       "Thomas     0.770921  0.710685  1.000000  "
      ]
     },
     "execution_count": 27,
     "metadata": {},
     "output_type": "execute_result"
    }
   ],
   "source": [
    "rf_sim"
   ]
  },
  {
   "cell_type": "code",
   "execution_count": 40,
   "metadata": {
    "ExecuteTime": {
     "end_time": "2020-07-17T18:03:36.461230Z",
     "start_time": "2020-07-17T18:03:36.449794Z"
    }
   },
   "outputs": [
    {
     "data": {
      "text/plain": [
       "[1,\n",
       " 1,\n",
       " 1,\n",
       " 1,\n",
       " 1,\n",
       " 1,\n",
       " 1,\n",
       " 1,\n",
       " 1,\n",
       " 1,\n",
       " 1,\n",
       " 1,\n",
       " 1,\n",
       " 0,\n",
       " 1,\n",
       " 1,\n",
       " 1,\n",
       " 1,\n",
       " 0,\n",
       " 1,\n",
       " 0,\n",
       " 1,\n",
       " 0,\n",
       " 1,\n",
       " 1,\n",
       " 1,\n",
       " 1,\n",
       " 1,\n",
       " 0,\n",
       " 1,\n",
       " 1,\n",
       " 1,\n",
       " 1,\n",
       " 0,\n",
       " 1,\n",
       " 0,\n",
       " 1,\n",
       " 1,\n",
       " 1,\n",
       " 0,\n",
       " 1,\n",
       " 0,\n",
       " 1,\n",
       " 0,\n",
       " 1,\n",
       " 1,\n",
       " 1,\n",
       " 1,\n",
       " 1,\n",
       " 0,\n",
       " 1,\n",
       " 0,\n",
       " 0,\n",
       " 1,\n",
       " 1,\n",
       " 1,\n",
       " 0,\n",
       " 0,\n",
       " 1,\n",
       " 1,\n",
       " 0,\n",
       " 1,\n",
       " 1,\n",
       " 1,\n",
       " 1,\n",
       " 1,\n",
       " 1,\n",
       " 1,\n",
       " 0,\n",
       " 1,\n",
       " 1,\n",
       " 0,\n",
       " 1,\n",
       " 0,\n",
       " 1,\n",
       " 1,\n",
       " 1,\n",
       " 1,\n",
       " 0,\n",
       " 1,\n",
       " 0,\n",
       " 1,\n",
       " 0,\n",
       " 1,\n",
       " 1,\n",
       " 1,\n",
       " 1,\n",
       " 1,\n",
       " 1,\n",
       " 1,\n",
       " 0,\n",
       " 0,\n",
       " 0,\n",
       " 1,\n",
       " 1,\n",
       " 1,\n",
       " 1,\n",
       " 1,\n",
       " 1,\n",
       " 1,\n",
       " 1,\n",
       " 1,\n",
       " 1,\n",
       " 1,\n",
       " 0,\n",
       " 1,\n",
       " 1,\n",
       " 1,\n",
       " 1,\n",
       " 1,\n",
       " 1,\n",
       " 1,\n",
       " 1,\n",
       " 1,\n",
       " 1,\n",
       " 1,\n",
       " 1,\n",
       " 0,\n",
       " 1,\n",
       " 0,\n",
       " 1,\n",
       " 1,\n",
       " 1,\n",
       " 1,\n",
       " 1,\n",
       " 0,\n",
       " 0,\n",
       " 0,\n",
       " 0,\n",
       " 1,\n",
       " 0,\n",
       " 1,\n",
       " 1,\n",
       " 1,\n",
       " 1,\n",
       " 0,\n",
       " 1,\n",
       " 1,\n",
       " 0,\n",
       " 1,\n",
       " 1,\n",
       " 1,\n",
       " 1,\n",
       " 1,\n",
       " 1,\n",
       " 1,\n",
       " 1,\n",
       " 1,\n",
       " 0,\n",
       " 0,\n",
       " 1,\n",
       " 1,\n",
       " 0,\n",
       " 1,\n",
       " 1,\n",
       " 1,\n",
       " 1,\n",
       " 1,\n",
       " 1,\n",
       " 0,\n",
       " 1,\n",
       " 1,\n",
       " 0,\n",
       " 0,\n",
       " 0,\n",
       " 1,\n",
       " 1,\n",
       " 1,\n",
       " 0,\n",
       " 0,\n",
       " 1,\n",
       " 1,\n",
       " 1,\n",
       " 0,\n",
       " 1,\n",
       " 0,\n",
       " 1,\n",
       " 1,\n",
       " 1,\n",
       " 1,\n",
       " 1,\n",
       " 1,\n",
       " 1,\n",
       " 0,\n",
       " 1,\n",
       " 1,\n",
       " 1,\n",
       " 0,\n",
       " 1,\n",
       " 1,\n",
       " 1,\n",
       " 0,\n",
       " 1,\n",
       " 0,\n",
       " 0,\n",
       " 1,\n",
       " 1,\n",
       " 1,\n",
       " 1,\n",
       " 1,\n",
       " 1,\n",
       " 0,\n",
       " 1,\n",
       " 0,\n",
       " 1,\n",
       " 1,\n",
       " 1,\n",
       " 1,\n",
       " 1,\n",
       " 1,\n",
       " 0,\n",
       " 1,\n",
       " 1,\n",
       " 1,\n",
       " 1,\n",
       " 0,\n",
       " 1,\n",
       " 1,\n",
       " 1,\n",
       " 1,\n",
       " 1,\n",
       " 1,\n",
       " 0,\n",
       " 1,\n",
       " 1,\n",
       " 1,\n",
       " 0,\n",
       " 1,\n",
       " 1,\n",
       " 1,\n",
       " 1,\n",
       " 1,\n",
       " 1,\n",
       " 0,\n",
       " 1,\n",
       " 1,\n",
       " 1,\n",
       " 0,\n",
       " 1,\n",
       " 0,\n",
       " 0,\n",
       " 1,\n",
       " 1,\n",
       " 1,\n",
       " 1,\n",
       " 1,\n",
       " 1,\n",
       " 1,\n",
       " 1,\n",
       " 1,\n",
       " 1,\n",
       " 1,\n",
       " 0,\n",
       " 1,\n",
       " 1,\n",
       " 1,\n",
       " 1,\n",
       " 1,\n",
       " 1,\n",
       " 1,\n",
       " 1,\n",
       " 1,\n",
       " 1,\n",
       " 1,\n",
       " 1,\n",
       " 0,\n",
       " 1,\n",
       " 1,\n",
       " 0,\n",
       " 0,\n",
       " 0,\n",
       " 1,\n",
       " 1,\n",
       " 1,\n",
       " 0,\n",
       " 1,\n",
       " 1,\n",
       " 1,\n",
       " 1,\n",
       " 0,\n",
       " 0,\n",
       " 0,\n",
       " 1,\n",
       " 1,\n",
       " 1,\n",
       " 1,\n",
       " 0,\n",
       " 1,\n",
       " 1,\n",
       " 1,\n",
       " 1,\n",
       " 1,\n",
       " 1,\n",
       " 1,\n",
       " 1,\n",
       " 1,\n",
       " 1,\n",
       " 0,\n",
       " 1,\n",
       " 1,\n",
       " 1,\n",
       " 1,\n",
       " 1,\n",
       " 1,\n",
       " 1,\n",
       " 1,\n",
       " 1,\n",
       " 1,\n",
       " 1,\n",
       " 1,\n",
       " 1,\n",
       " 0,\n",
       " 0,\n",
       " 1,\n",
       " 0,\n",
       " 1,\n",
       " 0,\n",
       " 1,\n",
       " 1,\n",
       " 1,\n",
       " 1,\n",
       " 1,\n",
       " 1,\n",
       " 1,\n",
       " 1,\n",
       " 1,\n",
       " 1,\n",
       " 1,\n",
       " 1,\n",
       " 1,\n",
       " 1,\n",
       " 0,\n",
       " 1,\n",
       " 1,\n",
       " 1,\n",
       " 1,\n",
       " 1,\n",
       " 1,\n",
       " 1,\n",
       " 1,\n",
       " 0,\n",
       " 1,\n",
       " 1,\n",
       " 1,\n",
       " 1,\n",
       " 1,\n",
       " 1,\n",
       " 1,\n",
       " 1,\n",
       " 1,\n",
       " 1,\n",
       " 1,\n",
       " 1,\n",
       " 1,\n",
       " 0,\n",
       " 1,\n",
       " 1,\n",
       " 0,\n",
       " 0,\n",
       " 1,\n",
       " 0,\n",
       " 1,\n",
       " 1,\n",
       " 1,\n",
       " 1,\n",
       " 1,\n",
       " 1,\n",
       " 0,\n",
       " 1,\n",
       " 0,\n",
       " 1,\n",
       " 0,\n",
       " 1,\n",
       " 1,\n",
       " 1,\n",
       " 1,\n",
       " 1,\n",
       " 1,\n",
       " 1,\n",
       " 1,\n",
       " 0,\n",
       " 1,\n",
       " 0,\n",
       " 1,\n",
       " 1,\n",
       " 0,\n",
       " 1,\n",
       " 0,\n",
       " 0,\n",
       " 1,\n",
       " 1,\n",
       " 1,\n",
       " 0,\n",
       " 0,\n",
       " 1,\n",
       " 1,\n",
       " 1,\n",
       " 1,\n",
       " 1,\n",
       " 1,\n",
       " 1,\n",
       " 1,\n",
       " 1,\n",
       " 0,\n",
       " 0,\n",
       " 1,\n",
       " 1,\n",
       " 1,\n",
       " 0,\n",
       " 1,\n",
       " 1,\n",
       " 1,\n",
       " 1,\n",
       " 1,\n",
       " 1,\n",
       " 1,\n",
       " 1,\n",
       " 1,\n",
       " 1,\n",
       " 1,\n",
       " 1,\n",
       " 1,\n",
       " 1,\n",
       " 0,\n",
       " 1,\n",
       " 1,\n",
       " 0,\n",
       " 0,\n",
       " 1,\n",
       " 1,\n",
       " 1,\n",
       " 0,\n",
       " 0,\n",
       " 1,\n",
       " 0,\n",
       " 1,\n",
       " 1,\n",
       " 1,\n",
       " 1,\n",
       " 1,\n",
       " 1,\n",
       " 1,\n",
       " 1,\n",
       " 1,\n",
       " 1,\n",
       " 1,\n",
       " 1,\n",
       " 1,\n",
       " 0,\n",
       " 1,\n",
       " 0,\n",
       " 1,\n",
       " 1,\n",
       " 1,\n",
       " 0,\n",
       " 0,\n",
       " 1,\n",
       " 1,\n",
       " 0,\n",
       " 0,\n",
       " 0,\n",
       " 0,\n",
       " 1,\n",
       " 1,\n",
       " 1]"
      ]
     },
     "execution_count": 40,
     "metadata": {},
     "output_type": "execute_result"
    }
   ],
   "source": [
    "rf_preds['Stevens']"
   ]
  },
  {
   "cell_type": "code",
   "execution_count": null,
   "metadata": {
    "ExecuteTime": {
     "end_time": "2020-07-17T17:35:38.661230Z",
     "start_time": "2020-07-17T17:35:38.629367Z"
    }
   },
   "outputs": [],
   "source": [
    "nb_clf = BernoulliNB()\n",
    "nb_clf.fit(X_train, y_train)\n",
    "nb_preds = nb_clf.predict(X_test)\n",
    "f1 = f1_score(y_test, nb_preds)\n",
    "acc = accuracy_score(y_test, nb_preds)\n",
    "print('F1:', f1)\n",
    "print('Accuracy:', acc)"
   ]
  },
  {
   "cell_type": "code",
   "execution_count": null,
   "metadata": {},
   "outputs": [],
   "source": []
  }
 ],
 "metadata": {
  "kernelspec": {
   "display_name": "scotus",
   "language": "python",
   "name": "scotus"
  },
  "language_info": {
   "codemirror_mode": {
    "name": "ipython",
    "version": 3
   },
   "file_extension": ".py",
   "mimetype": "text/x-python",
   "name": "python",
   "nbconvert_exporter": "python",
   "pygments_lexer": "ipython3",
   "version": "3.7.4"
  },
  "toc": {
   "base_numbering": 1,
   "nav_menu": {},
   "number_sections": true,
   "sideBar": true,
   "skip_h1_title": false,
   "title_cell": "Table of Contents",
   "title_sidebar": "Contents",
   "toc_cell": false,
   "toc_position": {},
   "toc_section_display": true,
   "toc_window_display": false
  }
 },
 "nbformat": 4,
 "nbformat_minor": 4
}
